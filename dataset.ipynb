{
 "cells": [
  {
   "cell_type": "code",
   "execution_count": 36,
   "outputs": [
    {
     "name": "stdout",
     "output_type": "stream",
     "text": [
      "Requirement already satisfied: pip in ./venv/lib/python3.9/site-packages (23.2.1)\r\n",
      "Requirement already satisfied: pandas in ./venv/lib/python3.9/site-packages (2.0.3)\r\n",
      "Requirement already satisfied: pip in ./venv/lib/python3.9/site-packages (23.2.1)\r\n",
      "Requirement already satisfied: python-dateutil>=2.8.2 in ./venv/lib/python3.9/site-packages (from pandas) (2.8.2)\r\n",
      "Requirement already satisfied: pytz>=2020.1 in ./venv/lib/python3.9/site-packages (from pandas) (2023.3)\r\n",
      "Requirement already satisfied: tzdata>=2022.1 in ./venv/lib/python3.9/site-packages (from pandas) (2023.3)\r\n",
      "Requirement already satisfied: numpy>=1.20.3 in ./venv/lib/python3.9/site-packages (from pandas) (1.25.2)\r\n",
      "Requirement already satisfied: six>=1.5 in ./venv/lib/python3.9/site-packages (from python-dateutil>=2.8.2->pandas) (1.16.0)\r\n",
      "Requirement already satisfied: pyreadr in ./venv/lib/python3.9/site-packages (0.4.9)\r\n",
      "Requirement already satisfied: pip in ./venv/lib/python3.9/site-packages (23.2.1)\r\n",
      "Requirement already satisfied: pandas>=1.2.0 in ./venv/lib/python3.9/site-packages (from pyreadr) (2.0.3)\r\n",
      "Requirement already satisfied: python-dateutil>=2.8.2 in ./venv/lib/python3.9/site-packages (from pandas>=1.2.0->pyreadr) (2.8.2)\r\n",
      "Requirement already satisfied: pytz>=2020.1 in ./venv/lib/python3.9/site-packages (from pandas>=1.2.0->pyreadr) (2023.3)\r\n",
      "Requirement already satisfied: tzdata>=2022.1 in ./venv/lib/python3.9/site-packages (from pandas>=1.2.0->pyreadr) (2023.3)\r\n",
      "Requirement already satisfied: numpy>=1.20.3 in ./venv/lib/python3.9/site-packages (from pandas>=1.2.0->pyreadr) (1.25.2)\r\n",
      "Requirement already satisfied: six>=1.5 in ./venv/lib/python3.9/site-packages (from python-dateutil>=2.8.2->pandas>=1.2.0->pyreadr) (1.16.0)\r\n",
      "Requirement already satisfied: scikit-learn in ./venv/lib/python3.9/site-packages (1.3.0)\r\n",
      "Requirement already satisfied: pip in ./venv/lib/python3.9/site-packages (23.2.1)\r\n",
      "Requirement already satisfied: numpy>=1.17.3 in ./venv/lib/python3.9/site-packages (from scikit-learn) (1.25.2)\r\n",
      "Requirement already satisfied: scipy>=1.5.0 in ./venv/lib/python3.9/site-packages (from scikit-learn) (1.11.1)\r\n",
      "Requirement already satisfied: joblib>=1.1.1 in ./venv/lib/python3.9/site-packages (from scikit-learn) (1.3.2)\r\n",
      "Requirement already satisfied: threadpoolctl>=2.0.0 in ./venv/lib/python3.9/site-packages (from scikit-learn) (3.2.0)\r\n",
      "Requirement already satisfied: xgboost in ./venv/lib/python3.9/site-packages (1.7.6)\r\n",
      "Requirement already satisfied: pip in ./venv/lib/python3.9/site-packages (23.2.1)\r\n",
      "Requirement already satisfied: numpy in ./venv/lib/python3.9/site-packages (from xgboost) (1.25.2)\r\n",
      "Requirement already satisfied: scipy in ./venv/lib/python3.9/site-packages (from xgboost) (1.11.1)\r\n",
      "Requirement already satisfied: sklearn in ./venv/lib/python3.9/site-packages (0.0.post7)\r\n",
      "Requirement already satisfied: pip in ./venv/lib/python3.9/site-packages (23.2.1)\r\n"
     ]
    }
   ],
   "source": [
    "#import libraries\n",
    "!pip install --upgrade pip\n",
    "!pip install pandas --upgrade pip\n",
    "import pandas as pd\n",
    "!pip install pyreadr --upgrade pip\n",
    "import pyreadr as pyr\n",
    "import numpy as np\n",
    "!pip install scikit-learn --upgrade pip\n",
    "from sklearn.model_selection import train_test_split\n",
    "from sklearn.metrics import r2_score\n",
    "from sklearn.metrics import mean_absolute_error\n",
    "from sklearn.metrics import mean_squared_error\n",
    "!pip install xgboost --upgrade pip\n",
    "import xgboost as xgb\n",
    "from xgboost.sklearn import XGBRegressor\n",
    "!pip install sklearn --upgrade pip"
   ],
   "metadata": {
    "collapsed": false
   }
  },
  {
   "cell_type": "code",
   "execution_count": 3,
   "outputs": [
    {
     "data": {
      "text/plain": "                                                 Url  \\\n0  https://fbref.com/en/players/171b3c37/AJ-DeLaG...   \n1  https://fbref.com/en/players/20c86a38/AJ-Marcucci   \n2   https://fbref.com/en/players/02b952ce/Aapo-Halme   \n3  https://fbref.com/en/players/fb979733/Aaron-Ba...   \n4  https://fbref.com/en/players/27c01749/Aaron-Co...   \n\n                                          player_url  \n0  https://www.transfermarkt.com/a-j-delagarza/pr...  \n1  https://www.transfermarkt.com/aj-marcucci/prof...  \n2  https://www.transfermarkt.com/aapo-halme/profi...  \n3  https://www.transfermarkt.com/aaron-bastiaans/...  \n4  https://www.transfermarkt.com/aaron-connolly/p...  ",
      "text/html": "<div>\n<style scoped>\n    .dataframe tbody tr th:only-of-type {\n        vertical-align: middle;\n    }\n\n    .dataframe tbody tr th {\n        vertical-align: top;\n    }\n\n    .dataframe thead th {\n        text-align: right;\n    }\n</style>\n<table border=\"1\" class=\"dataframe\">\n  <thead>\n    <tr style=\"text-align: right;\">\n      <th></th>\n      <th>Url</th>\n      <th>player_url</th>\n    </tr>\n  </thead>\n  <tbody>\n    <tr>\n      <th>0</th>\n      <td>https://fbref.com/en/players/171b3c37/AJ-DeLaG...</td>\n      <td>https://www.transfermarkt.com/a-j-delagarza/pr...</td>\n    </tr>\n    <tr>\n      <th>1</th>\n      <td>https://fbref.com/en/players/20c86a38/AJ-Marcucci</td>\n      <td>https://www.transfermarkt.com/aj-marcucci/prof...</td>\n    </tr>\n    <tr>\n      <th>2</th>\n      <td>https://fbref.com/en/players/02b952ce/Aapo-Halme</td>\n      <td>https://www.transfermarkt.com/aapo-halme/profi...</td>\n    </tr>\n    <tr>\n      <th>3</th>\n      <td>https://fbref.com/en/players/fb979733/Aaron-Ba...</td>\n      <td>https://www.transfermarkt.com/aaron-bastiaans/...</td>\n    </tr>\n    <tr>\n      <th>4</th>\n      <td>https://fbref.com/en/players/27c01749/Aaron-Co...</td>\n      <td>https://www.transfermarkt.com/aaron-connolly/p...</td>\n    </tr>\n  </tbody>\n</table>\n</div>"
     },
     "execution_count": 3,
     "metadata": {},
     "output_type": "execute_result"
    }
   ],
   "source": [
    "mappingdf = pd.read_csv('/Users/25AlecZ/Downloads/worldfootball/worldfootballR_data/raw-data/fbref-tm-player-mapping/output/fbref_to_tm_mapping.csv', encoding='latin-1')\n",
    "mappingdf.rename(columns = {'PlayerFBref':'Player', 'UrlFBref':'Url', 'UrlTmarkt':'player_url'}, inplace = True)\n",
    "mappingdf = mappingdf[['Url', 'player_url']]\n",
    "mappingdf.head()"
   ],
   "metadata": {
    "collapsed": false
   }
  },
  {
   "cell_type": "code",
   "execution_count": 4,
   "outputs": [
    {
     "name": "stdout",
     "output_type": "stream",
     "text": [
      "odict_keys(['defense2018'])\n",
      "odict_keys(['gca2018'])\n",
      "odict_keys(['keepers2018'])\n",
      "odict_keys(['keepersAdvanced2018'])\n",
      "odict_keys(['misc2018'])\n",
      "odict_keys(['passing2018'])\n",
      "odict_keys(['passingTypes2018'])\n",
      "odict_keys(['playingTime2018'])\n",
      "odict_keys(['possession2018'])\n",
      "odict_keys(['shooting2018'])\n",
      "odict_keys(['standard2018'])\n",
      "odict_keys(['valuations2018'])\n"
     ]
    }
   ],
   "source": [
    "#read all data from 2018 freb\n",
    "#Defense\n",
    "playerDefense2018 = pyr.read_r('/Users/25AlecZ/Documents/PlayerValue/2018/defense2018.RData')\n",
    "print(playerDefense2018.keys())\n",
    "playerDefense2018df = playerDefense2018[\"defense2018\"]\n",
    "#GCA\n",
    "playerGCA2018 = pyr.read_r('/Users/25AlecZ/Documents/PlayerValue/2018/gca2018.RData')\n",
    "print(playerGCA2018.keys())\n",
    "playerGCA2018df = playerGCA2018[\"gca2018\"]\n",
    "#Keepers\n",
    "playerKeepers2018 = pyr.read_r('/Users/25AlecZ/Documents/PlayerValue/2018/keepers2018.RData')\n",
    "print(playerKeepers2018.keys())\n",
    "playerKeepers2018df = playerKeepers2018[\"keepers2018\"]\n",
    "#Keepers Advanced\n",
    "playerKeepersAdv2018 = pyr.read_r('/Users/25AlecZ/Documents/PlayerValue/2018/keepersAdvanced2018.RData')\n",
    "print(playerKeepersAdv2018.keys())\n",
    "playerKeepersAdv2018df = playerKeepersAdv2018[\"keepersAdvanced2018\"]\n",
    "#misc\n",
    "playerMisc2018 = pyr.read_r('/Users/25AlecZ/Documents/PlayerValue/2018/misc2018.RData')\n",
    "print(playerMisc2018.keys())\n",
    "playerMisc2018df = playerMisc2018[\"misc2018\"]\n",
    "#passing\n",
    "playerPassing2018 = pyr.read_r('/Users/25AlecZ/Documents/PlayerValue/2018/passing2018.RData')\n",
    "print(playerPassing2018.keys())\n",
    "playerPassing2018df = playerPassing2018[\"passing2018\"]\n",
    "#passing types\n",
    "playerPassingTypes2018 = pyr.read_r('/Users/25AlecZ/Documents/PlayerValue/2018/passingTypes2018.RData')\n",
    "print(playerPassingTypes2018.keys())\n",
    "playerPassingTypes2018df = playerPassingTypes2018[\"passingTypes2018\"]\n",
    "#playing time\n",
    "playerPlayingTime2018 = pyr.read_r('/Users/25AlecZ/Documents/PlayerValue/2018/playingTime2018.RData')\n",
    "print(playerPlayingTime2018.keys())\n",
    "playerPlayingTime2018df = playerPlayingTime2018[\"playingTime2018\"]\n",
    "playerPlayingTime2018df.count()\n",
    "#possession\n",
    "playerPossession2018 = pyr.read_r('/Users/25AlecZ/Documents/PlayerValue/2018/possession2018.RData')\n",
    "print(playerPossession2018.keys())\n",
    "playerPossession2018df = playerPossession2018[\"possession2018\"]\n",
    "#shooting\n",
    "playerShooting2018 = pyr.read_r('/Users/25AlecZ/Documents/PlayerValue/2018/shooting2018.RData')\n",
    "print(playerShooting2018.keys())\n",
    "playerShooting2018df = playerShooting2018[\"shooting2018\"]\n",
    "#Standard\n",
    "playerStandard2018 = pyr.read_r('/Users/25AlecZ/Documents/PlayerValue/2018/standard2018.RData')\n",
    "print(playerStandard2018.keys())\n",
    "playerStandard2018df = playerStandard2018[\"standard2018\"]\n",
    "#Valuations\n",
    "playerValuation2018 = pyr.read_r('/Users/25AlecZ/Documents/PlayerValue/2018/valuations2018.RData')\n",
    "print(playerValuation2018.keys())\n",
    "playerValuation2018df = playerValuation2018[\"valuations2018\"]"
   ],
   "metadata": {
    "collapsed": false
   }
  },
  {
   "cell_type": "code",
   "execution_count": 5,
   "outputs": [
    {
     "data": {
      "text/plain": "Season_End_Year             2905\nSquad                       2905\nComp                        2905\nPlayer                      2905\nNation                      2905\n                            ... \nplayer_foot                 2299\ndate_joined                 2289\njoined_from                 2288\ncontract_expiry             1643\nplayer_market_value_euro    2289\nLength: 239, dtype: int64"
     },
     "execution_count": 5,
     "metadata": {},
     "output_type": "execute_result"
    }
   ],
   "source": [
    "#merge to create 2018 player dataframe\n",
    "#merge defense and gca\n",
    "playerdf2018 = pd.merge(playerDefense2018df, playerGCA2018df)\n",
    "#merge player and standard\n",
    "playerdf2018 = pd.merge(playerdf2018, playerStandard2018df, how = 'left')\n",
    "#merge player and keepers\n",
    "playerdf2018 = pd.merge(playerdf2018, playerKeepers2018df, how = 'left')\n",
    "#merge player and keepers advanced\n",
    "playerdf2018 = pd.merge(playerdf2018, playerKeepersAdv2018df, how = 'left')\n",
    "#merge player and playing time\n",
    "playerdf2018 = pd.merge(playerdf2018, playerPlayingTime2018df, how = 'left')\n",
    "#merge player and misc\n",
    "playerdf2018 = pd.merge(playerdf2018, playerMisc2018df)\n",
    "#merge player and passing\n",
    "playerdf2018 = pd.merge(playerdf2018, playerPassing2018df)\n",
    "#merge player and passing types\n",
    "playerdf2018 = pd.merge(playerdf2018, playerPassingTypes2018df)\n",
    "#merge player and possession\n",
    "playerdf2018 = pd.merge(playerdf2018, playerPossession2018df)\n",
    "#merge player and shooting\n",
    "playerdf2018 = pd.merge(playerdf2018, playerShooting2018df)\n",
    "#merge mapping csv\n",
    "playerdf2018 = pd.merge(playerdf2018, mappingdf, on = 'Url', how = 'left')\n",
    "#merge valuations\n",
    "playerdf2018 = pd.merge(playerdf2018, playerValuation2018df, how = 'left')\n",
    "playerdf2018.count()"
   ],
   "metadata": {
    "collapsed": false
   }
  },
  {
   "cell_type": "code",
   "execution_count": 6,
   "outputs": [
    {
     "name": "stdout",
     "output_type": "stream",
     "text": [
      "odict_keys(['defense2019'])\n",
      "odict_keys(['gca2019'])\n",
      "odict_keys(['keepers2019'])\n",
      "odict_keys(['keepersAdvanced2019'])\n",
      "odict_keys(['misc2019'])\n",
      "odict_keys(['passing2019'])\n",
      "odict_keys(['passingTypes2019'])\n",
      "odict_keys(['playingTime2019'])\n",
      "odict_keys(['possession2019'])\n",
      "odict_keys(['shooting2019'])\n",
      "odict_keys(['standard2019'])\n",
      "odict_keys(['valuations2019'])\n"
     ]
    }
   ],
   "source": [
    "#read all data from 2019 freb\n",
    "#Defense\n",
    "playerDefense2019 = pyr.read_r('/Users/25AlecZ/Documents/PlayerValue/2019/defense2019.RData')\n",
    "print(playerDefense2019.keys())\n",
    "playerDefense2019df = playerDefense2019[\"defense2019\"]\n",
    "#GCA\n",
    "playerGCA2019 = pyr.read_r('/Users/25AlecZ/Documents/PlayerValue/2019/gca2019.RData')\n",
    "print(playerGCA2019.keys())\n",
    "playerGCA2019df = playerGCA2019[\"gca2019\"]\n",
    "#Keepers\n",
    "playerKeepers2019 = pyr.read_r('/Users/25AlecZ/Documents/PlayerValue/2019/keepers2019.RData')\n",
    "print(playerKeepers2019.keys())\n",
    "playerKeepers2019df = playerKeepers2019[\"keepers2019\"]\n",
    "#Keepers Advanced\n",
    "playerKeepersAdv2019 = pyr.read_r('/Users/25AlecZ/Documents/PlayerValue/2019/keepersAdvanced2019.RData')\n",
    "print(playerKeepersAdv2019.keys())\n",
    "playerKeepersAdv2019df = playerKeepersAdv2019[\"keepersAdvanced2019\"]\n",
    "#misc\n",
    "playerMisc2019 = pyr.read_r('/Users/25AlecZ/Documents/PlayerValue/2019/misc2019.RData')\n",
    "print(playerMisc2019.keys())\n",
    "playerMisc2019df = playerMisc2019[\"misc2019\"]\n",
    "#passing\n",
    "playerPassing2019 = pyr.read_r('/Users/25AlecZ/Documents/PlayerValue/2019/passing2019.RData')\n",
    "print(playerPassing2019.keys())\n",
    "playerPassing2019df = playerPassing2019[\"passing2019\"]\n",
    "#passing types\n",
    "playerPassingTypes2019 = pyr.read_r('/Users/25AlecZ/Documents/PlayerValue/2019/passingTypes2019.RData')\n",
    "print(playerPassingTypes2019.keys())\n",
    "playerPassingTypes2019df = playerPassingTypes2019[\"passingTypes2019\"]\n",
    "#playing time\n",
    "playerPlayingTime2019 = pyr.read_r('/Users/25AlecZ/Documents/PlayerValue/2019/playingTime2019.RData')\n",
    "print(playerPlayingTime2019.keys())\n",
    "playerPlayingTime2019df = playerPlayingTime2019[\"playingTime2019\"]\n",
    "playerPlayingTime2019df.count()\n",
    "#possession\n",
    "playerPossession2019 = pyr.read_r('/Users/25AlecZ/Documents/PlayerValue/2019/possession2019.RData')\n",
    "print(playerPossession2019.keys())\n",
    "playerPossession2019df = playerPossession2019[\"possession2019\"]\n",
    "#shooting\n",
    "playerShooting2019 = pyr.read_r('/Users/25AlecZ/Documents/PlayerValue/2019/shooting2019.RData')\n",
    "print(playerShooting2019.keys())\n",
    "playerShooting2019df = playerShooting2019[\"shooting2019\"]\n",
    "#Standard\n",
    "playerStandard2019 = pyr.read_r('/Users/25AlecZ/Documents/PlayerValue/2019/standard2019.RData')\n",
    "print(playerStandard2019.keys())\n",
    "playerStandard2019df = playerStandard2019[\"standard2019\"]\n",
    "#Valuations\n",
    "playerValuation2019 = pyr.read_r('/Users/25AlecZ/Documents/PlayerValue/2019/valuations2019.RData')\n",
    "print(playerValuation2019.keys())\n",
    "playerValuation2019df = playerValuation2019[\"valuations2019\"]"
   ],
   "metadata": {
    "collapsed": false
   }
  },
  {
   "cell_type": "code",
   "execution_count": 7,
   "outputs": [
    {
     "data": {
      "text/plain": "Season_End_Year             2813\nSquad                       2813\nComp                        2813\nPlayer                      2813\nNation                      2813\n                            ... \nplayer_foot                 2119\ndate_joined                 2105\njoined_from                 2104\ncontract_expiry             1640\nplayer_market_value_euro    2113\nLength: 239, dtype: int64"
     },
     "execution_count": 7,
     "metadata": {},
     "output_type": "execute_result"
    }
   ],
   "source": [
    "#merge to create 2019 player dataframe\n",
    "#merge defense and gca\n",
    "playerdf2019 = pd.merge(playerDefense2019df, playerGCA2019df)\n",
    "#merge player and standard\n",
    "playerdf2019 = pd.merge(playerdf2019, playerStandard2019df, how = 'left')\n",
    "#merge player and keepers\n",
    "playerdf2019 = pd.merge(playerdf2019, playerKeepers2019df, how = 'left')\n",
    "#merge player and keepers advanced\n",
    "playerdf2019 = pd.merge(playerdf2019, playerKeepersAdv2019df, how = 'left')\n",
    "#merge player and playing time\n",
    "playerdf2019 = pd.merge(playerdf2019, playerPlayingTime2019df, how = 'left')\n",
    "#merge player and misc\n",
    "playerdf2019 = pd.merge(playerdf2019, playerMisc2019df)\n",
    "#merge player and passing\n",
    "playerdf2019 = pd.merge(playerdf2019, playerPassing2019df)\n",
    "#merge player and passing types\n",
    "playerdf2019 = pd.merge(playerdf2019, playerPassingTypes2019df)\n",
    "#merge player and possession\n",
    "playerdf2019 = pd.merge(playerdf2019, playerPossession2019df)\n",
    "#merge player and shooting\n",
    "playerdf2019 = pd.merge(playerdf2019, playerShooting2019df)\n",
    "#merge mapping csv\n",
    "playerdf2019 = pd.merge(playerdf2019, mappingdf, on = 'Url', how = 'left')\n",
    "#merge valuations\n",
    "playerdf2019 = pd.merge(playerdf2019, playerValuation2019df, how = 'left')\n",
    "playerdf2019.count()"
   ],
   "metadata": {
    "collapsed": false
   }
  },
  {
   "cell_type": "code",
   "execution_count": 8,
   "outputs": [
    {
     "name": "stdout",
     "output_type": "stream",
     "text": [
      "odict_keys(['defense2020'])\n",
      "odict_keys(['gca2020'])\n",
      "odict_keys(['keepers2020'])\n",
      "odict_keys(['keepersAdvanced2020'])\n",
      "odict_keys(['misc2020'])\n",
      "odict_keys(['passing2020'])\n",
      "odict_keys(['passingTypes2020'])\n",
      "odict_keys(['playingTime2020'])\n",
      "odict_keys(['possession2020'])\n",
      "odict_keys(['shooting2020'])\n",
      "odict_keys(['standard2020'])\n",
      "odict_keys(['valuations2020'])\n"
     ]
    }
   ],
   "source": [
    "#read all data from 2020 freb\n",
    "#Defense\n",
    "playerDefense2020 = pyr.read_r('/Users/25AlecZ/Documents/PlayerValue/2020/defense2020.RData')\n",
    "print(playerDefense2020.keys())\n",
    "playerDefense2020df = playerDefense2020[\"defense2020\"]\n",
    "#GCA\n",
    "playerGCA2020 = pyr.read_r('/Users/25AlecZ/Documents/PlayerValue/2020/gca2020.RData')\n",
    "print(playerGCA2020.keys())\n",
    "playerGCA2020df = playerGCA2020[\"gca2020\"]\n",
    "#Keepers\n",
    "playerKeepers2020 = pyr.read_r('/Users/25AlecZ/Documents/PlayerValue/2020/keepers2020.RData')\n",
    "print(playerKeepers2020.keys())\n",
    "playerKeepers2020df = playerKeepers2020[\"keepers2020\"]\n",
    "#Keepers Advanced\n",
    "playerKeepersAdv2020 = pyr.read_r('/Users/25AlecZ/Documents/PlayerValue/2020/keepersAdvanced2020.RData')\n",
    "print(playerKeepersAdv2020.keys())\n",
    "playerKeepersAdv2020df = playerKeepersAdv2020[\"keepersAdvanced2020\"]\n",
    "#misc\n",
    "playerMisc2020 = pyr.read_r('/Users/25AlecZ/Documents/PlayerValue/2020/misc2020.RData')\n",
    "print(playerMisc2020.keys())\n",
    "playerMisc2020df = playerMisc2020[\"misc2020\"]\n",
    "#passing\n",
    "playerPassing2020 = pyr.read_r('/Users/25AlecZ/Documents/PlayerValue/2020/passing2020.RData')\n",
    "print(playerPassing2020.keys())\n",
    "playerPassing2020df = playerPassing2020[\"passing2020\"]\n",
    "#passing types\n",
    "playerPassingTypes2020 = pyr.read_r('/Users/25AlecZ/Documents/PlayerValue/2020/passingTypes2020.RData')\n",
    "print(playerPassingTypes2020.keys())\n",
    "playerPassingTypes2020df = playerPassingTypes2020[\"passingTypes2020\"]\n",
    "#playing time\n",
    "playerPlayingTime2020 = pyr.read_r('/Users/25AlecZ/Documents/PlayerValue/2020/playingTime2020.RData')\n",
    "print(playerPlayingTime2020.keys())\n",
    "playerPlayingTime2020df = playerPlayingTime2020[\"playingTime2020\"]\n",
    "playerPlayingTime2020df.count()\n",
    "#possession\n",
    "playerPossession2020 = pyr.read_r('/Users/25AlecZ/Documents/PlayerValue/2020/possession2020.RData')\n",
    "print(playerPossession2020.keys())\n",
    "playerPossession2020df = playerPossession2020[\"possession2020\"]\n",
    "#shooting\n",
    "playerShooting2020 = pyr.read_r('/Users/25AlecZ/Documents/PlayerValue/2020/shooting2020.RData')\n",
    "print(playerShooting2020.keys())\n",
    "playerShooting2020df = playerShooting2020[\"shooting2020\"]\n",
    "#Standard\n",
    "playerStandard2020 = pyr.read_r('/Users/25AlecZ/Documents/PlayerValue/2020/standard2020.RData')\n",
    "print(playerStandard2020.keys())\n",
    "playerStandard2020df = playerStandard2020[\"standard2020\"]\n",
    "#Valuations\n",
    "playerValuation2020 = pyr.read_r('/Users/25AlecZ/Documents/PlayerValue/2020/valuations2020.RData')\n",
    "print(playerValuation2020.keys())\n",
    "playerValuation2020df = playerValuation2020[\"valuations2020\"]"
   ],
   "metadata": {
    "collapsed": false
   }
  },
  {
   "cell_type": "code",
   "execution_count": 9,
   "outputs": [
    {
     "data": {
      "text/plain": "Season_End_Year             2896\nSquad                       2896\nComp                        2896\nPlayer                      2896\nNation                      2896\n                            ... \nplayer_foot                 2253\ndate_joined                 2233\njoined_from                 2233\ncontract_expiry             1878\nplayer_market_value_euro    2250\nLength: 239, dtype: int64"
     },
     "execution_count": 9,
     "metadata": {},
     "output_type": "execute_result"
    }
   ],
   "source": [
    "#merge to create 2020 player dataframe\n",
    "#merge defense and gca\n",
    "playerdf2020 = pd.merge(playerDefense2020df, playerGCA2020df)\n",
    "#merge player and standard\n",
    "playerdf2020 = pd.merge(playerdf2020, playerStandard2020df, how = 'left')\n",
    "#merge player and keepers\n",
    "playerdf2020 = pd.merge(playerdf2020, playerKeepers2020df, how = 'left')\n",
    "#merge player and keepers advanced\n",
    "playerdf2020 = pd.merge(playerdf2020, playerKeepersAdv2020df, how = 'left')\n",
    "#merge player and playing time\n",
    "playerdf2020 = pd.merge(playerdf2020, playerPlayingTime2020df, how = 'left')\n",
    "#merge player and misc\n",
    "playerdf2020 = pd.merge(playerdf2020, playerMisc2020df)\n",
    "#merge player and passing\n",
    "playerdf2020 = pd.merge(playerdf2020, playerPassing2020df)\n",
    "#merge player and passing types\n",
    "playerdf2020 = pd.merge(playerdf2020, playerPassingTypes2020df)\n",
    "#merge player and possession\n",
    "playerdf2020 = pd.merge(playerdf2020, playerPossession2020df)\n",
    "#merge player and shooting\n",
    "playerdf2020 = pd.merge(playerdf2020, playerShooting2020df)\n",
    "#merge mapping csv\n",
    "playerdf2020 = pd.merge(playerdf2020, mappingdf, on = 'Url', how = 'left')\n",
    "#merge valuations\n",
    "playerdf2020 = pd.merge(playerdf2020, playerValuation2020df, how = 'left')\n",
    "playerdf2020.count()"
   ],
   "metadata": {
    "collapsed": false
   }
  },
  {
   "cell_type": "code",
   "execution_count": 10,
   "outputs": [
    {
     "name": "stdout",
     "output_type": "stream",
     "text": [
      "odict_keys(['defense2021'])\n",
      "odict_keys(['gca2021'])\n",
      "odict_keys(['keepers2021'])\n",
      "odict_keys(['keepersAdvanced2021'])\n",
      "odict_keys(['misc2021'])\n",
      "odict_keys(['passing2021'])\n",
      "odict_keys(['passingTypes2021'])\n",
      "odict_keys(['playingTime2021'])\n",
      "odict_keys(['possession2021'])\n",
      "odict_keys(['shooting2021'])\n",
      "odict_keys(['standard2021'])\n",
      "odict_keys(['valuations2021'])\n"
     ]
    }
   ],
   "source": [
    "#read all data from 2021 freb\n",
    "#Defense\n",
    "playerDefense2021 = pyr.read_r('/Users/25AlecZ/Documents/PlayerValue/2021/defense2021.RData')\n",
    "print(playerDefense2021.keys())\n",
    "playerDefense2021df = playerDefense2021[\"defense2021\"]\n",
    "#GCA\n",
    "playerGCA2021 = pyr.read_r('/Users/25AlecZ/Documents/PlayerValue/2021/gca2021.RData')\n",
    "print(playerGCA2021.keys())\n",
    "playerGCA2021df = playerGCA2021[\"gca2021\"]\n",
    "#Keepers\n",
    "playerKeepers2021 = pyr.read_r('/Users/25AlecZ/Documents/PlayerValue/2021/keepers2021.RData')\n",
    "print(playerKeepers2021.keys())\n",
    "playerKeepers2021df = playerKeepers2021[\"keepers2021\"]\n",
    "#Keepers Advanced\n",
    "playerKeepersAdv2021 = pyr.read_r('/Users/25AlecZ/Documents/PlayerValue/2021/keepersAdvanced2021.RData')\n",
    "print(playerKeepersAdv2021.keys())\n",
    "playerKeepersAdv2021df = playerKeepersAdv2021[\"keepersAdvanced2021\"]\n",
    "#misc\n",
    "playerMisc2021 = pyr.read_r('/Users/25AlecZ/Documents/PlayerValue/2021/misc2021.RData')\n",
    "print(playerMisc2021.keys())\n",
    "playerMisc2021df = playerMisc2021[\"misc2021\"]\n",
    "#passing\n",
    "playerPassing2021 = pyr.read_r('/Users/25AlecZ/Documents/PlayerValue/2021/passing2021.RData')\n",
    "print(playerPassing2021.keys())\n",
    "playerPassing2021df = playerPassing2021[\"passing2021\"]\n",
    "#passing types\n",
    "playerPassingTypes2021 = pyr.read_r('/Users/25AlecZ/Documents/PlayerValue/2021/passingTypes2021.RData')\n",
    "print(playerPassingTypes2021.keys())\n",
    "playerPassingTypes2021df = playerPassingTypes2021[\"passingTypes2021\"]\n",
    "#playing time\n",
    "playerPlayingTime2021 = pyr.read_r('/Users/25AlecZ/Documents/PlayerValue/2021/playingTime2021.RData')\n",
    "print(playerPlayingTime2021.keys())\n",
    "playerPlayingTime2021df = playerPlayingTime2021[\"playingTime2021\"]\n",
    "playerPlayingTime2021df.count()\n",
    "#possession\n",
    "playerPossession2021 = pyr.read_r('/Users/25AlecZ/Documents/PlayerValue/2021/possession2021.RData')\n",
    "print(playerPossession2021.keys())\n",
    "playerPossession2021df = playerPossession2021[\"possession2021\"]\n",
    "#shooting\n",
    "playerShooting2021 = pyr.read_r('/Users/25AlecZ/Documents/PlayerValue/2021/shooting2021.RData')\n",
    "print(playerShooting2021.keys())\n",
    "playerShooting2021df = playerShooting2021[\"shooting2021\"]\n",
    "#Standard\n",
    "playerStandard2021 = pyr.read_r('/Users/25AlecZ/Documents/PlayerValue/2021/standard2021.RData')\n",
    "print(playerStandard2021.keys())\n",
    "playerStandard2021df = playerStandard2021[\"standard2021\"]\n",
    "#Valuations\n",
    "playerValuation2021 = pyr.read_r('/Users/25AlecZ/Documents/PlayerValue/2021/valuations2021.RData')\n",
    "print(playerValuation2021.keys())\n",
    "playerValuation2021df = playerValuation2021[\"valuations2021\"]"
   ],
   "metadata": {
    "collapsed": false
   }
  },
  {
   "cell_type": "code",
   "execution_count": 11,
   "outputs": [
    {
     "data": {
      "text/plain": "Season_End_Year             2987\nSquad                       2987\nComp                        2987\nPlayer                      2987\nNation                      2987\n                            ... \nplayer_foot                 2234\ndate_joined                 2210\njoined_from                 2210\ncontract_expiry             1984\nplayer_market_value_euro    2224\nLength: 239, dtype: int64"
     },
     "execution_count": 11,
     "metadata": {},
     "output_type": "execute_result"
    }
   ],
   "source": [
    "#merge to create 2021 player dataframe\n",
    "#merge defense and gca\n",
    "playerdf2021 = pd.merge(playerDefense2021df, playerGCA2021df)\n",
    "#merge player and standard\n",
    "playerdf2021 = pd.merge(playerdf2021, playerStandard2021df, how = 'left')\n",
    "#merge player and keepers\n",
    "playerdf2021 = pd.merge(playerdf2021, playerKeepers2021df, how = 'left')\n",
    "#merge player and keepers advanced\n",
    "playerdf2021 = pd.merge(playerdf2021, playerKeepersAdv2021df, how = 'left')\n",
    "#merge player and playing time\n",
    "playerdf2021 = pd.merge(playerdf2021, playerPlayingTime2021df, how = 'left')\n",
    "#merge player and misc\n",
    "playerdf2021 = pd.merge(playerdf2021, playerMisc2021df)\n",
    "#merge player and passing\n",
    "playerdf2021 = pd.merge(playerdf2021, playerPassing2021df)\n",
    "#merge player and passing types\n",
    "playerdf2021 = pd.merge(playerdf2021, playerPassingTypes2021df)\n",
    "#merge player and possession\n",
    "playerdf2021 = pd.merge(playerdf2021, playerPossession2021df)\n",
    "#merge player and shooting\n",
    "playerdf2021 = pd.merge(playerdf2021, playerShooting2021df)\n",
    "#merge mapping csv\n",
    "playerdf2021 = pd.merge(playerdf2021, mappingdf, on = 'Url', how = 'left')\n",
    "#merge valuations\n",
    "playerdf2021 = pd.merge(playerdf2021, playerValuation2021df, how = 'left')\n",
    "playerdf2021.count()"
   ],
   "metadata": {
    "collapsed": false
   }
  },
  {
   "cell_type": "code",
   "execution_count": 12,
   "outputs": [
    {
     "name": "stdout",
     "output_type": "stream",
     "text": [
      "odict_keys(['defense2022'])\n",
      "odict_keys(['gca2022'])\n",
      "odict_keys(['keepers2022'])\n",
      "odict_keys(['keepersAdvanced2022'])\n",
      "odict_keys(['misc2022'])\n",
      "odict_keys(['passing2022'])\n",
      "odict_keys(['passingTypes2022'])\n",
      "odict_keys(['playingTime2022'])\n",
      "odict_keys(['possession2022'])\n",
      "odict_keys(['shooting2022'])\n",
      "odict_keys(['standard2022'])\n",
      "odict_keys(['valuations2022'])\n"
     ]
    }
   ],
   "source": [
    "#read all data from 2022 freb\n",
    "#Defense\n",
    "playerDefense2022 = pyr.read_r('/Users/25AlecZ/Documents/PlayerValue/2022/defense2022.RData')\n",
    "print(playerDefense2022.keys())\n",
    "playerDefense2022df = playerDefense2022[\"defense2022\"]\n",
    "#GCA\n",
    "playerGCA2022 = pyr.read_r('/Users/25AlecZ/Documents/PlayerValue/2022/gca2022.RData')\n",
    "print(playerGCA2022.keys())\n",
    "playerGCA2022df = playerGCA2022[\"gca2022\"]\n",
    "#Keepers\n",
    "playerKeepers2022 = pyr.read_r('/Users/25AlecZ/Documents/PlayerValue/2022/keepers2022.RData')\n",
    "print(playerKeepers2022.keys())\n",
    "playerKeepers2022df = playerKeepers2022[\"keepers2022\"]\n",
    "#Keepers Advanced\n",
    "playerKeepersAdv2022 = pyr.read_r('/Users/25AlecZ/Documents/PlayerValue/2022/keepersAdvanced2022.RData')\n",
    "print(playerKeepersAdv2022.keys())\n",
    "playerKeepersAdv2022df = playerKeepersAdv2022[\"keepersAdvanced2022\"]\n",
    "#misc\n",
    "playerMisc2022 = pyr.read_r('/Users/25AlecZ/Documents/PlayerValue/2022/misc2022.RData')\n",
    "print(playerMisc2022.keys())\n",
    "playerMisc2022df = playerMisc2022[\"misc2022\"]\n",
    "#passing\n",
    "playerPassing2022 = pyr.read_r('/Users/25AlecZ/Documents/PlayerValue/2022/passing2022.RData')\n",
    "print(playerPassing2022.keys())\n",
    "playerPassing2022df = playerPassing2022[\"passing2022\"]\n",
    "#passing types\n",
    "playerPassingTypes2022 = pyr.read_r('/Users/25AlecZ/Documents/PlayerValue/2022/passingTypes2022.RData')\n",
    "print(playerPassingTypes2022.keys())\n",
    "playerPassingTypes2022df = playerPassingTypes2022[\"passingTypes2022\"]\n",
    "#playing time\n",
    "playerPlayingTime2022 = pyr.read_r('/Users/25AlecZ/Documents/PlayerValue/2022/playingTime2022.RData')\n",
    "print(playerPlayingTime2022.keys())\n",
    "playerPlayingTime2022df = playerPlayingTime2022[\"playingTime2022\"]\n",
    "playerPlayingTime2022df.count()\n",
    "#possession\n",
    "playerPossession2022 = pyr.read_r('/Users/25AlecZ/Documents/PlayerValue/2022/possession2022.RData')\n",
    "print(playerPossession2022.keys())\n",
    "playerPossession2022df = playerPossession2022[\"possession2022\"]\n",
    "#shooting\n",
    "playerShooting2022 = pyr.read_r('/Users/25AlecZ/Documents/PlayerValue/2022/shooting2022.RData')\n",
    "print(playerShooting2022.keys())\n",
    "playerShooting2022df = playerShooting2022[\"shooting2022\"]\n",
    "#Standard\n",
    "playerStandard2022 = pyr.read_r('/Users/25AlecZ/Documents/PlayerValue/2022/standard2022.RData')\n",
    "print(playerStandard2022.keys())\n",
    "playerStandard2022df = playerStandard2022[\"standard2022\"]\n",
    "#Valuations\n",
    "playerValuation2022 = pyr.read_r('/Users/25AlecZ/Documents/PlayerValue/2022/valuations2022.RData')\n",
    "print(playerValuation2022.keys())\n",
    "playerValuation2022df = playerValuation2022[\"valuations2022\"]"
   ],
   "metadata": {
    "collapsed": false
   }
  },
  {
   "cell_type": "code",
   "execution_count": 13,
   "outputs": [
    {
     "data": {
      "text/plain": "Season_End_Year             3130\nSquad                       3130\nComp                        3130\nPlayer                      3130\nNation                      3130\n                            ... \nplayer_foot                 2279\ndate_joined                 2254\njoined_from                 2254\ncontract_expiry             2094\nplayer_market_value_euro    2272\nLength: 239, dtype: int64"
     },
     "execution_count": 13,
     "metadata": {},
     "output_type": "execute_result"
    }
   ],
   "source": [
    "#merge to create 2022 player dataframe\n",
    "#merge defense and gca\n",
    "playerdf2022 = pd.merge(playerDefense2022df, playerGCA2022df)\n",
    "#merge player and standard\n",
    "playerdf2022 = pd.merge(playerdf2022, playerStandard2022df, how = 'left')\n",
    "#merge player and keepers\n",
    "playerdf2022 = pd.merge(playerdf2022, playerKeepers2022df, how = 'left')\n",
    "#merge player and keepers advanced\n",
    "playerdf2022 = pd.merge(playerdf2022, playerKeepersAdv2022df, how = 'left')\n",
    "#merge player and playing time\n",
    "playerdf2022 = pd.merge(playerdf2022, playerPlayingTime2022df, how = 'left')\n",
    "#merge player and misc\n",
    "playerdf2022 = pd.merge(playerdf2022, playerMisc2022df)\n",
    "#merge player and passing\n",
    "playerdf2022 = pd.merge(playerdf2022, playerPassing2022df)\n",
    "#merge player and passing types\n",
    "playerdf2022 = pd.merge(playerdf2022, playerPassingTypes2022df)\n",
    "#merge player and possession\n",
    "playerdf2022 = pd.merge(playerdf2022, playerPossession2022df)\n",
    "#merge player and shooting\n",
    "playerdf2022 = pd.merge(playerdf2022, playerShooting2022df)\n",
    "#merge mapping csv\n",
    "playerdf2022 = pd.merge(playerdf2022, mappingdf, on = 'Url', how = 'left')\n",
    "#merge valuations\n",
    "playerdf2022 = pd.merge(playerdf2022, playerValuation2022df, how = 'left')\n",
    "playerdf2022.count()"
   ],
   "metadata": {
    "collapsed": false
   }
  },
  {
   "cell_type": "code",
   "execution_count": 52,
   "outputs": [
    {
     "name": "stdout",
     "output_type": "stream",
     "text": [
      "odict_keys(['defense2023'])\n",
      "odict_keys(['gca2023'])\n",
      "odict_keys(['keepers2023'])\n",
      "odict_keys(['keepersAdvanced2023'])\n",
      "odict_keys(['misc2023'])\n",
      "odict_keys(['passing2023'])\n",
      "odict_keys(['passingTypes2023'])\n",
      "odict_keys(['playingTime2023'])\n",
      "odict_keys(['possession2023'])\n",
      "odict_keys(['shooting2023'])\n",
      "odict_keys(['standard2023'])\n",
      "odict_keys(['valuations2023'])\n",
      "odict_keys(['playerInjuries2023'])\n"
     ]
    },
    {
     "data": {
      "text/plain": "'                Player                                         Player_url  \\\\\\n0         Zack Steffen  https://www.transfermarkt.com/zack-steffen/pro...   \\n1           Rúben Dias  https://www.transfermarkt.com/ruben-dias/profi...   \\n2       Josko Gvardiol  https://www.transfermarkt.com/josko-gvardiol/p...   \\n3           Nathan Aké  https://www.transfermarkt.com/nathan-ake/profi...   \\n4          John Stones  https://www.transfermarkt.com/john-stones/prof...   \\n...                ...                                                ...   \\n1313    Benito Ramírez  https://www.transfermarkt.com/benito-ramirez/p...   \\n1314      Nikola Maras  https://www.transfermarkt.com/nikola-maras/pro...   \\n1315  Andoni Gorosabel  https://www.transfermarkt.com/andoni-gorosabel...   \\n1316  Carlos Benavidez  https://www.transfermarkt.com/carlos-benavidez...   \\n1317     Ander Guevara  https://www.transfermarkt.com/ander-guevara/pr...   \\n\\n     Duration                                               Type Season  \\n0         224   Knee Surgery ,  Knee Problems ,  Corona virus...   2023  \\n1          48                       Hamstring Injury ,  Knock ,    2023  \\n2          59   groin strain ,  Thigh Problems ,  Knee Proble...   2023  \\n3          32   Hamstring Injury ,  Biceps femoris muscle inj...   2023  \\n4          90   Hip Injury ,  Hamstring Injury ,  Hamstring I...   2023  \\n...       ...                                                ...    ...  \\n1313        0                                     Back Injury ,    2023  \\n1314      122                                     Knee Injury ,    2023  \\n1315       45                    Ankle Injury ,  Ankle Injury ,    2023  \\n1316       27                         Unknown Injury ,  Knock ,    2023  \\n1317       47   Muscular problems ,  Hamstring Injury ,  Musc...   2023  \\n\\n[1318 rows x 5 columns]'"
     },
     "execution_count": 52,
     "metadata": {},
     "output_type": "execute_result"
    }
   ],
   "source": [
    "#read all data from 2023 freb\n",
    "#Defense\n",
    "playerDefense2023 = pyr.read_r('/Users/25AlecZ/Documents/PlayerValue/2023/defense2023.RData')\n",
    "print(playerDefense2023.keys())\n",
    "playerDefense2023df = playerDefense2023[\"defense2023\"]\n",
    "#GCA\n",
    "playerGCA2023 = pyr.read_r('/Users/25AlecZ/Documents/PlayerValue/2023/gca2023.RData')\n",
    "print(playerGCA2023.keys())\n",
    "playerGCA2023df = playerGCA2023[\"gca2023\"]\n",
    "#Keepers\n",
    "playerKeepers2023 = pyr.read_r('/Users/25AlecZ/Documents/PlayerValue/2023/keepers2023.RData')\n",
    "print(playerKeepers2023.keys())\n",
    "playerKeepers2023df = playerKeepers2023[\"keepers2023\"]\n",
    "#Keepers Advanced\n",
    "playerKeepersAdv2023 = pyr.read_r('/Users/25AlecZ/Documents/PlayerValue/2023/keepersAdvanced2023.RData')\n",
    "print(playerKeepersAdv2023.keys())\n",
    "playerKeepersAdv2023df = playerKeepersAdv2023[\"keepersAdvanced2023\"]\n",
    "#misc\n",
    "playerMisc2023 = pyr.read_r('/Users/25AlecZ/Documents/PlayerValue/2023/misc2023.RData')\n",
    "print(playerMisc2023.keys())\n",
    "playerMisc2023df = playerMisc2023[\"misc2023\"]\n",
    "#passing\n",
    "playerPassing2023 = pyr.read_r('/Users/25AlecZ/Documents/PlayerValue/2023/passing2023.RData')\n",
    "print(playerPassing2023.keys())\n",
    "playerPassing2023df = playerPassing2023[\"passing2023\"]\n",
    "#passing types\n",
    "playerPassingTypes2023 = pyr.read_r('/Users/25AlecZ/Documents/PlayerValue/2023/passingTypes2023.RData')\n",
    "print(playerPassingTypes2023.keys())\n",
    "playerPassingTypes2023df = playerPassingTypes2023[\"passingTypes2023\"]\n",
    "#playing time\n",
    "playerPlayingTime2023 = pyr.read_r('/Users/25AlecZ/Documents/PlayerValue/2023/playingTime2023.RData')\n",
    "print(playerPlayingTime2023.keys())\n",
    "playerPlayingTime2023df = playerPlayingTime2023[\"playingTime2023\"]\n",
    "playerPlayingTime2023df.count()\n",
    "#possession\n",
    "playerPossession2023 = pyr.read_r('/Users/25AlecZ/Documents/PlayerValue/2023/possession2023.RData')\n",
    "print(playerPossession2023.keys())\n",
    "playerPossession2023df = playerPossession2023[\"possession2023\"]\n",
    "#shooting\n",
    "playerShooting2023 = pyr.read_r('/Users/25AlecZ/Documents/PlayerValue/2023/shooting2023.RData')\n",
    "print(playerShooting2023.keys())\n",
    "playerShooting2023df = playerShooting2023[\"shooting2023\"]\n",
    "#Standard\n",
    "playerStandard2023 = pyr.read_r('/Users/25AlecZ/Documents/PlayerValue/2023/standard2023.RData')\n",
    "print(playerStandard2023.keys())\n",
    "playerStandard2023df = playerStandard2023[\"standard2023\"]\n",
    "#Valuations\n",
    "playerValuation2023 = pyr.read_r('/Users/25AlecZ/Documents/PlayerValue/2023/valuations2023.RData')\n",
    "print(playerValuation2023.keys())\n",
    "playerValuation2023df = playerValuation2023[\"valuations2023\"]\n",
    "#injuries\n",
    "playerInjuries2023 = pyr.read_r('/Users/25AlecZ/Documents/PlayerValue/2023/playerInjuries2023.RData')\n",
    "print(playerInjuries2023.keys())\n",
    "playerInjuries2023df = playerInjuries2023[\"playerInjuries2023\"]\n",
    "str(playerInjuries2023df)"
   ],
   "metadata": {
    "collapsed": false
   }
  },
  {
   "cell_type": "code",
   "execution_count": 57,
   "outputs": [
    {
     "data": {
      "text/plain": "Player        1318\nPlayer_url    1318\nDuration      1318\nType          1318\nSeason        1318\ndtype: int64"
     },
     "execution_count": 57,
     "metadata": {},
     "output_type": "execute_result"
    }
   ],
   "source": [
    "#merge to create 2023 player dataframe\n",
    "#merge defense and gca\n",
    "playerdf2023 = pd.merge(playerDefense2023df, playerGCA2023df)\n",
    "#merge player and standard\n",
    "playerdf2023 = pd.merge(playerdf2023, playerStandard2023df, how = 'left')\n",
    "#merge player and keepers\n",
    "playerdf2023 = pd.merge(playerdf2023, playerKeepers2023df, how = 'left')\n",
    "#merge player and keepers advanced\n",
    "playerdf2023 = pd.merge(playerdf2023, playerKeepersAdv2023df, how = 'left')\n",
    "#merge player and playing time\n",
    "playerdf2023 = pd.merge(playerdf2023, playerPlayingTime2023df, how = 'left')\n",
    "#merge player and misc\n",
    "playerdf2023 = pd.merge(playerdf2023, playerMisc2023df)\n",
    "#merge player and passing\n",
    "playerdf2023 = pd.merge(playerdf2023, playerPassing2023df)\n",
    "#merge player and passing types\n",
    "playerdf2023 = pd.merge(playerdf2023, playerPassingTypes2023df)\n",
    "#merge player and possession\n",
    "playerdf2023 = pd.merge(playerdf2023, playerPossession2023df)\n",
    "#merge player and shooting\n",
    "playerdf2023 = pd.merge(playerdf2023, playerShooting2023df)\n",
    "#merge mapping csv\n",
    "playerdf2023 = pd.merge(playerdf2023, mappingdf, on = 'Url', how = 'left')\n",
    "#merge valuations\n",
    "playerdf2023 = pd.merge(playerdf2023, playerValuation2023df, how = 'left')\n",
    "#merge injuries\n",
    "playerdf2023 = pd.merge(playerdf2023, playerInjuries2023df, how = 'left')\n",
    "playerInjuries2023df.count()"
   ],
   "metadata": {
    "collapsed": false
   }
  },
  {
   "cell_type": "code",
   "execution_count": 16,
   "outputs": [
    {
     "data": {
      "text/plain": "       Season_End_Year       Squad     Comp                 Player Nation Pos  \\\n12584             2022  Fiorentina  Serie A  Lucas Martínez Quarta    ARG  DF   \n16305             2023    Mallorca  La Liga      Rodrigo Battaglia    ARG  MF   \n\n        Age    Born  Mins_Per_90  Tkl_Tackles  ...  player_dob  player_age  \\\n12584  25.0  1996.0         15.9         36.0  ...  1996-05-10         NaN   \n16305  31.0  1991.0          7.6         12.0  ...         NaN         NaN   \n\n       player_nationality    current_club  player_height_mtrs  player_foot  \\\n12584           Argentina  ACF Fiorentina                1.83        right   \n16305                 NaN             NaN                 NaN          NaN   \n\n       date_joined     joined_from  contract_expiry  player_market_value_euro  \n12584   2020-10-05  CA River Plate       2025-06-30                10000000.0  \n16305          NaN             NaN              NaN                       NaN  \n\n[2 rows x 239 columns]",
      "text/html": "<div>\n<style scoped>\n    .dataframe tbody tr th:only-of-type {\n        vertical-align: middle;\n    }\n\n    .dataframe tbody tr th {\n        vertical-align: top;\n    }\n\n    .dataframe thead th {\n        text-align: right;\n    }\n</style>\n<table border=\"1\" class=\"dataframe\">\n  <thead>\n    <tr style=\"text-align: right;\">\n      <th></th>\n      <th>Season_End_Year</th>\n      <th>Squad</th>\n      <th>Comp</th>\n      <th>Player</th>\n      <th>Nation</th>\n      <th>Pos</th>\n      <th>Age</th>\n      <th>Born</th>\n      <th>Mins_Per_90</th>\n      <th>Tkl_Tackles</th>\n      <th>...</th>\n      <th>player_dob</th>\n      <th>player_age</th>\n      <th>player_nationality</th>\n      <th>current_club</th>\n      <th>player_height_mtrs</th>\n      <th>player_foot</th>\n      <th>date_joined</th>\n      <th>joined_from</th>\n      <th>contract_expiry</th>\n      <th>player_market_value_euro</th>\n    </tr>\n  </thead>\n  <tbody>\n    <tr>\n      <th>12584</th>\n      <td>2022</td>\n      <td>Fiorentina</td>\n      <td>Serie A</td>\n      <td>Lucas Martínez Quarta</td>\n      <td>ARG</td>\n      <td>DF</td>\n      <td>25.0</td>\n      <td>1996.0</td>\n      <td>15.9</td>\n      <td>36.0</td>\n      <td>...</td>\n      <td>1996-05-10</td>\n      <td>NaN</td>\n      <td>Argentina</td>\n      <td>ACF Fiorentina</td>\n      <td>1.83</td>\n      <td>right</td>\n      <td>2020-10-05</td>\n      <td>CA River Plate</td>\n      <td>2025-06-30</td>\n      <td>10000000.0</td>\n    </tr>\n    <tr>\n      <th>16305</th>\n      <td>2023</td>\n      <td>Mallorca</td>\n      <td>La Liga</td>\n      <td>Rodrigo Battaglia</td>\n      <td>ARG</td>\n      <td>MF</td>\n      <td>31.0</td>\n      <td>1991.0</td>\n      <td>7.6</td>\n      <td>12.0</td>\n      <td>...</td>\n      <td>NaN</td>\n      <td>NaN</td>\n      <td>NaN</td>\n      <td>NaN</td>\n      <td>NaN</td>\n      <td>NaN</td>\n      <td>NaN</td>\n      <td>NaN</td>\n      <td>NaN</td>\n      <td>NaN</td>\n    </tr>\n  </tbody>\n</table>\n<p>2 rows × 239 columns</p>\n</div>"
     },
     "execution_count": 16,
     "metadata": {},
     "output_type": "execute_result"
    }
   ],
   "source": [
    "#concat all season dataframes from freb datasets\n",
    "playerFrebdf = pd.concat([playerdf2018,playerdf2019, playerdf2020, playerdf2021, playerdf2022, playerdf2023], ignore_index = True)\n",
    "playerFrebdf['Age'] = pd.to_numeric(playerFrebdf['Age'])\n",
    "playerFrebdf['player_height_mtrs'] = pd.to_numeric(playerFrebdf['player_height_mtrs'])\n",
    "playerFrebdf.sample(2)"
   ],
   "metadata": {
    "collapsed": false
   }
  },
  {
   "cell_type": "code",
   "execution_count": 17,
   "outputs": [
    {
     "data": {
      "text/plain": "    Squad     Comp Nation    Pos   Age  Mins_Per_90  Tkl_Tackles  \\\n0  Alavés  La Liga    ESP     DF  21.0         20.3         50.0   \n1  Alavés  La Liga    ESP     DF  31.0         24.3         33.0   \n2  Alavés  La Liga    ESP  MF,FW  23.0         11.5         10.0   \n3  Alavés  La Liga    BIH     FW  19.0          2.0          1.0   \n4  Alavés  La Liga    ESP     DF  21.0          4.8         10.0   \n\n   TklW_Tackles  Def 3rd_Tackles  Mid 3rd_Tackles  ...  PKatt_Standard  \\\n0          33.0             31.0             17.0  ...             0.0   \n1          24.0             24.0              7.0  ...             0.0   \n2           5.0              2.0              4.0  ...             0.0   \n3           1.0              0.0              1.0  ...             0.0   \n4           5.0              5.0              5.0  ...             0.0   \n\n   npxG_per_Sh_Expected  G_minus_xG_Expected  np:G_minus_xG_Expected  country  \\\n0                  0.02                 -0.1                    -0.1    Spain   \n1                  0.09                 -0.2                    -0.2      NaN   \n2                  0.05                  0.3                     0.3    Spain   \n3                  0.29                 -0.7                    -0.7      NaN   \n4                  0.03                 -0.1                    -0.1    Spain   \n\n   season_start_year           current_club  player_height_mtrs  player_foot  \\\n0             2018.0           FC Famalicão                1.80        right   \n1                NaN                    NaN                 NaN          NaN   \n2             2018.0           Without Club                1.86        right   \n3                NaN                    NaN                 NaN          NaN   \n4             2018.0  Jagiellonia Bialystok                1.88         left   \n\n   player_market_value_euro  \n0                 7500000.0  \n1                       NaN  \n2                 1500000.0  \n3                       NaN  \n4                  300000.0  \n\n[5 rows x 222 columns]",
      "text/html": "<div>\n<style scoped>\n    .dataframe tbody tr th:only-of-type {\n        vertical-align: middle;\n    }\n\n    .dataframe tbody tr th {\n        vertical-align: top;\n    }\n\n    .dataframe thead th {\n        text-align: right;\n    }\n</style>\n<table border=\"1\" class=\"dataframe\">\n  <thead>\n    <tr style=\"text-align: right;\">\n      <th></th>\n      <th>Squad</th>\n      <th>Comp</th>\n      <th>Nation</th>\n      <th>Pos</th>\n      <th>Age</th>\n      <th>Mins_Per_90</th>\n      <th>Tkl_Tackles</th>\n      <th>TklW_Tackles</th>\n      <th>Def 3rd_Tackles</th>\n      <th>Mid 3rd_Tackles</th>\n      <th>...</th>\n      <th>PKatt_Standard</th>\n      <th>npxG_per_Sh_Expected</th>\n      <th>G_minus_xG_Expected</th>\n      <th>np:G_minus_xG_Expected</th>\n      <th>country</th>\n      <th>season_start_year</th>\n      <th>current_club</th>\n      <th>player_height_mtrs</th>\n      <th>player_foot</th>\n      <th>player_market_value_euro</th>\n    </tr>\n  </thead>\n  <tbody>\n    <tr>\n      <th>0</th>\n      <td>Alavés</td>\n      <td>La Liga</td>\n      <td>ESP</td>\n      <td>DF</td>\n      <td>21.0</td>\n      <td>20.3</td>\n      <td>50.0</td>\n      <td>33.0</td>\n      <td>31.0</td>\n      <td>17.0</td>\n      <td>...</td>\n      <td>0.0</td>\n      <td>0.02</td>\n      <td>-0.1</td>\n      <td>-0.1</td>\n      <td>Spain</td>\n      <td>2018.0</td>\n      <td>FC Famalicão</td>\n      <td>1.80</td>\n      <td>right</td>\n      <td>7500000.0</td>\n    </tr>\n    <tr>\n      <th>1</th>\n      <td>Alavés</td>\n      <td>La Liga</td>\n      <td>ESP</td>\n      <td>DF</td>\n      <td>31.0</td>\n      <td>24.3</td>\n      <td>33.0</td>\n      <td>24.0</td>\n      <td>24.0</td>\n      <td>7.0</td>\n      <td>...</td>\n      <td>0.0</td>\n      <td>0.09</td>\n      <td>-0.2</td>\n      <td>-0.2</td>\n      <td>NaN</td>\n      <td>NaN</td>\n      <td>NaN</td>\n      <td>NaN</td>\n      <td>NaN</td>\n      <td>NaN</td>\n    </tr>\n    <tr>\n      <th>2</th>\n      <td>Alavés</td>\n      <td>La Liga</td>\n      <td>ESP</td>\n      <td>MF,FW</td>\n      <td>23.0</td>\n      <td>11.5</td>\n      <td>10.0</td>\n      <td>5.0</td>\n      <td>2.0</td>\n      <td>4.0</td>\n      <td>...</td>\n      <td>0.0</td>\n      <td>0.05</td>\n      <td>0.3</td>\n      <td>0.3</td>\n      <td>Spain</td>\n      <td>2018.0</td>\n      <td>Without Club</td>\n      <td>1.86</td>\n      <td>right</td>\n      <td>1500000.0</td>\n    </tr>\n    <tr>\n      <th>3</th>\n      <td>Alavés</td>\n      <td>La Liga</td>\n      <td>BIH</td>\n      <td>FW</td>\n      <td>19.0</td>\n      <td>2.0</td>\n      <td>1.0</td>\n      <td>1.0</td>\n      <td>0.0</td>\n      <td>1.0</td>\n      <td>...</td>\n      <td>0.0</td>\n      <td>0.29</td>\n      <td>-0.7</td>\n      <td>-0.7</td>\n      <td>NaN</td>\n      <td>NaN</td>\n      <td>NaN</td>\n      <td>NaN</td>\n      <td>NaN</td>\n      <td>NaN</td>\n    </tr>\n    <tr>\n      <th>4</th>\n      <td>Alavés</td>\n      <td>La Liga</td>\n      <td>ESP</td>\n      <td>DF</td>\n      <td>21.0</td>\n      <td>4.8</td>\n      <td>10.0</td>\n      <td>5.0</td>\n      <td>5.0</td>\n      <td>5.0</td>\n      <td>...</td>\n      <td>0.0</td>\n      <td>0.03</td>\n      <td>-0.1</td>\n      <td>-0.1</td>\n      <td>Spain</td>\n      <td>2018.0</td>\n      <td>Jagiellonia Bialystok</td>\n      <td>1.88</td>\n      <td>left</td>\n      <td>300000.0</td>\n    </tr>\n  </tbody>\n</table>\n<p>5 rows × 222 columns</p>\n</div>"
     },
     "execution_count": 17,
     "metadata": {},
     "output_type": "execute_result"
    }
   ],
   "source": [
    "#dropping unnecessary columns for xgboost\n",
    "playerXGBdf = playerFrebdf\n",
    "playerXGBdf.drop(['Born', 'Season_End_Year', 'Player', 'player_age', 'player_dob', 'player_position', 'player_num', 'comp_name', 'region', 'Url', 'player_url', 'player_name', 'squad', 'player_nationality', 'date_joined', 'joined_from', 'contract_expiry'], axis = 1, inplace = True)\n",
    "playerXGBdf.head()"
   ],
   "metadata": {
    "collapsed": false
   }
  },
  {
   "cell_type": "code",
   "execution_count": 18,
   "outputs": [
    {
     "data": {
      "text/plain": "Squad                       13154\nComp                        13154\nNation                      13154\nPos                         13154\nAge                         13154\n                            ...  \nseason_start_year           13154\ncurrent_club                10582\nplayer_height_mtrs          13118\nplayer_foot                 13154\nplayer_market_value_euro    13154\nLength: 222, dtype: int64"
     },
     "execution_count": 18,
     "metadata": {},
     "output_type": "execute_result"
    }
   ],
   "source": [
    "#no blank spaces in column names\n",
    "playerXGBdf.columns = playerXGBdf.columns.str.replace(' ','_')\n",
    "playerXGBdf.dropna(subset = ['player_market_value_euro'], inplace = True)\n",
    "playerXGBdf.count()"
   ],
   "metadata": {
    "collapsed": false
   }
  },
  {
   "cell_type": "code",
   "execution_count": 50,
   "outputs": [
    {
     "data": {
      "text/plain": "    Squad     Comp Nation    Pos   Age  Mins_Per_90  Tkl_Tackles  \\\n0  Alavés  La Liga    ESP     DF  21.0         20.3         50.0   \n2  Alavés  La Liga    ESP  MF,FW  23.0         11.5         10.0   \n4  Alavés  La Liga    ESP     DF  21.0          4.8         10.0   \n5  Alavés  La Liga    ESP     DF  21.0          4.8         10.0   \n6  Alavés  La Liga    ESP     DF  21.0         23.8         76.0   \n\n   TklW_Tackles  Def_3rd_Tackles  Mid_3rd_Tackles  ...  PK_Standard  \\\n0          33.0             31.0             17.0  ...          0.0   \n2           5.0              2.0              4.0  ...          0.0   \n4           5.0              5.0              5.0  ...          0.0   \n5           5.0              5.0              5.0  ...          0.0   \n6          40.0             42.0             27.0  ...          0.0   \n\n   PKatt_Standard  npxG_per_Sh_Expected  G_minus_xG_Expected  \\\n0             0.0                  0.02                 -0.1   \n2             0.0                  0.05                  0.3   \n4             0.0                  0.03                 -0.1   \n5             0.0                  0.03                 -0.1   \n6             0.0                  0.10                 -0.8   \n\n   np:G_minus_xG_Expected  country  season_start_year           current_club  \\\n0                    -0.1    Spain             2018.0           FC Famalicão   \n2                     0.3    Spain             2018.0           Without Club   \n4                    -0.1    Spain             2018.0  Jagiellonia Bialystok   \n5                    -0.1    Spain             2018.0  Jagiellonia Bialystok   \n6                    -0.8    Spain             2018.0       Deportivo Alavés   \n\n   player_height_mtrs  player_foot  \n0                1.80        right  \n2                1.86        right  \n4                1.88         left  \n5                1.88         left  \n6                1.79         left  \n\n[5 rows x 221 columns]",
      "text/html": "<div>\n<style scoped>\n    .dataframe tbody tr th:only-of-type {\n        vertical-align: middle;\n    }\n\n    .dataframe tbody tr th {\n        vertical-align: top;\n    }\n\n    .dataframe thead th {\n        text-align: right;\n    }\n</style>\n<table border=\"1\" class=\"dataframe\">\n  <thead>\n    <tr style=\"text-align: right;\">\n      <th></th>\n      <th>Squad</th>\n      <th>Comp</th>\n      <th>Nation</th>\n      <th>Pos</th>\n      <th>Age</th>\n      <th>Mins_Per_90</th>\n      <th>Tkl_Tackles</th>\n      <th>TklW_Tackles</th>\n      <th>Def_3rd_Tackles</th>\n      <th>Mid_3rd_Tackles</th>\n      <th>...</th>\n      <th>PK_Standard</th>\n      <th>PKatt_Standard</th>\n      <th>npxG_per_Sh_Expected</th>\n      <th>G_minus_xG_Expected</th>\n      <th>np:G_minus_xG_Expected</th>\n      <th>country</th>\n      <th>season_start_year</th>\n      <th>current_club</th>\n      <th>player_height_mtrs</th>\n      <th>player_foot</th>\n    </tr>\n  </thead>\n  <tbody>\n    <tr>\n      <th>0</th>\n      <td>Alavés</td>\n      <td>La Liga</td>\n      <td>ESP</td>\n      <td>DF</td>\n      <td>21.0</td>\n      <td>20.3</td>\n      <td>50.0</td>\n      <td>33.0</td>\n      <td>31.0</td>\n      <td>17.0</td>\n      <td>...</td>\n      <td>0.0</td>\n      <td>0.0</td>\n      <td>0.02</td>\n      <td>-0.1</td>\n      <td>-0.1</td>\n      <td>Spain</td>\n      <td>2018.0</td>\n      <td>FC Famalicão</td>\n      <td>1.80</td>\n      <td>right</td>\n    </tr>\n    <tr>\n      <th>2</th>\n      <td>Alavés</td>\n      <td>La Liga</td>\n      <td>ESP</td>\n      <td>MF,FW</td>\n      <td>23.0</td>\n      <td>11.5</td>\n      <td>10.0</td>\n      <td>5.0</td>\n      <td>2.0</td>\n      <td>4.0</td>\n      <td>...</td>\n      <td>0.0</td>\n      <td>0.0</td>\n      <td>0.05</td>\n      <td>0.3</td>\n      <td>0.3</td>\n      <td>Spain</td>\n      <td>2018.0</td>\n      <td>Without Club</td>\n      <td>1.86</td>\n      <td>right</td>\n    </tr>\n    <tr>\n      <th>4</th>\n      <td>Alavés</td>\n      <td>La Liga</td>\n      <td>ESP</td>\n      <td>DF</td>\n      <td>21.0</td>\n      <td>4.8</td>\n      <td>10.0</td>\n      <td>5.0</td>\n      <td>5.0</td>\n      <td>5.0</td>\n      <td>...</td>\n      <td>0.0</td>\n      <td>0.0</td>\n      <td>0.03</td>\n      <td>-0.1</td>\n      <td>-0.1</td>\n      <td>Spain</td>\n      <td>2018.0</td>\n      <td>Jagiellonia Bialystok</td>\n      <td>1.88</td>\n      <td>left</td>\n    </tr>\n    <tr>\n      <th>5</th>\n      <td>Alavés</td>\n      <td>La Liga</td>\n      <td>ESP</td>\n      <td>DF</td>\n      <td>21.0</td>\n      <td>4.8</td>\n      <td>10.0</td>\n      <td>5.0</td>\n      <td>5.0</td>\n      <td>5.0</td>\n      <td>...</td>\n      <td>0.0</td>\n      <td>0.0</td>\n      <td>0.03</td>\n      <td>-0.1</td>\n      <td>-0.1</td>\n      <td>Spain</td>\n      <td>2018.0</td>\n      <td>Jagiellonia Bialystok</td>\n      <td>1.88</td>\n      <td>left</td>\n    </tr>\n    <tr>\n      <th>6</th>\n      <td>Alavés</td>\n      <td>La Liga</td>\n      <td>ESP</td>\n      <td>DF</td>\n      <td>21.0</td>\n      <td>23.8</td>\n      <td>76.0</td>\n      <td>40.0</td>\n      <td>42.0</td>\n      <td>27.0</td>\n      <td>...</td>\n      <td>0.0</td>\n      <td>0.0</td>\n      <td>0.10</td>\n      <td>-0.8</td>\n      <td>-0.8</td>\n      <td>Spain</td>\n      <td>2018.0</td>\n      <td>Deportivo Alavés</td>\n      <td>1.79</td>\n      <td>left</td>\n    </tr>\n  </tbody>\n</table>\n<p>5 rows × 221 columns</p>\n</div>"
     },
     "execution_count": 50,
     "metadata": {},
     "output_type": "execute_result"
    }
   ],
   "source": [
    "#dependent variables dataframe\n",
    "x = playerXGBdf.drop('player_market_value_euro', axis = 1).copy()\n",
    "x.head()\n",
    "#replace NaN values with -1"
   ],
   "metadata": {
    "collapsed": false
   }
  },
  {
   "cell_type": "code",
   "execution_count": 20,
   "outputs": [
    {
     "data": {
      "text/plain": "0    7500000.0\n2    1500000.0\n4     300000.0\n5     300000.0\n6    5000000.0\nName: player_market_value_euro, dtype: float64"
     },
     "execution_count": 20,
     "metadata": {},
     "output_type": "execute_result"
    }
   ],
   "source": [
    "#independent variable dataframe\n",
    "y = playerXGBdf['player_market_value_euro'].copy()\n",
    "y.head()\n",
    "#ground truth of model, how is it value of the player calculated in the original dataset"
   ],
   "metadata": {
    "collapsed": false
   }
  },
  {
   "cell_type": "code",
   "execution_count": 21,
   "outputs": [],
   "source": [
    "x[\"Squad\"] = x[\"Squad\"].astype(\"category\")\n",
    "x[\"Comp\"] = x[\"Comp\"].astype(\"category\")\n",
    "x[\"Pos\"] = x[\"Pos\"].astype(\"category\")\n",
    "x[\"Nation\"] = x[\"Nation\"].astype(\"category\")\n",
    "x[\"country\"] = x[\"country\"].astype(\"category\")\n",
    "x[\"current_club\"] = x[\"current_club\"].astype(\"category\")\n",
    "x[\"player_height_mtrs\"] = x[\"player_height_mtrs\"].astype(\"category\")\n",
    "x[\"player_foot\"] = x[\"player_foot\"].astype(\"category\")"
   ],
   "metadata": {
    "collapsed": false
   }
  },
  {
   "cell_type": "code",
   "execution_count": 22,
   "outputs": [],
   "source": [
    "#splitting into testing and training sets\n",
    "X_train, X_test, y_train, y_test = train_test_split(x, y, random_state=1, train_size = 0.8)"
   ],
   "metadata": {
    "collapsed": false
   }
  },
  {
   "cell_type": "code",
   "execution_count": 23,
   "outputs": [
    {
     "name": "stdout",
     "output_type": "stream",
     "text": [
      "[0]\tvalidation_0-rmse:16868872.33345\n",
      "[1]\tvalidation_0-rmse:14232297.58635\n"
     ]
    },
    {
     "name": "stderr",
     "output_type": "stream",
     "text": [
      "/Users/25AlecZ/IdeaProjects/PredictingPlayerValue/venv/lib/python3.9/site-packages/xgboost/sklearn.py:835: UserWarning: `early_stopping_rounds` in `fit` method is deprecated for better compatibility with scikit-learn, use `early_stopping_rounds` in constructor or`set_params` instead.\n",
      "  warnings.warn(\n"
     ]
    },
    {
     "name": "stdout",
     "output_type": "stream",
     "text": [
      "[2]\tvalidation_0-rmse:12371525.18148\n",
      "[3]\tvalidation_0-rmse:11070776.10041\n",
      "[4]\tvalidation_0-rmse:10264599.55454\n",
      "[5]\tvalidation_0-rmse:9742182.25845\n",
      "[6]\tvalidation_0-rmse:9374634.67714\n",
      "[7]\tvalidation_0-rmse:9194996.58239\n",
      "[8]\tvalidation_0-rmse:9049011.84115\n",
      "[9]\tvalidation_0-rmse:8963551.59668\n",
      "[10]\tvalidation_0-rmse:8880849.37287\n",
      "[11]\tvalidation_0-rmse:8828957.85825\n",
      "[12]\tvalidation_0-rmse:8803381.14539\n",
      "[13]\tvalidation_0-rmse:8741967.28118\n",
      "[14]\tvalidation_0-rmse:8716797.22575\n",
      "[15]\tvalidation_0-rmse:8688417.63452\n",
      "[16]\tvalidation_0-rmse:8663966.93879\n",
      "[17]\tvalidation_0-rmse:8615294.62519\n",
      "[18]\tvalidation_0-rmse:8586549.83763\n",
      "[19]\tvalidation_0-rmse:8577136.33128\n",
      "[20]\tvalidation_0-rmse:8562547.11560\n",
      "[21]\tvalidation_0-rmse:8553551.94958\n",
      "[22]\tvalidation_0-rmse:8547409.76308\n",
      "[23]\tvalidation_0-rmse:8540498.82882\n",
      "[24]\tvalidation_0-rmse:8532535.17316\n",
      "[25]\tvalidation_0-rmse:8525223.39041\n",
      "[26]\tvalidation_0-rmse:8512562.20611\n",
      "[27]\tvalidation_0-rmse:8496603.42684\n",
      "[28]\tvalidation_0-rmse:8486197.77542\n",
      "[29]\tvalidation_0-rmse:8476995.76328\n",
      "[30]\tvalidation_0-rmse:8480897.15555\n",
      "[31]\tvalidation_0-rmse:8467213.17448\n",
      "[32]\tvalidation_0-rmse:8461051.65082\n",
      "[33]\tvalidation_0-rmse:8463323.08446\n",
      "[34]\tvalidation_0-rmse:8457378.05455\n",
      "[35]\tvalidation_0-rmse:8456705.82335\n",
      "[36]\tvalidation_0-rmse:8454245.41195\n",
      "[37]\tvalidation_0-rmse:8447028.74006\n",
      "[38]\tvalidation_0-rmse:8442588.37055\n",
      "[39]\tvalidation_0-rmse:8438537.80028\n",
      "[40]\tvalidation_0-rmse:8437677.19718\n",
      "[41]\tvalidation_0-rmse:8437293.45737\n",
      "[42]\tvalidation_0-rmse:8437423.79901\n",
      "[43]\tvalidation_0-rmse:8427518.54967\n",
      "[44]\tvalidation_0-rmse:8428909.53501\n",
      "[45]\tvalidation_0-rmse:8429089.47967\n",
      "[46]\tvalidation_0-rmse:8419340.95065\n",
      "[47]\tvalidation_0-rmse:8417193.32235\n",
      "[48]\tvalidation_0-rmse:8416025.58014\n",
      "[49]\tvalidation_0-rmse:8423788.59600\n",
      "[50]\tvalidation_0-rmse:8418160.89062\n",
      "[51]\tvalidation_0-rmse:8413396.63836\n",
      "[52]\tvalidation_0-rmse:8409880.10551\n",
      "[53]\tvalidation_0-rmse:8411284.87683\n",
      "[54]\tvalidation_0-rmse:8411238.68329\n",
      "[55]\tvalidation_0-rmse:8410463.03586\n",
      "[56]\tvalidation_0-rmse:8409945.37462\n",
      "[57]\tvalidation_0-rmse:8414058.55435\n",
      "[58]\tvalidation_0-rmse:8410686.04981\n",
      "[59]\tvalidation_0-rmse:8410331.30576\n",
      "[60]\tvalidation_0-rmse:8409703.46572\n",
      "[61]\tvalidation_0-rmse:8409889.20632\n",
      "[62]\tvalidation_0-rmse:8407864.41100\n",
      "[63]\tvalidation_0-rmse:8408046.93173\n",
      "[64]\tvalidation_0-rmse:8403458.77858\n",
      "[65]\tvalidation_0-rmse:8403282.95098\n",
      "[66]\tvalidation_0-rmse:8398894.37805\n",
      "[67]\tvalidation_0-rmse:8399061.28605\n",
      "[68]\tvalidation_0-rmse:8400332.95948\n",
      "[69]\tvalidation_0-rmse:8398782.67023\n",
      "[70]\tvalidation_0-rmse:8396172.95089\n",
      "[71]\tvalidation_0-rmse:8394342.34390\n",
      "[72]\tvalidation_0-rmse:8391502.07284\n",
      "[73]\tvalidation_0-rmse:8392300.85087\n",
      "[74]\tvalidation_0-rmse:8393588.57726\n",
      "[75]\tvalidation_0-rmse:8393504.30243\n",
      "[76]\tvalidation_0-rmse:8387310.98888\n",
      "[77]\tvalidation_0-rmse:8387647.01903\n",
      "[78]\tvalidation_0-rmse:8386103.72136\n",
      "[79]\tvalidation_0-rmse:8389350.47293\n",
      "[80]\tvalidation_0-rmse:8388367.57511\n",
      "[81]\tvalidation_0-rmse:8386332.31289\n",
      "[82]\tvalidation_0-rmse:8385536.36350\n",
      "[83]\tvalidation_0-rmse:8385114.55574\n",
      "[84]\tvalidation_0-rmse:8382817.74995\n",
      "[85]\tvalidation_0-rmse:8382307.18333\n",
      "[86]\tvalidation_0-rmse:8382919.06682\n",
      "[87]\tvalidation_0-rmse:8379699.13700\n",
      "[88]\tvalidation_0-rmse:8379909.34985\n",
      "[89]\tvalidation_0-rmse:8379478.79024\n",
      "[90]\tvalidation_0-rmse:8381391.57961\n",
      "[91]\tvalidation_0-rmse:8381115.14501\n",
      "[92]\tvalidation_0-rmse:8382770.61533\n",
      "[93]\tvalidation_0-rmse:8381917.92189\n",
      "[94]\tvalidation_0-rmse:8379737.06284\n",
      "[95]\tvalidation_0-rmse:8379566.61470\n",
      "[96]\tvalidation_0-rmse:8379842.42543\n",
      "[97]\tvalidation_0-rmse:8378421.88747\n",
      "[98]\tvalidation_0-rmse:8374615.22515\n",
      "[99]\tvalidation_0-rmse:8374403.74858\n"
     ]
    },
    {
     "data": {
      "text/plain": "XGBRegressor(base_score=None, booster=None, callbacks=None,\n             colsample_bylevel=None, colsample_bynode=None,\n             colsample_bytree=None, early_stopping_rounds=None,\n             enable_categorical=True, eval_metric=None, feature_types=None,\n             gamma=None, gpu_id=None, grow_policy=None, importance_type=None,\n             interaction_constraints=None, learning_rate=None, max_bin=None,\n             max_cat_threshold=None, max_cat_to_onehot=None,\n             max_delta_step=None, max_depth=None, max_leaves=None,\n             min_child_weight=None, missing=nan, monotone_constraints=None,\n             n_estimators=100, n_jobs=None, num_parallel_tree=None,\n             predictor=None, random_state=None, ...)",
      "text/html": "<style>#sk-container-id-1 {color: black;}#sk-container-id-1 pre{padding: 0;}#sk-container-id-1 div.sk-toggleable {background-color: white;}#sk-container-id-1 label.sk-toggleable__label {cursor: pointer;display: block;width: 100%;margin-bottom: 0;padding: 0.3em;box-sizing: border-box;text-align: center;}#sk-container-id-1 label.sk-toggleable__label-arrow:before {content: \"▸\";float: left;margin-right: 0.25em;color: #696969;}#sk-container-id-1 label.sk-toggleable__label-arrow:hover:before {color: black;}#sk-container-id-1 div.sk-estimator:hover label.sk-toggleable__label-arrow:before {color: black;}#sk-container-id-1 div.sk-toggleable__content {max-height: 0;max-width: 0;overflow: hidden;text-align: left;background-color: #f0f8ff;}#sk-container-id-1 div.sk-toggleable__content pre {margin: 0.2em;color: black;border-radius: 0.25em;background-color: #f0f8ff;}#sk-container-id-1 input.sk-toggleable__control:checked~div.sk-toggleable__content {max-height: 200px;max-width: 100%;overflow: auto;}#sk-container-id-1 input.sk-toggleable__control:checked~label.sk-toggleable__label-arrow:before {content: \"▾\";}#sk-container-id-1 div.sk-estimator input.sk-toggleable__control:checked~label.sk-toggleable__label {background-color: #d4ebff;}#sk-container-id-1 div.sk-label input.sk-toggleable__control:checked~label.sk-toggleable__label {background-color: #d4ebff;}#sk-container-id-1 input.sk-hidden--visually {border: 0;clip: rect(1px 1px 1px 1px);clip: rect(1px, 1px, 1px, 1px);height: 1px;margin: -1px;overflow: hidden;padding: 0;position: absolute;width: 1px;}#sk-container-id-1 div.sk-estimator {font-family: monospace;background-color: #f0f8ff;border: 1px dotted black;border-radius: 0.25em;box-sizing: border-box;margin-bottom: 0.5em;}#sk-container-id-1 div.sk-estimator:hover {background-color: #d4ebff;}#sk-container-id-1 div.sk-parallel-item::after {content: \"\";width: 100%;border-bottom: 1px solid gray;flex-grow: 1;}#sk-container-id-1 div.sk-label:hover label.sk-toggleable__label {background-color: #d4ebff;}#sk-container-id-1 div.sk-serial::before {content: \"\";position: absolute;border-left: 1px solid gray;box-sizing: border-box;top: 0;bottom: 0;left: 50%;z-index: 0;}#sk-container-id-1 div.sk-serial {display: flex;flex-direction: column;align-items: center;background-color: white;padding-right: 0.2em;padding-left: 0.2em;position: relative;}#sk-container-id-1 div.sk-item {position: relative;z-index: 1;}#sk-container-id-1 div.sk-parallel {display: flex;align-items: stretch;justify-content: center;background-color: white;position: relative;}#sk-container-id-1 div.sk-item::before, #sk-container-id-1 div.sk-parallel-item::before {content: \"\";position: absolute;border-left: 1px solid gray;box-sizing: border-box;top: 0;bottom: 0;left: 50%;z-index: -1;}#sk-container-id-1 div.sk-parallel-item {display: flex;flex-direction: column;z-index: 1;position: relative;background-color: white;}#sk-container-id-1 div.sk-parallel-item:first-child::after {align-self: flex-end;width: 50%;}#sk-container-id-1 div.sk-parallel-item:last-child::after {align-self: flex-start;width: 50%;}#sk-container-id-1 div.sk-parallel-item:only-child::after {width: 0;}#sk-container-id-1 div.sk-dashed-wrapped {border: 1px dashed gray;margin: 0 0.4em 0.5em 0.4em;box-sizing: border-box;padding-bottom: 0.4em;background-color: white;}#sk-container-id-1 div.sk-label label {font-family: monospace;font-weight: bold;display: inline-block;line-height: 1.2em;}#sk-container-id-1 div.sk-label-container {text-align: center;}#sk-container-id-1 div.sk-container {/* jupyter's `normalize.less` sets `[hidden] { display: none; }` but bootstrap.min.css set `[hidden] { display: none !important; }` so we also need the `!important` here to be able to override the default hidden behavior on the sphinx rendered scikit-learn.org. See: https://github.com/scikit-learn/scikit-learn/issues/21755 */display: inline-block !important;position: relative;}#sk-container-id-1 div.sk-text-repr-fallback {display: none;}</style><div id=\"sk-container-id-1\" class=\"sk-top-container\"><div class=\"sk-text-repr-fallback\"><pre>XGBRegressor(base_score=None, booster=None, callbacks=None,\n             colsample_bylevel=None, colsample_bynode=None,\n             colsample_bytree=None, early_stopping_rounds=None,\n             enable_categorical=True, eval_metric=None, feature_types=None,\n             gamma=None, gpu_id=None, grow_policy=None, importance_type=None,\n             interaction_constraints=None, learning_rate=None, max_bin=None,\n             max_cat_threshold=None, max_cat_to_onehot=None,\n             max_delta_step=None, max_depth=None, max_leaves=None,\n             min_child_weight=None, missing=nan, monotone_constraints=None,\n             n_estimators=100, n_jobs=None, num_parallel_tree=None,\n             predictor=None, random_state=None, ...)</pre><b>In a Jupyter environment, please rerun this cell to show the HTML representation or trust the notebook. <br />On GitHub, the HTML representation is unable to render, please try loading this page with nbviewer.org.</b></div><div class=\"sk-container\" hidden><div class=\"sk-item\"><div class=\"sk-estimator sk-toggleable\"><input class=\"sk-toggleable__control sk-hidden--visually\" id=\"sk-estimator-id-1\" type=\"checkbox\" checked><label for=\"sk-estimator-id-1\" class=\"sk-toggleable__label sk-toggleable__label-arrow\">XGBRegressor</label><div class=\"sk-toggleable__content\"><pre>XGBRegressor(base_score=None, booster=None, callbacks=None,\n             colsample_bylevel=None, colsample_bynode=None,\n             colsample_bytree=None, early_stopping_rounds=None,\n             enable_categorical=True, eval_metric=None, feature_types=None,\n             gamma=None, gpu_id=None, grow_policy=None, importance_type=None,\n             interaction_constraints=None, learning_rate=None, max_bin=None,\n             max_cat_threshold=None, max_cat_to_onehot=None,\n             max_delta_step=None, max_depth=None, max_leaves=None,\n             min_child_weight=None, missing=nan, monotone_constraints=None,\n             n_estimators=100, n_jobs=None, num_parallel_tree=None,\n             predictor=None, random_state=None, ...)</pre></div></div></div></div></div>"
     },
     "execution_count": 23,
     "metadata": {},
     "output_type": "execute_result"
    }
   ],
   "source": [
    "playerXGBdf_xgb = xgb.XGBRegressor(tree_method=\"approx\", seed=1, enable_categorical = True)\n",
    "playerXGBdf_xgb.fit(X_train, y_train, verbose = True, early_stopping_rounds = 10, eval_set = [(X_test, y_test)], eval_metric = )"
   ],
   "metadata": {
    "collapsed": false
   }
  },
  {
   "cell_type": "code",
   "execution_count": 38,
   "outputs": [
    {
     "name": "stdout",
     "output_type": "stream",
     "text": [
      "0.7684708295166464\n",
      "4329014.197325384\n",
      "70130637883962.695\n"
     ]
    }
   ],
   "source": [
    "y_pred = playerXGBdf_xgb.predict(X_test)\n",
    "print(r2_score(y_test, y_pred))\n",
    "print(mean_absolute_error(y_test, y_pred))\n",
    "print(mean_squared_error(y_test, y_pred))"
   ],
   "metadata": {
    "collapsed": false
   }
  },
  {
   "cell_type": "code",
   "execution_count": 58,
   "outputs": [
    {
     "name": "stdout",
     "output_type": "stream",
     "text": [
      "0.996966555354436\n",
      "559519.8110918123\n",
      "817486752128.8241\n"
     ]
    }
   ],
   "source": [
    "y_predTraining = playerXGBdf_xgb.predict(X_train)\n",
    "print(r2_score(y_train, y_predTraining))\n",
    "print(mean_absolute_error(y_train, y_predTraining))\n",
    "print(mean_squared_error(y_train, y_predTraining))"
   ],
   "metadata": {
    "collapsed": false
   }
  },
  {
   "cell_type": "code",
   "execution_count": null,
   "outputs": [],
   "source": [],
   "metadata": {
    "collapsed": false
   }
  }
 ],
 "metadata": {
  "kernelspec": {
   "display_name": "Python 3",
   "language": "python",
   "name": "python3"
  },
  "language_info": {
   "codemirror_mode": {
    "name": "ipython",
    "version": 2
   },
   "file_extension": ".py",
   "mimetype": "text/x-python",
   "name": "python",
   "nbconvert_exporter": "python",
   "pygments_lexer": "ipython2",
   "version": "2.7.6"
  }
 },
 "nbformat": 4,
 "nbformat_minor": 0
}
