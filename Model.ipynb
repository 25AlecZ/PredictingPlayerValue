{
  "cells": [
    {
      "cell_type": "markdown",
      "metadata": {
        "id": "view-in-github",
        "colab_type": "text"
      },
      "source": [
        "<a href=\"https://colab.research.google.com/github/25AlecZ/PredictingPlayerValue/blob/main/Model.ipynb\" target=\"_parent\"><img src=\"https://colab.research.google.com/assets/colab-badge.svg\" alt=\"Open In Colab\"/></a>"
      ]
    },
    {
      "cell_type": "markdown",
      "metadata": {
        "id": "fQNefTLMhsSl"
      },
      "source": [
        "# Install"
      ]
    },
    {
      "cell_type": "code",
      "execution_count": null,
      "metadata": {
        "id": "BGGoSlzQ6RvA"
      },
      "outputs": [],
      "source": [
        "#install packages\n",
        "!pip install --upgrade pip\n",
        "!pip install pandas --upgrade pip\n",
        "!pip install xgboost --upgrade pip\n",
        "!pip install sklearn --upgrade pip\n",
        "!pip install shap\n",
        "!pip install graphviz"
      ]
    },
    {
      "cell_type": "markdown",
      "source": [
        "# Import"
      ],
      "metadata": {
        "id": "EzqQ0Rk3hZ-U"
      }
    },
    {
      "cell_type": "code",
      "execution_count": 126,
      "metadata": {
        "colab": {
          "base_uri": "https://localhost:8080/"
        },
        "id": "g8dYbjDy4gsU",
        "outputId": "2b1df613-2221-46f6-b713-5ae1913c602a"
      },
      "outputs": [
        {
          "output_type": "stream",
          "name": "stdout",
          "text": [
            "Drive already mounted at /content/drive; to attempt to forcibly remount, call drive.mount(\"/content/drive\", force_remount=True).\n"
          ]
        }
      ],
      "source": [
        "from google.colab import drive\n",
        "from google.colab import files\n",
        "drive.mount('/content/drive')"
      ]
    },
    {
      "cell_type": "code",
      "execution_count": 127,
      "metadata": {
        "id": "VNAdHaTOMNAW"
      },
      "outputs": [],
      "source": [
        "#import modules\n",
        "import pandas as pd\n",
        "from sklearn.model_selection import train_test_split\n",
        "from sklearn.metrics import r2_score\n",
        "from sklearn.metrics import mean_absolute_error\n",
        "from sklearn.metrics import mean_squared_error\n",
        "import xgboost as xgb\n",
        "from xgboost.sklearn import XGBRegressor\n",
        "from xgboost import plot_tree\n",
        "from sklearn.preprocessing import OneHotEncoder\n",
        "import matplotlib.pyplot as plt\n",
        "import shap\n",
        "import gc\n",
        "import numpy as np"
      ]
    },
    {
      "cell_type": "markdown",
      "source": [
        "# Injury Model"
      ],
      "metadata": {
        "id": "JkNj3jMEWCdS"
      }
    },
    {
      "cell_type": "markdown",
      "metadata": {
        "id": "-_QGpx5eiSep"
      },
      "source": [
        "## Read concatenated csv\n"
      ]
    },
    {
      "cell_type": "code",
      "execution_count": null,
      "metadata": {
        "id": "s70a2K-sGQdB"
      },
      "outputs": [],
      "source": [
        "#read df for each year model\n",
        "InjuryModelOneYeardf = pd.read_csv('/content/drive/MyDrive/PlayerValue/InjuryYearOneSeparateInjuries.csv')\n",
        "InjuryModelOneYeardf.drop('Unnamed: 0', axis=1, inplace=True)\n",
        "InjuryModelOneYeardf.drop(columns = ['injuryType'], inplace = True)\n",
        "x1year = InjuryModelOneYeardf.dropna(subset=['duration_truth'])\n",
        "y1year = x1year['duration_truth'].copy()"
      ]
    },
    {
      "cell_type": "code",
      "execution_count": null,
      "metadata": {
        "id": "9yiKgvCpcuzm"
      },
      "outputs": [],
      "source": [
        "InjuryModelTwoYeardf = pd.read_csv('/content/drive/MyDrive/PlayerValue/InjuryYearTwoSeparateInjuries.csv')\n",
        "InjuryModelTwoYeardf.drop('Unnamed: 0', axis=1, inplace=True)\n",
        "InjuryModelTwoYeardf.drop(columns = ['injuryType'], inplace = True)\n",
        "x2year = InjuryModelTwoYeardf.dropna(subset=['duration_truth'])\n",
        "y2year = x2year['duration_truth'].copy()"
      ]
    },
    {
      "cell_type": "code",
      "execution_count": null,
      "metadata": {
        "id": "0WkHYU8xeLZC"
      },
      "outputs": [],
      "source": [
        "InjuryModelThreeYeardf = pd.read_csv('/content/drive/MyDrive/PlayerValue/InjuryYearThreeSeparateInjuries.csv')\n",
        "InjuryModelThreeYeardf.drop('Unnamed: 0', axis=1, inplace=True)\n",
        "InjuryModelThreeYeardf.drop(columns = ['injuryType'], inplace = True)\n",
        "x3year = InjuryModelThreeYeardf.dropna(subset=['duration_truth'])\n",
        "y3year = x3year['duration_truth'].copy()"
      ]
    },
    {
      "cell_type": "code",
      "execution_count": null,
      "metadata": {
        "id": "-0wtJ5SwdUQe"
      },
      "outputs": [],
      "source": [
        "InjuryModelFourYeardf = pd.read_csv('/content/drive/MyDrive/PlayerValue/InjuryYearFourSeparateInjuries.csv')\n",
        "InjuryModelFourYeardf.drop('Unnamed: 0', axis=1, inplace=True)\n",
        "InjuryModelFourYeardf.drop(columns = ['injuryType'], inplace = True)\n",
        "x4year = InjuryModelFourYeardf.dropna(subset=['duration_truth'])\n",
        "y4year = x4year['duration_truth'].copy()"
      ]
    },
    {
      "cell_type": "code",
      "execution_count": null,
      "metadata": {
        "id": "Ev1rmHfqfaFD"
      },
      "outputs": [],
      "source": [
        "InjuryModelFiveYeardf = pd.read_csv('/content/drive/MyDrive/PlayerValue/InjuryYearFiveSeparateInjuries.csv')\n",
        "InjuryModelFiveYeardf.drop('Unnamed: 0', axis=1, inplace=True)\n",
        "InjuryModelFiveYeardf.drop(columns = ['injuryType'], inplace = True)\n",
        "x5year = InjuryModelFiveYeardf.dropna(subset=['duration_truth'])\n",
        "y5year = x5year['duration_truth'].copy()"
      ]
    },
    {
      "cell_type": "markdown",
      "metadata": {
        "id": "vDdQiyGQj7xe"
      },
      "source": [
        "## Dataset Cleaning"
      ]
    },
    {
      "cell_type": "code",
      "execution_count": null,
      "metadata": {
        "id": "zlo_UvST9rfn"
      },
      "outputs": [],
      "source": [
        "# @title\n",
        "playerdf2018 = pd.read_csv('/content/drive/MyDrive/PlayerValue/playerdf2018.csv')\n",
        "playerdf2018.drop('Unnamed: 0', axis=1, inplace=True)\n",
        "\n",
        "playerdf2019 = pd.read_csv('/content/drive/MyDrive/PlayerValue/playerdf2019.csv')\n",
        "playerdf2019.drop('Unnamed: 0', axis=1, inplace=True)\n",
        "\n",
        "playerdf2020 = pd.read_csv('/content/drive/MyDrive/PlayerValue/playerdf2020.csv')\n",
        "playerdf2020.drop('Unnamed: 0', axis=1, inplace=True)\n",
        "\n",
        "playerdf2021 = pd.read_csv('/content/drive/MyDrive/PlayerValue/playerdf2021.csv')\n",
        "playerdf2021.drop('Unnamed: 0', axis=1, inplace=True)\n",
        "\n",
        "playerdf2022 = pd.read_csv('/content/drive/MyDrive/PlayerValue/playerdf2022.csv')\n",
        "playerdf2022.drop('Unnamed: 0', axis=1, inplace=True)\n",
        "\n",
        "playerdf2023 = pd.read_csv('/content/drive/MyDrive/PlayerValue/playerdf2023.csv')\n",
        "playerdf2023.drop('Unnamed: 0', axis=1, inplace=True)\n",
        "\n",
        "InjuryYearDurationUpdatedYearsdf = pd.read_csv('/content/drive/MyDrive/PlayerValue/InjuryYearDurationUpdatedYearsdf.csv')\n",
        "InjuryYearDurationUpdatedYearsdf.drop('Unnamed: 0', axis=1, inplace=True)"
      ]
    },
    {
      "cell_type": "code",
      "execution_count": null,
      "metadata": {
        "id": "VkTFd0kEcuAN"
      },
      "outputs": [],
      "source": [
        "# @title\n",
        "playerFrebdf = pd.concat([playerdf2018,playerdf2019, playerdf2020, playerdf2021, playerdf2022, playerdf2023], ignore_index = True)"
      ]
    },
    {
      "cell_type": "code",
      "execution_count": null,
      "metadata": {
        "id": "k-DZ9m9CY-_K"
      },
      "outputs": [],
      "source": [
        "# @title\n",
        "#concat all season dataframes from freb datasets\n",
        "playerFrebdf['Age'] = pd.to_numeric(playerFrebdf['Age'])\n",
        "playerFrebdf.rename(columns = {'player_url':'Player_url'}, inplace = True)\n",
        "playerFrebdf = playerFrebdf.merge(InjuryYearDurationUpdatedYearsdf, on = 'Player_url', how = 'left')\n",
        "playerFrebdf.count()\n",
        "#no blank spaces in column names\n",
        "#playerFrebdf.columns = playerFrebdf.columns.str.replace(' ','_')\n",
        "#playerFrebdf['player_height_mtrs'] = pd.to_numeric(playerFrebdf['player_height_mtrs'])\n",
        "#playerFrebdf.to_csv('/content/drive/MyDrive/PlayerValue/Frebdf.csv')"
      ]
    },
    {
      "cell_type": "code",
      "execution_count": null,
      "metadata": {
        "id": "ffahE_GFQYa7"
      },
      "outputs": [],
      "source": [
        "# @title\n",
        "#Injury with regular column names\n",
        "Injury2018df = pd.read_csv('/content/drive/MyDrive/PlayerValue/Injury2018df.csv')\n",
        "Injury2018df.drop('Unnamed: 0', axis=1, inplace=True)\n",
        "\n",
        "Injury2019df = pd.read_csv('/content/drive/MyDrive/PlayerValue/Injury2019df.csv')\n",
        "Injury2019df.drop('Unnamed: 0', axis=1, inplace=True)\n",
        "\n",
        "Injury2020df = pd.read_csv('/content/drive/MyDrive/PlayerValue/Injury2020df.csv')\n",
        "Injury2020df.drop('Unnamed: 0', axis=1, inplace=True)\n",
        "\n",
        "Injury2021df = pd.read_csv('/content/drive/MyDrive/PlayerValue/Injury2021df.csv')\n",
        "Injury2021df.drop('Unnamed: 0', axis=1, inplace=True)\n",
        "\n",
        "Injury2022df = pd.read_csv('/content/drive/MyDrive/PlayerValue/Injury2022df.csv')\n",
        "Injury2022df.drop('Unnamed: 0', axis=1, inplace=True)\n",
        "\n",
        "Injury2023df = pd.read_csv('/content/drive/MyDrive/PlayerValue/Injury2023df.csv')\n",
        "Injury2023df.drop('Unnamed: 0', axis=1, inplace=True)\n",
        "\n",
        "#Injury with columns names including year in duration and type of injury\n",
        "Injury2018YearDurationdf = pd.read_csv('/content/drive/MyDrive/PlayerValue/Injury2018YearDurationdf.csv')\n",
        "Injury2018YearDurationdf.drop('Unnamed: 0', axis=1, inplace=True)\n",
        "\n",
        "Injury2019YearDurationdf = pd.read_csv('/content/drive/MyDrive/PlayerValue/Injury2019YearDurationdf.csv')\n",
        "Injury2019YearDurationdf.drop('Unnamed: 0', axis=1, inplace=True)\n",
        "\n",
        "Injury2020YearDurationdf = pd.read_csv('/content/drive/MyDrive/PlayerValue/Injury2020YearDurationdf.csv')\n",
        "Injury2020YearDurationdf.drop('Unnamed: 0', axis=1, inplace=True)\n",
        "\n",
        "Injury2021YearDurationdf = pd.read_csv('/content/drive/MyDrive/PlayerValue/Injury2021YearDurationdf.csv')\n",
        "Injury2021YearDurationdf.drop('Unnamed: 0', axis=1, inplace=True)\n",
        "\n",
        "Injury2022YearDurationdf = pd.read_csv('/content/drive/MyDrive/PlayerValue/Injury2022YearDurationdf.csv')\n",
        "Injury2022YearDurationdf.drop('Unnamed: 0', axis=1, inplace=True)\n",
        "\n",
        "Injury2023YearDurationdf = pd.read_csv('/content/drive/MyDrive/PlayerValue/Injury2023YearDurationdf.csv')\n",
        "Injury2023YearDurationdf.drop('Unnamed: 0', axis=1, inplace=True)"
      ]
    },
    {
      "cell_type": "code",
      "execution_count": null,
      "metadata": {
        "id": "mrhRfM3OBUHT"
      },
      "outputs": [],
      "source": [
        "#Rename player_url column\n",
        "Injury2018df.rename(columns = {'Player_url':'player_url'}, inplace = True)\n",
        "Injury2019df.rename(columns = {'Player_url':'player_url'}, inplace = True)\n",
        "Injury2020df.rename(columns = {'Player_url':'player_url'}, inplace = True)\n",
        "Injury2021df.rename(columns = {'Player_url':'player_url'}, inplace = True)\n",
        "Injury2022df.rename(columns = {'Player_url':'player_url'}, inplace = True)\n",
        "Injury2023df.rename(columns = {'Player_url':'player_url'}, inplace = True)"
      ]
    },
    {
      "cell_type": "code",
      "execution_count": null,
      "metadata": {
        "id": "p9RVmvcYh53F"
      },
      "outputs": [],
      "source": [
        "#Injury Model\n",
        "#Concatenate all data into overall injury df, then for loop search for player name, check player year duration and type duration, then replace NaN values with 0\n",
        "InjuryYearDurationdf = pd.concat([Injury2018YearDurationdf, Injury2019YearDurationdf], ignore_index = True)\n",
        "InjuryYearDurationdf = pd.concat([InjuryYearDurationdf, Injury2020YearDurationdf], ignore_index = True)\n",
        "InjuryYearDurationdf = pd.concat([InjuryYearDurationdf, Injury2021YearDurationdf], ignore_index = True)\n",
        "InjuryYearDurationdf = pd.concat([InjuryYearDurationdf, Injury2022YearDurationdf], ignore_index = True)\n",
        "InjuryYearDurationdf = pd.concat([InjuryYearDurationdf, Injury2023YearDurationdf], ignore_index = True)"
      ]
    },
    {
      "cell_type": "code",
      "execution_count": null,
      "metadata": {
        "id": "B2rTIqDizIws"
      },
      "outputs": [],
      "source": [
        "#Correcting columns for different years model by setting duration and type for each player\n",
        "for i in range(0, len(InjuryYearDurationdf)):\n",
        "  playerUrl = InjuryYearDurationdf.loc[i, \"Player_url\"]\n",
        "  for j in range(i, len(InjuryYearDurationdf)):\n",
        "    if (InjuryYearDurationdf.loc[j, \"Player_url\"] == playerUrl):\n",
        "        if (not InjuryYearDurationdf.isnull().loc[j, \"Duration_2019\"]):\n",
        "          InjuryYearDurationdf.loc[i, \"Duration_2019\"] = InjuryYearDurationdf.loc[j, \"Duration_2019\"]\n",
        "          InjuryYearDurationdf.loc[i, \"Type_2019\"] = InjuryYearDurationdf.loc[j, \"Type_2019\"]\n",
        "        elif (not InjuryYearDurationdf.isnull().loc[j, \"Duration_2020\"]):\n",
        "          InjuryYearDurationdf.loc[i, \"Duration_2020\"] = InjuryYearDurationdf.loc[j, \"Duration_2020\"]\n",
        "          InjuryYearDurationdf.loc[i, \"Type_2020\"] = InjuryYearDurationdf.loc[j, \"Type_2020\"]\n",
        "        elif (not InjuryYearDurationdf.isnull().loc[j, \"Duration_2021\"]):\n",
        "          InjuryYearDurationdf.loc[i, \"Duration_2021\"] = InjuryYearDurationdf.loc[j, \"Duration_2021\"]\n",
        "          InjuryYearDurationdf.loc[i, \"Type_2021\"] = InjuryYearDurationdf.loc[j, \"Type_2021\"]\n",
        "        elif (not InjuryYearDurationdf.isnull().loc[j, \"Duration_2022\"]):\n",
        "          InjuryYearDurationdf.loc[i, \"Duration_2022\"] = InjuryYearDurationdf.loc[j, \"Duration_2022\"]\n",
        "          InjuryYearDurationdf.loc[i, \"Type_2022\"] = InjuryYearDurationdf.loc[j, \"Type_2022\"]\n",
        "        elif (not InjuryYearDurationdf.isnull().loc[j, \"Duration_2023\"]):\n",
        "          InjuryYearDurationdf.loc[i, \"Duration_2023\"] = InjuryYearDurationdf.loc[j, \"Duration_2023\"]\n",
        "          InjuryYearDurationdf.loc[i, \"Type_2023\"] = InjuryYearDurationdf.loc[j, \"Type_2023\"]\n",
        "  print(i)"
      ]
    },
    {
      "cell_type": "code",
      "execution_count": null,
      "metadata": {
        "id": "VrGa9tXG-t5P"
      },
      "outputs": [],
      "source": [
        "# Concat on player_url\n",
        "playerdf2018 = playerdf2018.merge(Injury2018df, on = 'player_url', how = 'left')\n",
        "playerdf2019 = playerdf2019.merge(Injury2019df, on = 'player_url', how = 'left')\n",
        "playerdf2020 = playerdf2020.merge(Injury2020df, on = 'player_url', how = 'left')\n",
        "playerdf2021 = playerdf2021.merge(Injury2021df, on = 'player_url', how = 'left')\n",
        "playerdf2022 = playerdf2022.merge(Injury2022df, on = 'player_url', how = 'left')\n",
        "playerdf2023 = playerdf2023.merge(Injury2023df, on = 'player_url', how = 'left')"
      ]
    },
    {
      "cell_type": "code",
      "execution_count": null,
      "metadata": {
        "id": "Rrp_4dwe8-8f"
      },
      "outputs": [],
      "source": [
        "#concat all season dataframes from freb datasets\n",
        "playerFrebdf = pd.concat([playerdf2018,playerdf2019, playerdf2020, playerdf2021, playerdf2022, playerdf2023], ignore_index = True)\n",
        "playerFrebdf['Age'] = pd.to_numeric(playerFrebdf['Age'])\n",
        "playerFrebdf['player_height_mtrs'] = pd.to_numeric(playerFrebdf['player_height_mtrs'])\n",
        "playerFrebdf.sample(2)"
      ]
    },
    {
      "cell_type": "code",
      "execution_count": null,
      "metadata": {
        "id": "4jyjpSsGJJmS"
      },
      "outputs": [],
      "source": [
        "# injurytypes new list\n",
        "injurytypes = []"
      ]
    },
    {
      "cell_type": "code",
      "execution_count": null,
      "metadata": {
        "id": "iNPMCiXTIbC5"
      },
      "outputs": [],
      "source": [
        "#Creates list with all injuries\n",
        "for i in range (0, len(x1year)):\n",
        "  found = False\n",
        "  for j in range (0, len(injurytypes)):\n",
        "    if (injurytypes[j] == x1year.iloc[i, 222]):\n",
        "      found = True\n",
        "      break\n",
        "  if (found == False):\n",
        "    injurytypes.append(x1year.iloc[i, 222])"
      ]
    },
    {
      "cell_type": "code",
      "execution_count": null,
      "metadata": {
        "collapsed": true,
        "id": "ocf0bCRCTREZ"
      },
      "outputs": [],
      "source": [
        "x1year['injurytype_nan'] = 0 #nan\n",
        "\n",
        "x1year['injurytype_abdomen'] = 0 #Abdominal Strain\n",
        "\n",
        "x1year['injurytype_abductor'] = 0 #Tear in the abductor muscle,\n",
        "\n",
        "x1year['injurytype_achilles'] = 0 #Achilles tendon rupture, Achilles tendon problems,\n",
        "\n",
        "x1year['injurytype_adductor'] = 0 #Adductor problems,\n",
        "\n",
        "x1year['injurytype_ankle'] = 0 #Ankle Injury, Sprained ankle, Ankle problems, Torn ankle ligament, Ankle Surgery\n",
        "\n",
        "x1year['injurytype_arm'] = 0 #Arm Injury, Wirst Injury, Shoulder Injury\n",
        "\n",
        "x1year['injurytype_back'] = 0 #Back Injury, Back trouble, Back bruise\n",
        "\n",
        "x1year['injurytype_bruise'] = 0 #Bruise\n",
        "\n",
        "x1year['injurytype_calf'] = 0 #Calf Problems, Calf Injury, Calf Strain\n",
        "\n",
        "x1year['injurytype_chest'] = 0 #Angina,\n",
        "\n",
        "x1year['injurytype_collarbone'] = 0 #Collarbone fracture\n",
        "\n",
        "x1year['injurytype_concussion'] = 0 #Concussion\n",
        "\n",
        "x1year['injurytype_cruciateligament'] = 0 #Cruciate Ligament Rupture, Cruciate Ligament Surgery, Cruciate Ligament Strain\n",
        "\n",
        "x1year['injurytype_face'] = 0 #Facial Injury\n",
        "\n",
        "x1year['injurytype_finger'] = 0 #Finger Injury\n",
        "\n",
        "x1year['injurytype_fitness'] = 0 #Fitness\n",
        "\n",
        "x1year['injurytype_foot'] = 0 #Foot Injury, Bruised Foot, Fractured Foot,\n",
        "\n",
        "x1year['injurytype_groin'] = 0 #groin strain, Groin Strain (w/Capital), Groin Injury,\n",
        "\n",
        "x1year['injurytype_hamstring'] = 0 #Hamstring Injury\n",
        "\n",
        "x1year['injurytype_hand'] = 0 #Hand Injury, Hand Problems,\n",
        "\n",
        "x1year['injurytype_head'] = 0 #Head Injury\n",
        "\n",
        "x1year['injurytype_heart'] = 0 # Heart Condition\n",
        "\n",
        "x1year['injurytype_hip'] = 0 #Hip problems, Hip Injury,\n",
        "\n",
        "x1year['injurytype_ill'] = 0 #Cold, Influenza, Flu, Abdominal Influenza, Ill, Corona virus, Infection, Virus Infection, Quaratine, Testicular Cancer\n",
        "#include abdominal influenza, cold, ill, covid, influenza, fever, quarantine, infection\n",
        "\n",
        "x1year['injurytype_inflammation'] = 0 #Inflammation\n",
        "\n",
        "x1year['injurytype_knee'] = 0 #Knee Injury, Knee Problems, Knee inflammation, Bruised Knee, Ruptured intraarticular ligament initiation in knee,\n",
        "\n",
        "x1year['injurytype_knock'] = 0 #Knock, Minor Knock,\n",
        "\n",
        "x1year['injurytype_leg'] = 0 #Leg Injury\n",
        "\n",
        "x1year['injurytype_muscular'] = 0 #Muscular problems, Muscle Injury, Biceps femoris muscle injury, Torn Muscle Fibre, Muscle Fatigue\n",
        "\n",
        "x1year['injurytype_pelvis'] = 0 #Pubitis, bruised pelvis, Pelvis Injury, Pubis bone irritation\n",
        "\n",
        "x1year['injurytype_rest'] = 0 #Rest\n",
        "\n",
        "x1year['injurytype_rib'] = 0 #Fractured Rib\n",
        "\n",
        "x1year['injurytype_spine'] = 0 #Lumbar Vertebra Fracture, Lumbar vertebrae problems, Blockade in the spinal,\n",
        "\n",
        "x1year['injurytype_thigh'] = 0 #Thigh Muscle Strain, Thigh Problems,\n",
        "\n",
        "x1year['injurytype_toe'] = 0 #Toe Injury\n",
        "\n",
        "x1year['injurytype_unknown'] = 0 #Unknown Injury,\n",
        "\n",
        "x1year['injurytype_other'] = 0 #Surgery, Contracture, Sprain, Laceration"
      ]
    },
    {
      "cell_type": "code",
      "execution_count": null,
      "metadata": {
        "id": "HibPW0pLf2cj"
      },
      "outputs": [],
      "source": [
        "x2year['injurytype_nan'] = 0 #nan\n",
        "\n",
        "x2year['injurytype_abdomen'] = 0 #Abdominal Strain\n",
        "\n",
        "x2year['injurytype_abductor'] = 0 #Tear in the abductor muscle,\n",
        "\n",
        "x2year['injurytype_achilles'] = 0 #Achilles tendon rupture, Achilles tendon problems,\n",
        "\n",
        "x2year['injurytype_adductor'] = 0 #Adductor problems,\n",
        "\n",
        "x2year['injurytype_ankle'] = 0 #Ankle Injury, Sprained ankle, Ankle problems, Torn ankle ligament, Ankle Surgery\n",
        "\n",
        "x2year['injurytype_arm'] = 0 #Arm Injury, Wirst Injury, Shoulder Injury\n",
        "\n",
        "x2year['injurytype_back'] = 0 #Back Injury, Back trouble, Back bruise\n",
        "\n",
        "x2year['injurytype_bruise'] = 0 #Bruise\n",
        "\n",
        "x2year['injurytype_calf'] = 0 #Calf Problems, Calf Injury, Calf Strain\n",
        "\n",
        "x2year['injurytype_chest'] = 0 #Angina,\n",
        "\n",
        "x2year['injurytype_collarbone'] = 0 #Collarbone fracture\n",
        "\n",
        "x2year['injurytype_concussion'] = 0 #Concussion\n",
        "\n",
        "x2year['injurytype_cruciateligament'] = 0 #Cruciate Ligament Rupture, Cruciate Ligament Surgery, Cruciate Ligament Strain\n",
        "\n",
        "x2year['injurytype_face'] = 0 #Facial Injury\n",
        "\n",
        "x2year['injurytype_finger'] = 0 #Finger Injury\n",
        "\n",
        "x2year['injurytype_fitness'] = 0 #Fitness\n",
        "\n",
        "x2year['injurytype_foot'] = 0 #Foot Injury, Bruised Foot, Fractured Foot,\n",
        "\n",
        "x2year['injurytype_groin'] = 0 #groin strain, Groin Strain (w/Capital), Groin Injury,\n",
        "\n",
        "x2year['injurytype_hamstring'] = 0 #Hamstring Injury\n",
        "\n",
        "x2year['injurytype_hand'] = 0 #Hand Injury, Hand Problems,\n",
        "\n",
        "x2year['injurytype_head'] = 0 #Head Injury\n",
        "\n",
        "x2year['injurytype_heart'] = 0 # Heart Condition\n",
        "\n",
        "x2year['injurytype_hip'] = 0 #Hip problems, Hip Injury,\n",
        "\n",
        "x2year['injurytype_ill'] = 0 #Cold, Influenza, Flu, Abdominal Influenza, Ill, Corona virus, Infection, Virus Infection, Quaratine, Testicular Cancer\n",
        "#include abdominal influenza, cold, ill, covid, influenza, fever, quarantine, infection\n",
        "\n",
        "x2year['injurytype_inflammation'] = 0 #Inflammation\n",
        "\n",
        "x2year['injurytype_knee'] = 0 #Knee Injury, Knee Problems, Knee inflammation, Bruised Knee, Ruptured intraarticular ligament initiation in knee,\n",
        "\n",
        "x2year['injurytype_knock'] = 0 #Knock, Minor Knock,\n",
        "\n",
        "x2year['injurytype_leg'] = 0 #Leg Injury\n",
        "\n",
        "x2year['injurytype_muscular'] = 0 #Muscular problems, Muscle Injury, Biceps femoris muscle injury, Torn Muscle Fibre, Muscle Fatigue\n",
        "\n",
        "x2year['injurytype_pelvis'] = 0 #Pubitis, bruised pelvis, Pelvis Injury, Pubis bone irritation\n",
        "\n",
        "x2year['injurytype_rest'] = 0 #Rest\n",
        "\n",
        "x2year['injurytype_rib'] = 0 #Fractured Rib\n",
        "\n",
        "x2year['injurytype_spine'] = 0 #Lumbar Vertebra Fracture, Lumbar vertebrae problems, Blockade in the spinal, Cervical spine injury\n",
        "\n",
        "x2year['injurytype_thigh'] = 0 #Thigh Muscle Strain, Thigh Problems,\n",
        "\n",
        "x2year['injurytype_toe'] = 0 #Toe Injury\n",
        "\n",
        "x2year['injurytype_unknown'] = 0 #Unknown Injury,\n",
        "\n",
        "x2year['injurytype_other'] = 0 #Surgery, Contracture, Sprain, Laceration"
      ]
    },
    {
      "cell_type": "code",
      "execution_count": null,
      "metadata": {
        "id": "i6ZPBd-bgh4w"
      },
      "outputs": [],
      "source": [
        "#nan, lower body, upper body, ill, head, other\n",
        "x3year['injurytype_nan'] = 0 #nan\n",
        "\n",
        "x3year['injurytype_abdomen'] = 0 #Abdominal Strain\n",
        "\n",
        "x3year['injurytype_abductor'] = 0 #Tear in the abductor muscle,\n",
        "\n",
        "x3year['injurytype_achilles'] = 0 #Achilles tendon rupture, Achilles tendon problems,\n",
        "\n",
        "x3year['injurytype_adductor'] = 0 #Adductor problems,\n",
        "\n",
        "x3year['injurytype_ankle'] = 0 #Ankle Injury, Sprained ankle, Ankle problems, Torn ankle ligament, Ankle Surgery\n",
        "\n",
        "x3year['injurytype_arm'] = 0 #Arm Injury, Wirst Injury, Shoulder Injury\n",
        "\n",
        "x3year['injurytype_back'] = 0 #Back Injury, Back trouble, Back bruise\n",
        "\n",
        "x3year['injurytype_bruise'] = 0 #Bruise\n",
        "\n",
        "x3year['injurytype_calf'] = 0 #Calf Problems, Calf Injury, Calf Strain\n",
        "\n",
        "x3year['injurytype_chest'] = 0 #Angina,\n",
        "\n",
        "x3year['injurytype_collarbone'] = 0 #Collarbone fracture\n",
        "\n",
        "x3year['injurytype_concussion'] = 0 #Concussion\n",
        "\n",
        "x3year['injurytype_cruciateligament'] = 0 #Cruciate Ligament Rupture, Cruciate Ligament Surgery, Cruciate Ligament Strain\n",
        "\n",
        "x3year['injurytype_face'] = 0 #Facial Injury\n",
        "\n",
        "x3year['injurytype_finger'] = 0 #Finger Injury\n",
        "\n",
        "x3year['injurytype_fitness'] = 0 #Fitness\n",
        "\n",
        "x3year['injurytype_foot'] = 0 #Foot Injury, Bruised Foot, Fractured Foot,\n",
        "\n",
        "x3year['injurytype_groin'] = 0 #groin strain, Groin Strain (w/Capital), Groin Injury,\n",
        "\n",
        "x3year['injurytype_hamstring'] = 0 #Hamstring Injury\n",
        "\n",
        "x3year['injurytype_hand'] = 0 #Hand Injury, Hand Problems,\n",
        "\n",
        "x3year['injurytype_head'] = 0 #Head Injury\n",
        "\n",
        "x3year['injurytype_heart'] = 0 # Heart Condition\n",
        "\n",
        "x3year['injurytype_hip'] = 0 #Hip problems, Hip Injury,\n",
        "\n",
        "x3year['injurytype_ill'] = 0 #Cold, Influenza, Flu, Abdominal Influenza, Ill, Corona virus, Infection, Virus Infection, Quaratine, Testicular Cancer\n",
        "#include abdominal influenza, cold, ill, covid, influenza, fever, quarantine, infection\n",
        "\n",
        "x3year['injurytype_inflammation'] = 0 #Inflammation\n",
        "\n",
        "x3year['injurytype_knee'] = 0 #Knee Injury, Knee Problems, Knee inflammation, Bruised Knee, Ruptured intraarticular ligament initiation in knee,\n",
        "\n",
        "x3year['injurytype_knock'] = 0 #Knock, Minor Knock,\n",
        "\n",
        "x3year['injurytype_leg'] = 0 #Leg Injury\n",
        "\n",
        "x3year['injurytype_muscular'] = 0 #Muscular problems, Muscle Injury, Biceps femoris muscle injury, Torn Muscle Fibre, Muscle Fatigue\n",
        "\n",
        "x3year['injurytype_pelvis'] = 0 #Pubitis, bruised pelvis, Pelvis Injury, Pubis bone irritation\n",
        "\n",
        "x3year['injurytype_rest'] = 0 #Rest\n",
        "\n",
        "x3year['injurytype_rib'] = 0 #Fractured Rib\n",
        "\n",
        "x3year['injurytype_spine'] = 0 #Lumbar Vertebra Fracture, Lumbar vertebrae problems, Blockade in the spinal, Cervical spine injury\n",
        "\n",
        "x3year['injurytype_thigh'] = 0 #Thigh Muscle Strain, Thigh Problems,\n",
        "\n",
        "x3year['injurytype_toe'] = 0 #Toe Injury\n",
        "\n",
        "x3year['injurytype_unknown'] = 0 #Unknown Injury,\n",
        "\n",
        "x3year['injurytype_other'] = 0 #Surgery, Contracture, Sprain, Laceration"
      ]
    },
    {
      "cell_type": "code",
      "execution_count": null,
      "metadata": {
        "id": "Nc596dqtg4s4"
      },
      "outputs": [],
      "source": [
        "#nan, lower body, upper body, ill, head, other\n",
        "x4year['injurytype_nan'] = 0 #nan\n",
        "\n",
        "x4year['injurytype_abdomen'] = 0 #Abdominal Strain\n",
        "\n",
        "x4year['injurytype_abductor'] = 0 #Tear in the abductor muscle,\n",
        "\n",
        "x4year['injurytype_achilles'] = 0 #Achilles tendon rupture, Achilles tendon problems,\n",
        "\n",
        "x4year['injurytype_adductor'] = 0 #Adductor problems,\n",
        "\n",
        "x4year['injurytype_ankle'] = 0 #Ankle Injury, Sprained ankle, Ankle problems, Torn ankle ligament, Ankle Surgery\n",
        "\n",
        "x4year['injurytype_arm'] = 0 #Arm Injury, Wirst Injury, Shoulder Injury\n",
        "\n",
        "x4year['injurytype_back'] = 0 #Back Injury, Back trouble, Back bruise\n",
        "\n",
        "x4year['injurytype_bruise'] = 0 #Bruise\n",
        "\n",
        "x4year['injurytype_calf'] = 0 #Calf Problems, Calf Injury, Calf Strain\n",
        "\n",
        "x4year['injurytype_chest'] = 0 #Angina,\n",
        "\n",
        "x4year['injurytype_collarbone'] = 0 #Collarbone fracture\n",
        "\n",
        "x4year['injurytype_concussion'] = 0 #Concussion\n",
        "\n",
        "x4year['injurytype_cruciateligament'] = 0 #Cruciate Ligament Rupture, Cruciate Ligament Surgery, Cruciate Ligament Strain\n",
        "\n",
        "x4year['injurytype_face'] = 0 #Facial Injury\n",
        "\n",
        "x4year['injurytype_finger'] = 0 #Finger Injury\n",
        "\n",
        "x4year['injurytype_fitness'] = 0 #Fitness\n",
        "\n",
        "x4year['injurytype_foot'] = 0 #Foot Injury, Bruised Foot, Fractured Foot,\n",
        "\n",
        "x4year['injurytype_groin'] = 0 #groin strain, Groin Strain (w/Capital), Groin Injury,\n",
        "\n",
        "x4year['injurytype_hamstring'] = 0 #Hamstring Injury\n",
        "\n",
        "x4year['injurytype_hand'] = 0 #Hand Injury, Hand Problems,\n",
        "\n",
        "x4year['injurytype_head'] = 0 #Head Injury\n",
        "\n",
        "x4year['injurytype_heart'] = 0 # Heart Condition\n",
        "\n",
        "x4year['injurytype_hip'] = 0 #Hip problems, Hip Injury,\n",
        "\n",
        "x4year['injurytype_ill'] = 0 #Cold, Influenza, Flu, Abdominal Influenza, Ill, Corona virus, Infection, Virus Infection, Quaratine, Testicular Cancer\n",
        "#include abdominal influenza, cold, ill, covid, influenza, fever, quarantine, infection\n",
        "\n",
        "x4year['injurytype_inflammation'] = 0 #Inflammation\n",
        "\n",
        "x4year['injurytype_knee'] = 0 #Knee Injury, Knee Problems, Knee inflammation, Bruised Knee, Ruptured intraarticular ligament initiation in knee,\n",
        "\n",
        "x4year['injurytype_knock'] = 0 #Knock, Minor Knock,\n",
        "\n",
        "x4year['injurytype_leg'] = 0 #Leg Injury\n",
        "\n",
        "x4year['injurytype_muscular'] = 0 #Muscular problems, Muscle Injury, Biceps femoris muscle injury, Torn Muscle Fibre, Muscle Fatigue\n",
        "\n",
        "x4year['injurytype_pelvis'] = 0 #Pubitis, bruised pelvis, Pelvis Injury, Pubis bone irritation\n",
        "\n",
        "x4year['injurytype_rest'] = 0 #Rest\n",
        "\n",
        "x4year['injurytype_rib'] = 0 #Fractured Rib\n",
        "\n",
        "x4year['injurytype_spine'] = 0 #Lumbar Vertebra Fracture, Lumbar vertebrae problems, Blockade in the spinal, Cervical spine injury\n",
        "\n",
        "x4year['injurytype_thigh'] = 0 #Thigh Muscle Strain, Thigh Problems,\n",
        "\n",
        "x4year['injurytype_toe'] = 0 #Toe Injury\n",
        "\n",
        "x4year['injurytype_unknown'] = 0 #Unknown Injury,\n",
        "\n",
        "x4year['injurytype_other'] = 0 #Surgery, Contracture, Sprain, Laceration"
      ]
    },
    {
      "cell_type": "code",
      "execution_count": null,
      "metadata": {
        "id": "O0wO6gt9hNdn",
        "collapsed": true
      },
      "outputs": [],
      "source": [
        "#nan, lower body, upper body, ill, head, other\n",
        "x5year['injurytype_nan'] = 0 #nan\n",
        "\n",
        "x5year['injurytype_abdomen'] = 0 #Abdominal Strain\n",
        "\n",
        "x5year['injurytype_abductor'] = 0 #Tear in the abductor muscle,\n",
        "\n",
        "x5year['injurytype_achilles'] = 0 #Achilles tendon rupture, Achilles tendon problems,\n",
        "\n",
        "x5year['injurytype_adductor'] = 0 #Adductor problems,\n",
        "\n",
        "x5year['injurytype_ankle'] = 0 #Ankle Injury, Sprained ankle, Ankle problems, Torn ankle ligament, Ankle Surgery\n",
        "\n",
        "x5year['injurytype_arm'] = 0 #Arm Injury, Wirst Injury, Shoulder Injury\n",
        "\n",
        "x5year['injurytype_back'] = 0 #Back Injury, Back trouble, Back bruise\n",
        "\n",
        "x5year['injurytype_bruise'] = 0 #Bruise\n",
        "\n",
        "x5year['injurytype_calf'] = 0 #Calf Problems, Calf Injury, Calf Strain\n",
        "\n",
        "x5year['injurytype_chest'] = 0 #Angina,\n",
        "\n",
        "x5year['injurytype_collarbone'] = 0 #Collarbone fracture\n",
        "\n",
        "x5year['injurytype_concussion'] = 0 #Concussion\n",
        "\n",
        "x5year['injurytype_cruciateligament'] = 0 #Cruciate Ligament Rupture, Cruciate Ligament Surgery, Cruciate Ligament Strain\n",
        "\n",
        "x5year['injurytype_face'] = 0 #Facial Injury\n",
        "\n",
        "x5year['injurytype_finger'] = 0 #Finger Injury\n",
        "\n",
        "x5year['injurytype_fitness'] = 0 #Fitness\n",
        "\n",
        "x5year['injurytype_foot'] = 0 #Foot Injury, Bruised Foot, Fractured Foot,\n",
        "\n",
        "x5year['injurytype_groin'] = 0 #groin strain, Groin Strain (w/Capital), Groin Injury,\n",
        "\n",
        "x5year['injurytype_hamstring'] = 0 #Hamstring Injury\n",
        "\n",
        "x5year['injurytype_hand'] = 0 #Hand Injury, Hand Problems,\n",
        "\n",
        "x5year['injurytype_head'] = 0 #Head Injury\n",
        "\n",
        "x5year['injurytype_heart'] = 0 # Heart Condition\n",
        "\n",
        "x5year['injurytype_hip'] = 0 #Hip problems, Hip Injury,\n",
        "\n",
        "x5year['injurytype_ill'] = 0 #Cold, Influenza, Flu, Abdominal Influenza, Ill, Corona virus, Infection, Virus Infection, Quaratine, Testicular Cancer\n",
        "#include abdominal influenza, cold, ill, covid, influenza, fever, quarantine, infection\n",
        "\n",
        "x5year['injurytype_inflammation'] = 0 #Inflammation\n",
        "\n",
        "x5year['injurytype_knee'] = 0 #Knee Injury, Knee Problems, Knee inflammation, Bruised Knee, Ruptured intraarticular ligament initiation in knee,\n",
        "\n",
        "x5year['injurytype_knock'] = 0 #Knock, Minor Knock,\n",
        "\n",
        "x5year['injurytype_leg'] = 0 #Leg Injury\n",
        "\n",
        "x5year['injurytype_muscular'] = 0 #Muscular problems, Muscle Injury, Biceps femoris muscle injury, Torn Muscle Fibre, Muscle Fatigue\n",
        "\n",
        "x5year['injurytype_pelvis'] = 0 #Pubitis, bruised pelvis, Pelvis Injury, Pubis bone irritation\n",
        "\n",
        "x5year['injurytype_rest'] = 0 #Rest\n",
        "\n",
        "x5year['injurytype_rib'] = 0 #Fractured Rib\n",
        "\n",
        "x5year['injurytype_spine'] = 0 #Lumbar Vertebra Fracture, Lumbar vertebrae problems, Blockade in the spinal, Cervical spine injury\n",
        "\n",
        "x5year['injurytype_thigh'] = 0 #Thigh Muscle Strain, Thigh Problems,\n",
        "\n",
        "x5year['injurytype_toe'] = 0 #Toe Injury\n",
        "\n",
        "x5year['injurytype_unknown'] = 0 #Unknown Injury,\n",
        "\n",
        "x5year['injurytype_other'] = 0 #Surgery, Contracture, Sprain, Laceration"
      ]
    },
    {
      "cell_type": "code",
      "execution_count": null,
      "metadata": {
        "collapsed": true,
        "id": "r1Yj4PcM7ySl"
      },
      "outputs": [],
      "source": [
        "for i, row in x1year.iterrows(): #len(x1year)\n",
        "  s = row['injuryType']\n",
        "  if (s == 'nan'):\n",
        "    x1year.at[i, 'injurytype_nan'] += 1\n",
        "  elif type(s) == str:\n",
        "    injury_list = s.split(\" ,\")\n",
        "    injury_list = injury_list[:-1]\n",
        "    for injury in injury_list:\n",
        "      injury = injury.strip()\n",
        "      if (injury == 'Abdominal Strain' or injury == 'Abdominal muscles injury' or injury == 'Appendectomy' or injury == 'Umbilical hernia'):\n",
        "        x1year.at[i, 'injurytype_abdomen'] += 1\n",
        "      elif (injury == 'Tear in the abductor muscle'):\n",
        "        x1year.at[i, 'injurytype_abductor'] += 1\n",
        "      elif (injury == 'Achilles tendon rupture' or injury == 'Achilles tendon problems' or injury == 'Achilles Irritation' or injury == 'Achilles tendon surgery'):\n",
        "        x1year.at[i, 'injurytype_achilles'] += 1\n",
        "      elif (injury == 'Adductor problems'):\n",
        "        x1year.at[i, 'injurytype_adductor'] += 1\n",
        "      elif (injury == 'Ankle Injury' or injury == 'Sprained ankle' or injury == 'Ankle problems' or injury == 'Torn ankle ligament' or injury == 'Ankle Surgery' or injury == 'Bruised Ankle' or injury == 'Distortion of the ankle' or injury == 'Ruptured syndesmotic ligament' or injury == 'Torn Ankle Ligament' or injury == 'Fracture-dislocation of the ankle' or injury == 'Sprained Ankle' or injury == 'Injury to the ankle' or injury == 'Ankle fracture' or injury == 'Ankle Inflammation' or injury == 'Syndesmotic ligament tear' or injury == 'Ankle Fracture' or injury == 'Capsular rupture in the ankle' or injury == 'Ruptured ankle ligament' or injury == 'Ruptured ankle aigament' or injury == 'Bruise on ankle' or injury == 'Ruptured intraarticular ligament initiation in the ankle' or injury == 'Peroneus tendon injury'):\n",
        "        x1year.at[i, 'injurytype_ankle'] += 1\n",
        "      elif (injury == 'Arm Injury' or injury == 'Shoulder Injury' or injury == 'Shoulder fracture' or injury == 'Elbow Injury' or injury == 'Bruised Acromioclavicular' or injury == 'Fractured Arm' or injury == 'Acromioclavicular Separation'):\n",
        "        x1year.at[i, 'injurytype_arm'] += 1\n",
        "      elif (injury == 'Back Injury' or injury == 'Back trouble' or injury == 'Back bruise' or injury == 'Lumbago'):\n",
        "        x1year.at[i, 'injurytype_back'] += 1\n",
        "      elif (injury == 'Bruise' or injury == 'Bruised Rib' or injury == 'Metatarsal bone bruise' or injury == 'Bone Bruise' or injury == 'Muscle bruise'):\n",
        "        x1year.at[i, 'injurytype_bruise'] += 1\n",
        "      elif (injury == 'Calf Problems' or injury == 'Calf Injury' or injury == 'Calf Strain' or injury == 'Disrupted Calf Muscle' or injury == 'Hairline crack in calfbone' or injury == 'Calf muscle strain'):\n",
        "        x1year.at[i, 'injurytype_calf'] += 1\n",
        "      elif (injury == 'Angina' or injury == 'Chest injury' or injury == 'Pneumothorax' or injury == 'Lung contusion'):\n",
        "        x1year.at[i, 'injurytype_chest'] += 1\n",
        "      elif (injury == 'Collarbone fracture'):\n",
        "        x1year.at[i, 'injurytype_collarbone'] += 1\n",
        "      elif (injury == 'Concussion'):\n",
        "        x1year.at[i, 'injurytype_concussion'] += 1\n",
        "      elif (injury == 'Cruciate Ligament Rupture' or injury == 'Cruciate Ligament Surgery' or injury == 'Cruciate Ligament Strain' or injury == 'Cruciate Ligament Injury' or injury == 'Ruptured cruciate ligament' or injury == 'Partial damage to the cruciate ligament' or injury == 'Cruciate ligament stretch'):\n",
        "        x1year.at[i, 'injurytype_cruciateligament'] += 1\n",
        "      elif (injury == 'Facial Injury' or injury == 'Nose surgery' or injury == 'Dental Surgery' or injury == 'Nasal Bone Fracture' or injury == 'Facial Fracture' or injury == 'Cheekbone Fracture' or injury == 'Eye Injury' or injury == 'Toothache' or injury == 'Frontal bone fracture' or injury == 'Fractured Jaw' or injury == 'Fractured Skull' or injury == 'Fracture of the orbit' or injury == 'Tooth Inflammation' or injury == 'Nose Injury'):\n",
        "        x1year.at[i, 'injurytype_face'] += 1\n",
        "      elif (injury == 'Finger Injury'):\n",
        "        x1year.at[i, 'injurytype_finger'] += 1\n",
        "      elif (injury == 'Fitness'):\n",
        "        x1year.at[i, 'injurytype_fitness'] += 1\n",
        "      elif (injury == 'Foot Injury' or injury == 'Bruised Foot' or injury == 'Fractured Foot' or injury == 'Arch pain' or injury == 'Heel Injury' or injury == 'Hell pain' or injury == 'Heelspur' or injury == 'Heel Bone Injury' or injury == 'Metatarsal Fracture' or injury == 'Heel pain' or injury == 'Plantar fascia' or injury == 'Foot surgery' or injury == 'Hairline crack in the foot' or injury == 'Partial demolition of the plantar fascia'):\n",
        "        x1year.at[i, 'injurytype_foot'] += 1\n",
        "      elif (injury == 'groin strain' or injury == 'Groin Strain' or injury == 'Groin Injury' or injury == 'Groin Surgery' or injury == 'Inguinal Hernia' or injury == 'Pubalgia' or injury == 'Testicular disruption'):\n",
        "        x1year.at[i, 'injurytype_groin'] += 1\n",
        "      elif (injury == 'Hamstring Injury' or injury == 'Pulled hamstring at the adductors' or injury == 'Hamstring contusion'):\n",
        "        x1year.at[i, 'injurytype_hamstring'] += 1\n",
        "      elif (injury == 'Hand Injury' or injury == 'Fractured Hand' or injury == 'Broken wrist' or injury == 'Wirst Injury' or injury == 'scaphoid operation' or injury == 'Hand fracture' or injury == 'Fractured Finger' or injury == 'Thumb Injury'):\n",
        "        x1year.at[i, 'injurytype_hand'] += 1\n",
        "      elif (injury == 'Head Injury' or injury == 'Neck Injury' or injury == 'Neck bruise'):\n",
        "        x1year.at[i, 'injurytype_head'] += 1\n",
        "      elif (injury == 'Heart Condition'):\n",
        "        x1year.at[i, 'injurytype_heart'] += 1\n",
        "      elif (injury == 'Hip problems' or injury == 'Hip Injury' or injury == 'Problems with the hip flexor' or injury == 'Bruised Hip' or injury == 'Pubis bone contusion' or injury == 'Problems with the right hip flexor'):\n",
        "        x1year.at[i, 'injurytype_hip'] += 1\n",
        "      elif (injury == 'Cold' or injury == 'Influenza' or injury == 'Flu' or injury == 'Abdominal Influenza' or injury == 'Ill' or injury == 'Corona virus' or injury == 'Infection' or injury == 'Virus Infection' or injury == 'Quarantine' or injury == 'Fever' or injury == 'Tonsillitis' or injury == 'Testicular Cancer' or injury == 'Pneumonia' or injury == 'Gastric problems' or injury == 'Mononucleosis' or injury == 'Chickenpox' or injury == 'Bronchitis' or injury == 'Stomach complaints' or injury == 'Food Poisoning' or injury == 'intestial virus' or injury == 'Infected wound' or injury == 'Malaria' or injury == 'cancer' or injury == 'Lymphoma' or injury == 'Depression' or injury == 'Cals Sclerosis' or injury == 'Kidney problems'):\n",
        "        x1year.at[i, 'injurytype_ill'] += 1\n",
        "      elif (injury == 'Inflammation'):\n",
        "        x1year.at[i, 'injurytype_inflammation'] += 1\n",
        "      elif (injury == 'Knee Injury' or injury == 'Knee Problems' or injury == 'Knee inflammation' or injury == 'Bruised Knee' or injury == 'Ruptured intraarticular ligament initiation in knee' or injury == 'Knee Surgery' or injury == 'Medial Collateral Ligament Tear' or injury == 'Medial Collateral Ligament Injury' or injury == 'Meniscal Injury' or injury == 'Sideband strain in the knee' or injury == 'Patella tendon irritation' or injury == 'Mensical Laceration' or injury == 'Twisted knee' or injury == 'Torn Knee Ligament' or injury == 'Medial Collateral Ligament Knee Injury' or injury == 'Patella problems' or injury == 'Ruptured lateral collateral ligament' or injury == 'Edema in the knee' or injury == 'Fractured Kneecap' or injury == 'Torn lateral collateral ligament' or injury == 'Torn Meniscus' or injury == 'Torn Collateral Ligament' or injury == 'Patella rupture' or injury == 'Torn knee ligament' or injury == 'Patella tendon luxation' or injury == 'Ruptured knee ligament' or injury == 'Rupture of Outer Meniscus' or injury == 'Double Torn Ligament' or injury == 'Meniscus Damage' or injury == 'Medial Collateral Ligament avulsion' or injury == 'Meniscus irritation' or injury == 'Inflamed ligaments of the knee' or injury == 'Rupture of the pattella'):\n",
        "        x1year.at[i, 'injurytype_knee'] += 1\n",
        "      elif (injury == 'Knock' or injury == 'Minor Knock' or injury == 'Dead Leg' or injury == 'Stiffness'):\n",
        "        x1year.at[i, 'injurytype_knock'] += 1\n",
        "      elif (injury == 'Leg Injury' or injury == 'Strain in the thigh and gluteal muscles' or injury == 'Shinbone injury' or injury == 'Shin bone bruise' or injury == 'Biceps femoris muscle injury' or injury == 'Fibula Fracture' or injury == 'Fractured Leg' or injury == 'Fissure of the fibula' or injury == 'Sciatic Problem' or injury == 'Tibia and Fibula Fracture' or injury == 'Fracture of the lower leg' or injury == 'Tibia Fracture' or injury == 'Inflamed head of fibula'):\n",
        "        x1year.at[i, 'injurytype_leg'] += 1\n",
        "      elif (injury == 'Muscular problems' or injury == 'Muscle Injury' or injury == 'Torn Muscle Fibre' or injury == 'Muscle Fatigue' or injury == 'Torn muscle bundle' or injury == 'Torn Muscle' or injury == 'Muscle fiber tear'):\n",
        "        x1year.at[i, 'injurytype_muscular'] += 1\n",
        "      elif (injury == 'Pubitis' or injury == 'Bruised pelvis' or injury == 'Pelvis Injury' or injury == 'Pubis bone irritation' or injury == 'bruised pelvis' or injury == 'bruised pelvis' or injury == 'Pelvic obliquity'):\n",
        "        x1year.at[i, 'injurytype_pelvis'] += 1\n",
        "      elif (injury == 'Rest'):\n",
        "        x1year.at[i, 'injurytype_rest'] += 1\n",
        "      elif (injury == 'Fractured Rib'):\n",
        "        x1year.at[i, 'injurytype_rib'] += 1\n",
        "      elif (injury == 'Lumbar Vertebra Fracture' or injury == 'Lumbar vertebrae problems' or injury == 'Blockade in the spinal' or injury == 'Cervical spine injury' or injury == 'Lumbar Vertebra Fracture' or injury == 'Lumbar Vertebra Fracture' or injury == 'Vertebra injury'):\n",
        "        x1year.at[i, 'injurytype_spine'] += 1\n",
        "      elif (injury == 'Thigh Muscle Strain' or injury == 'Thigh Problems' or injury == 'Thigh muscle rupture'):\n",
        "        x1year.at[i, 'injurytype_thigh'] += 1\n",
        "      elif (injury == 'Toe Injury' or injury == 'Fractured Toe'):\n",
        "        x1year.at[i, 'injurytype_toe'] += 1\n",
        "      elif (injury == 'Unknown Injury'):\n",
        "        x1year.at[i, 'injurytype_unknown'] += 1\n",
        "      elif (injury == 'Surgery' or injury == 'Contracture' or injury == 'Sprain' or injury == 'Laceration' or injury == 'Fracture' or injury == 'Ligament Injury' or injury == 'Stress response of the bone' or injury == 'Strain' or injury == 'Contused laceration' or injury == 'Muscle partial avulsion' or injury == 'torn tendon' or injury == 'Tear in a joint capsule' or injury == 'tendon irritation' or injury == 'Ligament Problems' or injury == 'Sideband injury' or injury == 'Bone buckling' or injury == 'Stretched Ligament' or injury == 'Pinched nerve' or injury == 'Overstretching' or injury == 'Tendonitis' or injury == 'laceration' or injury == 'Arthroscopie' or injury == 'Herniated Disc' or injury == 'Fatigue fracture' or injury == 'Torn Ligament' or injury == 'Cartilage Damage' or injury == 'Bursitis' or injury == 'Circulation Problems' or injury == 'Tendon crack' or injury == 'Cut' or injury == 'sprain' or injury == 'Burns' or injury == 'open wound' or injury == 'Sideband tear' or injury == 'Marrow bulge' or injury == 'Compartment syndrome' or injury == 'Vestibular disorder' or injury == 'Intraarticular ligament fissure' or injury == 'Ruptured ligaments' or injury == 'Muscular hairline crack' or injury == 'capsular tear' or injury == 'Traffic Accident' or injury == 'Flesh Wound'):\n",
        "        x1year.at[i, 'injurytype_other'] += 1\n",
        "      else:\n",
        "        print(injury)"
      ]
    },
    {
      "cell_type": "code",
      "execution_count": null,
      "metadata": {
        "id": "qLnZ4L4lhbE_"
      },
      "outputs": [],
      "source": [
        "for i, row in x2year.iterrows(): #len(x1year)\n",
        "  s = row['injuryType']\n",
        "  if (s == 'nan'):\n",
        "    x2year.at[i, 'injurytype_nan'] += 1\n",
        "  elif type(s) == str:\n",
        "    injury_list = s.split(\" ,\")\n",
        "    injury_list = injury_list[:-1]\n",
        "    for injury in injury_list:\n",
        "      injury = injury.strip()\n",
        "      if (injury == 'Abdominal Strain' or injury == 'Abdominal muscles injury' or injury == 'Appendectomy' or injury == 'Umbilical hernia'):\n",
        "        x2year.at[i, 'injurytype_abdomen'] += 1\n",
        "      elif (injury == 'Tear in the abductor muscle'):\n",
        "        x2year.at[i, 'injurytype_abductor'] += 1\n",
        "      elif (injury == 'Achilles tendon rupture' or injury == 'Achilles tendon problems' or injury == 'Achilles Irritation' or injury == 'Achilles tendon surgery'):\n",
        "        x2year.at[i, 'injurytype_achilles'] += 1\n",
        "      elif (injury == 'Adductor problems'):\n",
        "        x2year.at[i, 'injurytype_adductor'] += 1\n",
        "      elif (injury == 'Ankle Injury' or injury == 'Sprained ankle' or injury == 'Ankle problems' or injury == 'Torn ankle ligament' or injury == 'Ankle Surgery' or injury == 'Bruised Ankle' or injury == 'Distortion of the ankle' or injury == 'Ruptured syndesmotic ligament' or injury == 'Torn Ankle Ligament' or injury == 'Fracture-dislocation of the ankle' or injury == 'Sprained Ankle' or injury == 'Injury to the ankle' or injury == 'Ankle fracture' or injury == 'Ankle Inflammation' or injury == 'Syndesmotic ligament tear' or injury == 'Ankle Fracture' or injury == 'Capsular rupture in the ankle' or injury == 'Ruptured ankle ligament' or injury == 'Ruptured ankle aigament' or injury == 'Bruise on ankle' or injury == 'Ruptured intraarticular ligament initiation in the ankle' or injury == 'Peroneus tendon injury'):\n",
        "        x2year.at[i, 'injurytype_ankle'] += 1\n",
        "      elif (injury == 'Arm Injury' or injury == 'Shoulder Injury' or injury == 'Shoulder fracture' or injury == 'Elbow Injury' or injury == 'Bruised Acromioclavicular' or injury == 'Fractured Arm' or injury == 'Acromioclavicular Separation'):\n",
        "        x2year.at[i, 'injurytype_arm'] += 1\n",
        "      elif (injury == 'Back Injury' or injury == 'Back trouble' or injury == 'Back bruise' or injury == 'Lumbago'):\n",
        "        x2year.at[i, 'injurytype_back'] += 1\n",
        "      elif (injury == 'Bruise' or injury == 'Bruised Rib' or injury == 'Metatarsal bone bruise' or injury == 'Bone Bruise' or injury == 'Muscle bruise'):\n",
        "        x2year.at[i, 'injurytype_bruise'] += 1\n",
        "      elif (injury == 'Calf Problems' or injury == 'Calf Injury' or injury == 'Calf Strain' or injury == 'Disrupted Calf Muscle' or injury == 'Hairline crack in calfbone' or injury == 'Calf muscle strain'):\n",
        "        x2year.at[i, 'injurytype_calf'] += 1\n",
        "      elif (injury == 'Angina' or injury == 'Chest injury' or injury == 'Pneumothorax' or injury == 'Lung contusion'):\n",
        "        x2year.at[i, 'injurytype_chest'] += 1\n",
        "      elif (injury == 'Collarbone fracture'):\n",
        "        x2year.at[i, 'injurytype_collarbone'] += 1\n",
        "      elif (injury == 'Concussion'):\n",
        "        x2year.at[i, 'injurytype_concussion'] += 1\n",
        "      elif (injury == 'Cruciate Ligament Rupture' or injury == 'Cruciate Ligament Surgery' or injury == 'Cruciate Ligament Strain' or injury == 'Cruciate Ligament Injury' or injury == 'Ruptured cruciate ligament' or injury == 'Partial damage to the cruciate ligament' or injury == 'Cruciate ligament stretch'):\n",
        "        x2year.at[i, 'injurytype_cruciateligament'] += 1\n",
        "      elif (injury == 'Facial Injury' or injury == 'Nose surgery' or injury == 'Dental Surgery' or injury == 'Nasal Bone Fracture' or injury == 'Facial Fracture' or injury == 'Cheekbone Fracture' or injury == 'Eye Injury' or injury == 'Toothache' or injury == 'Frontal bone fracture' or injury == 'Fractured Jaw' or injury == 'Fractured Skull' or injury == 'Fracture of the orbit' or injury == 'Tooth Inflammation' or injury == 'Nose Injury'):\n",
        "        x2year.at[i, 'injurytype_face'] += 1\n",
        "      elif (injury == 'Finger Injury'):\n",
        "        x2year.at[i, 'injurytype_finger'] += 1\n",
        "      elif (injury == 'Fitness'):\n",
        "        x2year.at[i, 'injurytype_fitness'] += 1\n",
        "      elif (injury == 'Foot Injury' or injury == 'Bruised Foot' or injury == 'Fractured Foot' or injury == 'Arch pain' or injury == 'Heel Injury' or injury == 'Hell pain' or injury == 'Heelspur' or injury == 'Heel Bone Injury' or injury == 'Metatarsal Fracture' or injury == 'Heel pain' or injury == 'Plantar fascia' or injury == 'Foot surgery' or injury == 'Hairline crack in the foot' or injury == 'Partial demolition of the plantar fascia'):\n",
        "        x2year.at[i, 'injurytype_foot'] += 1\n",
        "      elif (injury == 'groin strain' or injury == 'Groin Strain' or injury == 'Groin Injury' or injury == 'Groin Surgery' or injury == 'Inguinal Hernia' or injury == 'Pubalgia' or injury == 'Testicular disruption'):\n",
        "        x2year.at[i, 'injurytype_groin'] += 1\n",
        "      elif (injury == 'Hamstring Injury' or injury == 'Pulled hamstring at the adductors' or injury == 'Hamstring contusion'):\n",
        "        x2year.at[i, 'injurytype_hamstring'] += 1\n",
        "      elif (injury == 'Hand Injury' or injury == 'Fractured Hand' or injury == 'Broken wrist' or injury == 'Wirst Injury' or injury == 'scaphoid operation' or injury == 'Hand fracture' or injury == 'Fractured Finger' or injury == 'Thumb Injury'):\n",
        "        x2year.at[i, 'injurytype_hand'] += 1\n",
        "      elif (injury == 'Head Injury' or injury == 'Neck Injury' or injury == 'Neck bruise'):\n",
        "        x2year.at[i, 'injurytype_head'] += 1\n",
        "      elif (injury == 'Heart Condition'):\n",
        "        x2year.at[i, 'injurytype_heart'] += 1\n",
        "      elif (injury == 'Hip problems' or injury == 'Hip Injury' or injury == 'Problems with the hip flexor' or injury == 'Bruised Hip' or injury == 'Pubis bone contusion' or injury == 'Problems with the right hip flexor'):\n",
        "        x2year.at[i, 'injurytype_hip'] += 1\n",
        "      elif (injury == 'Cold' or injury == 'Influenza' or injury == 'Flu' or injury == 'Abdominal Influenza' or injury == 'Ill' or injury == 'Corona virus' or injury == 'Infection' or injury == 'Virus Infection' or injury == 'Quarantine' or injury == 'Fever' or injury == 'Tonsillitis' or injury == 'Testicular Cancer' or injury == 'Pneumonia' or injury == 'Gastric problems' or injury == 'Mononucleosis' or injury == 'Chickenpox' or injury == 'Bronchitis' or injury == 'Stomach complaints' or injury == 'Food Poisoning' or injury == 'intestial virus' or injury == 'Infected wound' or injury == 'Malaria' or injury == 'cancer' or injury == 'Lymphoma' or injury == 'Depression' or injury == 'Cals Sclerosis' or injury == 'Kidney problems'):\n",
        "        x2year.at[i, 'injurytype_ill'] += 1\n",
        "      elif (injury == 'Inflammation'):\n",
        "        x2year.at[i, 'injurytype_inflammation'] += 1\n",
        "      elif (injury == 'Knee Injury' or injury == 'Knee Problems' or injury == 'Knee inflammation' or injury == 'Bruised Knee' or injury == 'Ruptured intraarticular ligament initiation in knee' or injury == 'Knee Surgery' or injury == 'Medial Collateral Ligament Tear' or injury == 'Medial Collateral Ligament Injury' or injury == 'Meniscal Injury' or injury == 'Sideband strain in the knee' or injury == 'Patella tendon irritation' or injury == 'Mensical Laceration' or injury == 'Twisted knee' or injury == 'Torn Knee Ligament' or injury == 'Medial Collateral Ligament Knee Injury' or injury == 'Patella problems' or injury == 'Ruptured lateral collateral ligament' or injury == 'Edema in the knee' or injury == 'Fractured Kneecap' or injury == 'Torn lateral collateral ligament' or injury == 'Torn Meniscus' or injury == 'Torn Collateral Ligament' or injury == 'Patella rupture' or injury == 'Torn knee ligament' or injury == 'Patella tendon luxation' or injury == 'Ruptured knee ligament' or injury == 'Rupture of Outer Meniscus' or injury == 'Double Torn Ligament' or injury == 'Meniscus Damage' or injury == 'Medial Collateral Ligament avulsion' or injury == 'Meniscus irritation' or injury == 'Inflamed ligaments of the knee' or injury == 'Rupture of the pattella'):\n",
        "        x2year.at[i, 'injurytype_knee'] += 1\n",
        "      elif (injury == 'Knock' or injury == 'Minor Knock' or injury == 'Dead Leg' or injury == 'Stiffness'):\n",
        "        x2year.at[i, 'injurytype_knock'] += 1\n",
        "      elif (injury == 'Leg Injury' or injury == 'Strain in the thigh and gluteal muscles' or injury == 'Shinbone injury' or injury == 'Shin bone bruise' or injury == 'Biceps femoris muscle injury' or injury == 'Fibula Fracture' or injury == 'Fractured Leg' or injury == 'Fissure of the fibula' or injury == 'Sciatic Problem' or injury == 'Tibia and Fibula Fracture' or injury == 'Fracture of the lower leg' or injury == 'Tibia Fracture' or injury == 'Inflamed head of fibula'):\n",
        "        x2year.at[i, 'injurytype_leg'] += 1\n",
        "      elif (injury == 'Muscular problems' or injury == 'Muscle Injury' or injury == 'Torn Muscle Fibre' or injury == 'Muscle Fatigue' or injury == 'Torn muscle bundle' or injury == 'Torn Muscle' or injury == 'Muscle fiber tear'):\n",
        "        x2year.at[i, 'injurytype_muscular'] += 1\n",
        "      elif (injury == 'Pubitis' or injury == 'Bruised pelvis' or injury == 'Pelvis Injury' or injury == 'Pubis bone irritation' or injury == 'bruised pelvis' or injury == 'bruised pelvis' or injury == 'Pelvic obliquity'):\n",
        "        x2year.at[i, 'injurytype_pelvis'] += 1\n",
        "      elif (injury == 'Rest'):\n",
        "        x2year.at[i, 'injurytype_rest'] += 1\n",
        "      elif (injury == 'Fractured Rib'):\n",
        "        x2year.at[i, 'injurytype_rib'] += 1\n",
        "      elif (injury == 'Lumbar Vertebra Fracture' or injury == 'Lumbar vertebrae problems' or injury == 'Blockade in the spinal' or injury == 'Cervical spine injury' or injury == 'Lumbar Vertebra Fracture' or injury == 'Lumbar Vertebra Fracture' or injury == 'Vertebra injury'):\n",
        "        x2year.at[i, 'injurytype_spine'] += 1\n",
        "      elif (injury == 'Thigh Muscle Strain' or injury == 'Thigh Problems' or injury == 'Thigh muscle rupture'):\n",
        "        x2year.at[i, 'injurytype_thigh'] += 1\n",
        "      elif (injury == 'Toe Injury' or injury == 'Fractured Toe'):\n",
        "        x2year.at[i, 'injurytype_toe'] += 1\n",
        "      elif (injury == 'Unknown Injury'):\n",
        "        x2year.at[i, 'injurytype_unknown'] += 1\n",
        "      elif (injury == 'Surgery' or injury == 'Contracture' or injury == 'Sprain' or injury == 'Laceration' or injury == 'Fracture' or injury == 'Ligament Injury' or injury == 'Stress response of the bone' or injury == 'Strain' or injury == 'Contused laceration' or injury == 'Muscle partial avulsion' or injury == 'torn tendon' or injury == 'Tear in a joint capsule' or injury == 'tendon irritation' or injury == 'Ligament Problems' or injury == 'Sideband injury' or injury == 'Bone buckling' or injury == 'Stretched Ligament' or injury == 'Pinched nerve' or injury == 'Overstretching' or injury == 'Tendonitis' or injury == 'laceration' or injury == 'Arthroscopie' or injury == 'Herniated Disc' or injury == 'Fatigue fracture' or injury == 'Torn Ligament' or injury == 'Cartilage Damage' or injury == 'Bursitis' or injury == 'Circulation Problems' or injury == 'Tendon crack' or injury == 'Cut' or injury == 'sprain' or injury == 'Burns' or injury == 'open wound' or injury == 'Sideband tear' or injury == 'Marrow bulge' or injury == 'Compartment syndrome' or injury == 'Vestibular disorder' or injury == 'Intraarticular ligament fissure' or injury == 'Ruptured ligaments' or injury == 'Muscular hairline crack' or injury == 'capsular tear' or injury == 'Traffic Accident' or injury == 'Flesh Wound'):\n",
        "        x2year.at[i, 'injurytype_other'] += 1\n",
        "      else:\n",
        "        print(injury)"
      ]
    },
    {
      "cell_type": "code",
      "execution_count": null,
      "metadata": {
        "id": "Qk346G6Xht0e"
      },
      "outputs": [],
      "source": [
        "for i, row in x3year.iterrows(): #len(x1year)\n",
        "  s = row['injuryType']\n",
        "  if (s == 'nan'):\n",
        "    x3year.at[i, 'injurytype_nan'] += 1\n",
        "  elif type(s) == str:\n",
        "    injury_list = s.split(\" ,\")\n",
        "    injury_list = injury_list[:-1]\n",
        "    for injury in injury_list:\n",
        "      injury = injury.strip()\n",
        "      if (injury == 'Abdominal Strain' or injury == 'Abdominal muscles injury' or injury == 'Appendectomy' or injury == 'Umbilical hernia'):\n",
        "        x3year.at[i, 'injurytype_abdomen'] += 1\n",
        "      elif (injury == 'Tear in the abductor muscle'):\n",
        "        x3year.at[i, 'injurytype_abductor'] += 1\n",
        "      elif (injury == 'Achilles tendon rupture' or injury == 'Achilles tendon problems' or injury == 'Achilles Irritation' or injury == 'Achilles tendon surgery'):\n",
        "        x3year.at[i, 'injurytype_achilles'] += 1\n",
        "      elif (injury == 'Adductor problems'):\n",
        "        x3year.at[i, 'injurytype_adductor'] += 1\n",
        "      elif (injury == 'Ankle Injury' or injury == 'Sprained ankle' or injury == 'Ankle problems' or injury == 'Torn ankle ligament' or injury == 'Ankle Surgery' or injury == 'Bruised Ankle' or injury == 'Distortion of the ankle' or injury == 'Ruptured syndesmotic ligament' or injury == 'Torn Ankle Ligament' or injury == 'Fracture-dislocation of the ankle' or injury == 'Sprained Ankle' or injury == 'Injury to the ankle' or injury == 'Ankle fracture' or injury == 'Ankle Inflammation' or injury == 'Syndesmotic ligament tear' or injury == 'Ankle Fracture' or injury == 'Capsular rupture in the ankle' or injury == 'Ruptured ankle ligament' or injury == 'Ruptured ankle aigament' or injury == 'Bruise on ankle' or injury == 'Ruptured intraarticular ligament initiation in the ankle' or injury == 'Peroneus tendon injury'):\n",
        "        x3year.at[i, 'injurytype_ankle'] += 1\n",
        "      elif (injury == 'Arm Injury' or injury == 'Shoulder Injury' or injury == 'Shoulder fracture' or injury == 'Elbow Injury' or injury == 'Bruised Acromioclavicular' or injury == 'Fractured Arm' or injury == 'Acromioclavicular Separation'):\n",
        "        x3year.at[i, 'injurytype_arm'] += 1\n",
        "      elif (injury == 'Back Injury' or injury == 'Back trouble' or injury == 'Back bruise' or injury == 'Lumbago'):\n",
        "        x3year.at[i, 'injurytype_back'] += 1\n",
        "      elif (injury == 'Bruise' or injury == 'Bruised Rib' or injury == 'Metatarsal bone bruise' or injury == 'Bone Bruise' or injury == 'Muscle bruise'):\n",
        "        x3year.at[i, 'injurytype_bruise'] += 1\n",
        "      elif (injury == 'Calf Problems' or injury == 'Calf Injury' or injury == 'Calf Strain' or injury == 'Disrupted Calf Muscle' or injury == 'Hairline crack in calfbone' or injury == 'Calf muscle strain'):\n",
        "        x3year.at[i, 'injurytype_calf'] += 1\n",
        "      elif (injury == 'Angina' or injury == 'Chest injury' or injury == 'Pneumothorax' or injury == 'Lung contusion'):\n",
        "        x3year.at[i, 'injurytype_chest'] += 1\n",
        "      elif (injury == 'Collarbone fracture'):\n",
        "        x3year.at[i, 'injurytype_collarbone'] += 1\n",
        "      elif (injury == 'Concussion'):\n",
        "        x3year.at[i, 'injurytype_concussion'] += 1\n",
        "      elif (injury == 'Cruciate Ligament Rupture' or injury == 'Cruciate Ligament Surgery' or injury == 'Cruciate Ligament Strain' or injury == 'Cruciate Ligament Injury' or injury == 'Ruptured cruciate ligament' or injury == 'Partial damage to the cruciate ligament' or injury == 'Cruciate ligament stretch'):\n",
        "        x3year.at[i, 'injurytype_cruciateligament'] += 1\n",
        "      elif (injury == 'Facial Injury' or injury == 'Nose surgery' or injury == 'Dental Surgery' or injury == 'Nasal Bone Fracture' or injury == 'Facial Fracture' or injury == 'Cheekbone Fracture' or injury == 'Eye Injury' or injury == 'Toothache' or injury == 'Frontal bone fracture' or injury == 'Fractured Jaw' or injury == 'Fractured Skull' or injury == 'Fracture of the orbit' or injury == 'Tooth Inflammation' or injury == 'Nose Injury'):\n",
        "        x3year.at[i, 'injurytype_face'] += 1\n",
        "      elif (injury == 'Finger Injury'):\n",
        "        x3year.at[i, 'injurytype_finger'] += 1\n",
        "      elif (injury == 'Fitness'):\n",
        "        x3year.at[i, 'injurytype_fitness'] += 1\n",
        "      elif (injury == 'Foot Injury' or injury == 'Bruised Foot' or injury == 'Fractured Foot' or injury == 'Arch pain' or injury == 'Heel Injury' or injury == 'Hell pain' or injury == 'Heelspur' or injury == 'Heel Bone Injury' or injury == 'Metatarsal Fracture' or injury == 'Heel pain' or injury == 'Plantar fascia' or injury == 'Foot surgery' or injury == 'Hairline crack in the foot' or injury == 'Partial demolition of the plantar fascia'):\n",
        "        x3year.at[i, 'injurytype_foot'] += 1\n",
        "      elif (injury == 'groin strain' or injury == 'Groin Strain' or injury == 'Groin Injury' or injury == 'Groin Surgery' or injury == 'Inguinal Hernia' or injury == 'Pubalgia' or injury == 'Testicular disruption'):\n",
        "        x3year.at[i, 'injurytype_groin'] += 1\n",
        "      elif (injury == 'Hamstring Injury' or injury == 'Pulled hamstring at the adductors' or injury == 'Hamstring contusion'):\n",
        "        x3year.at[i, 'injurytype_hamstring'] += 1\n",
        "      elif (injury == 'Hand Injury' or injury == 'Fractured Hand' or injury == 'Broken wrist' or injury == 'Wirst Injury' or injury == 'scaphoid operation' or injury == 'Hand fracture' or injury == 'Fractured Finger' or injury == 'Thumb Injury'):\n",
        "        x3year.at[i, 'injurytype_hand'] += 1\n",
        "      elif (injury == 'Head Injury' or injury == 'Neck Injury' or injury == 'Neck bruise'):\n",
        "        x3year.at[i, 'injurytype_head'] += 1\n",
        "      elif (injury == 'Heart Condition'):\n",
        "        x3year.at[i, 'injurytype_heart'] += 1\n",
        "      elif (injury == 'Hip problems' or injury == 'Hip Injury' or injury == 'Problems with the hip flexor' or injury == 'Bruised Hip' or injury == 'Pubis bone contusion' or injury == 'Problems with the right hip flexor'):\n",
        "        x3year.at[i, 'injurytype_hip'] += 1\n",
        "      elif (injury == 'Cold' or injury == 'Influenza' or injury == 'Flu' or injury == 'Abdominal Influenza' or injury == 'Ill' or injury == 'Corona virus' or injury == 'Infection' or injury == 'Virus Infection' or injury == 'Quarantine' or injury == 'Fever' or injury == 'Tonsillitis' or injury == 'Testicular Cancer' or injury == 'Pneumonia' or injury == 'Gastric problems' or injury == 'Mononucleosis' or injury == 'Chickenpox' or injury == 'Bronchitis' or injury == 'Stomach complaints' or injury == 'Food Poisoning' or injury == 'intestial virus' or injury == 'Infected wound' or injury == 'Malaria' or injury == 'cancer' or injury == 'Lymphoma' or injury == 'Depression' or injury == 'Cals Sclerosis' or injury == 'Kidney problems'):\n",
        "        x3year.at[i, 'injurytype_ill'] += 1\n",
        "      elif (injury == 'Inflammation'):\n",
        "        x3year.at[i, 'injurytype_inflammation'] += 1\n",
        "      elif (injury == 'Knee Injury' or injury == 'Knee Problems' or injury == 'Knee inflammation' or injury == 'Bruised Knee' or injury == 'Ruptured intraarticular ligament initiation in knee' or injury == 'Knee Surgery' or injury == 'Medial Collateral Ligament Tear' or injury == 'Medial Collateral Ligament Injury' or injury == 'Meniscal Injury' or injury == 'Sideband strain in the knee' or injury == 'Patella tendon irritation' or injury == 'Mensical Laceration' or injury == 'Twisted knee' or injury == 'Torn Knee Ligament' or injury == 'Medial Collateral Ligament Knee Injury' or injury == 'Patella problems' or injury == 'Ruptured lateral collateral ligament' or injury == 'Edema in the knee' or injury == 'Fractured Kneecap' or injury == 'Torn lateral collateral ligament' or injury == 'Torn Meniscus' or injury == 'Torn Collateral Ligament' or injury == 'Patella rupture' or injury == 'Torn knee ligament' or injury == 'Patella tendon luxation' or injury == 'Ruptured knee ligament' or injury == 'Rupture of Outer Meniscus' or injury == 'Double Torn Ligament' or injury == 'Meniscus Damage' or injury == 'Medial Collateral Ligament avulsion' or injury == 'Meniscus irritation' or injury == 'Inflamed ligaments of the knee' or injury == 'Rupture of the pattella'):\n",
        "        x3year.at[i, 'injurytype_knee'] += 1\n",
        "      elif (injury == 'Knock' or injury == 'Minor Knock' or injury == 'Dead Leg' or injury == 'Stiffness'):\n",
        "        x3year.at[i, 'injurytype_knock'] += 1\n",
        "      elif (injury == 'Leg Injury' or injury == 'Strain in the thigh and gluteal muscles' or injury == 'Shinbone injury' or injury == 'Shin bone bruise' or injury == 'Biceps femoris muscle injury' or injury == 'Fibula Fracture' or injury == 'Fractured Leg' or injury == 'Fissure of the fibula' or injury == 'Sciatic Problem' or injury == 'Tibia and Fibula Fracture' or injury == 'Fracture of the lower leg' or injury == 'Tibia Fracture' or injury == 'Inflamed head of fibula'):\n",
        "        x3year.at[i, 'injurytype_leg'] += 1\n",
        "      elif (injury == 'Muscular problems' or injury == 'Muscle Injury' or injury == 'Torn Muscle Fibre' or injury == 'Muscle Fatigue' or injury == 'Torn muscle bundle' or injury == 'Torn Muscle' or injury == 'Muscle fiber tear'):\n",
        "        x3year.at[i, 'injurytype_muscular'] += 1\n",
        "      elif (injury == 'Pubitis' or injury == 'Bruised pelvis' or injury == 'Pelvis Injury' or injury == 'Pubis bone irritation' or injury == 'bruised pelvis' or injury == 'bruised pelvis' or injury == 'Pelvic obliquity'):\n",
        "        x3year.at[i, 'injurytype_pelvis'] += 1\n",
        "      elif (injury == 'Rest'):\n",
        "        x3year.at[i, 'injurytype_rest'] += 1\n",
        "      elif (injury == 'Fractured Rib'):\n",
        "        x3year.at[i, 'injurytype_rib'] += 1\n",
        "      elif (injury == 'Lumbar Vertebra Fracture' or injury == 'Lumbar vertebrae problems' or injury == 'Blockade in the spinal' or injury == 'Cervical spine injury' or injury == 'Lumbar Vertebra Fracture' or injury == 'Lumbar Vertebra Fracture' or injury == 'Vertebra injury'):\n",
        "        x3year.at[i, 'injurytype_spine'] += 1\n",
        "      elif (injury == 'Thigh Muscle Strain' or injury == 'Thigh Problems' or injury == 'Thigh muscle rupture'):\n",
        "        x3year.at[i, 'injurytype_thigh'] += 1\n",
        "      elif (injury == 'Toe Injury' or injury == 'Fractured Toe'):\n",
        "        x3year.at[i, 'injurytype_toe'] += 1\n",
        "      elif (injury == 'Unknown Injury'):\n",
        "        x3year.at[i, 'injurytype_unknown'] += 1\n",
        "      elif (injury == 'Surgery' or injury == 'Contracture' or injury == 'Sprain' or injury == 'Laceration' or injury == 'Fracture' or injury == 'Ligament Injury' or injury == 'Stress response of the bone' or injury == 'Strain' or injury == 'Contused laceration' or injury == 'Muscle partial avulsion' or injury == 'torn tendon' or injury == 'Tear in a joint capsule' or injury == 'tendon irritation' or injury == 'Ligament Problems' or injury == 'Sideband injury' or injury == 'Bone buckling' or injury == 'Stretched Ligament' or injury == 'Pinched nerve' or injury == 'Overstretching' or injury == 'Tendonitis' or injury == 'laceration' or injury == 'Arthroscopie' or injury == 'Herniated Disc' or injury == 'Fatigue fracture' or injury == 'Torn Ligament' or injury == 'Cartilage Damage' or injury == 'Bursitis' or injury == 'Circulation Problems' or injury == 'Tendon crack' or injury == 'Cut' or injury == 'sprain' or injury == 'Burns' or injury == 'open wound' or injury == 'Sideband tear' or injury == 'Marrow bulge' or injury == 'Compartment syndrome' or injury == 'Vestibular disorder' or injury == 'Intraarticular ligament fissure' or injury == 'Ruptured ligaments' or injury == 'Muscular hairline crack' or injury == 'capsular tear' or injury == 'Traffic Accident' or injury == 'Flesh Wound'):\n",
        "        x3year.at[i, 'injurytype_other'] += 1\n",
        "      else:\n",
        "        print(injury)"
      ]
    },
    {
      "cell_type": "code",
      "execution_count": null,
      "metadata": {
        "id": "K7odi6Gjh1QM"
      },
      "outputs": [],
      "source": [
        "for i, row in x4year.iterrows(): #len(x1year)\n",
        "  s = row['injuryType']\n",
        "  if (s == 'nan'):\n",
        "    x4year.at[i, 'injurytype_nan'] += 1\n",
        "  elif type(s) == str:\n",
        "    injury_list = s.split(\" ,\")\n",
        "    injury_list = injury_list[:-1]\n",
        "    for injury in injury_list:\n",
        "      injury = injury.strip()\n",
        "      if (injury == 'Abdominal Strain' or injury == 'Abdominal muscles injury' or injury == 'Appendectomy' or injury == 'Umbilical hernia'):\n",
        "        x4year.at[i, 'injurytype_abdomen'] += 1\n",
        "      elif (injury == 'Tear in the abductor muscle'):\n",
        "        x4year.at[i, 'injurytype_abductor'] += 1\n",
        "      elif (injury == 'Achilles tendon rupture' or injury == 'Achilles tendon problems' or injury == 'Achilles Irritation' or injury == 'Achilles tendon surgery'):\n",
        "        x4year.at[i, 'injurytype_achilles'] += 1\n",
        "      elif (injury == 'Adductor problems'):\n",
        "        x4year.at[i, 'injurytype_adductor'] += 1\n",
        "      elif (injury == 'Ankle Injury' or injury == 'Sprained ankle' or injury == 'Ankle problems' or injury == 'Torn ankle ligament' or injury == 'Ankle Surgery' or injury == 'Bruised Ankle' or injury == 'Distortion of the ankle' or injury == 'Ruptured syndesmotic ligament' or injury == 'Torn Ankle Ligament' or injury == 'Fracture-dislocation of the ankle' or injury == 'Sprained Ankle' or injury == 'Injury to the ankle' or injury == 'Ankle fracture' or injury == 'Ankle Inflammation' or injury == 'Syndesmotic ligament tear' or injury == 'Ankle Fracture' or injury == 'Capsular rupture in the ankle' or injury == 'Ruptured ankle ligament' or injury == 'Ruptured ankle aigament' or injury == 'Bruise on ankle' or injury == 'Ruptured intraarticular ligament initiation in the ankle' or injury == 'Peroneus tendon injury'):\n",
        "        x4year.at[i, 'injurytype_ankle'] += 1\n",
        "      elif (injury == 'Arm Injury' or injury == 'Shoulder Injury' or injury == 'Shoulder fracture' or injury == 'Elbow Injury' or injury == 'Bruised Acromioclavicular' or injury == 'Fractured Arm' or injury == 'Acromioclavicular Separation'):\n",
        "        x4year.at[i, 'injurytype_arm'] += 1\n",
        "      elif (injury == 'Back Injury' or injury == 'Back trouble' or injury == 'Back bruise' or injury == 'Lumbago'):\n",
        "        x4year.at[i, 'injurytype_back'] += 1\n",
        "      elif (injury == 'Bruise' or injury == 'Bruised Rib' or injury == 'Metatarsal bone bruise' or injury == 'Bone Bruise' or injury == 'Muscle bruise'):\n",
        "        x4year.at[i, 'injurytype_bruise'] += 1\n",
        "      elif (injury == 'Calf Problems' or injury == 'Calf Injury' or injury == 'Calf Strain' or injury == 'Disrupted Calf Muscle' or injury == 'Hairline crack in calfbone' or injury == 'Calf muscle strain'):\n",
        "        x4year.at[i, 'injurytype_calf'] += 1\n",
        "      elif (injury == 'Angina' or injury == 'Chest injury' or injury == 'Pneumothorax' or injury == 'Lung contusion'):\n",
        "        x4year.at[i, 'injurytype_chest'] += 1\n",
        "      elif (injury == 'Collarbone fracture'):\n",
        "        x4year.at[i, 'injurytype_collarbone'] += 1\n",
        "      elif (injury == 'Concussion'):\n",
        "        x4year.at[i, 'injurytype_concussion'] += 1\n",
        "      elif (injury == 'Cruciate Ligament Rupture' or injury == 'Cruciate Ligament Surgery' or injury == 'Cruciate Ligament Strain' or injury == 'Cruciate Ligament Injury' or injury == 'Ruptured cruciate ligament' or injury == 'Partial damage to the cruciate ligament' or injury == 'Cruciate ligament stretch'):\n",
        "        x4year.at[i, 'injurytype_cruciateligament'] += 1\n",
        "      elif (injury == 'Facial Injury' or injury == 'Nose surgery' or injury == 'Dental Surgery' or injury == 'Nasal Bone Fracture' or injury == 'Facial Fracture' or injury == 'Cheekbone Fracture' or injury == 'Eye Injury' or injury == 'Toothache' or injury == 'Frontal bone fracture' or injury == 'Fractured Jaw' or injury == 'Fractured Skull' or injury == 'Fracture of the orbit' or injury == 'Tooth Inflammation' or injury == 'Nose Injury'):\n",
        "        x4year.at[i, 'injurytype_face'] += 1\n",
        "      elif (injury == 'Finger Injury'):\n",
        "        x4year.at[i, 'injurytype_finger'] += 1\n",
        "      elif (injury == 'Fitness'):\n",
        "        x4year.at[i, 'injurytype_fitness'] += 1\n",
        "      elif (injury == 'Foot Injury' or injury == 'Bruised Foot' or injury == 'Fractured Foot' or injury == 'Arch pain' or injury == 'Heel Injury' or injury == 'Hell pain' or injury == 'Heelspur' or injury == 'Heel Bone Injury' or injury == 'Metatarsal Fracture' or injury == 'Heel pain' or injury == 'Plantar fascia' or injury == 'Foot surgery' or injury == 'Hairline crack in the foot' or injury == 'Partial demolition of the plantar fascia'):\n",
        "        x4year.at[i, 'injurytype_foot'] += 1\n",
        "      elif (injury == 'groin strain' or injury == 'Groin Strain' or injury == 'Groin Injury' or injury == 'Groin Surgery' or injury == 'Inguinal Hernia' or injury == 'Pubalgia' or injury == 'Testicular disruption'):\n",
        "        x4year.at[i, 'injurytype_groin'] += 1\n",
        "      elif (injury == 'Hamstring Injury' or injury == 'Pulled hamstring at the adductors' or injury == 'Hamstring contusion'):\n",
        "        x4year.at[i, 'injurytype_hamstring'] += 1\n",
        "      elif (injury == 'Hand Injury' or injury == 'Fractured Hand' or injury == 'Broken wrist' or injury == 'Wirst Injury' or injury == 'scaphoid operation' or injury == 'Hand fracture' or injury == 'Fractured Finger' or injury == 'Thumb Injury'):\n",
        "        x4year.at[i, 'injurytype_hand'] += 1\n",
        "      elif (injury == 'Head Injury' or injury == 'Neck Injury' or injury == 'Neck bruise'):\n",
        "        x4year.at[i, 'injurytype_head'] += 1\n",
        "      elif (injury == 'Heart Condition'):\n",
        "        x4year.at[i, 'injurytype_heart'] += 1\n",
        "      elif (injury == 'Hip problems' or injury == 'Hip Injury' or injury == 'Problems with the hip flexor' or injury == 'Bruised Hip' or injury == 'Pubis bone contusion' or injury == 'Problems with the right hip flexor'):\n",
        "        x4year.at[i, 'injurytype_hip'] += 1\n",
        "      elif (injury == 'Cold' or injury == 'Influenza' or injury == 'Flu' or injury == 'Abdominal Influenza' or injury == 'Ill' or injury == 'Corona virus' or injury == 'Infection' or injury == 'Virus Infection' or injury == 'Quarantine' or injury == 'Fever' or injury == 'Tonsillitis' or injury == 'Testicular Cancer' or injury == 'Pneumonia' or injury == 'Gastric problems' or injury == 'Mononucleosis' or injury == 'Chickenpox' or injury == 'Bronchitis' or injury == 'Stomach complaints' or injury == 'Food Poisoning' or injury == 'intestial virus' or injury == 'Infected wound' or injury == 'Malaria' or injury == 'cancer' or injury == 'Lymphoma' or injury == 'Depression' or injury == 'Cals Sclerosis' or injury == 'Kidney problems'):\n",
        "        x4year.at[i, 'injurytype_ill'] += 1\n",
        "      elif (injury == 'Inflammation'):\n",
        "        x4year.at[i, 'injurytype_inflammation'] += 1\n",
        "      elif (injury == 'Knee Injury' or injury == 'Knee Problems' or injury == 'Knee inflammation' or injury == 'Bruised Knee' or injury == 'Ruptured intraarticular ligament initiation in knee' or injury == 'Knee Surgery' or injury == 'Medial Collateral Ligament Tear' or injury == 'Medial Collateral Ligament Injury' or injury == 'Meniscal Injury' or injury == 'Sideband strain in the knee' or injury == 'Patella tendon irritation' or injury == 'Mensical Laceration' or injury == 'Twisted knee' or injury == 'Torn Knee Ligament' or injury == 'Medial Collateral Ligament Knee Injury' or injury == 'Patella problems' or injury == 'Ruptured lateral collateral ligament' or injury == 'Edema in the knee' or injury == 'Fractured Kneecap' or injury == 'Torn lateral collateral ligament' or injury == 'Torn Meniscus' or injury == 'Torn Collateral Ligament' or injury == 'Patella rupture' or injury == 'Torn knee ligament' or injury == 'Patella tendon luxation' or injury == 'Ruptured knee ligament' or injury == 'Rupture of Outer Meniscus' or injury == 'Double Torn Ligament' or injury == 'Meniscus Damage' or injury == 'Medial Collateral Ligament avulsion' or injury == 'Meniscus irritation' or injury == 'Inflamed ligaments of the knee' or injury == 'Rupture of the pattella'):\n",
        "        x4year.at[i, 'injurytype_knee'] += 1\n",
        "      elif (injury == 'Knock' or injury == 'Minor Knock' or injury == 'Dead Leg' or injury == 'Stiffness'):\n",
        "        x4year.at[i, 'injurytype_knock'] += 1\n",
        "      elif (injury == 'Leg Injury' or injury == 'Strain in the thigh and gluteal muscles' or injury == 'Shinbone injury' or injury == 'Shin bone bruise' or injury == 'Biceps femoris muscle injury' or injury == 'Fibula Fracture' or injury == 'Fractured Leg' or injury == 'Fissure of the fibula' or injury == 'Sciatic Problem' or injury == 'Tibia and Fibula Fracture' or injury == 'Fracture of the lower leg' or injury == 'Tibia Fracture' or injury == 'Inflamed head of fibula'):\n",
        "        x4year.at[i, 'injurytype_leg'] += 1\n",
        "      elif (injury == 'Muscular problems' or injury == 'Muscle Injury' or injury == 'Torn Muscle Fibre' or injury == 'Muscle Fatigue' or injury == 'Torn muscle bundle' or injury == 'Torn Muscle' or injury == 'Muscle fiber tear'):\n",
        "        x4year.at[i, 'injurytype_muscular'] += 1\n",
        "      elif (injury == 'Pubitis' or injury == 'Bruised pelvis' or injury == 'Pelvis Injury' or injury == 'Pubis bone irritation' or injury == 'bruised pelvis' or injury == 'bruised pelvis' or injury == 'Pelvic obliquity'):\n",
        "        x4year.at[i, 'injurytype_pelvis'] += 1\n",
        "      elif (injury == 'Rest'):\n",
        "        x4year.at[i, 'injurytype_rest'] += 1\n",
        "      elif (injury == 'Fractured Rib'):\n",
        "        x4year.at[i, 'injurytype_rib'] += 1\n",
        "      elif (injury == 'Lumbar Vertebra Fracture' or injury == 'Lumbar vertebrae problems' or injury == 'Blockade in the spinal' or injury == 'Cervical spine injury' or injury == 'Lumbar Vertebra Fracture' or injury == 'Lumbar Vertebra Fracture' or injury == 'Vertebra injury'):\n",
        "        x4year.at[i, 'injurytype_spine'] += 1\n",
        "      elif (injury == 'Thigh Muscle Strain' or injury == 'Thigh Problems' or injury == 'Thigh muscle rupture'):\n",
        "        x4year.at[i, 'injurytype_thigh'] += 1\n",
        "      elif (injury == 'Toe Injury' or injury == 'Fractured Toe'):\n",
        "        x4year.at[i, 'injurytype_toe'] += 1\n",
        "      elif (injury == 'Unknown Injury'):\n",
        "        x4year.at[i, 'injurytype_unknown'] += 1\n",
        "      elif (injury == 'Surgery' or injury == 'Contracture' or injury == 'Sprain' or injury == 'Laceration' or injury == 'Fracture' or injury == 'Ligament Injury' or injury == 'Stress response of the bone' or injury == 'Strain' or injury == 'Contused laceration' or injury == 'Muscle partial avulsion' or injury == 'torn tendon' or injury == 'Tear in a joint capsule' or injury == 'tendon irritation' or injury == 'Ligament Problems' or injury == 'Sideband injury' or injury == 'Bone buckling' or injury == 'Stretched Ligament' or injury == 'Pinched nerve' or injury == 'Overstretching' or injury == 'Tendonitis' or injury == 'laceration' or injury == 'Arthroscopie' or injury == 'Herniated Disc' or injury == 'Fatigue fracture' or injury == 'Torn Ligament' or injury == 'Cartilage Damage' or injury == 'Bursitis' or injury == 'Circulation Problems' or injury == 'Tendon crack' or injury == 'Cut' or injury == 'sprain' or injury == 'Burns' or injury == 'open wound' or injury == 'Sideband tear' or injury == 'Marrow bulge' or injury == 'Compartment syndrome' or injury == 'Vestibular disorder' or injury == 'Intraarticular ligament fissure' or injury == 'Ruptured ligaments' or injury == 'Muscular hairline crack' or injury == 'capsular tear' or injury == 'Traffic Accident' or injury == 'Flesh Wound'):\n",
        "        x4year.at[i, 'injurytype_other'] += 1\n",
        "      else:\n",
        "        print(injury)"
      ]
    },
    {
      "cell_type": "code",
      "execution_count": null,
      "metadata": {
        "id": "q-3w7l-XiFST"
      },
      "outputs": [],
      "source": [
        "for i, row in x5year.iterrows(): #len(x1year)\n",
        "  s = row['injuryType']\n",
        "  if (s == 'nan'):\n",
        "    x5year.at[i, 'injurytype_nan'] += 1\n",
        "  elif type(s) == str:\n",
        "    injury_list = s.split(\" ,\")\n",
        "    injury_list = injury_list[:-1]\n",
        "    for injury in injury_list:\n",
        "      injury = injury.strip()\n",
        "      if (injury == 'Abdominal Strain' or injury == 'Abdominal muscles injury' or injury == 'Appendectomy' or injury == 'Umbilical hernia'):\n",
        "        x5year.at[i, 'injurytype_abdomen'] += 1\n",
        "      elif (injury == 'Tear in the abductor muscle'):\n",
        "        x5year.at[i, 'injurytype_abductor'] += 1\n",
        "      elif (injury == 'Achilles tendon rupture' or injury == 'Achilles tendon problems' or injury == 'Achilles Irritation' or injury == 'Achilles tendon surgery'):\n",
        "        x5year.at[i, 'injurytype_achilles'] += 1\n",
        "      elif (injury == 'Adductor problems'):\n",
        "        x5year.at[i, 'injurytype_adductor'] += 1\n",
        "      elif (injury == 'Ankle Injury' or injury == 'Sprained ankle' or injury == 'Ankle problems' or injury == 'Torn ankle ligament' or injury == 'Ankle Surgery' or injury == 'Bruised Ankle' or injury == 'Distortion of the ankle' or injury == 'Ruptured syndesmotic ligament' or injury == 'Torn Ankle Ligament' or injury == 'Fracture-dislocation of the ankle' or injury == 'Sprained Ankle' or injury == 'Injury to the ankle' or injury == 'Ankle fracture' or injury == 'Ankle Inflammation' or injury == 'Syndesmotic ligament tear' or injury == 'Ankle Fracture' or injury == 'Capsular rupture in the ankle' or injury == 'Ruptured ankle ligament' or injury == 'Ruptured ankle aigament' or injury == 'Bruise on ankle' or injury == 'Ruptured intraarticular ligament initiation in the ankle' or injury == 'Peroneus tendon injury'):\n",
        "        x5year.at[i, 'injurytype_ankle'] += 1\n",
        "      elif (injury == 'Arm Injury' or injury == 'Shoulder Injury' or injury == 'Shoulder fracture' or injury == 'Elbow Injury' or injury == 'Bruised Acromioclavicular' or injury == 'Fractured Arm' or injury == 'Acromioclavicular Separation'):\n",
        "        x5year.at[i, 'injurytype_arm'] += 1\n",
        "      elif (injury == 'Back Injury' or injury == 'Back trouble' or injury == 'Back bruise' or injury == 'Lumbago'):\n",
        "        x5year.at[i, 'injurytype_back'] += 1\n",
        "      elif (injury == 'Bruise' or injury == 'Bruised Rib' or injury == 'Metatarsal bone bruise' or injury == 'Bone Bruise' or injury == 'Muscle bruise'):\n",
        "        x5year.at[i, 'injurytype_bruise'] += 1\n",
        "      elif (injury == 'Calf Problems' or injury == 'Calf Injury' or injury == 'Calf Strain' or injury == 'Disrupted Calf Muscle' or injury == 'Hairline crack in calfbone' or injury == 'Calf muscle strain'):\n",
        "        x5year.at[i, 'injurytype_calf'] += 1\n",
        "      elif (injury == 'Angina' or injury == 'Chest injury' or injury == 'Pneumothorax' or injury == 'Lung contusion'):\n",
        "        x5year.at[i, 'injurytype_chest'] += 1\n",
        "      elif (injury == 'Collarbone fracture'):\n",
        "        x5year.at[i, 'injurytype_collarbone'] += 1\n",
        "      elif (injury == 'Concussion'):\n",
        "        x5year.at[i, 'injurytype_concussion'] += 1\n",
        "      elif (injury == 'Cruciate Ligament Rupture' or injury == 'Cruciate Ligament Surgery' or injury == 'Cruciate Ligament Strain' or injury == 'Cruciate Ligament Injury' or injury == 'Ruptured cruciate ligament' or injury == 'Partial damage to the cruciate ligament' or injury == 'Cruciate ligament stretch'):\n",
        "        x5year.at[i, 'injurytype_cruciateligament'] += 1\n",
        "      elif (injury == 'Facial Injury' or injury == 'Nose surgery' or injury == 'Dental Surgery' or injury == 'Nasal Bone Fracture' or injury == 'Facial Fracture' or injury == 'Cheekbone Fracture' or injury == 'Eye Injury' or injury == 'Toothache' or injury == 'Frontal bone fracture' or injury == 'Fractured Jaw' or injury == 'Fractured Skull' or injury == 'Fracture of the orbit' or injury == 'Tooth Inflammation' or injury == 'Nose Injury'):\n",
        "        x5year.at[i, 'injurytype_face'] += 1\n",
        "      elif (injury == 'Finger Injury'):\n",
        "        x5year.at[i, 'injurytype_finger'] += 1\n",
        "      elif (injury == 'Fitness'):\n",
        "        x5year.at[i, 'injurytype_fitness'] += 1\n",
        "      elif (injury == 'Foot Injury' or injury == 'Bruised Foot' or injury == 'Fractured Foot' or injury == 'Arch pain' or injury == 'Heel Injury' or injury == 'Hell pain' or injury == 'Heelspur' or injury == 'Heel Bone Injury' or injury == 'Metatarsal Fracture' or injury == 'Heel pain' or injury == 'Plantar fascia' or injury == 'Foot surgery' or injury == 'Hairline crack in the foot' or injury == 'Partial demolition of the plantar fascia'):\n",
        "        x5year.at[i, 'injurytype_foot'] += 1\n",
        "      elif (injury == 'groin strain' or injury == 'Groin Strain' or injury == 'Groin Injury' or injury == 'Groin Surgery' or injury == 'Inguinal Hernia' or injury == 'Pubalgia' or injury == 'Testicular disruption'):\n",
        "        x5year.at[i, 'injurytype_groin'] += 1\n",
        "      elif (injury == 'Hamstring Injury' or injury == 'Pulled hamstring at the adductors' or injury == 'Hamstring contusion'):\n",
        "        x5year.at[i, 'injurytype_hamstring'] += 1\n",
        "      elif (injury == 'Hand Injury' or injury == 'Fractured Hand' or injury == 'Broken wrist' or injury == 'Wirst Injury' or injury == 'scaphoid operation' or injury == 'Hand fracture' or injury == 'Fractured Finger' or injury == 'Thumb Injury'):\n",
        "        x5year.at[i, 'injurytype_hand'] += 1\n",
        "      elif (injury == 'Head Injury' or injury == 'Neck Injury' or injury == 'Neck bruise'):\n",
        "        x5year.at[i, 'injurytype_head'] += 1\n",
        "      elif (injury == 'Heart Condition'):\n",
        "        x5year.at[i, 'injurytype_heart'] += 1\n",
        "      elif (injury == 'Hip problems' or injury == 'Hip Injury' or injury == 'Problems with the hip flexor' or injury == 'Bruised Hip' or injury == 'Pubis bone contusion' or injury == 'Problems with the right hip flexor'):\n",
        "        x5year.at[i, 'injurytype_hip'] += 1\n",
        "      elif (injury == 'Cold' or injury == 'Influenza' or injury == 'Flu' or injury == 'Abdominal Influenza' or injury == 'Ill' or injury == 'Corona virus' or injury == 'Infection' or injury == 'Virus Infection' or injury == 'Quarantine' or injury == 'Fever' or injury == 'Tonsillitis' or injury == 'Testicular Cancer' or injury == 'Pneumonia' or injury == 'Gastric problems' or injury == 'Mononucleosis' or injury == 'Chickenpox' or injury == 'Bronchitis' or injury == 'Stomach complaints' or injury == 'Food Poisoning' or injury == 'intestial virus' or injury == 'Infected wound' or injury == 'Malaria' or injury == 'cancer' or injury == 'Lymphoma' or injury == 'Depression' or injury == 'Cals Sclerosis' or injury == 'Kidney problems'):\n",
        "        x5year.at[i, 'injurytype_ill'] += 1\n",
        "      elif (injury == 'Inflammation'):\n",
        "        x5year.at[i, 'injurytype_inflammation'] += 1\n",
        "      elif (injury == 'Knee Injury' or injury == 'Knee Problems' or injury == 'Knee inflammation' or injury == 'Bruised Knee' or injury == 'Ruptured intraarticular ligament initiation in knee' or injury == 'Knee Surgery' or injury == 'Medial Collateral Ligament Tear' or injury == 'Medial Collateral Ligament Injury' or injury == 'Meniscal Injury' or injury == 'Sideband strain in the knee' or injury == 'Patella tendon irritation' or injury == 'Mensical Laceration' or injury == 'Twisted knee' or injury == 'Torn Knee Ligament' or injury == 'Medial Collateral Ligament Knee Injury' or injury == 'Patella problems' or injury == 'Ruptured lateral collateral ligament' or injury == 'Edema in the knee' or injury == 'Fractured Kneecap' or injury == 'Torn lateral collateral ligament' or injury == 'Torn Meniscus' or injury == 'Torn Collateral Ligament' or injury == 'Patella rupture' or injury == 'Torn knee ligament' or injury == 'Patella tendon luxation' or injury == 'Ruptured knee ligament' or injury == 'Rupture of Outer Meniscus' or injury == 'Double Torn Ligament' or injury == 'Meniscus Damage' or injury == 'Medial Collateral Ligament avulsion' or injury == 'Meniscus irritation' or injury == 'Inflamed ligaments of the knee' or injury == 'Rupture of the pattella'):\n",
        "        x5year.at[i, 'injurytype_knee'] += 1\n",
        "      elif (injury == 'Knock' or injury == 'Minor Knock' or injury == 'Dead Leg' or injury == 'Stiffness'):\n",
        "        x5year.at[i, 'injurytype_knock'] += 1\n",
        "      elif (injury == 'Leg Injury' or injury == 'Strain in the thigh and gluteal muscles' or injury == 'Shinbone injury' or injury == 'Shin bone bruise' or injury == 'Biceps femoris muscle injury' or injury == 'Fibula Fracture' or injury == 'Fractured Leg' or injury == 'Fissure of the fibula' or injury == 'Sciatic Problem' or injury == 'Tibia and Fibula Fracture' or injury == 'Fracture of the lower leg' or injury == 'Tibia Fracture' or injury == 'Inflamed head of fibula'):\n",
        "        x5year.at[i, 'injurytype_leg'] += 1\n",
        "      elif (injury == 'Muscular problems' or injury == 'Muscle Injury' or injury == 'Torn Muscle Fibre' or injury == 'Muscle Fatigue' or injury == 'Torn muscle bundle' or injury == 'Torn Muscle' or injury == 'Muscle fiber tear'):\n",
        "        x5year.at[i, 'injurytype_muscular'] += 1\n",
        "      elif (injury == 'Pubitis' or injury == 'Bruised pelvis' or injury == 'Pelvis Injury' or injury == 'Pubis bone irritation' or injury == 'bruised pelvis' or injury == 'bruised pelvis' or injury == 'Pelvic obliquity'):\n",
        "        x5year.at[i, 'injurytype_pelvis'] += 1\n",
        "      elif (injury == 'Rest'):\n",
        "        x5year.at[i, 'injurytype_rest'] += 1\n",
        "      elif (injury == 'Fractured Rib'):\n",
        "        x5year.at[i, 'injurytype_rib'] += 1\n",
        "      elif (injury == 'Lumbar Vertebra Fracture' or injury == 'Lumbar vertebrae problems' or injury == 'Blockade in the spinal' or injury == 'Cervical spine injury' or injury == 'Lumbar Vertebra Fracture' or injury == 'Lumbar Vertebra Fracture' or injury == 'Vertebra injury'):\n",
        "        x5year.at[i, 'injurytype_spine'] += 1\n",
        "      elif (injury == 'Thigh Muscle Strain' or injury == 'Thigh Problems' or injury == 'Thigh muscle rupture'):\n",
        "        x5year.at[i, 'injurytype_thigh'] += 1\n",
        "      elif (injury == 'Toe Injury' or injury == 'Fractured Toe'):\n",
        "        x5year.at[i, 'injurytype_toe'] += 1\n",
        "      elif (injury == 'Unknown Injury'):\n",
        "        x5year.at[i, 'injurytype_unknown'] += 1\n",
        "      elif (injury == 'Surgery' or injury == 'Contracture' or injury == 'Sprain' or injury == 'Laceration' or injury == 'Fracture' or injury == 'Ligament Injury' or injury == 'Stress response of the bone' or injury == 'Strain' or injury == 'Contused laceration' or injury == 'Muscle partial avulsion' or injury == 'torn tendon' or injury == 'Tear in a joint capsule' or injury == 'tendon irritation' or injury == 'Ligament Problems' or injury == 'Sideband injury' or injury == 'Bone buckling' or injury == 'Stretched Ligament' or injury == 'Pinched nerve' or injury == 'Overstretching' or injury == 'Tendonitis' or injury == 'laceration' or injury == 'Arthroscopie' or injury == 'Herniated Disc' or injury == 'Fatigue fracture' or injury == 'Torn Ligament' or injury == 'Cartilage Damage' or injury == 'Bursitis' or injury == 'Circulation Problems' or injury == 'Tendon crack' or injury == 'Cut' or injury == 'sprain' or injury == 'Burns' or injury == 'open wound' or injury == 'Sideband tear' or injury == 'Marrow bulge' or injury == 'Compartment syndrome' or injury == 'Vestibular disorder' or injury == 'Intraarticular ligament fissure' or injury == 'Ruptured ligaments' or injury == 'Muscular hairline crack' or injury == 'capsular tear' or injury == 'Traffic Accident' or injury == 'Flesh Wound'):\n",
        "        x5year.at[i, 'injurytype_other'] += 1\n",
        "      else:\n",
        "        print(injury)"
      ]
    },
    {
      "cell_type": "code",
      "execution_count": null,
      "metadata": {
        "id": "mu08C1zMeoii"
      },
      "outputs": [],
      "source": [
        "x2year.to_csv('/content/drive/MyDrive/PlayerValue/InjuryYearTwoSeparateInjuries.csv')\n",
        "x3year.to_csv('/content/drive/MyDrive/PlayerValue/InjuryYearThreeSeparateInjuries.csv')\n",
        "x4year.to_csv('/content/drive/MyDrive/PlayerValue/InjuryYearFourSeparateInjuries.csv')\n",
        "x5year.to_csv('/content/drive/MyDrive/PlayerValue/InjuryYearFiveSeparateInjuries.csv')"
      ]
    },
    {
      "cell_type": "code",
      "execution_count": null,
      "metadata": {
        "id": "SxtRaKvHnloK"
      },
      "outputs": [],
      "source": [
        "x1year.to_csv('/content/drive/MyDrive/PlayerValue/InjuryYearOneSeparateInjuries.csv')"
      ]
    },
    {
      "cell_type": "markdown",
      "metadata": {
        "id": "MLqZrP1BiKHh"
      },
      "source": [
        "## Original Dataset and sliding windows"
      ]
    },
    {
      "cell_type": "code",
      "execution_count": null,
      "metadata": {
        "id": "k6OolJLogtct"
      },
      "outputs": [],
      "source": [
        "# @title\n",
        "InjuryYearDurationUpdatedYearsdf = InjuryYearDurationUpdatedYearsdf.drop_duplicates(subset=['Player_url'], keep = 'first')\n",
        "InjuryYearDurationUpdatedYearsdf.count()\n",
        "InjuryYearDurationUpdatedYearsdf.to_csv('/content/drive/MyDrive/PlayerValue/InjuryYearDurationUpdatedYearsdf.csv')"
      ]
    },
    {
      "cell_type": "code",
      "execution_count": null,
      "metadata": {
        "id": "t6EFJvcakvTr"
      },
      "outputs": [],
      "source": [
        "# @title\n",
        "#Clean dataframe so that each row only has one injury from that season year\n",
        "for i in range (0, len(InjuryModeldf)):\n",
        "  Year = InjuryModeldf.loc[i, 'Season_End_Year']\n",
        "  if (Year == 2018):\n",
        "    InjuryModeldf.at[i, 'Duration_2019'] = np.nan\n",
        "    InjuryModeldf.at[i, 'Type_2019'] = np.nan\n",
        "    InjuryModeldf.at[i, 'Duration_2020'] = np.nan\n",
        "    InjuryModeldf.at[i, 'Type_2020'] = np.nan\n",
        "    InjuryModeldf.at[i, 'Duration_2021'] = np.nan\n",
        "    InjuryModeldf.at[i, 'Type_2021'] = np.nan\n",
        "    InjuryModeldf.at[i, 'Duration_2022'] = np.nan\n",
        "    InjuryModeldf.at[i, 'Type_2022'] = np.nan\n",
        "    InjuryModeldf.at[i, 'Duration_2023'] = np.nan\n",
        "    InjuryModeldf.at[i, 'Type_2023'] = np.nan\n",
        "  elif (Year == 2019):\n",
        "    InjuryModeldf.at[i, 'Duration_2018'] = np.nan\n",
        "    InjuryModeldf.at[i, 'Type_2018'] = np.nan\n",
        "    InjuryModeldf.at[i, 'Duration_2020'] = np.nan\n",
        "    InjuryModeldf.at[i, 'Type_2020'] = np.nan\n",
        "    InjuryModeldf.at[i, 'Duration_2021'] = np.nan\n",
        "    InjuryModeldf.at[i, 'Type_2021'] = np.nan\n",
        "    InjuryModeldf.at[i, 'Duration_2022'] = np.nan\n",
        "    InjuryModeldf.at[i, 'Type_2022'] = np.nan\n",
        "    InjuryModeldf.at[i, 'Duration_2023'] = np.nan\n",
        "    InjuryModeldf.at[i, 'Type_2023'] = np.nan\n",
        "  elif (Year == 2020):\n",
        "    InjuryModeldf.at[i, 'Duration_2018'] = np.nan\n",
        "    InjuryModeldf.at[i, 'Type_2018'] = np.nan\n",
        "    InjuryModeldf.at[i, 'Duration_2019'] = np.nan\n",
        "    InjuryModeldf.at[i, 'Type_2019'] = np.nan\n",
        "    InjuryModeldf.at[i, 'Duration_2021'] = np.nan\n",
        "    InjuryModeldf.at[i, 'Type_2021'] = np.nan\n",
        "    InjuryModeldf.at[i, 'Duration_2022'] = np.nan\n",
        "    InjuryModeldf.at[i, 'Type_2022'] = np.nan\n",
        "    InjuryModeldf.at[i, 'Duration_2023'] = np.nan\n",
        "    InjuryModeldf.at[i, 'Type_2023'] = np.nan\n",
        "  elif (Year == 2021):\n",
        "    InjuryModeldf.at[i, 'Duration_2018'] = np.nan\n",
        "    InjuryModeldf.at[i, 'Type_2018'] = np.nan\n",
        "    InjuryModeldf.at[i, 'Duration_2019'] = np.nan\n",
        "    InjuryModeldf.at[i, 'Type_2019'] = np.nan\n",
        "    InjuryModeldf.at[i, 'Duration_2020'] = np.nan\n",
        "    InjuryModeldf.at[i, 'Type_2020'] = np.nan\n",
        "    InjuryModeldf.at[i, 'Duration_2022'] = np.nan\n",
        "    InjuryModeldf.at[i, 'Type_2022'] = np.nan\n",
        "    InjuryModeldf.at[i, 'Duration_2023'] = np.nan\n",
        "    InjuryModeldf.at[i, 'Type_2023'] = np.nan\n",
        "  elif (Year == 2022):\n",
        "    InjuryModeldf.at[i, 'Duration_2018'] = np.nan\n",
        "    InjuryModeldf.at[i, 'Type_2018'] = np.nan\n",
        "    InjuryModeldf.at[i, 'Duration_2019'] = np.nan\n",
        "    InjuryModeldf.at[i, 'Type_2019'] = np.nan\n",
        "    InjuryModeldf.at[i, 'Duration_2020'] = np.nan\n",
        "    InjuryModeldf.at[i, 'Type_2020'] = np.nan\n",
        "    InjuryModeldf.at[i, 'Duration_2021'] = np.nan\n",
        "    InjuryModeldf.at[i, 'Type_2021'] = np.nan\n",
        "    InjuryModeldf.at[i, 'Duration_2023'] = np.nan\n",
        "    InjuryModeldf.at[i, 'Type_2023'] = np.nan\n",
        "  elif (Year == 2023):\n",
        "    InjuryModeldf.at[i, 'Duration_2018'] = np.nan\n",
        "    InjuryModeldf.at[i, 'Type_2018'] = np.nan\n",
        "    InjuryModeldf.at[i, 'Duration_2019'] = np.nan\n",
        "    InjuryModeldf.at[i, 'Type_2019'] = np.nan\n",
        "    InjuryModeldf.at[i, 'Duration_2020'] = np.nan\n",
        "    InjuryModeldf.at[i, 'Type_2020'] = np.nan\n",
        "    InjuryModeldf.at[i, 'Duration_2021'] = np.nan\n",
        "    InjuryModeldf.at[i, 'Type_2021'] = np.nan\n",
        "    InjuryModeldf.at[i, 'Duration_2022'] = np.nan\n",
        "    InjuryModeldf.at[i, 'Type_2022'] = np.nan\n",
        "\n",
        "#InjuryModeldf.to_csv('/content/drive/MyDrive/PlayerValue/FrebInjuryPerYear.csv')"
      ]
    },
    {
      "cell_type": "code",
      "execution_count": null,
      "metadata": {
        "id": "XLVjOkLscAXi"
      },
      "outputs": [],
      "source": [
        "InjuryModeldf = pd.read_csv('/content/drive/MyDrive/PlayerValue/FrebInjuryPerYear.csv')\n",
        "InjuryModeldf.drop('Unnamed: 0', axis=1, inplace=True)"
      ]
    },
    {
      "cell_type": "code",
      "execution_count": null,
      "metadata": {
        "id": "AyFA1WlSEjcC"
      },
      "outputs": [],
      "source": [
        "Testdf = pd.read_csv('/content/drive/MyDrive/PlayerValue/Testdf.csv')\n",
        "Testdf.drop('Unnamed: 0', axis=1, inplace=True)"
      ]
    },
    {
      "cell_type": "code",
      "execution_count": null,
      "metadata": {
        "id": "RMYBIuk5uKTu"
      },
      "outputs": [],
      "source": [
        "Testdf.to_csv('/content/drive/MyDrive/PlayerValue/Testdfmodified.csv')"
      ]
    },
    {
      "cell_type": "code",
      "execution_count": null,
      "metadata": {
        "id": "a4DqNbCDum_H"
      },
      "outputs": [],
      "source": [
        "Testdf = pd.read_csv('/content/drive/MyDrive/PlayerValue/Testdfmodified.csv')\n",
        "Testdf.drop('Unnamed: 0', axis=1, inplace=True)"
      ]
    },
    {
      "cell_type": "code",
      "execution_count": null,
      "metadata": {
        "id": "4ehl3L9A_vC9"
      },
      "outputs": [],
      "source": [
        "# Debug\n",
        "Testdf = InjuryModeldf.copy()\n",
        "for i in range (0, len(InjuryModeldf)):\n",
        "  print(i)\n",
        "  if (not (InjuryModeldf.loc[i, 'Player_x'] == 'John Stones' or InjuryModeldf.loc[i, 'Player_x'] == 'Danny Welbeck')):\n",
        "    Testdf.drop(i, inplace = True)"
      ]
    },
    {
      "cell_type": "code",
      "execution_count": null,
      "metadata": {
        "id": "aLbGuIc7bpdt"
      },
      "outputs": [],
      "source": [
        "#make sure to include type\n",
        "#parameter years needed, concatenate dataframe and add injury duration + ground truth\n",
        "def slidingWindowstest(years):\n",
        "  InjuryDurationdf = pd.DataFrame()\n",
        "  #truth dataframe for only duration of injuries across years\n",
        "  InjuryDurationdf['duration_truth'] = np.nan\n",
        "  #dataframe for stats across all years\n",
        "  Statsdf = Testdf.copy()\n",
        "\n",
        "  for year in range(1, years):\n",
        "    for col in Testdf.columns:\n",
        "      #duplicates columns for years-1\n",
        "      Statsdf[str(col) + 'year' + str(year+1)] = np.nan\n",
        "\n",
        "  Statsdf['duration'] = 0\n",
        "  Statsdf['injuryType'] = ''\n",
        "\n",
        "\n",
        "\n",
        "#concatenating dataframe\n",
        "  for originalRow in range (0, len(Statsdf)):\n",
        "    print('OriginalRow: ' + str(originalRow))\n",
        "    url = Statsdf.loc[originalRow, 'Url']\n",
        "    originalSeason = Statsdf.loc[originalRow, 'Season_End_Year'] #2018\n",
        "    truthSeason = originalSeason + years #2019\n",
        "    foundtruth = False\n",
        "    #duration not working properly for year one, truth duration also doesn't work\n",
        "    if (not str(Statsdf.loc[originalRow, 'Type_' + str(originalSeason)]) == 'nan'):\n",
        "      Statsdf.loc[originalRow, 'injuryType'] += str(Statsdf.loc[originalRow, 'Type_' + str(originalSeason)])\n",
        "    if (not str(Statsdf.loc[originalRow, 'Duration_' + str(originalSeason)]) == 'nan'):\n",
        "      Statsdf.loc[originalRow, 'duration'] += Statsdf.loc[originalRow, 'Duration_' + str(originalSeason)]\n",
        "\n",
        "    if (truthSeason > 2023):\n",
        "      break\n",
        "    for changedRow in range (originalRow, len(Statsdf)):\n",
        "      currentSeason = Statsdf.loc[changedRow, 'Season_End_Year'] #2019\n",
        "      if (currentSeason > truthSeason):\n",
        "        break\n",
        "      #if url matches\n",
        "      if (Statsdf.loc[changedRow, 'Url'] == url and currentSeason > originalSeason):\n",
        "        #year is not truth\n",
        "        if (currentSeason < truthSeason):\n",
        "          #iterate through all columns to concatenate to original row\n",
        "          for col in range(0, len(Testdf.columns)):\n",
        "            Statsdf.iloc[originalRow, (col + (currentSeason - originalSeason) * len(Testdf.columns))] = Statsdf.iloc[changedRow, col]\n",
        "          if ((not str(Statsdf.loc[changedRow, 'Type_' + str(currentSeason)]) == 'nan') and years != 1):\n",
        "            Statsdf.loc[originalRow, 'injuryType'] += str(Statsdf.loc[changedRow, 'Type_' + str(currentSeason)]) #should it be currentSeason?\n",
        "          if ((not str(Statsdf.loc[changedRow, 'Duration_' + str(currentSeason)]) == 'nan') and years != 1):\n",
        "            Statsdf.loc[originalRow, 'duration'] += Statsdf.loc[changedRow, 'Duration_' + str(currentSeason)]\n",
        "\n",
        "        #if year is truth, add duration of injury\n",
        "        elif (currentSeason == truthSeason):\n",
        "          foundtruth = True\n",
        "          if (str(Statsdf.loc[changedRow, 'Duration_' + str(truthSeason)]) == 'nan'):\n",
        "            InjuryDurationdf.loc[len(InjuryDurationdf), 'duration_truth'] = 0\n",
        "          else:\n",
        "            InjuryDurationdf.loc[len(InjuryDurationdf), 'duration_truth'] = Statsdf.loc[changedRow, 'Duration_' + str(truthSeason)]\n",
        "          break;\n",
        "\n",
        "    if (foundtruth == False):\n",
        "      InjuryDurationdf.loc[len(InjuryDurationdf), 'duration_truth'] = np.nan\n",
        "\n",
        "#error may be how I am joining df\n",
        "\n",
        "  Statsdf = Statsdf.join(InjuryDurationdf)\n",
        "\n",
        "  #return modified df\n",
        "  return Statsdf"
      ]
    },
    {
      "cell_type": "code",
      "execution_count": null,
      "metadata": {
        "id": "TIJzRZp1SRW_"
      },
      "outputs": [],
      "source": [
        "#make sure to include type\n",
        "#parameter years needed, concatenate dataframe and add injury duration + ground truth\n",
        "def slidingWindows(years):\n",
        "  InjuryDurationdf = pd.DataFrame()\n",
        "  #truth dataframe for only duration of injuries across years\n",
        "  InjuryDurationdf['duration_truth'] = np.nan\n",
        "  #dataframe for stats across all years\n",
        "  Statsdf = InjuryModeldf.copy()\n",
        "\n",
        "  for year in range(1, years):\n",
        "    for col in InjuryModeldf.columns:\n",
        "      #duplicates columns for years-1\n",
        "      Statsdf[str(col) + 'year' + str(year+1)] = np.nan\n",
        "\n",
        "  Statsdf['duration'] = 0\n",
        "  Statsdf['injuryType'] = ''\n",
        "\n",
        "\n",
        "\n",
        "#concatenating dataframe\n",
        "  for originalRow in range (0, len(Statsdf)):\n",
        "    print('OriginalRow: ' + str(originalRow))\n",
        "    url = Statsdf.loc[originalRow, 'Url']\n",
        "    originalSeason = Statsdf.loc[originalRow, 'Season_End_Year'] #2018\n",
        "    truthSeason = originalSeason + years #2019\n",
        "    foundtruth = False\n",
        "    #duration not working properly for year one, truth duration also doesn't work\n",
        "    if (not str(Statsdf.loc[originalRow, 'Type_' + str(originalSeason)]) == 'nan'):\n",
        "      Statsdf.loc[originalRow, 'injuryType'] += str(Statsdf.loc[originalRow, 'Type_' + str(originalSeason)])\n",
        "    if (not str(Statsdf.loc[originalRow, 'Duration_' + str(originalSeason)]) == 'nan'):\n",
        "      Statsdf.loc[originalRow, 'duration'] += Statsdf.loc[originalRow, 'Duration_' + str(originalSeason)]\n",
        "\n",
        "    if (truthSeason > 2023):\n",
        "      break\n",
        "    for changedRow in range (originalRow + 2800, len(Statsdf)):\n",
        "      currentSeason = Statsdf.loc[changedRow, 'Season_End_Year'] #2019\n",
        "      if (currentSeason > truthSeason):\n",
        "        break\n",
        "      #if url matches\n",
        "      if (Statsdf.loc[changedRow, 'Url'] == url and currentSeason > originalSeason):\n",
        "        #year is not truth\n",
        "        if (currentSeason < truthSeason):\n",
        "          #iterate through all columns to concatenate to original row\n",
        "          for col in range(0, len(Testdf.columns)):\n",
        "            Statsdf.iloc[originalRow, (col + (currentSeason - originalSeason) * len(Testdf.columns))] = Statsdf.iloc[changedRow, col]\n",
        "          if ((not str(Statsdf.loc[changedRow, 'Type_' + str(currentSeason)]) == 'nan') and years != 1):\n",
        "            Statsdf.loc[originalRow, 'injuryType'] += str(Statsdf.loc[changedRow, 'Type_' + str(currentSeason)]) #should it be currentSeason?\n",
        "          if ((not str(Statsdf.loc[changedRow, 'Duration_' + str(currentSeason)]) == 'nan') and years != 1):\n",
        "            Statsdf.loc[originalRow, 'duration'] += Statsdf.loc[changedRow, 'Duration_' + str(currentSeason)]\n",
        "\n",
        "        #if year is truth, add duration of injury\n",
        "        elif (currentSeason == truthSeason):\n",
        "          foundtruth = True\n",
        "          if (str(Statsdf.loc[changedRow, 'Duration_' + str(truthSeason)]) == 'nan'):\n",
        "            InjuryDurationdf.loc[len(InjuryDurationdf), 'duration_truth'] = 0\n",
        "          else:\n",
        "            InjuryDurationdf.loc[len(InjuryDurationdf), 'duration_truth'] = Statsdf.loc[changedRow, 'Duration_' + str(truthSeason)]\n",
        "          break;\n",
        "\n",
        "    if (foundtruth == False):\n",
        "      InjuryDurationdf.loc[len(InjuryDurationdf), 'duration_truth'] = np.nan\n",
        "\n",
        "#error may be how I am joining df\n",
        "\n",
        "  Statsdf = Statsdf.join(InjuryDurationdf)\n",
        "\n",
        "  #return modified df\n",
        "  return Statsdf"
      ]
    },
    {
      "cell_type": "code",
      "execution_count": null,
      "metadata": {
        "id": "VVLUhWiPlZx5"
      },
      "outputs": [],
      "source": [
        "InjuryModel5year = slidingWindows(5)"
      ]
    },
    {
      "cell_type": "code",
      "execution_count": null,
      "metadata": {
        "id": "2i39V6aGx8nl"
      },
      "outputs": [],
      "source": [
        "InjuryModel5year.to_csv('/content/drive/MyDrive/PlayerValue/InjuryModel5year.csv')"
      ]
    },
    {
      "cell_type": "markdown",
      "metadata": {
        "id": "_dOEf3IPikoi"
      },
      "source": [
        "## OneHotEncoding + SHAP for Injuries"
      ]
    },
    {
      "cell_type": "code",
      "execution_count": null,
      "metadata": {
        "cellView": "form",
        "id": "8b3stfYzmU7s"
      },
      "outputs": [],
      "source": [
        "# @title\n",
        "types = x1year.dtypes"
      ]
    },
    {
      "cell_type": "code",
      "execution_count": null,
      "metadata": {
        "cellView": "form",
        "id": "tPdLr2s_mYd2"
      },
      "outputs": [],
      "source": [
        "# @title\n",
        "for i in range(0, len(types)):\n",
        "  print(types[i])"
      ]
    },
    {
      "cell_type": "code",
      "execution_count": null,
      "metadata": {
        "cellView": "form",
        "id": "jY1AMqDVeRCg"
      },
      "outputs": [],
      "source": [
        "# @title\n",
        "counter = 0\n",
        "for col in x1year.columns:\n",
        "  column_name = str(col)\n",
        "  if (x1year.column_name.dtype != \"object\"):\n",
        "    x1year.drop(counter, axis = 1)\n",
        "    counter = counter + 1"
      ]
    },
    {
      "cell_type": "markdown",
      "metadata": {
        "id": "7VtkaMRQl8Zr"
      },
      "source": [
        "### One Year"
      ]
    },
    {
      "cell_type": "code",
      "execution_count": null,
      "metadata": {
        "id": "_CILygznGqPw"
      },
      "outputs": [],
      "source": [
        "#One year model\n",
        "x1yearEncoding = pd.DataFrame()\n",
        "x1year[\"Squad\"] = x1year[\"Squad\"].astype(\"category\")\n",
        "extracted = x1year[\"Squad\"]\n",
        "x1year.drop(\"Squad\", axis = 1)\n",
        "x1yearEncoding = pd.concat([x1yearEncoding, extracted], axis=1)\n",
        "x1year[\"Comp\"] = x1year[\"Comp\"].astype(\"category\")\n",
        "extracted = x1year[\"Comp\"]\n",
        "x1year.drop(\"Comp\", axis = 1)\n",
        "x1yearEncoding = pd.concat([x1yearEncoding, extracted], axis=1)\n",
        "x1year[\"Pos\"] = x1year[\"Pos\"].astype(\"category\")\n",
        "extracted = x1year[\"Pos\"]\n",
        "x1year.drop(\"Pos\", axis = 1)\n",
        "x1yearEncoding = pd.concat([x1yearEncoding, extracted], axis=1)\n",
        "x1year[\"Nation\"] = x1year[\"Nation\"].astype(\"category\")\n",
        "extracted = x1year[\"Nation\"]\n",
        "x1year.drop(\"Nation\", axis = 1)\n",
        "x1yearEncoding = pd.concat([x1yearEncoding, extracted], axis=1)\n",
        "x1year[\"player_foot\"] = x1year[\"player_foot\"].astype(\"category\")\n",
        "extracted = x1year[\"player_foot\"]\n",
        "x1year.drop(\"player_foot\", axis = 1)\n",
        "x1yearEncoding = pd.concat([x1yearEncoding, extracted], axis=1)\n",
        "x1year[\"country\"] = x1year[\"country\"].astype(\"category\")\n",
        "extracted = x1year[\"country\"]\n",
        "x1year.drop(\"country\", axis = 1)\n",
        "x1yearEncoding = pd.concat([x1yearEncoding, extracted], axis=1)\n",
        "x1year.drop(['duration_truth'], axis = 1, inplace = True)"
      ]
    },
    {
      "cell_type": "code",
      "execution_count": null,
      "metadata": {
        "id": "CVGoxTHEVC95"
      },
      "outputs": [],
      "source": [
        "#One hot encoder also converting floats+duration to booleans\n",
        "\n",
        "#check all hot encoded columns/features\n",
        "\n",
        "# Check how one hot encoding is changing column names and values\n",
        "\n",
        "# Manually clean injury types\n",
        "\n",
        "#delete spaces/commas in column names\n",
        "\n",
        "#born vs age\n",
        "\n",
        "enc = OneHotEncoder()\n",
        "enc.fit(x1yearEncoding)\n",
        "\n",
        "#transform categorical features\n",
        "X1year_encoded = enc.transform(x1yearEncoding).toarray()\n",
        "feature_names = x1yearEncoding.columns\n",
        "new_feature_names = enc.get_feature_names_out(feature_names)\n",
        "Xencoded = pd.DataFrame(X1year_encoded, columns= new_feature_names)\n",
        "X = x1year.join(Xencoded)"
      ]
    },
    {
      "cell_type": "code",
      "source": [
        "X = X[[\"Age\", \"Mins_Per_90_Playing\", \"injurytype_calf\", \"injurytype_hamstring\", \"injurytype_knee\", \"injurytype_ankle\", \"injurytype_ill\", \"duration\"]]"
      ],
      "metadata": {
        "id": "7XnwaHqxElqy"
      },
      "execution_count": null,
      "outputs": []
    },
    {
      "cell_type": "code",
      "execution_count": null,
      "metadata": {
        "cellView": "form",
        "id": "LYvgP6blmDY8"
      },
      "outputs": [],
      "source": [
        "# @title\n",
        "for i in list(Xencoded.columns):\n",
        "    print(i)"
      ]
    },
    {
      "cell_type": "code",
      "execution_count": null,
      "metadata": {
        "id": "nmKreQd_UN05"
      },
      "outputs": [],
      "source": [
        "x1year_train, x1year_test, y1year_train, y1year_test = train_test_split(X, y1year, random_state=1, train_size=0.75)\n",
        "InjuryModelXGB1year = xgb.XGBRegressor(tree_method=\"approx\", max_depth = 3, n_estimators = 200, seed = 2, enable_categorical=True)\n",
        "InjuryModelXGB1year.fit(x1year_train, y1year_train, verbose = True, eval_set = [(x1year_train, y1year_train), (x1year_test, y1year_test)])\n",
        "# print(\"feature importances:\", InjuryModelXGB1year.feature_importances_)\n",
        "\n",
        "feat_imp_list = list(zip(list(InjuryModelXGB1year.feature_importances_) , x1year_train.columns.to_list()) )\n",
        "feature_imp_df = pd.DataFrame(sorted(feat_imp_list, key=lambda x: x[0], reverse=True) , columns = ['feature_value','feature_name'])\n",
        "#feature_imp_df = pd.DataFrame(sorted(feat_imp_list, key=lambda x: x[1], reverse=True) , columns = ['feature_value','feature_name'])\n",
        "#print(feature_imp_df.loc[1, \"Pos_DF\"])\n",
        "#print(feature_imp_df[feature_imp_df['feature_name'] == \"injuryType_nan\"]['feature_value'])"
      ]
    },
    {
      "cell_type": "code",
      "source": [
        "x1year_train[\"injurytype_knee\"].hist(bins=10)\n",
        "x1year_test[\"injurytype_knee\"].hist(bins=10)"
      ],
      "metadata": {
        "id": "pxKU3IHUG0Wl"
      },
      "execution_count": null,
      "outputs": []
    },
    {
      "cell_type": "code",
      "execution_count": null,
      "metadata": {
        "id": "bDqd0CKG-rYU"
      },
      "outputs": [],
      "source": [
        "#unSub_Subs, err - search up\n",
        "pd.set_option('display.max_rows', 500)\n",
        "print(feature_imp_df.head(100))"
      ]
    },
    {
      "cell_type": "code",
      "execution_count": null,
      "metadata": {
        "id": "eHRp9Yy5IJuO"
      },
      "outputs": [],
      "source": [
        "y1year_pred = InjuryModelXGB1year.predict(x1year_test)\n",
        "print(r2_score(y1year_test, y1year_pred))\n",
        "print(mean_absolute_error(y1year_test, y1year_pred))\n",
        "print(mean_squared_error(y1year_test, y1year_pred))"
      ]
    },
    {
      "cell_type": "code",
      "execution_count": null,
      "metadata": {
        "cellView": "form",
        "id": "UwxA8s3uk91y"
      },
      "outputs": [],
      "source": [
        "# @title\n",
        "#plotting tree\n",
        "format = 'svg' #You should try the 'svg'\n",
        "image = xgb.to_graphviz(InjuryModelXGB1year)\n",
        "\n",
        "#Set a different dpi (work only if format == 'png')\n",
        "image.graph_attr = {'dpi':'400'}\n",
        "\n",
        "image.render('filename', format = format)"
      ]
    },
    {
      "cell_type": "code",
      "execution_count": null,
      "metadata": {
        "cellView": "form",
        "id": "6EbzEX1StcJP"
      },
      "outputs": [],
      "source": [
        "# @title\n",
        "# TODO remove cell\n",
        "InjuryModelXGB1year = xgb.train(params = params, dtrain = d_matrix_train)\n",
        "explainer = shap.TreeExplainer(InjuryModelXGB1year)"
      ]
    },
    {
      "cell_type": "code",
      "execution_count": null,
      "metadata": {
        "cellView": "form",
        "id": "8PypQ_kXalBp"
      },
      "outputs": [],
      "source": [
        "# @title\n",
        "x1year_train, x1year_test, y1year_train, y1year_test = train_test_split(X, y1year, random_state=1, train_size = 0.8)\n",
        "d_matrix_train = xgb.DMatrix(x1year_train, y1year_train, enable_categorical=True)\n",
        "d_matrix_test = xgb.DMatrix(x1year_test, y1year_test, enable_categorical=True)\n",
        "params = {\"objective\": \"reg:squarederror\", \"tree_method\": \"approx\"}\n",
        "InjuryModelXGB1year = xgb.train(params = params, dtrain = d_matrix_train)\n",
        "explainer = shap.TreeExplainer(InjuryModelXGB1year)\n",
        "shap_values = explainer(X)\n",
        "shap.summary_plot(shap_values, X, plot_type='bar')"
      ]
    },
    {
      "cell_type": "code",
      "execution_count": null,
      "metadata": {
        "cellView": "form",
        "id": "9J7BHRac8xHX"
      },
      "outputs": [],
      "source": [
        "# @title\n",
        "#shap_values = InjuryModelXGB1year.predict(xgb.DMatrix(X, enable_categorical=True), pred_contribs=True)\n",
        "explainer = shap.TreeExplainer(InjuryModelXGB1year)\n",
        "shap_values = explainer(X)\n",
        "shap.summary_plot(shap_values, X, plot_type='bar')"
      ]
    },
    {
      "cell_type": "code",
      "execution_count": null,
      "metadata": {
        "cellView": "form",
        "id": "7iivqT1kwTTe"
      },
      "outputs": [],
      "source": [
        "# @title\n",
        "shap_values = InjuryModelXGB1year.predict(XGBRegressor(x1year_test, enable_categorical=True), pred_contribs=True)\n",
        "explainer = shap.TreeExplainer(InjuryModelXGB1year)\n",
        "shap_values = explainer(X)\n",
        "shap.summary_plot(shap_values, X, plot_type='bar')"
      ]
    },
    {
      "cell_type": "code",
      "execution_count": null,
      "metadata": {
        "cellView": "form",
        "id": "z_xBciSWHLf1"
      },
      "outputs": [],
      "source": [
        "# @title\n",
        "x1year_train, x1year_test, y1year_train, y1year_test = train_test_split(X, y1year, random_state=1, train_size = 0.8)\n",
        "InjuryModelXGB1year = XGBRegressor(tree_method=\"approx\", seed=1, enable_categorical = True)\n",
        "InjuryModelXGB1year.fit(x1year_train, y1year_train, verbose = True, early_stopping_rounds = 10, eval_set = [(x1year_test, y1year_test)])"
      ]
    },
    {
      "cell_type": "code",
      "execution_count": null,
      "metadata": {
        "id": "MwPc0x3diUnH"
      },
      "outputs": [],
      "source": [
        "InjuryModelXGB1year.save_model('InjuryModelXGB1year.json')\n",
        "#files.download('InjuryModelXGB1year.json')"
      ]
    },
    {
      "cell_type": "code",
      "execution_count": null,
      "metadata": {
        "id": "pylEQPtdiqG5"
      },
      "outputs": [],
      "source": [
        "InjuryModelXGB1year.load_model('InjuryModelXGB1year.json')"
      ]
    },
    {
      "cell_type": "code",
      "execution_count": null,
      "metadata": {
        "id": "D7zgKQt3z314"
      },
      "outputs": [],
      "source": [
        "#y1year_pred = InjuryModelXGB1year.predict(x1year_test)\n",
        "shap_values = InjuryModelXGB1year.predict(XGBRegressor(x1year_test, enable_categorical=True), pred_contribs=True)\n",
        "#print(r2_score(y1year_test, y1year_pred))\n",
        "#print(mean_absolute_error(y1year_test, y1year_pred))\n",
        "#print(mean_squared_error(y1year_test, y1year_pred))"
      ]
    },
    {
      "cell_type": "code",
      "execution_count": null,
      "metadata": {
        "id": "GB7IC7NpWVuc"
      },
      "outputs": [],
      "source": [
        "explainer = shap.TreeExplainer(InjuryModelXGB1year)\n",
        "shap_values = explainer(X)"
      ]
    },
    {
      "cell_type": "code",
      "execution_count": null,
      "metadata": {
        "id": "qzoUqup-ag-B"
      },
      "outputs": [],
      "source": [
        "shap.summary_plot(shap_values, X, plot_type='bar')"
      ]
    },
    {
      "cell_type": "code",
      "execution_count": null,
      "metadata": {
        "id": "UCbt_IhqX_y_"
      },
      "outputs": [],
      "source": [
        "# waterfall plot for first observation\n",
        "shap.plots.beeswarm(shap_values, max_display = 20)"
      ]
    },
    {
      "cell_type": "code",
      "execution_count": null,
      "metadata": {
        "id": "RxxuONAdXgqj"
      },
      "outputs": [],
      "source": [
        "print(shap_values[0])"
      ]
    },
    {
      "cell_type": "code",
      "execution_count": null,
      "metadata": {
        "id": "jkVGIU61YL4h"
      },
      "outputs": [],
      "source": [
        "print(shap_values.base_values.shape)"
      ]
    },
    {
      "cell_type": "markdown",
      "metadata": {
        "id": "Kew56ivmHMeQ"
      },
      "source": [
        "### Two Year\n"
      ]
    },
    {
      "cell_type": "code",
      "execution_count": null,
      "metadata": {
        "id": "Oixvhvb0Io5o"
      },
      "outputs": [],
      "source": [
        "#One year model\n",
        "x2yearEncoding = pd.DataFrame()\n",
        "x2year[\"Squad\"] = x2year[\"Squad\"].astype(\"category\")\n",
        "extracted2year = x2year[\"Squad\"]\n",
        "x2year.drop(\"Squad\", axis = 1)\n",
        "x2yearEncoding = pd.concat([x2yearEncoding, extracted2year], axis=1)\n",
        "x2year[\"Comp\"] = x2year[\"Comp\"].astype(\"category\")\n",
        "extracted2year = x2year[\"Comp\"]\n",
        "x2year.drop(\"Comp\", axis = 1)\n",
        "x2yearEncoding = pd.concat([x2yearEncoding, extracted2year], axis=1)\n",
        "x2year[\"Pos\"] = x2year[\"Pos\"].astype(\"category\")\n",
        "extracted2year = x2year[\"Pos\"]\n",
        "x2year.drop(\"Pos\", axis = 1)\n",
        "x2yearEncoding = pd.concat([x2yearEncoding, extracted2year], axis=1)\n",
        "x2year[\"Nation\"] = x2year[\"Nation\"].astype(\"category\")\n",
        "extracted2year = x2year[\"Nation\"]\n",
        "x2year.drop(\"Nation\", axis = 1)\n",
        "x2yearEncoding = pd.concat([x2yearEncoding, extracted2year], axis=1)\n",
        "x2year[\"player_foot\"] = x2year[\"player_foot\"].astype(\"category\")\n",
        "extracted2year = x2year[\"player_foot\"]\n",
        "x2year.drop(\"player_foot\", axis = 1)\n",
        "x2yearEncoding = pd.concat([x2yearEncoding, extracted2year], axis=1)\n",
        "x2year[\"country\"] = x2year[\"country\"].astype(\"category\")\n",
        "extracted2year = x2year[\"country\"]\n",
        "x2year.drop(\"country\", axis = 1)\n",
        "x2yearEncoding = pd.concat([x2yearEncoding, extracted2year], axis=1)\n",
        "x2year[\"Squadyear2\"] = x2year[\"Squadyear2\"].astype(\"category\")\n",
        "extracted2year = x2year[\"Squadyear2\"]\n",
        "x2year.drop(\"Squadyear2\", axis = 1)\n",
        "x2yearEncoding = pd.concat([x2yearEncoding, extracted2year], axis=1)\n",
        "x2year[\"Compyear2\"] = x2year[\"Compyear2\"].astype(\"category\")\n",
        "extracted2year = x2year[\"Compyear2\"]\n",
        "x2year.drop(\"Compyear2\", axis = 1)\n",
        "x2yearEncoding = pd.concat([x2yearEncoding, extracted2year], axis=1)\n",
        "x2year[\"Posyear2\"] = x2year[\"Posyear2\"].astype(\"category\")\n",
        "extracted2year = x2year[\"Posyear2\"]\n",
        "x2year.drop(\"Posyear2\", axis = 1)\n",
        "x2yearEncoding = pd.concat([x2yearEncoding, extracted2year], axis=1)\n",
        "x2year[\"Nationyear2\"] = x2year[\"Nationyear2\"].astype(\"category\")\n",
        "extracted2year = x2year[\"Nationyear2\"]\n",
        "x2year.drop(\"Nationyear2\", axis = 1)\n",
        "x2yearEncoding = pd.concat([x2yearEncoding, extracted2year], axis=1)\n",
        "x2year[\"player_footyear2\"] = x2year[\"player_footyear2\"].astype(\"category\")\n",
        "extracted2year = x2year[\"player_footyear2\"]\n",
        "x2year.drop(\"player_footyear2\", axis = 1)\n",
        "x2yearEncoding = pd.concat([x2yearEncoding, extracted2year], axis=1)\n",
        "x2year[\"countryyear2\"] = x2year[\"countryyear2\"].astype(\"category\")\n",
        "extracted2year = x2year[\"countryyear2\"]\n",
        "x2year.drop(\"countryyear2\", axis = 1)\n",
        "x2yearEncoding = pd.concat([x2yearEncoding, extracted2year], axis=1)\n",
        "x2year.drop(['duration_truth'], axis = 1, inplace = True)"
      ]
    },
    {
      "cell_type": "code",
      "execution_count": null,
      "metadata": {
        "id": "rSTyFqSCJAj4"
      },
      "outputs": [],
      "source": [
        "#One hot encoder also converting floats+duration to booleans\n",
        "\n",
        "#check all hot encoded columns/features\n",
        "\n",
        "# Check how one hot encoding is changing column names and values\n",
        "\n",
        "# Manually clean injury types\n",
        "\n",
        "#delete spaces/commas in column names\n",
        "\n",
        "#born vs age\n",
        "\n",
        "enc2year = OneHotEncoder()\n",
        "enc2year.fit(x2yearEncoding)\n",
        "\n",
        "#transform categorical features\n",
        "X2year_encoded = enc2year.transform(x2yearEncoding).toarray()\n",
        "feature_names2year = x2yearEncoding.columns\n",
        "new_feature_names2year = enc2year.get_feature_names_out(feature_names2year)\n",
        "X2encoded = pd.DataFrame(X2year_encoded, columns= new_feature_names2year)\n",
        "x2yearFinal = x2year.join(X2encoded)"
      ]
    },
    {
      "cell_type": "code",
      "execution_count": null,
      "metadata": {
        "id": "2gueKJOqJH2V"
      },
      "outputs": [],
      "source": [
        "# Derek addition. Prints feature importances\n",
        "x2year_train, x2year_test, y2year_train, y2year_test = train_test_split(x2yearFinal, y2year, random_state=1, train_size=0.8)\n",
        "InjuryModelXGB2year = xgb.XGBRegressor(tree_method=\"approx\", seed = 1, enable_categorical=True)\n",
        "InjuryModelXGB2year.fit(x2year_train, y2year_train, verbose = True, eval_set = [(x2year_test, y2year_test)])\n",
        "# print(\"feature importances:\", InjuryModelXGB1year.feature_importances_)\n",
        "\n",
        "feat_imp_list = list(zip ( list(InjuryModelXGB2year.feature_importances_) , x2year_train.columns.to_list()) )\n",
        "feature_imp_df = pd.DataFrame(sorted(feat_imp_list, key=lambda x: x[0], reverse=True) , columns = ['feature_value','feature_name'])\n",
        "#feature_imp_df = pd.DataFrame(sorted(feat_imp_list, key=lambda x: x[1], reverse=True) , columns = ['feature_value','feature_name'])\n",
        "#print(feature_imp_df.loc[1, \"Pos_DF\"])\n",
        "#print(feature_imp_df[feature_imp_df['feature_name'] == \"injuryType_nan\"]['feature_value'])"
      ]
    },
    {
      "cell_type": "code",
      "execution_count": null,
      "metadata": {
        "id": "2jCVuvDBJPzL"
      },
      "outputs": [],
      "source": [
        "#unSub_Subs, err - search up\n",
        "pd.set_option('display.max_rows', 500)\n",
        "print(feature_imp_df.head(100))"
      ]
    },
    {
      "cell_type": "code",
      "execution_count": null,
      "metadata": {
        "id": "p_KeFqFgJVKc"
      },
      "outputs": [],
      "source": [
        "y2year_pred = InjuryModelXGB2year.predict(x2year_test)\n",
        "print(r2_score(y2year_test, y2year_pred))\n",
        "print(mean_absolute_error(y2year_test, y2year_pred))\n",
        "print(mean_squared_error(y2year_test, y2year_pred))"
      ]
    },
    {
      "cell_type": "code",
      "source": [
        "print(y2year_train.iloc[0])\n",
        "print()"
      ],
      "metadata": {
        "id": "paetvcak8ELy"
      },
      "execution_count": null,
      "outputs": []
    },
    {
      "cell_type": "markdown",
      "source": [
        "### Test first 2"
      ],
      "metadata": {
        "id": "wQqLF3_19CjB"
      }
    },
    {
      "cell_type": "code",
      "source": [
        "xTest_train = pd.DataFrame()\n",
        "xTest_train = x1year.iloc[0:6000]\n",
        "yTest_train = y1year.iloc[0:6000]\n",
        "xTest_test = x1year.iloc[6000:7000]\n",
        "yTest_test = y1year.iloc[6000:7000]"
      ],
      "metadata": {
        "id": "m5iSbgB09HML"
      },
      "execution_count": null,
      "outputs": []
    },
    {
      "cell_type": "code",
      "source": [
        "## Fewer features (8-12), lower height of tree - find hyperparameters that prevent overfitting that fit well (testing and training have similar rmse)\n",
        "\n",
        "#xTest_train, yTest_train = train_test_split(x2yearFinal, y2year, random_state=1)\n",
        "InjuryModelXGB2yearTest = xgb.XGBRegressor(tree_method=\"approx\", seed = 1, enable_categorical=True)\n",
        "InjuryModelXGB2yearTest.fit(xTest_train, yTest_train, verbose = True, eval_set = [(xTest_train, yTest_train), (xTest_test, yTest_test)])\n",
        "# print(\"feature importances:\", InjuryModelXGB1year.feature_importances_)\n",
        "\n",
        "feat_imp_list = list(zip(list(InjuryModelXGB2yearTest.feature_importances_), xTest_train.columns.to_list()))\n",
        "feature_imp_df = pd.DataFrame(sorted(feat_imp_list, key=lambda x: x[0], reverse=True) , columns = ['feature_value','feature_name'])\n",
        "#feature_imp_df = pd.DataFrame(sorted(feat_imp_list, key=lambda x: x[1], reverse=True) , columns = ['feature_value','feature_name'])\n",
        "#print(feature_imp_df.loc[1, \"Pos_DF\"])\n",
        "#print(feature_imp_df[feature_imp_df['feature_name'] == \"injuryType_nan\"]['feature_value'])"
      ],
      "metadata": {
        "id": "wla6rqG59WjL"
      },
      "execution_count": null,
      "outputs": []
    },
    {
      "cell_type": "code",
      "source": [
        "#unSub_Subs, err - search up\n",
        "pd.set_option('display.max_rows', 500)\n",
        "print(feature_imp_df.head(100))"
      ],
      "metadata": {
        "id": "V7lykD39AFCY"
      },
      "execution_count": null,
      "outputs": []
    },
    {
      "cell_type": "code",
      "source": [
        "print(yTest_train.iloc[0:2])"
      ],
      "metadata": {
        "id": "owtPQPix9Gcu"
      },
      "execution_count": null,
      "outputs": []
    },
    {
      "cell_type": "code",
      "source": [
        "y1year_pred = InjuryModelXGB2yearTest.predict(xTest_train)\n",
        "print(r2_score(yTest_train, y1year_pred))\n",
        "print(mean_absolute_error(yTest_train, y1year_pred))\n",
        "print(mean_squared_error(yTest_train, y1year_pred))"
      ],
      "metadata": {
        "id": "xWfAFoFb-rtz"
      },
      "execution_count": null,
      "outputs": []
    },
    {
      "cell_type": "markdown",
      "metadata": {
        "id": "oW9w8gmuHR1u"
      },
      "source": [
        "### Three Year"
      ]
    },
    {
      "cell_type": "code",
      "execution_count": null,
      "metadata": {
        "id": "OmcNJJuKIq7l"
      },
      "outputs": [],
      "source": [
        "#3 year model\n",
        "x3yearEncoding = pd.DataFrame()\n",
        "x3year[\"Squad\"] = x3year[\"Squad\"].astype(\"category\")\n",
        "extracted3year = x3year[\"Squad\"]\n",
        "x3year.drop(\"Squad\", axis = 1)\n",
        "x3yearEncoding = pd.concat([x3yearEncoding, extracted3year], axis=1)\n",
        "x3year[\"Comp\"] = x3year[\"Comp\"].astype(\"category\")\n",
        "extracted3year = x3year[\"Comp\"]\n",
        "x3year.drop(\"Comp\", axis = 1)\n",
        "x3yearEncoding = pd.concat([x3yearEncoding, extracted3year], axis=1)\n",
        "x3year[\"Pos\"] = x3year[\"Pos\"].astype(\"category\")\n",
        "extracted3year = x3year[\"Pos\"]\n",
        "x3year.drop(\"Pos\", axis = 1)\n",
        "x3yearEncoding = pd.concat([x3yearEncoding, extracted3year], axis=1)\n",
        "x3year[\"Nation\"] = x3year[\"Nation\"].astype(\"category\")\n",
        "extracted3year = x3year[\"Nation\"]\n",
        "x3year.drop(\"Nation\", axis = 1)\n",
        "x3yearEncoding = pd.concat([x3yearEncoding, extracted3year], axis=1)\n",
        "x3year[\"player_foot\"] = x3year[\"player_foot\"].astype(\"category\")\n",
        "extracted3year = x3year[\"player_foot\"]\n",
        "x3year.drop(\"player_foot\", axis = 1)\n",
        "x3yearEncoding = pd.concat([x3yearEncoding, extracted3year], axis=1)\n",
        "x3year[\"country\"] = x3year[\"country\"].astype(\"category\")\n",
        "extracted3year = x3year[\"country\"]\n",
        "x3year.drop(\"country\", axis = 1)\n",
        "x3yearEncoding = pd.concat([x3yearEncoding, extracted3year], axis=1)\n",
        "\n",
        "x3year[\"Squadyear2\"] = x3year[\"Squadyear2\"].astype(\"category\")\n",
        "extracted3year = x3year[\"Squadyear2\"]\n",
        "x3year.drop(\"Squadyear2\", axis = 1)\n",
        "x3yearEncoding = pd.concat([x3yearEncoding, extracted3year], axis=1)\n",
        "x3year[\"Compyear2\"] = x3year[\"Compyear2\"].astype(\"category\")\n",
        "extracted3year = x3year[\"Compyear2\"]\n",
        "x3year.drop(\"Compyear2\", axis = 1)\n",
        "x3yearEncoding = pd.concat([x3yearEncoding, extracted3year], axis=1)\n",
        "x3year[\"Posyear2\"] = x3year[\"Posyear2\"].astype(\"category\")\n",
        "extracted3year = x3year[\"Posyear2\"]\n",
        "x3year.drop(\"Posyear2\", axis = 1)\n",
        "x3yearEncoding = pd.concat([x3yearEncoding, extracted3year], axis=1)\n",
        "x3year[\"Nationyear2\"] = x3year[\"Nationyear2\"].astype(\"category\")\n",
        "extracted3year = x3year[\"Nationyear2\"]\n",
        "x3year.drop(\"Nationyear2\", axis = 1)\n",
        "x3yearEncoding = pd.concat([x3yearEncoding, extracted3year], axis=1)\n",
        "x3year[\"player_footyear2\"] = x3year[\"player_footyear2\"].astype(\"category\")\n",
        "extracted3year = x3year[\"player_footyear2\"]\n",
        "x3year.drop(\"player_footyear2\", axis = 1)\n",
        "x3yearEncoding = pd.concat([x3yearEncoding, extracted3year], axis=1)\n",
        "x3year[\"countryyear2\"] = x3year[\"countryyear2\"].astype(\"category\")\n",
        "extracted3year = x3year[\"countryyear2\"]\n",
        "x3year.drop(\"countryyear2\", axis = 1)\n",
        "x3yearEncoding = pd.concat([x3yearEncoding, extracted3year], axis=1)\n",
        "\n",
        "x3year[\"Squadyear3\"] = x3year[\"Squadyear3\"].astype(\"category\")\n",
        "extracted3year = x3year[\"Squadyear3\"]\n",
        "x3year.drop(\"Squadyear3\", axis = 1)\n",
        "x3yearEncoding = pd.concat([x3yearEncoding, extracted3year], axis=1)\n",
        "x3year[\"Compyear3\"] = x3year[\"Compyear3\"].astype(\"category\")\n",
        "extracted3year = x3year[\"Compyear3\"]\n",
        "x3year.drop(\"Compyear3\", axis = 1)\n",
        "x3yearEncoding = pd.concat([x3yearEncoding, extracted3year], axis=1)\n",
        "x3year[\"Posyear3\"] = x3year[\"Posyear3\"].astype(\"category\")\n",
        "extracted3year = x3year[\"Posyear3\"]\n",
        "x3year.drop(\"Posyear3\", axis = 1)\n",
        "x3yearEncoding = pd.concat([x3yearEncoding, extracted3year], axis=1)\n",
        "x3year[\"Nationyear3\"] = x3year[\"Nationyear3\"].astype(\"category\")\n",
        "extracted3year = x3year[\"Nationyear3\"]\n",
        "x3year.drop(\"Nationyear3\", axis = 1)\n",
        "x3yearEncoding = pd.concat([x3yearEncoding, extracted3year], axis=1)\n",
        "x3year[\"player_footyear3\"] = x3year[\"player_footyear3\"].astype(\"category\")\n",
        "extracted3year = x3year[\"player_footyear3\"]\n",
        "x3year.drop(\"player_footyear3\", axis = 1)\n",
        "x3yearEncoding = pd.concat([x3yearEncoding, extracted3year], axis=1)\n",
        "x3year[\"countryyear3\"] = x3year[\"countryyear3\"].astype(\"category\")\n",
        "extracted3year = x3year[\"countryyear3\"]\n",
        "x3year.drop(\"countryyear3\", axis = 1)\n",
        "x3yearEncoding = pd.concat([x3yearEncoding, extracted3year], axis=1)\n",
        "x3year.drop(['duration_truth'], axis = 1, inplace = True)"
      ]
    },
    {
      "cell_type": "code",
      "execution_count": null,
      "metadata": {
        "id": "432H4lSpJBHJ"
      },
      "outputs": [],
      "source": [
        "#One hot encoder also converting floats+duration to booleans\n",
        "\n",
        "#check all hot encoded columns/features\n",
        "\n",
        "# Check how one hot encoding is changing column names and values\n",
        "\n",
        "# Manually clean injury types\n",
        "\n",
        "#delete spaces/commas in column names\n",
        "\n",
        "#born vs age\n",
        "\n",
        "enc3year = OneHotEncoder()\n",
        "enc3year.fit(x3yearEncoding)\n",
        "\n",
        "#transform categorical features\n",
        "X3year_encoded = enc3year.transform(x3yearEncoding).toarray()\n",
        "feature_names3year = x3yearEncoding.columns\n",
        "new_feature_names3year = enc3year.get_feature_names_out(feature_names3year)\n",
        "X3encoded = pd.DataFrame(X3year_encoded, columns= new_feature_names3year)\n",
        "x3yearFinal = x3year.join(X3encoded)"
      ]
    },
    {
      "cell_type": "code",
      "execution_count": null,
      "metadata": {
        "id": "BjYovmv8JId-"
      },
      "outputs": [],
      "source": [
        "# Derek addition. Prints feature importances\n",
        "x3year_train, x3year_test, y3year_train, y3year_test = train_test_split(x3yearFinal, y3year, random_state=1, train_size=0.8)\n",
        "InjuryModelXGB3year = xgb.XGBRegressor(tree_method=\"approx\", seed = 1, enable_categorical=True)\n",
        "InjuryModelXGB3year.fit(x3year_train, y3year_train, verbose = True, eval_set = [(x3year_test, y3year_test)])\n",
        "# print(\"feature importances:\", InjuryModelXGB1year.feature_importances_)\n",
        "\n",
        "feat_imp_list = list(zip ( list(InjuryModelXGB1year.feature_importances_) , x3year_train.columns.to_list()) )\n",
        "feature_imp_df = pd.DataFrame(sorted(feat_imp_list, key=lambda x: x[0], reverse=True) , columns = ['feature_value','feature_name'])\n",
        "#feature_imp_df = pd.DataFrame(sorted(feat_imp_list, key=lambda x: x[1], reverse=True) , columns = ['feature_value','feature_name'])\n",
        "#print(feature_imp_df.loc[1, \"Pos_DF\"])\n",
        "#print(feature_imp_df[feature_imp_df['feature_name'] == \"injuryType_nan\"]['feature_value'])"
      ]
    },
    {
      "cell_type": "code",
      "execution_count": null,
      "metadata": {
        "id": "oV7B8YrwJQnJ"
      },
      "outputs": [],
      "source": [
        "#unSub_Subs, err - search up\n",
        "pd.set_option('display.max_rows', 500)\n",
        "print(feature_imp_df.head(100))"
      ]
    },
    {
      "cell_type": "code",
      "execution_count": null,
      "metadata": {
        "id": "6PXL8MdKJXJ2"
      },
      "outputs": [],
      "source": [
        "y3year_pred = InjuryModelXGB3year.predict(x3year_test)\n",
        "print(r2_score(y3year_test, y3year_pred))\n",
        "print(mean_absolute_error(y3year_test, y3year_pred))\n",
        "print(mean_squared_error(y3year_test, y3year_pred))"
      ]
    },
    {
      "cell_type": "markdown",
      "metadata": {
        "id": "MZ00LCWxHZYm"
      },
      "source": [
        "### Four Year"
      ]
    },
    {
      "cell_type": "code",
      "execution_count": null,
      "metadata": {
        "id": "12dHTLUDIrtq"
      },
      "outputs": [],
      "source": [
        "#4 year model\n",
        "x4yearEncoding = pd.DataFrame()\n",
        "x4year[\"Squad\"] = x4year[\"Squad\"].astype(\"category\")\n",
        "extracted4year = x4year[\"Squad\"]\n",
        "x4year.drop(\"Squad\", axis = 1)\n",
        "x4yearEncoding = pd.concat([x4yearEncoding, extracted4year], axis=1)\n",
        "x4year[\"Comp\"] = x4year[\"Comp\"].astype(\"category\")\n",
        "extracted4year = x4year[\"Comp\"]\n",
        "x4year.drop(\"Comp\", axis = 1)\n",
        "x4yearEncoding = pd.concat([x4yearEncoding, extracted4year], axis=1)\n",
        "x4year[\"Pos\"] = x4year[\"Pos\"].astype(\"category\")\n",
        "extracted4year = x4year[\"Pos\"]\n",
        "x4year.drop(\"Pos\", axis = 1)\n",
        "x4yearEncoding = pd.concat([x4yearEncoding, extracted4year], axis=1)\n",
        "x4year[\"Nation\"] = x4year[\"Nation\"].astype(\"category\")\n",
        "extracted4year = x4year[\"Nation\"]\n",
        "x4year.drop(\"Nation\", axis = 1)\n",
        "x4yearEncoding = pd.concat([x4yearEncoding, extracted4year], axis=1)\n",
        "x4year[\"player_foot\"] = x4year[\"player_foot\"].astype(\"category\")\n",
        "extracted4year = x4year[\"player_foot\"]\n",
        "x4year.drop(\"player_foot\", axis = 1)\n",
        "x4yearEncoding = pd.concat([x4yearEncoding, extracted4year], axis=1)\n",
        "x4year[\"country\"] = x4year[\"country\"].astype(\"category\")\n",
        "extracted4year = x4year[\"country\"]\n",
        "x4year.drop(\"country\", axis = 1)\n",
        "x4yearEncoding = pd.concat([x4yearEncoding, extracted4year], axis=1)\n",
        "\n",
        "x4year[\"Squadyear2\"] = x4year[\"Squadyear2\"].astype(\"category\")\n",
        "extracted4year = x4year[\"Squadyear2\"]\n",
        "x4year.drop(\"Squadyear2\", axis = 1)\n",
        "x4yearEncoding = pd.concat([x4yearEncoding, extracted4year], axis=1)\n",
        "x4year[\"Compyear2\"] = x4year[\"Compyear2\"].astype(\"category\")\n",
        "extracted4year = x4year[\"Compyear2\"]\n",
        "x4year.drop(\"Compyear2\", axis = 1)\n",
        "x4yearEncoding = pd.concat([x4yearEncoding, extracted4year], axis=1)\n",
        "x4year[\"Posyear2\"] = x4year[\"Posyear2\"].astype(\"category\")\n",
        "extracted4year = x4year[\"Posyear2\"]\n",
        "x4year.drop(\"Posyear2\", axis = 1)\n",
        "x4yearEncoding = pd.concat([x4yearEncoding, extracted4year], axis=1)\n",
        "x4year[\"Nationyear2\"] = x4year[\"Nationyear2\"].astype(\"category\")\n",
        "extracted4year = x4year[\"Nationyear2\"]\n",
        "x4year.drop(\"Nationyear2\", axis = 1)\n",
        "x4yearEncoding = pd.concat([x4yearEncoding, extracted4year], axis=1)\n",
        "x4year[\"player_footyear2\"] = x4year[\"player_footyear2\"].astype(\"category\")\n",
        "extracted4year = x4year[\"player_footyear2\"]\n",
        "x4year.drop(\"player_footyear2\", axis = 1)\n",
        "x4yearEncoding = pd.concat([x4yearEncoding, extracted4year], axis=1)\n",
        "x4year[\"countryyear2\"] = x4year[\"countryyear2\"].astype(\"category\")\n",
        "extracted4year = x4year[\"countryyear2\"]\n",
        "x4year.drop(\"countryyear2\", axis = 1)\n",
        "x4yearEncoding = pd.concat([x4yearEncoding, extracted4year], axis=1)\n",
        "\n",
        "x4year[\"Squadyear3\"] = x4year[\"Squadyear3\"].astype(\"category\")\n",
        "extracted4year = x3year[\"Squadyear3\"]\n",
        "x4year.drop(\"Squadyear3\", axis = 1)\n",
        "x4yearEncoding = pd.concat([x4yearEncoding, extracted4year], axis=1)\n",
        "x4year[\"Compyear3\"] = x4year[\"Compyear3\"].astype(\"category\")\n",
        "extracted4year = x4year[\"Compyear3\"]\n",
        "x4year.drop(\"Compyear3\", axis = 1)\n",
        "x4yearEncoding = pd.concat([x4yearEncoding, extracted4year], axis=1)\n",
        "x4year[\"Posyear3\"] = x4year[\"Posyear3\"].astype(\"category\")\n",
        "extracted4year = x4year[\"Posyear3\"]\n",
        "x4year.drop(\"Posyear3\", axis = 1)\n",
        "x4yearEncoding = pd.concat([x4yearEncoding, extracted4year], axis=1)\n",
        "x4year[\"Nationyear3\"] = x4year[\"Nationyear3\"].astype(\"category\")\n",
        "extracted4year = x4year[\"Nationyear3\"]\n",
        "x4year.drop(\"Nationyear3\", axis = 1)\n",
        "x4yearEncoding = pd.concat([x4yearEncoding, extracted4year], axis=1)\n",
        "x4year[\"player_footyear3\"] = x4year[\"player_footyear3\"].astype(\"category\")\n",
        "extracted4year = x4year[\"player_footyear3\"]\n",
        "x4year.drop(\"player_footyear3\", axis = 1)\n",
        "x4yearEncoding = pd.concat([x4yearEncoding, extracted4year], axis=1)\n",
        "x4year[\"countryyear3\"] = x4year[\"countryyear3\"].astype(\"category\")\n",
        "extracted4year = x4year[\"countryyear3\"]\n",
        "x4year.drop(\"countryyear3\", axis = 1)\n",
        "x4yearEncoding = pd.concat([x4yearEncoding, extracted4year], axis=1)\n",
        "\n",
        "x4year[\"Squadyear4\"] = x4year[\"Squadyear4\"].astype(\"category\")\n",
        "extracted4year = x4year[\"Squadyear4\"]\n",
        "x4year.drop(\"Squadyear4\", axis = 1)\n",
        "x4yearEncoding = pd.concat([x4yearEncoding, extracted4year], axis=1)\n",
        "x4year[\"Compyear4\"] = x4year[\"Compyear4\"].astype(\"category\")\n",
        "extracted4year = x4year[\"Compyear4\"]\n",
        "x4year.drop(\"Compyear4\", axis = 1)\n",
        "x4yearEncoding = pd.concat([x4yearEncoding, extracted4year], axis=1)\n",
        "x4year[\"Posyear4\"] = x4year[\"Posyear4\"].astype(\"category\")\n",
        "extracted4year = x4year[\"Posyear4\"]\n",
        "x4year.drop(\"Posyear4\", axis = 1)\n",
        "x4yearEncoding = pd.concat([x4yearEncoding, extracted4year], axis=1)\n",
        "x4year[\"Nationyear4\"] = x4year[\"Nationyear4\"].astype(\"category\")\n",
        "extracted4year = x4year[\"Nationyear4\"]\n",
        "x4year.drop(\"Nationyear4\", axis = 1)\n",
        "x4yearEncoding = pd.concat([x4yearEncoding, extracted4year], axis=1)\n",
        "x4year[\"player_footyear4\"] = x4year[\"player_footyear4\"].astype(\"category\")\n",
        "extracted4year = x4year[\"player_footyear4\"]\n",
        "x4year.drop(\"player_footyear4\", axis = 1)\n",
        "x4yearEncoding = pd.concat([x4yearEncoding, extracted4year], axis=1)\n",
        "x4year[\"countryyear4\"] = x4year[\"countryyear4\"].astype(\"category\")\n",
        "extracted4year = x4year[\"countryyear4\"]\n",
        "x4year.drop(\"countryyear4\", axis = 1)\n",
        "x4yearEncoding = pd.concat([x4yearEncoding, extracted4year], axis=1)\n",
        "x4year.drop(['duration_truth'], axis = 1, inplace = True)"
      ]
    },
    {
      "cell_type": "code",
      "execution_count": null,
      "metadata": {
        "id": "uC63pq-PJB2L"
      },
      "outputs": [],
      "source": [
        "#One hot encoder also converting floats+duration to booleans\n",
        "\n",
        "#check all hot encoded columns/features\n",
        "\n",
        "# Check how one hot encoding is changing column names and values\n",
        "\n",
        "# Manually clean injury types\n",
        "\n",
        "#delete spaces/commas in column names\n",
        "\n",
        "#born vs age\n",
        "\n",
        "enc4year = OneHotEncoder()\n",
        "enc4year.fit(x4yearEncoding)\n",
        "\n",
        "#transform categorical features\n",
        "X4year_encoded = enc4year.transform(x4yearEncoding).toarray()\n",
        "feature_names4year = x4yearEncoding.columns\n",
        "new_feature_names4year = enc4year.get_feature_names_out(feature_names4year)\n",
        "X4encoded = pd.DataFrame(X4year_encoded, columns= new_feature_names4year)\n",
        "x4yearFinal = x4year.join(X4encoded)"
      ]
    },
    {
      "cell_type": "code",
      "execution_count": null,
      "metadata": {
        "id": "UyD1J8ldJJTs"
      },
      "outputs": [],
      "source": [
        "# Derek addition. Prints feature importances\n",
        "x4year_train, x4year_test, y4year_train, y4year_test = train_test_split(x4yearFinal, y4year, random_state=1, train_size=0.8)\n",
        "InjuryModelXGB4year = xgb.XGBRegressor(tree_method=\"approx\", seed = 1, enable_categorical=True)\n",
        "InjuryModelXGB4year.fit(x4year_train, y4year_train, verbose = True, eval_set = [(x4year_test, y4year_test)])\n",
        "# print(\"feature importances:\", InjuryModelXGB1year.feature_importances_)\n",
        "\n",
        "feat_imp_list = list(zip ( list(InjuryModelXGB4year.feature_importances_) , x4year_train.columns.to_list()) )\n",
        "feature_imp_df = pd.DataFrame(sorted(feat_imp_list, key=lambda x: x[0], reverse=True) , columns = ['feature_value','feature_name'])\n",
        "#feature_imp_df = pd.DataFrame(sorted(feat_imp_list, key=lambda x: x[1], reverse=True) , columns = ['feature_value','feature_name'])\n",
        "#print(feature_imp_df.loc[1, \"Pos_DF\"])\n",
        "#print(feature_imp_df[feature_imp_df['feature_name'] == \"injuryType_nan\"]['feature_value'])"
      ]
    },
    {
      "cell_type": "code",
      "execution_count": null,
      "metadata": {
        "id": "SjbmrcClJRpX"
      },
      "outputs": [],
      "source": [
        "#unSub_Subs, err - search up\n",
        "pd.set_option('display.max_rows', 500)\n",
        "print(feature_imp_df.head(100))"
      ]
    },
    {
      "cell_type": "code",
      "execution_count": null,
      "metadata": {
        "id": "TaUnMp6RJYQO"
      },
      "outputs": [],
      "source": [
        "y4year_pred = InjuryModelXGB4year.predict(x4year_test)\n",
        "print(r2_score(y4year_test, y4year_pred))\n",
        "print(mean_absolute_error(y4year_test, y4year_pred))\n",
        "print(mean_squared_error(y4year_test, y4year_pred))"
      ]
    },
    {
      "cell_type": "markdown",
      "metadata": {
        "id": "Fh3gWcXYHbp7"
      },
      "source": [
        "### Five Year"
      ]
    },
    {
      "cell_type": "code",
      "execution_count": null,
      "metadata": {
        "id": "ivZESsvoIsXG"
      },
      "outputs": [],
      "source": [
        "#5 year model\n",
        "x5yearEncoding = pd.DataFrame()\n",
        "x5year[\"Squad\"] = x5year[\"Squad\"].astype(\"category\")\n",
        "extracted5year = x5year[\"Squad\"]\n",
        "x5year.drop(\"Squad\", axis = 1)\n",
        "x5yearEncoding = pd.concat([x5yearEncoding, extracted5year], axis=1)\n",
        "x5year[\"Comp\"] = x5year[\"Comp\"].astype(\"category\")\n",
        "extracted5year = x5year[\"Comp\"]\n",
        "x5year.drop(\"Comp\", axis = 1)\n",
        "x5yearEncoding = pd.concat([x5yearEncoding, extracted5year], axis=1)\n",
        "x5year[\"Pos\"] = x5year[\"Pos\"].astype(\"category\")\n",
        "extracted5year = x5year[\"Pos\"]\n",
        "x5year.drop(\"Pos\", axis = 1)\n",
        "x5yearEncoding = pd.concat([x5yearEncoding, extracted5year], axis=1)\n",
        "x5year[\"Nation\"] = x5year[\"Nation\"].astype(\"category\")\n",
        "extracted5year = x5year[\"Nation\"]\n",
        "x5year.drop(\"Nation\", axis = 1)\n",
        "x5yearEncoding = pd.concat([x5yearEncoding, extracted5year], axis=1)\n",
        "x5year[\"player_foot\"] = x5year[\"player_foot\"].astype(\"category\")\n",
        "extracted5year = x5year[\"player_foot\"]\n",
        "x5year.drop(\"player_foot\", axis = 1)\n",
        "x5yearEncoding = pd.concat([x5yearEncoding, extracted5year], axis=1)\n",
        "x5year[\"country\"] = x5year[\"country\"].astype(\"category\")\n",
        "extracted5year = x5year[\"country\"]\n",
        "x5year.drop(\"country\", axis = 1)\n",
        "x5yearEncoding = pd.concat([x5yearEncoding, extracted5year], axis=1)\n",
        "\n",
        "x5year[\"Squadyear2\"] = x5year[\"Squadyear2\"].astype(\"category\")\n",
        "extracted5year = x5year[\"Squadyear2\"]\n",
        "x5year.drop(\"Squadyear2\", axis = 1)\n",
        "x5yearEncoding = pd.concat([x5yearEncoding, extracted5year], axis=1)\n",
        "x5year[\"Compyear2\"] = x5year[\"Compyear2\"].astype(\"category\")\n",
        "extracted5year = x5year[\"Compyear2\"]\n",
        "x5year.drop(\"Compyear2\", axis = 1)\n",
        "x5yearEncoding = pd.concat([x5yearEncoding, extracted5year], axis=1)\n",
        "x5year[\"Posyear2\"] = x5year[\"Posyear2\"].astype(\"category\")\n",
        "extracted5year = x5year[\"Posyear2\"]\n",
        "x5year.drop(\"Posyear2\", axis = 1)\n",
        "x5yearEncoding = pd.concat([x5yearEncoding, extracted5year], axis=1)\n",
        "x5year[\"Nationyear2\"] = x5year[\"Nationyear2\"].astype(\"category\")\n",
        "extracted5year = x5year[\"Nationyear2\"]\n",
        "x5year.drop(\"Nationyear2\", axis = 1)\n",
        "x5yearEncoding = pd.concat([x5yearEncoding, extracted5year], axis=1)\n",
        "x5year[\"player_footyear2\"] = x5year[\"player_footyear2\"].astype(\"category\")\n",
        "extracted5year = x5year[\"player_footyear2\"]\n",
        "x5year.drop(\"player_footyear2\", axis = 1)\n",
        "x5yearEncoding = pd.concat([x5yearEncoding, extracted5year], axis=1)\n",
        "x5year[\"countryyear2\"] = x5year[\"countryyear2\"].astype(\"category\")\n",
        "extracted5year = x5year[\"countryyear2\"]\n",
        "x5year.drop(\"countryyear2\", axis = 1)\n",
        "x5yearEncoding = pd.concat([x5yearEncoding, extracted5year], axis=1)\n",
        "\n",
        "x5year[\"Squadyear3\"] = x5year[\"Squadyear3\"].astype(\"category\")\n",
        "extracted5year = x3year[\"Squadyear3\"]\n",
        "x5year.drop(\"Squadyear3\", axis = 1)\n",
        "x5yearEncoding = pd.concat([x5yearEncoding, extracted5year], axis=1)\n",
        "x5year[\"Compyear3\"] = x5year[\"Compyear3\"].astype(\"category\")\n",
        "extracted5year = x5year[\"Compyear3\"]\n",
        "x5year.drop(\"Compyear3\", axis = 1)\n",
        "x5yearEncoding = pd.concat([x5yearEncoding, extracted5year], axis=1)\n",
        "x5year[\"Posyear3\"] = x5year[\"Posyear3\"].astype(\"category\")\n",
        "extracted5year = x5year[\"Posyear3\"]\n",
        "x5year.drop(\"Posyear3\", axis = 1)\n",
        "x5yearEncoding = pd.concat([x5yearEncoding, extracted5year], axis=1)\n",
        "x5year[\"Nationyear3\"] = x5year[\"Nationyear3\"].astype(\"category\")\n",
        "extracted5year = x5year[\"Nationyear3\"]\n",
        "x5year.drop(\"Nationyear3\", axis = 1)\n",
        "x5yearEncoding = pd.concat([x5yearEncoding, extracted5year], axis=1)\n",
        "x5year[\"player_footyear3\"] = x5year[\"player_footyear3\"].astype(\"category\")\n",
        "extracted5year = x5year[\"player_footyear3\"]\n",
        "x5year.drop(\"player_footyear3\", axis = 1)\n",
        "x5yearEncoding = pd.concat([x5yearEncoding, extracted5year], axis=1)\n",
        "x5year[\"countryyear3\"] = x5year[\"countryyear3\"].astype(\"category\")\n",
        "extracted5year = x5year[\"countryyear3\"]\n",
        "x5year.drop(\"countryyear3\", axis = 1)\n",
        "x5yearEncoding = pd.concat([x5yearEncoding, extracted5year], axis=1)\n",
        "\n",
        "x5year[\"Squadyear4\"] = x5year[\"Squadyear4\"].astype(\"category\")\n",
        "extracted5year = x5year[\"Squadyear4\"]\n",
        "x5year.drop(\"Squadyear4\", axis = 1)\n",
        "x5yearEncoding = pd.concat([x5yearEncoding, extracted5year], axis=1)\n",
        "x5year[\"Compyear4\"] = x5year[\"Compyear4\"].astype(\"category\")\n",
        "extracted5year = x5year[\"Compyear4\"]\n",
        "x5year.drop(\"Compyear4\", axis = 1)\n",
        "x5yearEncoding = pd.concat([x5yearEncoding, extracted5year], axis=1)\n",
        "x5year[\"Posyear4\"] = x5year[\"Posyear4\"].astype(\"category\")\n",
        "extracted5year = x5year[\"Posyear4\"]\n",
        "x5year.drop(\"Posyear4\", axis = 1)\n",
        "x5yearEncoding = pd.concat([x5yearEncoding, extracted5year], axis=1)\n",
        "x5year[\"Nationyear4\"] = x5year[\"Nationyear4\"].astype(\"category\")\n",
        "extracted5year = x5year[\"Nationyear4\"]\n",
        "x5year.drop(\"Nationyear4\", axis = 1)\n",
        "x5yearEncoding = pd.concat([x5yearEncoding, extracted5year], axis=1)\n",
        "x5year[\"player_footyear4\"] = x5year[\"player_footyear4\"].astype(\"category\")\n",
        "extracted5year = x5year[\"player_footyear4\"]\n",
        "x5year.drop(\"player_footyear4\", axis = 1)\n",
        "x5yearEncoding = pd.concat([x5yearEncoding, extracted5year], axis=1)\n",
        "x5year[\"countryyear4\"] = x5year[\"countryyear4\"].astype(\"category\")\n",
        "extracted5year = x5year[\"countryyear4\"]\n",
        "x5year.drop(\"countryyear4\", axis = 1)\n",
        "x5yearEncoding = pd.concat([x5yearEncoding, extracted5year], axis=1)\n",
        "\n",
        "x5year[\"Squadyear5\"] = x5year[\"Squadyear5\"].astype(\"category\")\n",
        "extracted5year = x5year[\"Squadyear5\"]\n",
        "x5year.drop(\"Squadyear5\", axis = 1)\n",
        "x5yearEncoding = pd.concat([x5yearEncoding, extracted5year], axis=1)\n",
        "x5year[\"Compyear5\"] = x5year[\"Compyear5\"].astype(\"category\")\n",
        "extracted5year = x5year[\"Compyear5\"]\n",
        "x5year.drop(\"Compyear5\", axis = 1)\n",
        "x5yearEncoding = pd.concat([x5yearEncoding, extracted5year], axis=1)\n",
        "x5year[\"Posyear5\"] = x5year[\"Posyear5\"].astype(\"category\")\n",
        "extracted5year = x5year[\"Posyear5\"]\n",
        "x5year.drop(\"Posyear5\", axis = 1)\n",
        "x5yearEncoding = pd.concat([x5yearEncoding, extracted5year], axis=1)\n",
        "x5year[\"Nationyear5\"] = x5year[\"Nationyear5\"].astype(\"category\")\n",
        "extracted5year = x5year[\"Nationyear5\"]\n",
        "x5year.drop(\"Nationyear5\", axis = 1)\n",
        "x5yearEncoding = pd.concat([x5yearEncoding, extracted5year], axis=1)\n",
        "x5year[\"player_footyear5\"] = x5year[\"player_footyear5\"].astype(\"category\")\n",
        "extracted5year = x5year[\"player_footyear5\"]\n",
        "x5year.drop(\"player_footyear5\", axis = 1)\n",
        "x5yearEncoding = pd.concat([x5yearEncoding, extracted5year], axis=1)\n",
        "x5year[\"countryyear5\"] = x5year[\"countryyear5\"].astype(\"category\")\n",
        "extracted5year = x5year[\"countryyear5\"]\n",
        "x5year.drop(\"countryyear5\", axis = 1)\n",
        "x5yearEncoding = pd.concat([x5yearEncoding, extracted5year], axis=1)\n",
        "x5year.drop(['duration_truth'], axis = 1, inplace = True)"
      ]
    },
    {
      "cell_type": "code",
      "execution_count": null,
      "metadata": {
        "id": "8-hfmUUKJCYP"
      },
      "outputs": [],
      "source": [
        "#One hot encoder also converting floats+duration to booleans\n",
        "\n",
        "#check all hot encoded columns/features\n",
        "\n",
        "# Check how one hot encoding is changing column names and values\n",
        "\n",
        "# Manually clean injury types\n",
        "\n",
        "#delete spaces/commas in column names\n",
        "\n",
        "#born vs age\n",
        "\n",
        "enc5year = OneHotEncoder()\n",
        "enc5year.fit(x5yearEncoding)\n",
        "\n",
        "#transform categorical features\n",
        "X5year_encoded = enc5year.transform(x5yearEncoding).toarray()\n",
        "feature_names5year = x5yearEncoding.columns\n",
        "new_feature_names5year = enc5year.get_feature_names_out(feature_names5year)\n",
        "X5encoded = pd.DataFrame(X5year_encoded, columns= new_feature_names5year)\n",
        "x5yearFinal = x5year.join(X5encoded)"
      ]
    },
    {
      "cell_type": "code",
      "source": [
        "x5yearFinal = x5yearFinal[[\"Age\", \"Mins_Per_90_Playing\", \"injurytype_calf\", \"injurytype_hamstring\", \"injurytype_knee\", \"injurytype_ankle\", \"injurytype_ill\", \"duration\"]]"
      ],
      "metadata": {
        "id": "8nbU5HWoJtBa"
      },
      "execution_count": null,
      "outputs": []
    },
    {
      "cell_type": "code",
      "execution_count": null,
      "metadata": {
        "id": "4huakwLdJJ5w"
      },
      "outputs": [],
      "source": [
        "# Derek addition. Prints feature importances\n",
        "x5year_train, x5year_test, y5year_train, y5year_test = train_test_split(x5yearFinal, y5year, random_state=1, train_size=0.8)\n",
        "InjuryModelXGB5year = xgb.XGBRegressor(tree_method=\"approx\", max_depth = 3, n_estimators = 200, seed = 1, enable_categorical=True)\n",
        "InjuryModelXGB5year.fit(x5year_train, y5year_train, verbose = True, eval_set = [(x5year_train, y5year_train), (x5year_test, y5year_test)])\n",
        "# print(\"feature importances:\", InjuryModelXGB1year.feature_importances_)\n",
        "\n",
        "feat_imp_list = list(zip(list(InjuryModelXGB5year.feature_importances_) , x5year_train.columns.to_list()) )\n",
        "feature_imp_df = pd.DataFrame(sorted(feat_imp_list, key=lambda x: x[0], reverse=True) , columns = ['feature_value','feature_name'])\n",
        "#feature_imp_df = pd.DataFrame(sorted(feat_imp_list, key=lambda x: x[1], reverse=True) , columns = ['feature_value','feature_name'])\n",
        "#print(feature_imp_df.loc[1, \"Pos_DF\"])\n",
        "#print(feature_imp_df[feature_imp_df['feature_name'] == \"injuryType_nan\"]['feature_value'])"
      ]
    },
    {
      "cell_type": "code",
      "source": [
        "print(x5year_train.shape, y5year_train.shape, x5year_test.shape, y5year_test.shape)"
      ],
      "metadata": {
        "id": "RMA6zxWLKVDX"
      },
      "execution_count": null,
      "outputs": []
    },
    {
      "cell_type": "code",
      "execution_count": null,
      "metadata": {
        "id": "b-DeLgd5JSV9"
      },
      "outputs": [],
      "source": [
        "#unSub_Subs, err - search up\n",
        "pd.set_option('display.max_rows', 500)\n",
        "print(feature_imp_df.head(100))"
      ]
    },
    {
      "cell_type": "code",
      "source": [
        "x5year_train[\"duration\"].hist(bins=10)\n",
        "x5year_test[\"duration\"].hist(bins=10)"
      ],
      "metadata": {
        "id": "1Y8ivyE7KBbN"
      },
      "execution_count": null,
      "outputs": []
    },
    {
      "cell_type": "code",
      "execution_count": null,
      "metadata": {
        "id": "QUux1n0_JZFd"
      },
      "outputs": [],
      "source": [
        "y5year_pred = InjuryModelXGB5year.predict(x5year_test)\n",
        "print(r2_score(y5year_test, y5year_pred))\n",
        "print(mean_absolute_error(y5year_test, y5year_pred))\n",
        "print(mean_squared_error(y5year_test, y5year_pred))"
      ]
    },
    {
      "cell_type": "markdown",
      "metadata": {
        "id": "wSy-dKQ5jJ_o"
      },
      "source": [
        "## XGB Injuries model"
      ]
    },
    {
      "cell_type": "markdown",
      "metadata": {
        "id": "8RfqyfcsmIA5"
      },
      "source": [
        "### One Year"
      ]
    },
    {
      "cell_type": "code",
      "source": [
        "#Iterating thorugh hyperparameters of model\n",
        "x1year_train, x1year_test, y1year_train, y1year_test = train_test_split(x1year, y1year, random_state=1, train_size = 0.8)\n",
        "for depth in [None, 5, 10, 15, 20]:\n",
        "  for learning_rate in [0.1, 0.01, 0.001]:\n",
        "    for min_child_weight in [1,2,3]:\n",
        "      for gamma in [0.1, 0.2, 0.3]:\n",
        "        InjuryModelXGB1year = xgb.XGBRegressor(tree_method=\"approx\", seed=1, max_depth = depth, learning_rate = learning_rate, min_child_weight = min_child_weight, gamma = gamma, enable_categorical = True)\n",
        "        InjuryModelXGB1year.fit(x1year_train, y1year_train, verbose = True, eval_set = [(x1year_test, y1year_test)])\n",
        "        y1year_pred = InjuryModelXGB1year.predict(x1year_test)\n",
        "        print(r2_score(y1year_test, y1year_pred))\n",
        "        InjuryModelXGB1year.save_model('xgb_injury_1year_depth' + str(depth) + '_learningrate' + str(learning_rate) + '_childweight' + str(min_child_weight) + '_gamma' + str(gamma) + '_r2score' + str(r2_score(y1year_test, y1year_pred)) + '.json')\n",
        "        files.download('xgb_injury_1year_depth' + str(depth) + '_learningrate' + str(learning_rate) + '_childweight' + str(min_child_weight) + '_gamma' + str(gamma) + '_r2score' + str(r2_score(y1year_test, y1year_pred)) + '.json')"
      ],
      "metadata": {
        "id": "zmG5hB_uUTRx"
      },
      "execution_count": null,
      "outputs": []
    },
    {
      "cell_type": "markdown",
      "source": [
        "### Two Year"
      ],
      "metadata": {
        "id": "nTPW8EBiUNoK"
      }
    },
    {
      "cell_type": "code",
      "source": [
        "#Iterating thorugh hyperparameters of model\n",
        "x2year_train, x2year_test, y2year_train, y2year_test = train_test_split(x2year, y2year, random_state=1, train_size = 0.8)\n",
        "for depth in [None, 5, 10, 15, 20]:\n",
        "  for learning_rate in [0.1, 0.01, 0.001]:\n",
        "    for min_child_weight in [1,2,3]:\n",
        "      for gamma in [0.1, 0.2, 0.3]:\n",
        "        InjuryModelXGB2year = xgb.XGBRegressor(tree_method=\"approx\", seed=1, max_depth = depth, learning_rate = learning_rate, min_child_weight = min_child_weight, gamma = gamma, enable_categorical = True)\n",
        "        InjuryModelXGB2year.fit(x2year_train, y2year_train, verbose = True, eval_set = [(x2year_test, y2year_test)])\n",
        "        y2year_pred = InjuryModelXGB2year.predict(x2year_test)\n",
        "        print(r2_score(y2year_test, y2year_pred))\n",
        "        InjuryModelXGB2year.save_model('xgb_injury_2year_depth' + str(depth) + '_learningrate' + str(learning_rate) + '_childweight' + str(min_child_weight) + '_gamma' + str(gamma) + '_r2score' + str(r2_score(y2year_test, y2year_pred)) + '.json')\n",
        "        files.download('xgb_injury_2year_depth' + str(depth) + '_learningrate' + str(learning_rate) + '_childweight' + str(min_child_weight) + '_gamma' + str(gamma) + '_r2score' + str(r2_score(y2year_test, y2year_pred)) + '.json')"
      ],
      "metadata": {
        "id": "P1Aqk-yDWQmc"
      },
      "execution_count": null,
      "outputs": []
    },
    {
      "cell_type": "markdown",
      "source": [
        "### Three Year"
      ],
      "metadata": {
        "id": "6JeJetYUT7Or"
      }
    },
    {
      "cell_type": "code",
      "source": [
        "#Iterating thorugh hyperparameters of model\n",
        "x3year_train, x3year_test, y3year_train, y3year_test = train_test_split(x3year, y3year, random_state=1, train_size = 0.8)\n",
        "for depth in [None, 5, 10, 15, 20]:\n",
        "  for learning_rate in [0.1, 0.01, 0.001]:\n",
        "    for min_child_weight in [1,2,3]:\n",
        "      for gamma in [0.1, 0.2, 0.3]:\n",
        "        InjuryModelXGB3year = xgb.XGBRegressor(tree_method=\"approx\", seed=1, max_depth = depth, learning_rate = learning_rate, min_child_weight = min_child_weight, gamma = gamma, enable_categorical = True)\n",
        "        InjuryModelXGB3year.fit(x3year_train, y3year_train, verbose = True, eval_set = [(x3year_test, y3year_test)])\n",
        "        y3year_pred = InjuryModelXGB3year.predict(x3year_test)\n",
        "        print(r2_score(y3year_test, y3year_pred))\n",
        "        InjuryModelXGB3year.save_model('xgb_injury_3year_depth' + str(depth) + '_learningrate' + str(learning_rate) + '_childweight' + str(min_child_weight) + '_gamma' + str(gamma) + '_r2score' + str(r2_score(y3year_test, y3year_pred)) + '.json')\n",
        "        files.download('xgb_injury_3year_depth' + str(depth) + '_learningrate' + str(learning_rate) + '_childweight' + str(min_child_weight) + '_gamma' + str(gamma) + '_r2score' + str(r2_score(y3year_test, y3year_pred)) + '.json')"
      ],
      "metadata": {
        "id": "7wDRkzi3W7RF"
      },
      "execution_count": null,
      "outputs": []
    },
    {
      "cell_type": "markdown",
      "source": [
        "### Four Year"
      ],
      "metadata": {
        "id": "hrCtJ0uST9iW"
      }
    },
    {
      "cell_type": "code",
      "source": [
        "#Iterating thorugh hyperparameters of model\n",
        "x4year_train, x4year_test, y4year_train, y4year_test = train_test_split(x4year, y4year, random_state=1, train_size = 0.8)\n",
        "for depth in [None, 5, 10, 15, 20]:\n",
        "  for learning_rate in [0.1, 0.01, 0.001]:\n",
        "    for min_child_weight in [1,2,3]:\n",
        "      for gamma in [0.1, 0.2, 0.3]:\n",
        "        InjuryModelXGB4year = xgb.XGBRegressor(tree_method=\"approx\", seed=1, max_depth = depth, learning_rate = learning_rate, min_child_weight = min_child_weight, gamma = gamma, enable_categorical = True)\n",
        "        InjuryModelXGB4year.fit(x4year_train, y4year_train, verbose = True, eval_set = [(x4year_test, y4year_test)])\n",
        "        y4year_pred = InjuryModelXGB4year.predict(x4year_test)\n",
        "        print(r2_score(y4year_test, y4year_pred))\n",
        "        InjuryModelXGB4year.save_model('xgb_injury_4year_depth' + str(depth) + '_learningrate' + str(learning_rate) + '_childweight' + str(min_child_weight) + '_gamma' + str(gamma) + '_r2score' + str(r2_score(y4year_test, y4year_pred)) + '.json')\n",
        "        files.download('xgb_injury_4year_depth' + str(depth) + '_learningrate' + str(learning_rate) + '_childweight' + str(min_child_weight) + '_gamma' + str(gamma) + '_r2score' + str(r2_score(y4year_test, y4year_pred)) + '.json')"
      ],
      "metadata": {
        "id": "jma6afZVXuNh"
      },
      "execution_count": null,
      "outputs": []
    },
    {
      "cell_type": "markdown",
      "source": [
        "### Five Year"
      ],
      "metadata": {
        "id": "zZZ5bj9TT_zH"
      }
    },
    {
      "cell_type": "code",
      "source": [
        "#Iterating thorugh hyperparameters of model\n",
        "x5year_train, x5year_test, y5year_train, y5year_test = train_test_split(x5year, y5year, random_state=1, train_size = 0.8)\n",
        "for depth in [None, 5, 10, 15, 20]:\n",
        "  for learning_rate in [0.1, 0.01, 0.001]:\n",
        "    for min_child_weight in [1,2,3]:\n",
        "      for gamma in [0.1, 0.2, 0.3]:\n",
        "        InjuryModelXGB5year = xgb.XGBRegressor(tree_method=\"approx\", seed=1, max_depth = depth, learning_rate = learning_rate, min_child_weight = min_child_weight, gamma = gamma, enable_categorical = True)\n",
        "        InjuryModelXGB5year.fit(x5year_train, y5year_train, verbose = True, eval_set = [(x5year_test, y5year_test)])\n",
        "        y5year_pred = InjuryModelXGB5year.predict(x5year_test)\n",
        "        print(r2_score(y5year_test, y5year_pred))\n",
        "        InjuryModelXGB5year.save_model('xgb_injury_5year_depth' + str(depth) + '_learningrate' + str(learning_rate) + '_childweight' + str(min_child_weight) + '_gamma' + str(gamma) + '_r2score' + str(r2_score(y5year_test, y5year_pred)) + '.json')\n",
        "        files.download('xgb_injury_5year_depth' + str(depth) + '_learningrate' + str(learning_rate) + '_childweight' + str(min_child_weight) + '_gamma' + str(gamma) + '_r2score' + str(r2_score(y5year_test, y5year_pred)) + '.json')"
      ],
      "metadata": {
        "id": "nOZ-uqNFYJPT"
      },
      "execution_count": null,
      "outputs": []
    },
    {
      "cell_type": "markdown",
      "metadata": {
        "id": "gxH9DbyrZqSV"
      },
      "source": [
        "## Plotting Model Tree\n"
      ]
    },
    {
      "cell_type": "code",
      "execution_count": null,
      "metadata": {
        "id": "kgePG2Jtq2T8"
      },
      "outputs": [],
      "source": [
        "#Check sample Ousmane Dembélé, row 5999, why over 365\n",
        "InjuryModelOneYeardf.sample(10)"
      ]
    },
    {
      "cell_type": "code",
      "execution_count": null,
      "metadata": {
        "id": "mfbGKNPAymUV"
      },
      "outputs": [],
      "source": [
        "X5years_train, X5years_test, y5years_train, y5years_test = train_test_split(x5years, y5years, random_state=1, train_size = 0.8)\n",
        "InjuryModelXGB5years = xgb.XGBRegressor(tree_method=\"approx\", seed=1, enable_categorical = True)\n",
        "InjuryModelXGB5years.fit(X5years_train, y5years_train, verbose = True, early_stopping_rounds = 10, eval_set = [(X5years_test, y5years_test)])"
      ]
    },
    {
      "cell_type": "code",
      "execution_count": null,
      "metadata": {
        "id": "z26a_ff3MttT"
      },
      "outputs": [],
      "source": [
        "y6years_pred = InjuryModelXGB6years.predict(X6years_test)\n",
        "print(r2_score(y6years_test, y6years_pred))\n",
        "print(mean_absolute_error(y6years_test, y6years_pred))\n",
        "print(mean_squared_error(y6years_test, y6years_pred))"
      ]
    },
    {
      "cell_type": "code",
      "execution_count": null,
      "metadata": {
        "id": "oUqNaA67aKE6"
      },
      "outputs": [],
      "source": [
        "plot_tree(model)"
      ]
    },
    {
      "cell_type": "code",
      "execution_count": null,
      "metadata": {
        "id": "JXlsSzHFQumy"
      },
      "outputs": [],
      "source": [
        "#Shap test\n",
        "graphviz6years = xgb.to_graphviz(InjuryModelXGB6years)\n",
        "explainer6years = shap.Explainer(graphviz6years)\n",
        "shap_values6years = explainer6years.shap_values(X6years_test)\n",
        "explainer6years.plot_importance(shap_values6years, X6years_test)\n",
        "shap.summary_plot(shap_values6years, X6years_test)"
      ]
    },
    {
      "cell_type": "code",
      "execution_count": null,
      "metadata": {
        "id": "tfPkrT7pYjhw"
      },
      "outputs": [],
      "source": [
        "## injury prediction for 1 year sliding window\n",
        "## need to check date joined club, if change club, change values to -1, should be fixed since injury data on all history of player recorded\n",
        "#drop player value column\n",
        "\n",
        "#concatenate repeated players into same row\n",
        "#add features into methods\n",
        "#sliding window, rolling\n",
        "#create numpy array to store r squared/mean squared of accuracy of each model with adjusted hyperparameters\n",
        "#start with set seed\n",
        "#5-10 seeds, find average of models\n",
        "#cross validation"
      ]
    },
    {
      "cell_type": "markdown",
      "source": [
        "# Market Model"
      ],
      "metadata": {
        "id": "ZLqBeBq6Wi9p"
      }
    },
    {
      "cell_type": "markdown",
      "source": [
        "## Read Concatenated Files"
      ],
      "metadata": {
        "id": "5pXkj59lWm5z"
      }
    },
    {
      "cell_type": "code",
      "source": [
        "#read df for 1 year model\n",
        "MarketModelOneYeardf = pd.read_csv('/content/drive/MyDrive/PlayerValue/Market1year.csv')\n",
        "MarketModelOneYeardf.drop('Unnamed: 0', axis=1, inplace=True)\n",
        "xMarket1year = MarketModelOneYeardf.dropna(subset=['player_market_value_euro'])\n",
        "yMarket1year = xMarket1year['player_market_value_euro'].copy()\n",
        "xMarket1year = xMarket1year.drop(\"player_market_value_euro\", axis = 1)"
      ],
      "metadata": {
        "id": "AwLZVy7TWtIK"
      },
      "execution_count": 161,
      "outputs": []
    },
    {
      "cell_type": "code",
      "source": [
        "#read df for 2 year model\n",
        "MarketModelTwoYeardf = pd.read_csv('/content/drive/MyDrive/PlayerValue/Market2year.csv')\n",
        "MarketModelTwoYeardf.drop('Unnamed: 0', axis=1, inplace=True)\n",
        "xMarket2year = MarketModelTwoYeardf.dropna(subset=['player_market_value_euroyear2'])\n",
        "yMarket2year = xMarket2year['player_market_value_euroyear2'].copy()\n",
        "xMarket2year = xMarket2year.drop(\"player_market_value_euroyear2\", axis = 1)"
      ],
      "metadata": {
        "colab": {
          "base_uri": "https://localhost:8080/"
        },
        "id": "eL9V2nCW9YD7",
        "outputId": "ea2b647d-eaf5-4385-fe71-e3da733c2ff0"
      },
      "execution_count": 162,
      "outputs": [
        {
          "output_type": "stream",
          "name": "stderr",
          "text": [
            "<ipython-input-162-d6e4120a6cad>:2: DtypeWarning: Columns (226,227,228,229,230,250,445,446,447,448,450,451,452,453,454,456,457,459,460,461,462,464,469,471,473,475) have mixed types. Specify dtype option on import or set low_memory=False.\n",
            "  MarketModelTwoYeardf = pd.read_csv('/content/drive/MyDrive/PlayerValue/Market2year.csv')\n"
          ]
        }
      ]
    },
    {
      "cell_type": "code",
      "source": [
        "#read df for 3 year model\n",
        "MarketModelThreeYeardf = pd.read_csv('/content/drive/MyDrive/PlayerValue/Market3year.csv')\n",
        "MarketModelThreeYeardf.drop('Unnamed: 0', axis=1, inplace=True)\n",
        "xMarket3year = MarketModelThreeYeardf.dropna(subset=['player_market_value_euroyear3'])\n",
        "yMarket3year = xMarket3year['player_market_value_euroyear3'].copy()\n",
        "xMarket3year = xMarket3year.drop(\"player_market_value_euroyear3\", axis = 1)"
      ],
      "metadata": {
        "colab": {
          "base_uri": "https://localhost:8080/"
        },
        "id": "8D20d-bp9ZYO",
        "outputId": "3cdb45eb-16cf-44b9-ddf8-5253a2b0c5e0"
      },
      "execution_count": 163,
      "outputs": [
        {
          "output_type": "stream",
          "name": "stderr",
          "text": [
            "<ipython-input-163-e809950fc492>:2: DtypeWarning: Columns (226,227,228,229,230,250,445,446,447,448,450,451,452,453,454,456,457,459,460,461,462,464,469,471,473,479,480,481,482,483,503,698,699,700,701,703,704,705,706,707,709,710,712,713,714,715,717,724,726,728) have mixed types. Specify dtype option on import or set low_memory=False.\n",
            "  MarketModelThreeYeardf = pd.read_csv('/content/drive/MyDrive/PlayerValue/Market3year.csv')\n"
          ]
        }
      ]
    },
    {
      "cell_type": "code",
      "source": [
        "#read df for 4 year model\n",
        "MarketModelFourYeardf = pd.read_csv('/content/drive/MyDrive/PlayerValue/Market4year.csv')\n",
        "MarketModelFourYeardf.drop('Unnamed: 0', axis=1, inplace=True)\n",
        "xMarket4year = MarketModelFourYeardf.dropna(subset=['player_market_value_euroyear4'])\n",
        "yMarket4year = xMarket4year['player_market_value_euroyear4'].copy()\n",
        "xMarket4year = xMarket4year.drop(\"player_market_value_euroyear4\", axis = 1)"
      ],
      "metadata": {
        "colab": {
          "base_uri": "https://localhost:8080/"
        },
        "id": "Hcw-BuBT9ZpF",
        "outputId": "d1661d63-23b3-4bab-d4d1-1c220481895f"
      },
      "execution_count": 164,
      "outputs": [
        {
          "output_type": "stream",
          "name": "stderr",
          "text": [
            "<ipython-input-164-c90e046fefc7>:2: DtypeWarning: Columns (226,227,228,229,230,250,445,446,447,448,450,451,452,453,454,456,457,459,460,461,462,464,469,471,479,480,481,482,483,503,698,699,700,701,703,704,705,706,707,709,710,712,713,714,715,717,724,726,732,733,734,735,736,756,951,952,953,954,956,957,958,959,960,962,963,965,966,967,968,970,979,981) have mixed types. Specify dtype option on import or set low_memory=False.\n",
            "  MarketModelFourYeardf = pd.read_csv('/content/drive/MyDrive/PlayerValue/Market4year.csv')\n"
          ]
        }
      ]
    },
    {
      "cell_type": "code",
      "source": [
        "#read df for 5 year model\n",
        "MarketModelFiveYeardf = pd.read_csv('/content/drive/MyDrive/PlayerValue/Market5year.csv')\n",
        "MarketModelFiveYeardf.drop('Unnamed: 0', axis=1, inplace=True)\n",
        "xMarket5year = MarketModelFiveYeardf.dropna(subset=['player_market_value_euroyear5'])\n",
        "yMarket5year = xMarket5year['player_market_value_euroyear5'].copy()\n",
        "xMarket5year = xMarket5year.drop(\"player_market_value_euroyear5\", axis = 1)"
      ],
      "metadata": {
        "colab": {
          "base_uri": "https://localhost:8080/"
        },
        "id": "YvU_ERsT9Z1m",
        "outputId": "f4ecf181-9ed8-468c-8a5a-3cf4fb15a1fd"
      },
      "execution_count": 165,
      "outputs": [
        {
          "output_type": "stream",
          "name": "stderr",
          "text": [
            "<ipython-input-165-d9763e09f897>:2: DtypeWarning: Columns (226,227,228,229,230,250,445,446,447,448,450,451,452,453,454,456,457,459,460,461,462,464,469,479,480,481,482,483,503,698,699,700,701,703,704,705,706,707,709,710,712,713,714,715,717,724,732,733,734,735,736,756,951,952,953,954,956,957,958,959,960,962,963,965,966,967,968,970,979,985,986,987,988,989,1009,1204,1205,1206,1207,1209,1210,1211,1212,1213,1215,1216,1218,1219,1220,1221,1223,1234) have mixed types. Specify dtype option on import or set low_memory=False.\n",
            "  MarketModelFiveYeardf = pd.read_csv('/content/drive/MyDrive/PlayerValue/Market5year.csv')\n"
          ]
        }
      ]
    },
    {
      "cell_type": "markdown",
      "source": [
        "## Clean Data\n"
      ],
      "metadata": {
        "id": "x0VAYrJT9L4X"
      }
    },
    {
      "cell_type": "markdown",
      "source": [
        "### Year 1"
      ],
      "metadata": {
        "id": "a-J_m9Jc9bCk"
      }
    },
    {
      "cell_type": "code",
      "source": [
        "# @title\n",
        "xMarket1year['injurytype_nan'] = 0 #nan\n",
        "\n",
        "xMarket1year['injurytype_abdomen'] = 0 #Abdominal Strain\n",
        "\n",
        "xMarket1year['injurytype_abductor'] = 0 #Tear in the abductor muscle,\n",
        "\n",
        "xMarket1year['inj1urytype_achilles'] = 0 #Achilles tendon rupture, Achilles tendon problems,\n",
        "\n",
        "xMarket1year['injurytype_adductor'] = 0 #Adductor problems,\n",
        "\n",
        "xMarket1year['injurytype_ankle'] = 0 #Ankle Injury, Sprained ankle, Ankle problems, Torn ankle ligament, Ankle Surgery\n",
        "\n",
        "xMarket1year['injurytype_arm'] = 0 #Arm Injury, Wirst Injury, Shoulder Injury\n",
        "\n",
        "xMarket1year['injurytype_back'] = 0 #Back Injury, Back trouble, Back bruise\n",
        "\n",
        "xMarket1year['injurytype_bruise'] = 0 #Bruise\n",
        "\n",
        "xMarket1year['injurytype_calf'] = 0 #Calf Problems, Calf Injury, Calf Strain\n",
        "\n",
        "xMarket1year['injurytype_chest'] = 0 #Angina,\n",
        "\n",
        "xMarket1year['injurytype_collarbone'] = 0 #Collarbone fracture\n",
        "\n",
        "xMarket1year['injurytype_concussion'] = 0 #Concussion\n",
        "\n",
        "xMarket1year['injurytype_cruciateligament'] = 0 #Cruciate Ligament Rupture, Cruciate Ligament Surgery, Cruciate Ligament Strain\n",
        "\n",
        "xMarket1year['injurytype_face'] = 0 #Facial Injury\n",
        "\n",
        "xMarket1year['injurytype_finger'] = 0 #Finger Injury\n",
        "\n",
        "xMarket1year['injurytype_fitness'] = 0 #Fitness\n",
        "\n",
        "xMarket1year['injurytype_foot'] = 0 #Foot Injury, Bruised Foot, Fractured Foot,\n",
        "\n",
        "xMarket1year['injurytype_groin'] = 0 #groin strain, Groin Strain (w/Capital), Groin Injury,\n",
        "\n",
        "xMarket1year['injurytype_hamstring'] = 0 #Hamstring Injury\n",
        "\n",
        "xMarket1year['injurytype_hand'] = 0 #Hand Injury, Hand Problems,\n",
        "\n",
        "xMarket1year['injurytype_head'] = 0 #Head Injury\n",
        "\n",
        "xMarket1year['injurytype_heart'] = 0 # Heart Condition\n",
        "\n",
        "xMarket1year['injurytype_hip'] = 0 #Hip problems, Hip Injury,\n",
        "\n",
        "xMarket1year['injurytype_ill'] = 0 #Cold, Influenza, Flu, Abdominal Influenza, Ill, Corona virus, Infection, Virus Infection, Quaratine, Testicular Cancer\n",
        "#include abdominal influenza, cold, ill, covid, influenza, fever, quarantine, infection\n",
        "\n",
        "xMarket1year['injurytype_inflammation'] = 0 #Inflammation\n",
        "\n",
        "xMarket1year['injurytype_knee'] = 0 #Knee Injury, Knee Problems, Knee inflammation, Bruised Knee, Ruptured intraarticular ligament initiation in knee,\n",
        "\n",
        "xMarket1year['injurytype_knock'] = 0 #Knock, Minor Knock,\n",
        "\n",
        "xMarket1year['injurytype_leg'] = 0 #Leg Injury\n",
        "\n",
        "xMarket1year['injurytype_muscular'] = 0 #Muscular problems, Muscle Injury, Biceps femoris muscle injury, Torn Muscle Fibre, Muscle Fatigue\n",
        "\n",
        "xMarket1year['injurytype_pelvis'] = 0 #Pubitis, bruised pelvis, Pelvis Injury, Pubis bone irritation\n",
        "\n",
        "xMarket1year['injurytype_rest'] = 0 #Rest\n",
        "\n",
        "xMarket1year['injurytype_rib'] = 0 #Fractured Rib\n",
        "\n",
        "xMarket1year['injurytype_spine'] = 0 #Lumbar Vertebra Fracture, Lumbar vertebrae problems, Blockade in the spinal, Cervical spine injury\n",
        "\n",
        "xMarket1year['injurytype_thigh'] = 0 #Thigh Muscle Strain, Thigh Problems,\n",
        "\n",
        "xMarket1year['injurytype_toe'] = 0 #Toe Injury\n",
        "\n",
        "xMarket1year['injurytype_unknown'] = 0 #Unknown Injury,\n",
        "\n",
        "xMarket1year['injurytype_other'] = 0 #Surgery, Contracture, Sprain, Laceration"
      ],
      "metadata": {
        "id": "KWdxGsQc9R9q"
      },
      "execution_count": null,
      "outputs": []
    },
    {
      "cell_type": "code",
      "execution_count": null,
      "metadata": {
        "collapsed": true,
        "id": "bfDoV4o276T2"
      },
      "outputs": [],
      "source": [
        "for i, row in xMarket1year.iterrows(): #len(xMarket1year)\n",
        "  s = row['injuryType']\n",
        "  if (s == 'nan'):\n",
        "    xMarket1year.at[i, 'injurytype_nan'] += 1\n",
        "  elif type(s) == str:\n",
        "    injury_list = s.split(\" ,\")\n",
        "    injury_list = injury_list[:-1]\n",
        "    for injury in injury_list:\n",
        "      injury = injury.strip()\n",
        "      if (injury == 'Abdominal Strain' or injury == 'Abdominal muscles injury' or injury == 'Appendectomy' or injury == 'Umbilical hernia'):\n",
        "        xMarket1year.at[i, 'injurytype_abdomen'] += 1\n",
        "      elif (injury == 'Tear in the abductor muscle'):\n",
        "        xMarket1year.at[i, 'injurytype_abductor'] += 1\n",
        "      elif (injury == 'Achilles tendon rupture' or injury == 'Achilles tendon problems' or injury == 'Achilles Irritation' or injury == 'Achilles tendon surgery'):\n",
        "        xMarket1year.at[i, 'injurytype_achilles'] += 1\n",
        "      elif (injury == 'Adductor problems'):\n",
        "        xMarket1year.at[i, 'injurytype_adductor'] += 1\n",
        "      elif (injury == 'Ankle Injury' or injury == 'Sprained ankle' or injury == 'Ankle problems' or injury == 'Torn ankle ligament' or injury == 'Ankle Surgery' or injury == 'Bruised Ankle' or injury == 'Distortion of the ankle' or injury == 'Ruptured syndesmotic ligament' or injury == 'Torn Ankle Ligament' or injury == 'Fracture-dislocation of the ankle' or injury == 'Sprained Ankle' or injury == 'Injury to the ankle' or injury == 'Ankle fracture' or injury == 'Ankle Inflammation' or injury == 'Syndesmotic ligament tear' or injury == 'Ankle Fracture' or injury == 'Capsular rupture in the ankle' or injury == 'Ruptured ankle ligament' or injury == 'Ruptured ankle aigament' or injury == 'Bruise on ankle' or injury == 'Ruptured intraarticular ligament initiation in the ankle' or injury == 'Peroneus tendon injury'):\n",
        "        xMarket1year.at[i, 'injurytype_ankle'] += 1\n",
        "      elif (injury == 'Arm Injury' or injury == 'Shoulder Injury' or injury == 'Shoulder fracture' or injury == 'Elbow Injury' or injury == 'Bruised Acromioclavicular' or injury == 'Fractured Arm' or injury == 'Acromioclavicular Separation'):\n",
        "        xMarket1year.at[i, 'injurytype_arm'] += 1\n",
        "      elif (injury == 'Back Injury' or injury == 'Back trouble' or injury == 'Back bruise' or injury == 'Lumbago'):\n",
        "        xMarket1year.at[i, 'injurytype_back'] += 1\n",
        "      elif (injury == 'Bruise' or injury == 'Bruised Rib' or injury == 'Metatarsal bone bruise' or injury == 'Bone Bruise' or injury == 'Muscle bruise'):\n",
        "        xMarket1year.at[i, 'injurytype_bruise'] += 1\n",
        "      elif (injury == 'Calf Problems' or injury == 'Calf Injury' or injury == 'Calf Strain' or injury == 'Disrupted Calf Muscle' or injury == 'Hairline crack in calfbone' or injury == 'Calf muscle strain'):\n",
        "        xMarket1year.at[i, 'injurytype_calf'] += 1\n",
        "      elif (injury == 'Angina' or injury == 'Chest injury' or injury == 'Pneumothorax' or injury == 'Lung contusion'):\n",
        "        xMarket1year.at[i, 'injurytype_chest'] += 1\n",
        "      elif (injury == 'Collarbone fracture'):\n",
        "        xMarket1year.at[i, 'injurytype_collarbone'] += 1\n",
        "      elif (injury == 'Concussion'):\n",
        "        xMarket1year.at[i, 'injurytype_concussion'] += 1\n",
        "      elif (injury == 'Cruciate Ligament Rupture' or injury == 'Cruciate Ligament Surgery' or injury == 'Cruciate Ligament Strain' or injury == 'Cruciate Ligament Injury' or injury == 'Ruptured cruciate ligament' or injury == 'Partial damage to the cruciate ligament' or injury == 'Cruciate ligament stretch'):\n",
        "        xMarket1year.at[i, 'injurytype_cruciateligament'] += 1\n",
        "      elif (injury == 'Facial Injury' or injury == 'Nose surgery' or injury == 'Dental Surgery' or injury == 'Nasal Bone Fracture' or injury == 'Facial Fracture' or injury == 'Cheekbone Fracture' or injury == 'Eye Injury' or injury == 'Toothache' or injury == 'Frontal bone fracture' or injury == 'Fractured Jaw' or injury == 'Fractured Skull' or injury == 'Fracture of the orbit' or injury == 'Tooth Inflammation' or injury == 'Nose Injury'):\n",
        "        xMarket1year.at[i, 'injurytype_face'] += 1\n",
        "      elif (injury == 'Finger Injury'):\n",
        "        xMarket1year.at[i, 'injurytype_finger'] += 1\n",
        "      elif (injury == 'Fitness'):\n",
        "        xMarket1year.at[i, 'injurytype_fitness'] += 1\n",
        "      elif (injury == 'Foot Injury' or injury == 'Bruised Foot' or injury == 'Fractured Foot' or injury == 'Arch pain' or injury == 'Heel Injury' or injury == 'Hell pain' or injury == 'Heelspur' or injury == 'Heel Bone Injury' or injury == 'Metatarsal Fracture' or injury == 'Heel pain' or injury == 'Plantar fascia' or injury == 'Foot surgery' or injury == 'Hairline crack in the foot' or injury == 'Partial demolition of the plantar fascia'):\n",
        "        xMarket1year.at[i, 'injurytype_foot'] += 1\n",
        "      elif (injury == 'groin strain' or injury == 'Groin Strain' or injury == 'Groin Injury' or injury == 'Groin Surgery' or injury == 'Inguinal Hernia' or injury == 'Pubalgia' or injury == 'Testicular disruption'):\n",
        "        xMarket1year.at[i, 'injurytype_groin'] += 1\n",
        "      elif (injury == 'Hamstring Injury' or injury == 'Pulled hamstring at the adductors' or injury == 'Hamstring contusion'):\n",
        "        xMarket1year.at[i, 'injurytype_hamstring'] += 1\n",
        "      elif (injury == 'Hand Injury' or injury == 'Fractured Hand' or injury == 'Broken wrist' or injury == 'Wirst Injury' or injury == 'scaphoid operation' or injury == 'Hand fracture' or injury == 'Fractured Finger' or injury == 'Thumb Injury'):\n",
        "        xMarket1year.at[i, 'injurytype_hand'] += 1\n",
        "      elif (injury == 'Head Injury' or injury == 'Neck Injury' or injury == 'Neck bruise'):\n",
        "        xMarket1year.at[i, 'injurytype_head'] += 1\n",
        "      elif (injury == 'Heart Condition'):\n",
        "        xMarket1year.at[i, 'injurytype_heart'] += 1\n",
        "      elif (injury == 'Hip problems' or injury == 'Hip Injury' or injury == 'Problems with the hip flexor' or injury == 'Bruised Hip' or injury == 'Pubis bone contusion' or injury == 'Problems with the right hip flexor'):\n",
        "        xMarket1year.at[i, 'injurytype_hip'] += 1\n",
        "      elif (injury == 'Cold' or injury == 'Influenza' or injury == 'Flu' or injury == 'Abdominal Influenza' or injury == 'Ill' or injury == 'Corona virus' or injury == 'Infection' or injury == 'Virus Infection' or injury == 'Quarantine' or injury == 'Fever' or injury == 'Tonsillitis' or injury == 'Testicular Cancer' or injury == 'Pneumonia' or injury == 'Gastric problems' or injury == 'Mononucleosis' or injury == 'Chickenpox' or injury == 'Bronchitis' or injury == 'Stomach complaints' or injury == 'Food Poisoning' or injury == 'intestial virus' or injury == 'Infected wound' or injury == 'Malaria' or injury == 'cancer' or injury == 'Lymphoma' or injury == 'Depression' or injury == 'Cals Sclerosis' or injury == 'Kidney problems'):\n",
        "        xMarket1year.at[i, 'injurytype_ill'] += 1\n",
        "      elif (injury == 'Inflammation'):\n",
        "        xMarket1year.at[i, 'injurytype_inflammation'] += 1\n",
        "      elif (injury == 'Knee Injury' or injury == 'Knee Problems' or injury == 'Knee inflammation' or injury == 'Bruised Knee' or injury == 'Ruptured intraarticular ligament initiation in knee' or injury == 'Knee Surgery' or injury == 'Medial Collateral Ligament Tear' or injury == 'Medial Collateral Ligament Injury' or injury == 'Meniscal Injury' or injury == 'Sideband strain in the knee' or injury == 'Patella tendon irritation' or injury == 'Mensical Laceration' or injury == 'Twisted knee' or injury == 'Torn Knee Ligament' or injury == 'Medial Collateral Ligament Knee Injury' or injury == 'Patella problems' or injury == 'Ruptured lateral collateral ligament' or injury == 'Edema in the knee' or injury == 'Fractured Kneecap' or injury == 'Torn lateral collateral ligament' or injury == 'Torn Meniscus' or injury == 'Torn Collateral Ligament' or injury == 'Patella rupture' or injury == 'Torn knee ligament' or injury == 'Patella tendon luxation' or injury == 'Ruptured knee ligament' or injury == 'Rupture of Outer Meniscus' or injury == 'Double Torn Ligament' or injury == 'Meniscus Damage' or injury == 'Medial Collateral Ligament avulsion' or injury == 'Meniscus irritation' or injury == 'Inflamed ligaments of the knee' or injury == 'Rupture of the pattella'):\n",
        "        xMarket1year.at[i, 'injurytype_knee'] += 1\n",
        "      elif (injury == 'Knock' or injury == 'Minor Knock' or injury == 'Dead Leg' or injury == 'Stiffness'):\n",
        "        xMarket1year.at[i, 'injurytype_knock'] += 1\n",
        "      elif (injury == 'Leg Injury' or injury == 'Strain in the thigh and gluteal muscles' or injury == 'Shinbone injury' or injury == 'Shin bone bruise' or injury == 'Biceps femoris muscle injury' or injury == 'Fibula Fracture' or injury == 'Fractured Leg' or injury == 'Fissure of the fibula' or injury == 'Sciatic Problem' or injury == 'Tibia and Fibula Fracture' or injury == 'Fracture of the lower leg' or injury == 'Tibia Fracture' or injury == 'Inflamed head of fibula'):\n",
        "        xMarket1year.at[i, 'injurytype_leg'] += 1\n",
        "      elif (injury == 'Muscular problems' or injury == 'Muscle Injury' or injury == 'Torn Muscle Fibre' or injury == 'Muscle Fatigue' or injury == 'Torn muscle bundle' or injury == 'Torn Muscle' or injury == 'Muscle fiber tear'):\n",
        "        xMarket1year.at[i, 'injurytype_muscular'] += 1\n",
        "      elif (injury == 'Pubitis' or injury == 'Bruised pelvis' or injury == 'Pelvis Injury' or injury == 'Pubis bone irritation' or injury == 'bruised pelvis' or injury == 'bruised pelvis' or injury == 'Pelvic obliquity'):\n",
        "        xMarket1year.at[i, 'injurytype_pelvis'] += 1\n",
        "      elif (injury == 'Rest'):\n",
        "        xMarket1year.at[i, 'injurytype_rest'] += 1\n",
        "      elif (injury == 'Fractured Rib'):\n",
        "        xMarket1year.at[i, 'injurytype_rib'] += 1\n",
        "      elif (injury == 'Lumbar Vertebra Fracture' or injury == 'Lumbar vertebrae problems' or injury == 'Blockade in the spinal' or injury == 'Cervical spine injury' or injury == 'Lumbar Vertebra Fracture' or injury == 'Lumbar Vertebra Fracture' or injury == 'Vertebra injury'):\n",
        "        xMarket1year.at[i, 'injurytype_spine'] += 1\n",
        "      elif (injury == 'Thigh Muscle Strain' or injury == 'Thigh Problems' or injury == 'Thigh muscle rupture'):\n",
        "        xMarket1year.at[i, 'injurytype_thigh'] += 1\n",
        "      elif (injury == 'Toe Injury' or injury == 'Fractured Toe'):\n",
        "        xMarket1year.at[i, 'injurytype_toe'] += 1\n",
        "      elif (injury == 'Unknown Injury'):\n",
        "        xMarket1year.at[i, 'injurytype_unknown'] += 1\n",
        "      elif (injury == 'Surgery' or injury == 'Contracture' or injury == 'Sprain' or injury == 'Laceration' or injury == 'Fracture' or injury == 'Ligament Injury' or injury == 'Stress response of the bone' or injury == 'Strain' or injury == 'Contused laceration' or injury == 'Muscle partial avulsion' or injury == 'torn tendon' or injury == 'Tear in a joint capsule' or injury == 'tendon irritation' or injury == 'Ligament Problems' or injury == 'Sideband injury' or injury == 'Bone buckling' or injury == 'Stretched Ligament' or injury == 'Pinched nerve' or injury == 'Overstretching' or injury == 'Tendonitis' or injury == 'laceration' or injury == 'Arthroscopie' or injury == 'Herniated Disc' or injury == 'Fatigue fracture' or injury == 'Torn Ligament' or injury == 'Cartilage Damage' or injury == 'Bursitis' or injury == 'Circulation Problems' or injury == 'Tendon crack' or injury == 'Cut' or injury == 'sprain' or injury == 'Burns' or injury == 'open wound' or injury == 'Sideband tear' or injury == 'Marrow bulge' or injury == 'Compartment syndrome' or injury == 'Vestibular disorder' or injury == 'Intraarticular ligament fissure' or injury == 'Ruptured ligaments' or injury == 'Muscular hairline crack' or injury == 'capsular tear' or injury == 'Traffic Accident' or injury == 'Flesh Wound'):\n",
        "        xMarket1year.at[i, 'injurytype_other'] += 1\n",
        "      else:\n",
        "        print(injury)"
      ]
    },
    {
      "cell_type": "code",
      "source": [
        "xMarket1year.insert(5, \"GK\", 0)\n",
        "xMarket1year.insert(6, \"DF\", 0)\n",
        "xMarket1year.insert(7, \"MF\", 0)\n",
        "xMarket1year.insert(8, \"FW\", 0)"
      ],
      "metadata": {
        "id": "JCfzA2lA8Kmz"
      },
      "execution_count": null,
      "outputs": []
    },
    {
      "cell_type": "code",
      "source": [
        "for i, row in xMarket1year.iterrows(): #len(xMarket1year)\n",
        "  s = row['Pos']\n",
        "  if type(s) == str:\n",
        "    pos_list = s.split(\",\")\n",
        "    for pos in pos_list:\n",
        "      pos = pos.strip()\n",
        "      if (pos == 'GK'):\n",
        "        xMarket1year.at[i, 'GK'] += 1\n",
        "      elif (pos == 'DF'):\n",
        "        xMarket1year.at[i, 'DF'] += 1\n",
        "      elif (pos == 'MF'):\n",
        "        xMarket1year.at[i, 'MF'] += 1\n",
        "      elif (pos == 'FW'):\n",
        "        xMarket1year.at[i, 'FW'] += 1"
      ],
      "metadata": {
        "id": "igkRoSb08ROf"
      },
      "execution_count": null,
      "outputs": []
    },
    {
      "cell_type": "code",
      "source": [
        "transferValue = xMarket1year.pop(\"player_market_value_euro\")\n",
        "xMarket1year[\"player_market_value_euro\"] = transferValue"
      ],
      "metadata": {
        "id": "FwJMQbeYFEu7"
      },
      "execution_count": null,
      "outputs": []
    },
    {
      "cell_type": "markdown",
      "source": [
        "### Year 2"
      ],
      "metadata": {
        "id": "wH-NdQCZ9ih1"
      }
    },
    {
      "cell_type": "code",
      "execution_count": null,
      "metadata": {
        "id": "H9j7M7V976T1"
      },
      "outputs": [],
      "source": [
        "xMarket2year['injurytype_nan'] = 0 #nan\n",
        "\n",
        "xMarket2year['injurytype_abdomen'] = 0 #Abdominal Strain\n",
        "\n",
        "xMarket2year['injurytype_abductor'] = 0 #Tear in the abductor muscle,\n",
        "\n",
        "xMarket2year['injurytype_achilles'] = 0 #Achilles tendon rupture, Achilles tendon problems,\n",
        "\n",
        "xMarket2year['injurytype_adductor'] = 0 #Adductor problems,\n",
        "\n",
        "xMarket2year['injurytype_ankle'] = 0 #Ankle Injury, Sprained ankle, Ankle problems, Torn ankle ligament, Ankle Surgery\n",
        "\n",
        "xMarket2year['injurytype_arm'] = 0 #Arm Injury, Wirst Injury, Shoulder Injury\n",
        "\n",
        "xMarket2year['injurytype_back'] = 0 #Back Injury, Back trouble, Back bruise\n",
        "\n",
        "xMarket2year['injurytype_bruise'] = 0 #Bruise\n",
        "\n",
        "xMarket2year['injurytype_calf'] = 0 #Calf Problems, Calf Injury, Calf Strain\n",
        "\n",
        "xMarket2year['injurytype_chest'] = 0 #Angina,\n",
        "\n",
        "xMarket2year['injurytype_collarbone'] = 0 #Collarbone fracture\n",
        "\n",
        "xMarket2year['injurytype_concussion'] = 0 #Concussion\n",
        "\n",
        "xMarket2year['injurytype_cruciateligament'] = 0 #Cruciate Ligament Rupture, Cruciate Ligament Surgery, Cruciate Ligament Strain\n",
        "\n",
        "xMarket2year['injurytype_face'] = 0 #Facial Injury\n",
        "\n",
        "xMarket2year['injurytype_finger'] = 0 #Finger Injury\n",
        "\n",
        "xMarket2year['injurytype_fitness'] = 0 #Fitness\n",
        "\n",
        "xMarket2year['injurytype_foot'] = 0 #Foot Injury, Bruised Foot, Fractured Foot,\n",
        "\n",
        "xMarket2year['injurytype_groin'] = 0 #groin strain, Groin Strain (w/Capital), Groin Injury,\n",
        "\n",
        "xMarket2year['injurytype_hamstring'] = 0 #Hamstring Injury\n",
        "\n",
        "xMarket2year['injurytype_hand'] = 0 #Hand Injury, Hand Problems,\n",
        "\n",
        "xMarket2year['injurytype_head'] = 0 #Head Injury\n",
        "\n",
        "xMarket2year['injurytype_heart'] = 0 # Heart Condition\n",
        "\n",
        "xMarket2year['injurytype_hip'] = 0 #Hip problems, Hip Injury,\n",
        "\n",
        "xMarket2year['injurytype_ill'] = 0 #Cold, Influenza, Flu, Abdominal Influenza, Ill, Corona virus, Infection, Virus Infection, Quaratine, Testicular Cancer\n",
        "#include abdominal influenza, cold, ill, covid, influenza, fever, quarantine, infection\n",
        "\n",
        "xMarket2year['injurytype_inflammation'] = 0 #Inflammation\n",
        "\n",
        "xMarket2year['injurytype_knee'] = 0 #Knee Injury, Knee Problems, Knee inflammation, Bruised Knee, Ruptured intraarticular ligament initiation in knee,\n",
        "\n",
        "xMarket2year['injurytype_knock'] = 0 #Knock, Minor Knock,\n",
        "\n",
        "xMarket2year['injurytype_leg'] = 0 #Leg Injury\n",
        "\n",
        "xMarket2year['injurytype_muscular'] = 0 #Muscular problems, Muscle Injury, Biceps femoris muscle injury, Torn Muscle Fibre, Muscle Fatigue\n",
        "\n",
        "xMarket2year['injurytype_pelvis'] = 0 #Pubitis, bruised pelvis, Pelvis Injury, Pubis bone irritation\n",
        "\n",
        "xMarket2year['injurytype_rest'] = 0 #Rest\n",
        "\n",
        "xMarket2year['injurytype_rib'] = 0 #Fractured Rib\n",
        "\n",
        "xMarket2year['injurytype_spine'] = 0 #Lumbar Vertebra Fracture, Lumbar vertebrae problems, Blockade in the spinal, Cervical spine injury\n",
        "\n",
        "xMarket2year['injurytype_thigh'] = 0 #Thigh Muscle Strain, Thigh Problems,\n",
        "\n",
        "xMarket2year['injurytype_toe'] = 0 #Toe Injury\n",
        "\n",
        "xMarket2year['injurytype_unknown'] = 0 #Unknown Injury,\n",
        "\n",
        "xMarket2year['injurytype_other'] = 0 #Surgery, Contracture, Sprain, Laceration"
      ]
    },
    {
      "cell_type": "code",
      "execution_count": null,
      "metadata": {
        "id": "pL9aOw3C76T2"
      },
      "outputs": [],
      "source": [
        "for i, row in xMarket2year.iterrows(): #len(x1year)\n",
        "  s = row['injuryType']\n",
        "  if (s == 'nan'):\n",
        "    xMarket2year.at[i, 'injurytype_nan'] += 1\n",
        "  elif type(s) == str:\n",
        "    injury_list = s.split(\" ,\")\n",
        "    injury_list = injury_list[:-1]\n",
        "    for injury in injury_list:\n",
        "      injury = injury.strip()\n",
        "      if (injury == 'Abdominal Strain' or injury == 'Abdominal muscles injury' or injury == 'Appendectomy' or injury == 'Umbilical hernia'):\n",
        "        xMarket2year.at[i, 'injurytype_abdomen'] += 1\n",
        "      elif (injury == 'Tear in the abductor muscle'):\n",
        "        xMarket2year.at[i, 'injurytype_abductor'] += 1\n",
        "      elif (injury == 'Achilles tendon rupture' or injury == 'Achilles tendon problems' or injury == 'Achilles Irritation' or injury == 'Achilles tendon surgery'):\n",
        "        xMarket2year.at[i, 'injurytype_achilles'] += 1\n",
        "      elif (injury == 'Adductor problems'):\n",
        "        xMarket2year.at[i, 'injurytype_adductor'] += 1\n",
        "      elif (injury == 'Ankle Injury' or injury == 'Sprained ankle' or injury == 'Ankle problems' or injury == 'Torn ankle ligament' or injury == 'Ankle Surgery' or injury == 'Bruised Ankle' or injury == 'Distortion of the ankle' or injury == 'Ruptured syndesmotic ligament' or injury == 'Torn Ankle Ligament' or injury == 'Fracture-dislocation of the ankle' or injury == 'Sprained Ankle' or injury == 'Injury to the ankle' or injury == 'Ankle fracture' or injury == 'Ankle Inflammation' or injury == 'Syndesmotic ligament tear' or injury == 'Ankle Fracture' or injury == 'Capsular rupture in the ankle' or injury == 'Ruptured ankle ligament' or injury == 'Ruptured ankle aigament' or injury == 'Bruise on ankle' or injury == 'Ruptured intraarticular ligament initiation in the ankle' or injury == 'Peroneus tendon injury'):\n",
        "        xMarket2year.at[i, 'injurytype_ankle'] += 1\n",
        "      elif (injury == 'Arm Injury' or injury == 'Shoulder Injury' or injury == 'Shoulder fracture' or injury == 'Elbow Injury' or injury == 'Bruised Acromioclavicular' or injury == 'Fractured Arm' or injury == 'Acromioclavicular Separation'):\n",
        "        xMarket2year.at[i, 'injurytype_arm'] += 1\n",
        "      elif (injury == 'Back Injury' or injury == 'Back trouble' or injury == 'Back bruise' or injury == 'Lumbago'):\n",
        "        xMarket2year.at[i, 'injurytype_back'] += 1\n",
        "      elif (injury == 'Bruise' or injury == 'Bruised Rib' or injury == 'Metatarsal bone bruise' or injury == 'Bone Bruise' or injury == 'Muscle bruise'):\n",
        "        xMarket2year.at[i, 'injurytype_bruise'] += 1\n",
        "      elif (injury == 'Calf Problems' or injury == 'Calf Injury' or injury == 'Calf Strain' or injury == 'Disrupted Calf Muscle' or injury == 'Hairline crack in calfbone' or injury == 'Calf muscle strain'):\n",
        "        xMarket2year.at[i, 'injurytype_calf'] += 1\n",
        "      elif (injury == 'Angina' or injury == 'Chest injury' or injury == 'Pneumothorax' or injury == 'Lung contusion'):\n",
        "        xMarket2year.at[i, 'injurytype_chest'] += 1\n",
        "      elif (injury == 'Collarbone fracture'):\n",
        "        xMarket2year.at[i, 'injurytype_collarbone'] += 1\n",
        "      elif (injury == 'Concussion'):\n",
        "        xMarket2year.at[i, 'injurytype_concussion'] += 1\n",
        "      elif (injury == 'Cruciate Ligament Rupture' or injury == 'Cruciate Ligament Surgery' or injury == 'Cruciate Ligament Strain' or injury == 'Cruciate Ligament Injury' or injury == 'Ruptured cruciate ligament' or injury == 'Partial damage to the cruciate ligament' or injury == 'Cruciate ligament stretch'):\n",
        "        xMarket2year.at[i, 'injurytype_cruciateligament'] += 1\n",
        "      elif (injury == 'Facial Injury' or injury == 'Nose surgery' or injury == 'Dental Surgery' or injury == 'Nasal Bone Fracture' or injury == 'Facial Fracture' or injury == 'Cheekbone Fracture' or injury == 'Eye Injury' or injury == 'Toothache' or injury == 'Frontal bone fracture' or injury == 'Fractured Jaw' or injury == 'Fractured Skull' or injury == 'Fracture of the orbit' or injury == 'Tooth Inflammation' or injury == 'Nose Injury'):\n",
        "        xMarket2year.at[i, 'injurytype_face'] += 1\n",
        "      elif (injury == 'Finger Injury'):\n",
        "        xMarket2year.at[i, 'injurytype_finger'] += 1\n",
        "      elif (injury == 'Fitness'):\n",
        "        xMarket2year.at[i, 'injurytype_fitness'] += 1\n",
        "      elif (injury == 'Foot Injury' or injury == 'Bruised Foot' or injury == 'Fractured Foot' or injury == 'Arch pain' or injury == 'Heel Injury' or injury == 'Hell pain' or injury == 'Heelspur' or injury == 'Heel Bone Injury' or injury == 'Metatarsal Fracture' or injury == 'Heel pain' or injury == 'Plantar fascia' or injury == 'Foot surgery' or injury == 'Hairline crack in the foot' or injury == 'Partial demolition of the plantar fascia'):\n",
        "        xMarket2year.at[i, 'injurytype_foot'] += 1\n",
        "      elif (injury == 'groin strain' or injury == 'Groin Strain' or injury == 'Groin Injury' or injury == 'Groin Surgery' or injury == 'Inguinal Hernia' or injury == 'Pubalgia' or injury == 'Testicular disruption'):\n",
        "        xMarket2year.at[i, 'injurytype_groin'] += 1\n",
        "      elif (injury == 'Hamstring Injury' or injury == 'Pulled hamstring at the adductors' or injury == 'Hamstring contusion'):\n",
        "        xMarket2year.at[i, 'injurytype_hamstring'] += 1\n",
        "      elif (injury == 'Hand Injury' or injury == 'Fractured Hand' or injury == 'Broken wrist' or injury == 'Wirst Injury' or injury == 'scaphoid operation' or injury == 'Hand fracture' or injury == 'Fractured Finger' or injury == 'Thumb Injury'):\n",
        "        xMarket2year.at[i, 'injurytype_hand'] += 1\n",
        "      elif (injury == 'Head Injury' or injury == 'Neck Injury' or injury == 'Neck bruise'):\n",
        "        xMarket2year.at[i, 'injurytype_head'] += 1\n",
        "      elif (injury == 'Heart Condition'):\n",
        "        xMarket2year.at[i, 'injurytype_heart'] += 1\n",
        "      elif (injury == 'Hip problems' or injury == 'Hip Injury' or injury == 'Problems with the hip flexor' or injury == 'Bruised Hip' or injury == 'Pubis bone contusion' or injury == 'Problems with the right hip flexor'):\n",
        "        xMarket2year.at[i, 'injurytype_hip'] += 1\n",
        "      elif (injury == 'Cold' or injury == 'Influenza' or injury == 'Flu' or injury == 'Abdominal Influenza' or injury == 'Ill' or injury == 'Corona virus' or injury == 'Infection' or injury == 'Virus Infection' or injury == 'Quarantine' or injury == 'Fever' or injury == 'Tonsillitis' or injury == 'Testicular Cancer' or injury == 'Pneumonia' or injury == 'Gastric problems' or injury == 'Mononucleosis' or injury == 'Chickenpox' or injury == 'Bronchitis' or injury == 'Stomach complaints' or injury == 'Food Poisoning' or injury == 'intestial virus' or injury == 'Infected wound' or injury == 'Malaria' or injury == 'cancer' or injury == 'Lymphoma' or injury == 'Depression' or injury == 'Cals Sclerosis' or injury == 'Kidney problems'):\n",
        "        xMarket2year.at[i, 'injurytype_ill'] += 1\n",
        "      elif (injury == 'Inflammation'):\n",
        "        xMarket2year.at[i, 'injurytype_inflammation'] += 1\n",
        "      elif (injury == 'Knee Injury' or injury == 'Knee Problems' or injury == 'Knee inflammation' or injury == 'Bruised Knee' or injury == 'Ruptured intraarticular ligament initiation in knee' or injury == 'Knee Surgery' or injury == 'Medial Collateral Ligament Tear' or injury == 'Medial Collateral Ligament Injury' or injury == 'Meniscal Injury' or injury == 'Sideband strain in the knee' or injury == 'Patella tendon irritation' or injury == 'Mensical Laceration' or injury == 'Twisted knee' or injury == 'Torn Knee Ligament' or injury == 'Medial Collateral Ligament Knee Injury' or injury == 'Patella problems' or injury == 'Ruptured lateral collateral ligament' or injury == 'Edema in the knee' or injury == 'Fractured Kneecap' or injury == 'Torn lateral collateral ligament' or injury == 'Torn Meniscus' or injury == 'Torn Collateral Ligament' or injury == 'Patella rupture' or injury == 'Torn knee ligament' or injury == 'Patella tendon luxation' or injury == 'Ruptured knee ligament' or injury == 'Rupture of Outer Meniscus' or injury == 'Double Torn Ligament' or injury == 'Meniscus Damage' or injury == 'Medial Collateral Ligament avulsion' or injury == 'Meniscus irritation' or injury == 'Inflamed ligaments of the knee' or injury == 'Rupture of the pattella'):\n",
        "        xMarket2year.at[i, 'injurytype_knee'] += 1\n",
        "      elif (injury == 'Knock' or injury == 'Minor Knock' or injury == 'Dead Leg' or injury == 'Stiffness'):\n",
        "        xMarket2year.at[i, 'injurytype_knock'] += 1\n",
        "      elif (injury == 'Leg Injury' or injury == 'Strain in the thigh and gluteal muscles' or injury == 'Shinbone injury' or injury == 'Shin bone bruise' or injury == 'Biceps femoris muscle injury' or injury == 'Fibula Fracture' or injury == 'Fractured Leg' or injury == 'Fissure of the fibula' or injury == 'Sciatic Problem' or injury == 'Tibia and Fibula Fracture' or injury == 'Fracture of the lower leg' or injury == 'Tibia Fracture' or injury == 'Inflamed head of fibula'):\n",
        "        xMarket2year.at[i, 'injurytype_leg'] += 1\n",
        "      elif (injury == 'Muscular problems' or injury == 'Muscle Injury' or injury == 'Torn Muscle Fibre' or injury == 'Muscle Fatigue' or injury == 'Torn muscle bundle' or injury == 'Torn Muscle' or injury == 'Muscle fiber tear'):\n",
        "        xMarket2year.at[i, 'injurytype_muscular'] += 1\n",
        "      elif (injury == 'Pubitis' or injury == 'Bruised pelvis' or injury == 'Pelvis Injury' or injury == 'Pubis bone irritation' or injury == 'bruised pelvis' or injury == 'bruised pelvis' or injury == 'Pelvic obliquity'):\n",
        "        xMarket2year.at[i, 'injurytype_pelvis'] += 1\n",
        "      elif (injury == 'Rest'):\n",
        "        xMarket2year.at[i, 'injurytype_rest'] += 1\n",
        "      elif (injury == 'Fractured Rib'):\n",
        "        xMarket2year.at[i, 'injurytype_rib'] += 1\n",
        "      elif (injury == 'Lumbar Vertebra Fracture' or injury == 'Lumbar vertebrae problems' or injury == 'Blockade in the spinal' or injury == 'Cervical spine injury' or injury == 'Lumbar Vertebra Fracture' or injury == 'Lumbar Vertebra Fracture' or injury == 'Vertebra injury'):\n",
        "        xMarket2year.at[i, 'injurytype_spine'] += 1\n",
        "      elif (injury == 'Thigh Muscle Strain' or injury == 'Thigh Problems' or injury == 'Thigh muscle rupture'):\n",
        "        xMarket2year.at[i, 'injurytype_thigh'] += 1\n",
        "      elif (injury == 'Toe Injury' or injury == 'Fractured Toe'):\n",
        "        xMarket2year.at[i, 'injurytype_toe'] += 1\n",
        "      elif (injury == 'Unknown Injury'):\n",
        "        xMarket2year.at[i, 'injurytype_unknown'] += 1\n",
        "      elif (injury == 'Surgery' or injury == 'Contracture' or injury == 'Sprain' or injury == 'Laceration' or injury == 'Fracture' or injury == 'Ligament Injury' or injury == 'Stress response of the bone' or injury == 'Strain' or injury == 'Contused laceration' or injury == 'Muscle partial avulsion' or injury == 'torn tendon' or injury == 'Tear in a joint capsule' or injury == 'tendon irritation' or injury == 'Ligament Problems' or injury == 'Sideband injury' or injury == 'Bone buckling' or injury == 'Stretched Ligament' or injury == 'Pinched nerve' or injury == 'Overstretching' or injury == 'Tendonitis' or injury == 'laceration' or injury == 'Arthroscopie' or injury == 'Herniated Disc' or injury == 'Fatigue fracture' or injury == 'Torn Ligament' or injury == 'Cartilage Damage' or injury == 'Bursitis' or injury == 'Circulation Problems' or injury == 'Tendon crack' or injury == 'Cut' or injury == 'sprain' or injury == 'Burns' or injury == 'open wound' or injury == 'Sideband tear' or injury == 'Marrow bulge' or injury == 'Compartment syndrome' or injury == 'Vestibular disorder' or injury == 'Intraarticular ligament fissure' or injury == 'Ruptured ligaments' or injury == 'Muscular hairline crack' or injury == 'capsular tear' or injury == 'Traffic Accident' or injury == 'Flesh Wound'):\n",
        "        xMarket2year.at[i, 'injurytype_other'] += 1\n",
        "      else:\n",
        "        print(injury)"
      ]
    },
    {
      "cell_type": "code",
      "source": [
        "xMarket2year.insert(5, \"GK\", 0)\n",
        "xMarket2year.insert(6, \"DF\", 0)\n",
        "xMarket2year.insert(7, \"MF\", 0)\n",
        "xMarket2year.insert(8, \"FW\", 0)"
      ],
      "metadata": {
        "id": "3MRS-j5gGzNi"
      },
      "execution_count": null,
      "outputs": []
    },
    {
      "cell_type": "code",
      "source": [
        "for i, row in xMarket2year.iterrows(): #len(xMarket2year)\n",
        "  s = row['Pos']\n",
        "  if type(s) == str:\n",
        "    pos_list = s.split(\",\")\n",
        "    for pos in pos_list:\n",
        "      pos = pos.strip()\n",
        "      if (pos == 'GK'):\n",
        "        xMarket2year.at[i, 'GK'] += 1\n",
        "      elif (pos == 'DF'):\n",
        "        xMarket2year.at[i, 'DF'] += 1\n",
        "      elif (pos == 'MF'):\n",
        "        xMarket2year.at[i, 'MF'] += 1\n",
        "      elif (pos == 'FW'):\n",
        "        xMarket2year.at[i, 'FW'] += 1"
      ],
      "metadata": {
        "id": "qnKUUWagGzNj"
      },
      "execution_count": null,
      "outputs": []
    },
    {
      "cell_type": "code",
      "source": [
        "transferValue = xMarket2year.pop(\"player_market_value_euro\")\n",
        "xMarket2year[\"player_market_value_euro\"] = transferValue"
      ],
      "metadata": {
        "id": "Hsqv6d95GzNj"
      },
      "execution_count": null,
      "outputs": []
    },
    {
      "cell_type": "markdown",
      "source": [
        "### Year 3"
      ],
      "metadata": {
        "id": "UnFkBKVx9l6L"
      }
    },
    {
      "cell_type": "code",
      "execution_count": null,
      "metadata": {
        "id": "NkdQ6kWa76T1"
      },
      "outputs": [],
      "source": [
        "#nan, lower body, upper body, ill, head, other\n",
        "xMarket3year['injurytype_nan'] = 0 #nan\n",
        "\n",
        "xMarket3year['injurytype_abdomen'] = 0 #Abdominal Strain\n",
        "\n",
        "xMarket3year['injurytype_abductor'] = 0 #Tear in the abductor muscle,\n",
        "\n",
        "xMarket3year['injurytype_achilles'] = 0 #Achilles tendon rupture, Achilles tendon problems,\n",
        "\n",
        "xMarket3year['injurytype_adductor'] = 0 #Adductor problems,\n",
        "\n",
        "xMarket3year['injurytype_ankle'] = 0 #Ankle Injury, Sprained ankle, Ankle problems, Torn ankle ligament, Ankle Surgery\n",
        "\n",
        "xMarket3year['injurytype_arm'] = 0 #Arm Injury, Wirst Injury, Shoulder Injury\n",
        "\n",
        "xMarket3year['injurytype_back'] = 0 #Back Injury, Back trouble, Back bruise\n",
        "\n",
        "xMarket3year['injurytype_bruise'] = 0 #Bruise\n",
        "\n",
        "xMarket3year['injurytype_calf'] = 0 #Calf Problems, Calf Injury, Calf Strain\n",
        "\n",
        "xMarket3year['injurytype_chest'] = 0 #Angina,\n",
        "\n",
        "xMarket3year['injurytype_collarbone'] = 0 #Collarbone fracture\n",
        "\n",
        "xMarket3year['injurytype_concussion'] = 0 #Concussion\n",
        "\n",
        "xMarket3year['injurytype_cruciateligament'] = 0 #Cruciate Ligament Rupture, Cruciate Ligament Surgery, Cruciate Ligament Strain\n",
        "\n",
        "xMarket3year['injurytype_face'] = 0 #Facial Injury\n",
        "\n",
        "xMarket3year['injurytype_finger'] = 0 #Finger Injury\n",
        "\n",
        "xMarket3year['injurytype_fitness'] = 0 #Fitness\n",
        "\n",
        "xMarket3year['injurytype_foot'] = 0 #Foot Injury, Bruised Foot, Fractured Foot,\n",
        "\n",
        "xMarket3year['injurytype_groin'] = 0 #groin strain, Groin Strain (w/Capital), Groin Injury,\n",
        "\n",
        "xMarket3year['injurytype_hamstring'] = 0 #Hamstring Injury\n",
        "\n",
        "xMarket3year['injurytype_hand'] = 0 #Hand Injury, Hand Problems,\n",
        "\n",
        "xMarket3year['injurytype_head'] = 0 #Head Injury\n",
        "\n",
        "xMarket3year['injurytype_heart'] = 0 # Heart Condition\n",
        "\n",
        "xMarket3year['injurytype_hip'] = 0 #Hip problems, Hip Injury,\n",
        "\n",
        "xMarket3year['injurytype_ill'] = 0 #Cold, Influenza, Flu, Abdominal Influenza, Ill, Corona virus, Infection, Virus Infection, Quaratine, Testicular Cancer\n",
        "#include abdominal influenza, cold, ill, covid, influenza, fever, quarantine, infection\n",
        "\n",
        "xMarket3year['injurytype_inflammation'] = 0 #Inflammation\n",
        "\n",
        "xMarket3year['injurytype_knee'] = 0 #Knee Injury, Knee Problems, Knee inflammation, Bruised Knee, Ruptured intraarticular ligament initiation in knee,\n",
        "\n",
        "xMarket3year['injurytype_knock'] = 0 #Knock, Minor Knock,\n",
        "\n",
        "xMarket3year['injurytype_leg'] = 0 #Leg Injury\n",
        "\n",
        "xMarket3year['injurytype_muscular'] = 0 #Muscular problems, Muscle Injury, Biceps femoris muscle injury, Torn Muscle Fibre, Muscle Fatigue\n",
        "\n",
        "xMarket3year['injurytype_pelvis'] = 0 #Pubitis, bruised pelvis, Pelvis Injury, Pubis bone irritation\n",
        "\n",
        "xMarket3year['injurytype_rest'] = 0 #Rest\n",
        "\n",
        "xMarket3year['injurytype_rib'] = 0 #Fractured Rib\n",
        "\n",
        "xMarket3year['injurytype_spine'] = 0 #Lumbar Vertebra Fracture, Lumbar vertebrae problems, Blockade in the spinal, Cervical spine injury\n",
        "\n",
        "xMarket3year['injurytype_thigh'] = 0 #Thigh Muscle Strain, Thigh Problems,\n",
        "\n",
        "xMarket3year['injurytype_toe'] = 0 #Toe Injury\n",
        "\n",
        "xMarket3year['injurytype_unknown'] = 0 #Unknown Injury,\n",
        "\n",
        "xMarket3year['injurytype_other'] = 0 #Surgery, Contracture, Sprain, Laceration"
      ]
    },
    {
      "cell_type": "code",
      "execution_count": null,
      "metadata": {
        "id": "nBmZemNL76T3"
      },
      "outputs": [],
      "source": [
        "for i, row in xMarket3year.iterrows(): #len(x1year)\n",
        "  s = row['injuryType']\n",
        "  if (s == 'nan'):\n",
        "    xMarket3year.at[i, 'injurytype_nan'] += 1\n",
        "  elif type(s) == str:\n",
        "    injury_list = s.split(\" ,\")\n",
        "    injury_list = injury_list[:-1]\n",
        "    for injury in injury_list:\n",
        "      injury = injury.strip()\n",
        "      if (injury == 'Abdominal Strain' or injury == 'Abdominal muscles injury' or injury == 'Appendectomy' or injury == 'Umbilical hernia'):\n",
        "        xMarket3year.at[i, 'injurytype_abdomen'] += 1\n",
        "      elif (injury == 'Tear in the abductor muscle'):\n",
        "        xMarket3year.at[i, 'injurytype_abductor'] += 1\n",
        "      elif (injury == 'Achilles tendon rupture' or injury == 'Achilles tendon problems' or injury == 'Achilles Irritation' or injury == 'Achilles tendon surgery'):\n",
        "        xMarket3year.at[i, 'injurytype_achilles'] += 1\n",
        "      elif (injury == 'Adductor problems'):\n",
        "        xMarket3year.at[i, 'injurytype_adductor'] += 1\n",
        "      elif (injury == 'Ankle Injury' or injury == 'Sprained ankle' or injury == 'Ankle problems' or injury == 'Torn ankle ligament' or injury == 'Ankle Surgery' or injury == 'Bruised Ankle' or injury == 'Distortion of the ankle' or injury == 'Ruptured syndesmotic ligament' or injury == 'Torn Ankle Ligament' or injury == 'Fracture-dislocation of the ankle' or injury == 'Sprained Ankle' or injury == 'Injury to the ankle' or injury == 'Ankle fracture' or injury == 'Ankle Inflammation' or injury == 'Syndesmotic ligament tear' or injury == 'Ankle Fracture' or injury == 'Capsular rupture in the ankle' or injury == 'Ruptured ankle ligament' or injury == 'Ruptured ankle aigament' or injury == 'Bruise on ankle' or injury == 'Ruptured intraarticular ligament initiation in the ankle' or injury == 'Peroneus tendon injury'):\n",
        "        xMarket3year.at[i, 'injurytype_ankle'] += 1\n",
        "      elif (injury == 'Arm Injury' or injury == 'Shoulder Injury' or injury == 'Shoulder fracture' or injury == 'Elbow Injury' or injury == 'Bruised Acromioclavicular' or injury == 'Fractured Arm' or injury == 'Acromioclavicular Separation'):\n",
        "        xMarket3year.at[i, 'injurytype_arm'] += 1\n",
        "      elif (injury == 'Back Injury' or injury == 'Back trouble' or injury == 'Back bruise' or injury == 'Lumbago'):\n",
        "        xMarket3year.at[i, 'injurytype_back'] += 1\n",
        "      elif (injury == 'Bruise' or injury == 'Bruised Rib' or injury == 'Metatarsal bone bruise' or injury == 'Bone Bruise' or injury == 'Muscle bruise'):\n",
        "        xMarket3year.at[i, 'injurytype_bruise'] += 1\n",
        "      elif (injury == 'Calf Problems' or injury == 'Calf Injury' or injury == 'Calf Strain' or injury == 'Disrupted Calf Muscle' or injury == 'Hairline crack in calfbone' or injury == 'Calf muscle strain'):\n",
        "        xMarket3year.at[i, 'injurytype_calf'] += 1\n",
        "      elif (injury == 'Angina' or injury == 'Chest injury' or injury == 'Pneumothorax' or injury == 'Lung contusion'):\n",
        "        xMarket3year.at[i, 'injurytype_chest'] += 1\n",
        "      elif (injury == 'Collarbone fracture'):\n",
        "        xMarket3year.at[i, 'injurytype_collarbone'] += 1\n",
        "      elif (injury == 'Concussion'):\n",
        "        xMarket3year.at[i, 'injurytype_concussion'] += 1\n",
        "      elif (injury == 'Cruciate Ligament Rupture' or injury == 'Cruciate Ligament Surgery' or injury == 'Cruciate Ligament Strain' or injury == 'Cruciate Ligament Injury' or injury == 'Ruptured cruciate ligament' or injury == 'Partial damage to the cruciate ligament' or injury == 'Cruciate ligament stretch'):\n",
        "        xMarket3year.at[i, 'injurytype_cruciateligament'] += 1\n",
        "      elif (injury == 'Facial Injury' or injury == 'Nose surgery' or injury == 'Dental Surgery' or injury == 'Nasal Bone Fracture' or injury == 'Facial Fracture' or injury == 'Cheekbone Fracture' or injury == 'Eye Injury' or injury == 'Toothache' or injury == 'Frontal bone fracture' or injury == 'Fractured Jaw' or injury == 'Fractured Skull' or injury == 'Fracture of the orbit' or injury == 'Tooth Inflammation' or injury == 'Nose Injury'):\n",
        "        xMarket3year.at[i, 'injurytype_face'] += 1\n",
        "      elif (injury == 'Finger Injury'):\n",
        "        xMarket3year.at[i, 'injurytype_finger'] += 1\n",
        "      elif (injury == 'Fitness'):\n",
        "        xMarket3year.at[i, 'injurytype_fitness'] += 1\n",
        "      elif (injury == 'Foot Injury' or injury == 'Bruised Foot' or injury == 'Fractured Foot' or injury == 'Arch pain' or injury == 'Heel Injury' or injury == 'Hell pain' or injury == 'Heelspur' or injury == 'Heel Bone Injury' or injury == 'Metatarsal Fracture' or injury == 'Heel pain' or injury == 'Plantar fascia' or injury == 'Foot surgery' or injury == 'Hairline crack in the foot' or injury == 'Partial demolition of the plantar fascia'):\n",
        "        xMarket3year.at[i, 'injurytype_foot'] += 1\n",
        "      elif (injury == 'groin strain' or injury == 'Groin Strain' or injury == 'Groin Injury' or injury == 'Groin Surgery' or injury == 'Inguinal Hernia' or injury == 'Pubalgia' or injury == 'Testicular disruption'):\n",
        "        xMarket3year.at[i, 'injurytype_groin'] += 1\n",
        "      elif (injury == 'Hamstring Injury' or injury == 'Pulled hamstring at the adductors' or injury == 'Hamstring contusion'):\n",
        "        xMarket3year.at[i, 'injurytype_hamstring'] += 1\n",
        "      elif (injury == 'Hand Injury' or injury == 'Fractured Hand' or injury == 'Broken wrist' or injury == 'Wirst Injury' or injury == 'scaphoid operation' or injury == 'Hand fracture' or injury == 'Fractured Finger' or injury == 'Thumb Injury'):\n",
        "        xMarket3year.at[i, 'injurytype_hand'] += 1\n",
        "      elif (injury == 'Head Injury' or injury == 'Neck Injury' or injury == 'Neck bruise'):\n",
        "        xMarket3year.at[i, 'injurytype_head'] += 1\n",
        "      elif (injury == 'Heart Condition'):\n",
        "        xMarket3year.at[i, 'injurytype_heart'] += 1\n",
        "      elif (injury == 'Hip problems' or injury == 'Hip Injury' or injury == 'Problems with the hip flexor' or injury == 'Bruised Hip' or injury == 'Pubis bone contusion' or injury == 'Problems with the right hip flexor'):\n",
        "        xMarket3year.at[i, 'injurytype_hip'] += 1\n",
        "      elif (injury == 'Cold' or injury == 'Influenza' or injury == 'Flu' or injury == 'Abdominal Influenza' or injury == 'Ill' or injury == 'Corona virus' or injury == 'Infection' or injury == 'Virus Infection' or injury == 'Quarantine' or injury == 'Fever' or injury == 'Tonsillitis' or injury == 'Testicular Cancer' or injury == 'Pneumonia' or injury == 'Gastric problems' or injury == 'Mononucleosis' or injury == 'Chickenpox' or injury == 'Bronchitis' or injury == 'Stomach complaints' or injury == 'Food Poisoning' or injury == 'intestial virus' or injury == 'Infected wound' or injury == 'Malaria' or injury == 'cancer' or injury == 'Lymphoma' or injury == 'Depression' or injury == 'Cals Sclerosis' or injury == 'Kidney problems'):\n",
        "        xMarket3year.at[i, 'injurytype_ill'] += 1\n",
        "      elif (injury == 'Inflammation'):\n",
        "        xMarket3year.at[i, 'injurytype_inflammation'] += 1\n",
        "      elif (injury == 'Knee Injury' or injury == 'Knee Problems' or injury == 'Knee inflammation' or injury == 'Bruised Knee' or injury == 'Ruptured intraarticular ligament initiation in knee' or injury == 'Knee Surgery' or injury == 'Medial Collateral Ligament Tear' or injury == 'Medial Collateral Ligament Injury' or injury == 'Meniscal Injury' or injury == 'Sideband strain in the knee' or injury == 'Patella tendon irritation' or injury == 'Mensical Laceration' or injury == 'Twisted knee' or injury == 'Torn Knee Ligament' or injury == 'Medial Collateral Ligament Knee Injury' or injury == 'Patella problems' or injury == 'Ruptured lateral collateral ligament' or injury == 'Edema in the knee' or injury == 'Fractured Kneecap' or injury == 'Torn lateral collateral ligament' or injury == 'Torn Meniscus' or injury == 'Torn Collateral Ligament' or injury == 'Patella rupture' or injury == 'Torn knee ligament' or injury == 'Patella tendon luxation' or injury == 'Ruptured knee ligament' or injury == 'Rupture of Outer Meniscus' or injury == 'Double Torn Ligament' or injury == 'Meniscus Damage' or injury == 'Medial Collateral Ligament avulsion' or injury == 'Meniscus irritation' or injury == 'Inflamed ligaments of the knee' or injury == 'Rupture of the pattella'):\n",
        "        xMarket3year.at[i, 'injurytype_knee'] += 1\n",
        "      elif (injury == 'Knock' or injury == 'Minor Knock' or injury == 'Dead Leg' or injury == 'Stiffness'):\n",
        "        xMarket3year.at[i, 'injurytype_knock'] += 1\n",
        "      elif (injury == 'Leg Injury' or injury == 'Strain in the thigh and gluteal muscles' or injury == 'Shinbone injury' or injury == 'Shin bone bruise' or injury == 'Biceps femoris muscle injury' or injury == 'Fibula Fracture' or injury == 'Fractured Leg' or injury == 'Fissure of the fibula' or injury == 'Sciatic Problem' or injury == 'Tibia and Fibula Fracture' or injury == 'Fracture of the lower leg' or injury == 'Tibia Fracture' or injury == 'Inflamed head of fibula'):\n",
        "        xMarket3year.at[i, 'injurytype_leg'] += 1\n",
        "      elif (injury == 'Muscular problems' or injury == 'Muscle Injury' or injury == 'Torn Muscle Fibre' or injury == 'Muscle Fatigue' or injury == 'Torn muscle bundle' or injury == 'Torn Muscle' or injury == 'Muscle fiber tear'):\n",
        "        xMarket3year.at[i, 'injurytype_muscular'] += 1\n",
        "      elif (injury == 'Pubitis' or injury == 'Bruised pelvis' or injury == 'Pelvis Injury' or injury == 'Pubis bone irritation' or injury == 'bruised pelvis' or injury == 'bruised pelvis' or injury == 'Pelvic obliquity'):\n",
        "        xMarket3year.at[i, 'injurytype_pelvis'] += 1\n",
        "      elif (injury == 'Rest'):\n",
        "        xMarket3year.at[i, 'injurytype_rest'] += 1\n",
        "      elif (injury == 'Fractured Rib'):\n",
        "        xMarket3year.at[i, 'injurytype_rib'] += 1\n",
        "      elif (injury == 'Lumbar Vertebra Fracture' or injury == 'Lumbar vertebrae problems' or injury == 'Blockade in the spinal' or injury == 'Cervical spine injury' or injury == 'Lumbar Vertebra Fracture' or injury == 'Lumbar Vertebra Fracture' or injury == 'Vertebra injury'):\n",
        "        xMarket3year.at[i, 'injurytype_spine'] += 1\n",
        "      elif (injury == 'Thigh Muscle Strain' or injury == 'Thigh Problems' or injury == 'Thigh muscle rupture'):\n",
        "        xMarket3year.at[i, 'injurytype_thigh'] += 1\n",
        "      elif (injury == 'Toe Injury' or injury == 'Fractured Toe'):\n",
        "        xMarket3year.at[i, 'injurytype_toe'] += 1\n",
        "      elif (injury == 'Unknown Injury'):\n",
        "        xMarket3year.at[i, 'injurytype_unknown'] += 1\n",
        "      elif (injury == 'Surgery' or injury == 'Contracture' or injury == 'Sprain' or injury == 'Laceration' or injury == 'Fracture' or injury == 'Ligament Injury' or injury == 'Stress response of the bone' or injury == 'Strain' or injury == 'Contused laceration' or injury == 'Muscle partial avulsion' or injury == 'torn tendon' or injury == 'Tear in a joint capsule' or injury == 'tendon irritation' or injury == 'Ligament Problems' or injury == 'Sideband injury' or injury == 'Bone buckling' or injury == 'Stretched Ligament' or injury == 'Pinched nerve' or injury == 'Overstretching' or injury == 'Tendonitis' or injury == 'laceration' or injury == 'Arthroscopie' or injury == 'Herniated Disc' or injury == 'Fatigue fracture' or injury == 'Torn Ligament' or injury == 'Cartilage Damage' or injury == 'Bursitis' or injury == 'Circulation Problems' or injury == 'Tendon crack' or injury == 'Cut' or injury == 'sprain' or injury == 'Burns' or injury == 'open wound' or injury == 'Sideband tear' or injury == 'Marrow bulge' or injury == 'Compartment syndrome' or injury == 'Vestibular disorder' or injury == 'Intraarticular ligament fissure' or injury == 'Ruptured ligaments' or injury == 'Muscular hairline crack' or injury == 'capsular tear' or injury == 'Traffic Accident' or injury == 'Flesh Wound'):\n",
        "        xMarket3year.at[i, 'injurytype_other'] += 1\n",
        "      else:\n",
        "        print(injury)"
      ]
    },
    {
      "cell_type": "code",
      "source": [
        "xMarket3year.insert(5, \"GK\", 0)\n",
        "xMarket3year.insert(6, \"DF\", 0)\n",
        "xMarket3year.insert(7, \"MF\", 0)\n",
        "xMarket3year.insert(8, \"FW\", 0)"
      ],
      "metadata": {
        "id": "GQgA_gZPG059"
      },
      "execution_count": null,
      "outputs": []
    },
    {
      "cell_type": "code",
      "source": [
        "for i, row in xMarket3year.iterrows(): #len(xMarket3year)\n",
        "  s = row['Pos']\n",
        "  if type(s) == str:\n",
        "    pos_list = s.split(\",\")\n",
        "    for pos in pos_list:\n",
        "      pos = pos.strip()\n",
        "      if (pos == 'GK'):\n",
        "        xMarket3year.at[i, 'GK'] += 1\n",
        "      elif (pos == 'DF'):\n",
        "        xMarket3year.at[i, 'DF'] += 1\n",
        "      elif (pos == 'MF'):\n",
        "        xMarket3year.at[i, 'MF'] += 1\n",
        "      elif (pos == 'FW'):\n",
        "        xMarket3year.at[i, 'FW'] += 1"
      ],
      "metadata": {
        "id": "MimXcwG-G06G"
      },
      "execution_count": null,
      "outputs": []
    },
    {
      "cell_type": "code",
      "source": [
        "transferValue = xMarket3year.pop(\"player_market_value_euro\")\n",
        "xMarket3year[\"player_market_value_euro\"] = transferValue"
      ],
      "metadata": {
        "id": "N4DINaZzG06G"
      },
      "execution_count": null,
      "outputs": []
    },
    {
      "cell_type": "markdown",
      "source": [
        "### Year 4"
      ],
      "metadata": {
        "id": "yiNNdTnG9n8W"
      }
    },
    {
      "cell_type": "code",
      "execution_count": null,
      "metadata": {
        "id": "Mg5tadkH76T1"
      },
      "outputs": [],
      "source": [
        "#nan, lower body, upper body, ill, head, other\n",
        "xMarket4year['injurytype_nan'] = 0 #nan\n",
        "\n",
        "xMarket4year['injurytype_abdomen'] = 0 #Abdominal Strain\n",
        "\n",
        "xMarket4year['injurytype_abductor'] = 0 #Tear in the abductor muscle,\n",
        "\n",
        "xMarket4year['injurytype_achilles'] = 0 #Achilles tendon rupture, Achilles tendon problems,\n",
        "\n",
        "xMarket4year['injurytype_adductor'] = 0 #Adductor problems,\n",
        "\n",
        "xMarket4year['injurytype_ankle'] = 0 #Ankle Injury, Sprained ankle, Ankle problems, Torn ankle ligament, Ankle Surgery\n",
        "\n",
        "xMarket4year['injurytype_arm'] = 0 #Arm Injury, Wirst Injury, Shoulder Injury\n",
        "\n",
        "xMarket4year['injurytype_back'] = 0 #Back Injury, Back trouble, Back bruise\n",
        "\n",
        "xMarket4year['injurytype_bruise'] = 0 #Bruise\n",
        "\n",
        "xMarket4year['injurytype_calf'] = 0 #Calf Problems, Calf Injury, Calf Strain\n",
        "\n",
        "xMarket4year['injurytype_chest'] = 0 #Angina,\n",
        "\n",
        "xMarket4year['injurytype_collarbone'] = 0 #Collarbone fracture\n",
        "\n",
        "xMarket4year['injurytype_concussion'] = 0 #Concussion\n",
        "\n",
        "xMarket4year['injurytype_cruciateligament'] = 0 #Cruciate Ligament Rupture, Cruciate Ligament Surgery, Cruciate Ligament Strain\n",
        "\n",
        "xMarket4year['injurytype_face'] = 0 #Facial Injury\n",
        "\n",
        "xMarket4year['injurytype_finger'] = 0 #Finger Injury\n",
        "\n",
        "xMarket4year['injurytype_fitness'] = 0 #Fitness\n",
        "\n",
        "xMarket4year['injurytype_foot'] = 0 #Foot Injury, Bruised Foot, Fractured Foot,\n",
        "\n",
        "xMarket4year['injurytype_groin'] = 0 #groin strain, Groin Strain (w/Capital), Groin Injury,\n",
        "\n",
        "xMarket4year['injurytype_hamstring'] = 0 #Hamstring Injury\n",
        "\n",
        "xMarket4year['injurytype_hand'] = 0 #Hand Injury, Hand Problems,\n",
        "\n",
        "xMarket4year['injurytype_head'] = 0 #Head Injury\n",
        "\n",
        "xMarket4year['injurytype_heart'] = 0 # Heart Condition\n",
        "\n",
        "xMarket4year['injurytype_hip'] = 0 #Hip problems, Hip Injury,\n",
        "\n",
        "xMarket4year['injurytype_ill'] = 0 #Cold, Influenza, Flu, Abdominal Influenza, Ill, Corona virus, Infection, Virus Infection, Quaratine, Testicular Cancer\n",
        "#include abdominal influenza, cold, ill, covid, influenza, fever, quarantine, infection\n",
        "\n",
        "xMarket4year['injurytype_inflammation'] = 0 #Inflammation\n",
        "\n",
        "xMarket4year['injurytype_knee'] = 0 #Knee Injury, Knee Problems, Knee inflammation, Bruised Knee, Ruptured intraarticular ligament initiation in knee,\n",
        "\n",
        "xMarket4year['injurytype_knock'] = 0 #Knock, Minor Knock,\n",
        "\n",
        "xMarket4year['injurytype_leg'] = 0 #Leg Injury\n",
        "\n",
        "xMarket4year['injurytype_muscular'] = 0 #Muscular problems, Muscle Injury, Biceps femoris muscle injury, Torn Muscle Fibre, Muscle Fatigue\n",
        "\n",
        "xMarket4year['injurytype_pelvis'] = 0 #Pubitis, bruised pelvis, Pelvis Injury, Pubis bone irritation\n",
        "\n",
        "xMarket4year['injurytype_rest'] = 0 #Rest\n",
        "\n",
        "xMarket4year['injurytype_rib'] = 0 #Fractured Rib\n",
        "\n",
        "xMarket4year['injurytype_spine'] = 0 #Lumbar Vertebra Fracture, Lumbar vertebrae problems, Blockade in the spinal, Cervical spine injury\n",
        "\n",
        "xMarket4year['injurytype_thigh'] = 0 #Thigh Muscle Strain, Thigh Problems,\n",
        "\n",
        "xMarket4year['injurytype_toe'] = 0 #Toe Injury\n",
        "\n",
        "xMarket4year['injurytype_unknown'] = 0 #Unknown Injury,\n",
        "\n",
        "xMarket4year['injurytype_other'] = 0 #Surgery, Contracture, Sprain, Laceration"
      ]
    },
    {
      "cell_type": "code",
      "execution_count": null,
      "metadata": {
        "id": "q5iahDuC76T3"
      },
      "outputs": [],
      "source": [
        "for i, row in xMarket4year.iterrows(): #len(x1year)\n",
        "  s = row['injuryType']\n",
        "  if (s == 'nan'):\n",
        "    xMarket4year.at[i, 'injurytype_nan'] += 1\n",
        "  elif type(s) == str:\n",
        "    injury_list = s.split(\" ,\")\n",
        "    injury_list = injury_list[:-1]\n",
        "    for injury in injury_list:\n",
        "      injury = injury.strip()\n",
        "      if (injury == 'Abdominal Strain' or injury == 'Abdominal muscles injury' or injury == 'Appendectomy' or injury == 'Umbilical hernia'):\n",
        "        xMarket4year.at[i, 'injurytype_abdomen'] += 1\n",
        "      elif (injury == 'Tear in the abductor muscle'):\n",
        "        xMarket4year.at[i, 'injurytype_abductor'] += 1\n",
        "      elif (injury == 'Achilles tendon rupture' or injury == 'Achilles tendon problems' or injury == 'Achilles Irritation' or injury == 'Achilles tendon surgery'):\n",
        "        xMarket4year.at[i, 'injurytype_achilles'] += 1\n",
        "      elif (injury == 'Adductor problems'):\n",
        "        xMarket4year.at[i, 'injurytype_adductor'] += 1\n",
        "      elif (injury == 'Ankle Injury' or injury == 'Sprained ankle' or injury == 'Ankle problems' or injury == 'Torn ankle ligament' or injury == 'Ankle Surgery' or injury == 'Bruised Ankle' or injury == 'Distortion of the ankle' or injury == 'Ruptured syndesmotic ligament' or injury == 'Torn Ankle Ligament' or injury == 'Fracture-dislocation of the ankle' or injury == 'Sprained Ankle' or injury == 'Injury to the ankle' or injury == 'Ankle fracture' or injury == 'Ankle Inflammation' or injury == 'Syndesmotic ligament tear' or injury == 'Ankle Fracture' or injury == 'Capsular rupture in the ankle' or injury == 'Ruptured ankle ligament' or injury == 'Ruptured ankle aigament' or injury == 'Bruise on ankle' or injury == 'Ruptured intraarticular ligament initiation in the ankle' or injury == 'Peroneus tendon injury'):\n",
        "        xMarket4year.at[i, 'injurytype_ankle'] += 1\n",
        "      elif (injury == 'Arm Injury' or injury == 'Shoulder Injury' or injury == 'Shoulder fracture' or injury == 'Elbow Injury' or injury == 'Bruised Acromioclavicular' or injury == 'Fractured Arm' or injury == 'Acromioclavicular Separation'):\n",
        "        xMarket4year.at[i, 'injurytype_arm'] += 1\n",
        "      elif (injury == 'Back Injury' or injury == 'Back trouble' or injury == 'Back bruise' or injury == 'Lumbago'):\n",
        "        xMarket4year.at[i, 'injurytype_back'] += 1\n",
        "      elif (injury == 'Bruise' or injury == 'Bruised Rib' or injury == 'Metatarsal bone bruise' or injury == 'Bone Bruise' or injury == 'Muscle bruise'):\n",
        "        xMarket4year.at[i, 'injurytype_bruise'] += 1\n",
        "      elif (injury == 'Calf Problems' or injury == 'Calf Injury' or injury == 'Calf Strain' or injury == 'Disrupted Calf Muscle' or injury == 'Hairline crack in calfbone' or injury == 'Calf muscle strain'):\n",
        "        xMarket4year.at[i, 'injurytype_calf'] += 1\n",
        "      elif (injury == 'Angina' or injury == 'Chest injury' or injury == 'Pneumothorax' or injury == 'Lung contusion'):\n",
        "        xMarket4year.at[i, 'injurytype_chest'] += 1\n",
        "      elif (injury == 'Collarbone fracture'):\n",
        "        xMarket4year.at[i, 'injurytype_collarbone'] += 1\n",
        "      elif (injury == 'Concussion'):\n",
        "        xMarket4year.at[i, 'injurytype_concussion'] += 1\n",
        "      elif (injury == 'Cruciate Ligament Rupture' or injury == 'Cruciate Ligament Surgery' or injury == 'Cruciate Ligament Strain' or injury == 'Cruciate Ligament Injury' or injury == 'Ruptured cruciate ligament' or injury == 'Partial damage to the cruciate ligament' or injury == 'Cruciate ligament stretch'):\n",
        "        xMarket4year.at[i, 'injurytype_cruciateligament'] += 1\n",
        "      elif (injury == 'Facial Injury' or injury == 'Nose surgery' or injury == 'Dental Surgery' or injury == 'Nasal Bone Fracture' or injury == 'Facial Fracture' or injury == 'Cheekbone Fracture' or injury == 'Eye Injury' or injury == 'Toothache' or injury == 'Frontal bone fracture' or injury == 'Fractured Jaw' or injury == 'Fractured Skull' or injury == 'Fracture of the orbit' or injury == 'Tooth Inflammation' or injury == 'Nose Injury'):\n",
        "        xMarket4year.at[i, 'injurytype_face'] += 1\n",
        "      elif (injury == 'Finger Injury'):\n",
        "        xMarket4year.at[i, 'injurytype_finger'] += 1\n",
        "      elif (injury == 'Fitness'):\n",
        "        xMarket4year.at[i, 'injurytype_fitness'] += 1\n",
        "      elif (injury == 'Foot Injury' or injury == 'Bruised Foot' or injury == 'Fractured Foot' or injury == 'Arch pain' or injury == 'Heel Injury' or injury == 'Hell pain' or injury == 'Heelspur' or injury == 'Heel Bone Injury' or injury == 'Metatarsal Fracture' or injury == 'Heel pain' or injury == 'Plantar fascia' or injury == 'Foot surgery' or injury == 'Hairline crack in the foot' or injury == 'Partial demolition of the plantar fascia'):\n",
        "        xMarket4year.at[i, 'injurytype_foot'] += 1\n",
        "      elif (injury == 'groin strain' or injury == 'Groin Strain' or injury == 'Groin Injury' or injury == 'Groin Surgery' or injury == 'Inguinal Hernia' or injury == 'Pubalgia' or injury == 'Testicular disruption'):\n",
        "        xMarket4year.at[i, 'injurytype_groin'] += 1\n",
        "      elif (injury == 'Hamstring Injury' or injury == 'Pulled hamstring at the adductors' or injury == 'Hamstring contusion'):\n",
        "        xMarket4year.at[i, 'injurytype_hamstring'] += 1\n",
        "      elif (injury == 'Hand Injury' or injury == 'Fractured Hand' or injury == 'Broken wrist' or injury == 'Wirst Injury' or injury == 'scaphoid operation' or injury == 'Hand fracture' or injury == 'Fractured Finger' or injury == 'Thumb Injury'):\n",
        "        xMarket4year.at[i, 'injurytype_hand'] += 1\n",
        "      elif (injury == 'Head Injury' or injury == 'Neck Injury' or injury == 'Neck bruise'):\n",
        "        xMarket4year.at[i, 'injurytype_head'] += 1\n",
        "      elif (injury == 'Heart Condition'):\n",
        "        xMarket4year.at[i, 'injurytype_heart'] += 1\n",
        "      elif (injury == 'Hip problems' or injury == 'Hip Injury' or injury == 'Problems with the hip flexor' or injury == 'Bruised Hip' or injury == 'Pubis bone contusion' or injury == 'Problems with the right hip flexor'):\n",
        "        xMarket4year.at[i, 'injurytype_hip'] += 1\n",
        "      elif (injury == 'Cold' or injury == 'Influenza' or injury == 'Flu' or injury == 'Abdominal Influenza' or injury == 'Ill' or injury == 'Corona virus' or injury == 'Infection' or injury == 'Virus Infection' or injury == 'Quarantine' or injury == 'Fever' or injury == 'Tonsillitis' or injury == 'Testicular Cancer' or injury == 'Pneumonia' or injury == 'Gastric problems' or injury == 'Mononucleosis' or injury == 'Chickenpox' or injury == 'Bronchitis' or injury == 'Stomach complaints' or injury == 'Food Poisoning' or injury == 'intestial virus' or injury == 'Infected wound' or injury == 'Malaria' or injury == 'cancer' or injury == 'Lymphoma' or injury == 'Depression' or injury == 'Cals Sclerosis' or injury == 'Kidney problems'):\n",
        "        xMarket4year.at[i, 'injurytype_ill'] += 1\n",
        "      elif (injury == 'Inflammation'):\n",
        "        xMarket4year.at[i, 'injurytype_inflammation'] += 1\n",
        "      elif (injury == 'Knee Injury' or injury == 'Knee Problems' or injury == 'Knee inflammation' or injury == 'Bruised Knee' or injury == 'Ruptured intraarticular ligament initiation in knee' or injury == 'Knee Surgery' or injury == 'Medial Collateral Ligament Tear' or injury == 'Medial Collateral Ligament Injury' or injury == 'Meniscal Injury' or injury == 'Sideband strain in the knee' or injury == 'Patella tendon irritation' or injury == 'Mensical Laceration' or injury == 'Twisted knee' or injury == 'Torn Knee Ligament' or injury == 'Medial Collateral Ligament Knee Injury' or injury == 'Patella problems' or injury == 'Ruptured lateral collateral ligament' or injury == 'Edema in the knee' or injury == 'Fractured Kneecap' or injury == 'Torn lateral collateral ligament' or injury == 'Torn Meniscus' or injury == 'Torn Collateral Ligament' or injury == 'Patella rupture' or injury == 'Torn knee ligament' or injury == 'Patella tendon luxation' or injury == 'Ruptured knee ligament' or injury == 'Rupture of Outer Meniscus' or injury == 'Double Torn Ligament' or injury == 'Meniscus Damage' or injury == 'Medial Collateral Ligament avulsion' or injury == 'Meniscus irritation' or injury == 'Inflamed ligaments of the knee' or injury == 'Rupture of the pattella'):\n",
        "        xMarket4year.at[i, 'injurytype_knee'] += 1\n",
        "      elif (injury == 'Knock' or injury == 'Minor Knock' or injury == 'Dead Leg' or injury == 'Stiffness'):\n",
        "        xMarket4year.at[i, 'injurytype_knock'] += 1\n",
        "      elif (injury == 'Leg Injury' or injury == 'Strain in the thigh and gluteal muscles' or injury == 'Shinbone injury' or injury == 'Shin bone bruise' or injury == 'Biceps femoris muscle injury' or injury == 'Fibula Fracture' or injury == 'Fractured Leg' or injury == 'Fissure of the fibula' or injury == 'Sciatic Problem' or injury == 'Tibia and Fibula Fracture' or injury == 'Fracture of the lower leg' or injury == 'Tibia Fracture' or injury == 'Inflamed head of fibula'):\n",
        "        xMarket4year.at[i, 'injurytype_leg'] += 1\n",
        "      elif (injury == 'Muscular problems' or injury == 'Muscle Injury' or injury == 'Torn Muscle Fibre' or injury == 'Muscle Fatigue' or injury == 'Torn muscle bundle' or injury == 'Torn Muscle' or injury == 'Muscle fiber tear'):\n",
        "        xMarket4year.at[i, 'injurytype_muscular'] += 1\n",
        "      elif (injury == 'Pubitis' or injury == 'Bruised pelvis' or injury == 'Pelvis Injury' or injury == 'Pubis bone irritation' or injury == 'bruised pelvis' or injury == 'bruised pelvis' or injury == 'Pelvic obliquity'):\n",
        "        xMarket4year.at[i, 'injurytype_pelvis'] += 1\n",
        "      elif (injury == 'Rest'):\n",
        "        xMarket4year.at[i, 'injurytype_rest'] += 1\n",
        "      elif (injury == 'Fractured Rib'):\n",
        "        xMarket4year.at[i, 'injurytype_rib'] += 1\n",
        "      elif (injury == 'Lumbar Vertebra Fracture' or injury == 'Lumbar vertebrae problems' or injury == 'Blockade in the spinal' or injury == 'Cervical spine injury' or injury == 'Lumbar Vertebra Fracture' or injury == 'Lumbar Vertebra Fracture' or injury == 'Vertebra injury'):\n",
        "        xMarket4year.at[i, 'injurytype_spine'] += 1\n",
        "      elif (injury == 'Thigh Muscle Strain' or injury == 'Thigh Problems' or injury == 'Thigh muscle rupture'):\n",
        "        xMarket4year.at[i, 'injurytype_thigh'] += 1\n",
        "      elif (injury == 'Toe Injury' or injury == 'Fractured Toe'):\n",
        "        xMarket4year.at[i, 'injurytype_toe'] += 1\n",
        "      elif (injury == 'Unknown Injury'):\n",
        "        xMarket4year.at[i, 'injurytype_unknown'] += 1\n",
        "      elif (injury == 'Surgery' or injury == 'Contracture' or injury == 'Sprain' or injury == 'Laceration' or injury == 'Fracture' or injury == 'Ligament Injury' or injury == 'Stress response of the bone' or injury == 'Strain' or injury == 'Contused laceration' or injury == 'Muscle partial avulsion' or injury == 'torn tendon' or injury == 'Tear in a joint capsule' or injury == 'tendon irritation' or injury == 'Ligament Problems' or injury == 'Sideband injury' or injury == 'Bone buckling' or injury == 'Stretched Ligament' or injury == 'Pinched nerve' or injury == 'Overstretching' or injury == 'Tendonitis' or injury == 'laceration' or injury == 'Arthroscopie' or injury == 'Herniated Disc' or injury == 'Fatigue fracture' or injury == 'Torn Ligament' or injury == 'Cartilage Damage' or injury == 'Bursitis' or injury == 'Circulation Problems' or injury == 'Tendon crack' or injury == 'Cut' or injury == 'sprain' or injury == 'Burns' or injury == 'open wound' or injury == 'Sideband tear' or injury == 'Marrow bulge' or injury == 'Compartment syndrome' or injury == 'Vestibular disorder' or injury == 'Intraarticular ligament fissure' or injury == 'Ruptured ligaments' or injury == 'Muscular hairline crack' or injury == 'capsular tear' or injury == 'Traffic Accident' or injury == 'Flesh Wound'):\n",
        "        xMarket4year.at[i, 'injurytype_other'] += 1\n",
        "      else:\n",
        "        print(injury)"
      ]
    },
    {
      "cell_type": "code",
      "source": [
        "xMarket4year.insert(5, \"GK\", 0)\n",
        "xMarket4year.insert(6, \"DF\", 0)\n",
        "xMarket4year.insert(7, \"MF\", 0)\n",
        "xMarket4year.insert(8, \"FW\", 0)"
      ],
      "metadata": {
        "id": "Z46t7cB9G2SI"
      },
      "execution_count": null,
      "outputs": []
    },
    {
      "cell_type": "code",
      "source": [
        "for i, row in xMarket4year.iterrows(): #len(xMarket4year)\n",
        "  s = row['Pos']\n",
        "  if type(s) == str:\n",
        "    pos_list = s.split(\",\")\n",
        "    for pos in pos_list:\n",
        "      pos = pos.strip()\n",
        "      if (pos == 'GK'):\n",
        "        xMarket4year.at[i, 'GK'] += 1\n",
        "      elif (pos == 'DF'):\n",
        "        xMarket4year.at[i, 'DF'] += 1\n",
        "      elif (pos == 'MF'):\n",
        "        xMarket4year.at[i, 'MF'] += 1\n",
        "      elif (pos == 'FW'):\n",
        "        xMarket4year.at[i, 'FW'] += 1"
      ],
      "metadata": {
        "id": "QsA-yizZG2SR"
      },
      "execution_count": null,
      "outputs": []
    },
    {
      "cell_type": "code",
      "source": [
        "transferValue = xMarket4year.pop(\"player_market_value_euro\")\n",
        "xMarket4year[\"player_market_value_euro\"] = transferValue"
      ],
      "metadata": {
        "id": "73_2B8p2G2SS"
      },
      "execution_count": null,
      "outputs": []
    },
    {
      "cell_type": "markdown",
      "source": [
        "### Year 5"
      ],
      "metadata": {
        "id": "WbQa5ngL9qG8"
      }
    },
    {
      "cell_type": "code",
      "execution_count": null,
      "metadata": {
        "collapsed": true,
        "id": "inXAhtDv76T2"
      },
      "outputs": [],
      "source": [
        "#nan, lower body, upper body, ill, head, other\n",
        "xMarket5year['injurytype_nan'] = 0 #nan\n",
        "\n",
        "xMarket5year['injurytype_abdomen'] = 0 #Abdominal Strain\n",
        "\n",
        "xMarket5year['injurytype_abductor'] = 0 #Tear in the abductor muscle,\n",
        "\n",
        "xMarket5year['injurytype_achilles'] = 0 #Achilles tendon rupture, Achilles tendon problems,\n",
        "\n",
        "xMarket5year['injurytype_adductor'] = 0 #Adductor problems,\n",
        "\n",
        "xMarket5year['injurytype_ankle'] = 0 #Ankle Injury, Sprained ankle, Ankle problems, Torn ankle ligament, Ankle Surgery\n",
        "\n",
        "xMarket5year['injurytype_arm'] = 0 #Arm Injury, Wirst Injury, Shoulder Injury\n",
        "\n",
        "xMarket5year['injurytype_back'] = 0 #Back Injury, Back trouble, Back bruise\n",
        "\n",
        "xMarket5year['injurytype_bruise'] = 0 #Bruise\n",
        "\n",
        "xMarket5year['injurytype_calf'] = 0 #Calf Problems, Calf Injury, Calf Strain\n",
        "\n",
        "xMarket5year['injurytype_chest'] = 0 #Angina,\n",
        "\n",
        "xMarket5year['injurytype_collarbone'] = 0 #Collarbone fracture\n",
        "\n",
        "xMarket5year['injurytype_concussion'] = 0 #Concussion\n",
        "\n",
        "xMarket5year['injurytype_cruciateligament'] = 0 #Cruciate Ligament Rupture, Cruciate Ligament Surgery, Cruciate Ligament Strain\n",
        "\n",
        "xMarket5year['injurytype_face'] = 0 #Facial Injury\n",
        "\n",
        "xMarket5year['injurytype_finger'] = 0 #Finger Injury\n",
        "\n",
        "xMarket5year['injurytype_fitness'] = 0 #Fitness\n",
        "\n",
        "xMarket5year['injurytype_foot'] = 0 #Foot Injury, Bruised Foot, Fractured Foot,\n",
        "\n",
        "xMarket5year['injurytype_groin'] = 0 #groin strain, Groin Strain (w/Capital), Groin Injury,\n",
        "\n",
        "xMarket5year['injurytype_hamstring'] = 0 #Hamstring Injury\n",
        "\n",
        "xMarket5year['injurytype_hand'] = 0 #Hand Injury, Hand Problems,\n",
        "\n",
        "xMarket5year['injurytype_head'] = 0 #Head Injury\n",
        "\n",
        "xMarket5year['injurytype_heart'] = 0 # Heart Condition\n",
        "\n",
        "xMarket5year['injurytype_hip'] = 0 #Hip problems, Hip Injury,\n",
        "\n",
        "xMarket5year['injurytype_ill'] = 0 #Cold, Influenza, Flu, Abdominal Influenza, Ill, Corona virus, Infection, Virus Infection, Quaratine, Testicular Cancer\n",
        "#include abdominal influenza, cold, ill, covid, influenza, fever, quarantine, infection\n",
        "\n",
        "xMarket5year['injurytype_inflammation'] = 0 #Inflammation\n",
        "\n",
        "xMarket5year['injurytype_knee'] = 0 #Knee Injury, Knee Problems, Knee inflammation, Bruised Knee, Ruptured intraarticular ligament initiation in knee,\n",
        "\n",
        "xMarket5year['injurytype_knock'] = 0 #Knock, Minor Knock,\n",
        "\n",
        "xMarket5year['injurytype_leg'] = 0 #Leg Injury\n",
        "\n",
        "xMarket5year['injurytype_muscular'] = 0 #Muscular problems, Muscle Injury, Biceps femoris muscle injury, Torn Muscle Fibre, Muscle Fatigue\n",
        "\n",
        "xMarket5year['injurytype_pelvis'] = 0 #Pubitis, bruised pelvis, Pelvis Injury, Pubis bone irritation\n",
        "\n",
        "xMarket5year['injurytype_rest'] = 0 #Rest\n",
        "\n",
        "xMarket5year['injurytype_rib'] = 0 #Fractured Rib\n",
        "\n",
        "xMarket5year['injurytype_spine'] = 0 #Lumbar Vertebra Fracture, Lumbar vertebrae problems, Blockade in the spinal, Cervical spine injury\n",
        "\n",
        "xMarket5year['injurytype_thigh'] = 0 #Thigh Muscle Strain, Thigh Problems,\n",
        "\n",
        "xMarket5year['injurytype_toe'] = 0 #Toe Injury\n",
        "\n",
        "xMarket5year['injurytype_unknown'] = 0 #Unknown Injury,\n",
        "\n",
        "xMarket5year['injurytype_other'] = 0 #Surgery, Contracture, Sprain, Laceration"
      ]
    },
    {
      "cell_type": "code",
      "execution_count": null,
      "metadata": {
        "id": "j-l6WyhE76T3"
      },
      "outputs": [],
      "source": [
        "for i, row in xMarket5year.iterrows(): #len(x1year)\n",
        "  s = row['injuryType']\n",
        "  if (s == 'nan'):\n",
        "    xMarket5year.at[i, 'injurytype_nan'] += 1\n",
        "  elif type(s) == str:\n",
        "    injury_list = s.split(\" ,\")\n",
        "    injury_list = injury_list[:-1]\n",
        "    for injury in injury_list:\n",
        "      injury = injury.strip()\n",
        "      if (injury == 'Abdominal Strain' or injury == 'Abdominal muscles injury' or injury == 'Appendectomy' or injury == 'Umbilical hernia'):\n",
        "        xMarket5year.at[i, 'injurytype_abdomen'] += 1\n",
        "      elif (injury == 'Tear in the abductor muscle'):\n",
        "        xMarket5year.at[i, 'injurytype_abductor'] += 1\n",
        "      elif (injury == 'Achilles tendon rupture' or injury == 'Achilles tendon problems' or injury == 'Achilles Irritation' or injury == 'Achilles tendon surgery'):\n",
        "        xMarket5year.at[i, 'injurytype_achilles'] += 1\n",
        "      elif (injury == 'Adductor problems'):\n",
        "        xMarket5year.at[i, 'injurytype_adductor'] += 1\n",
        "      elif (injury == 'Ankle Injury' or injury == 'Sprained ankle' or injury == 'Ankle problems' or injury == 'Torn ankle ligament' or injury == 'Ankle Surgery' or injury == 'Bruised Ankle' or injury == 'Distortion of the ankle' or injury == 'Ruptured syndesmotic ligament' or injury == 'Torn Ankle Ligament' or injury == 'Fracture-dislocation of the ankle' or injury == 'Sprained Ankle' or injury == 'Injury to the ankle' or injury == 'Ankle fracture' or injury == 'Ankle Inflammation' or injury == 'Syndesmotic ligament tear' or injury == 'Ankle Fracture' or injury == 'Capsular rupture in the ankle' or injury == 'Ruptured ankle ligament' or injury == 'Ruptured ankle aigament' or injury == 'Bruise on ankle' or injury == 'Ruptured intraarticular ligament initiation in the ankle' or injury == 'Peroneus tendon injury'):\n",
        "        xMarket5year.at[i, 'injurytype_ankle'] += 1\n",
        "      elif (injury == 'Arm Injury' or injury == 'Shoulder Injury' or injury == 'Shoulder fracture' or injury == 'Elbow Injury' or injury == 'Bruised Acromioclavicular' or injury == 'Fractured Arm' or injury == 'Acromioclavicular Separation'):\n",
        "        xMarket5year.at[i, 'injurytype_arm'] += 1\n",
        "      elif (injury == 'Back Injury' or injury == 'Back trouble' or injury == 'Back bruise' or injury == 'Lumbago'):\n",
        "        xMarket5year.at[i, 'injurytype_back'] += 1\n",
        "      elif (injury == 'Bruise' or injury == 'Bruised Rib' or injury == 'Metatarsal bone bruise' or injury == 'Bone Bruise' or injury == 'Muscle bruise'):\n",
        "        xMarket5year.at[i, 'injurytype_bruise'] += 1\n",
        "      elif (injury == 'Calf Problems' or injury == 'Calf Injury' or injury == 'Calf Strain' or injury == 'Disrupted Calf Muscle' or injury == 'Hairline crack in calfbone' or injury == 'Calf muscle strain'):\n",
        "        xMarket5year.at[i, 'injurytype_calf'] += 1\n",
        "      elif (injury == 'Angina' or injury == 'Chest injury' or injury == 'Pneumothorax' or injury == 'Lung contusion'):\n",
        "        xMarket5year.at[i, 'injurytype_chest'] += 1\n",
        "      elif (injury == 'Collarbone fracture'):\n",
        "        xMarket5year.at[i, 'injurytype_collarbone'] += 1\n",
        "      elif (injury == 'Concussion'):\n",
        "        xMarket5year.at[i, 'injurytype_concussion'] += 1\n",
        "      elif (injury == 'Cruciate Ligament Rupture' or injury == 'Cruciate Ligament Surgery' or injury == 'Cruciate Ligament Strain' or injury == 'Cruciate Ligament Injury' or injury == 'Ruptured cruciate ligament' or injury == 'Partial damage to the cruciate ligament' or injury == 'Cruciate ligament stretch'):\n",
        "        xMarket5year.at[i, 'injurytype_cruciateligament'] += 1\n",
        "      elif (injury == 'Facial Injury' or injury == 'Nose surgery' or injury == 'Dental Surgery' or injury == 'Nasal Bone Fracture' or injury == 'Facial Fracture' or injury == 'Cheekbone Fracture' or injury == 'Eye Injury' or injury == 'Toothache' or injury == 'Frontal bone fracture' or injury == 'Fractured Jaw' or injury == 'Fractured Skull' or injury == 'Fracture of the orbit' or injury == 'Tooth Inflammation' or injury == 'Nose Injury'):\n",
        "        xMarket5year.at[i, 'injurytype_face'] += 1\n",
        "      elif (injury == 'Finger Injury'):\n",
        "        xMarket5year.at[i, 'injurytype_finger'] += 1\n",
        "      elif (injury == 'Fitness'):\n",
        "        xMarket5year.at[i, 'injurytype_fitness'] += 1\n",
        "      elif (injury == 'Foot Injury' or injury == 'Bruised Foot' or injury == 'Fractured Foot' or injury == 'Arch pain' or injury == 'Heel Injury' or injury == 'Hell pain' or injury == 'Heelspur' or injury == 'Heel Bone Injury' or injury == 'Metatarsal Fracture' or injury == 'Heel pain' or injury == 'Plantar fascia' or injury == 'Foot surgery' or injury == 'Hairline crack in the foot' or injury == 'Partial demolition of the plantar fascia'):\n",
        "        xMarket5year.at[i, 'injurytype_foot'] += 1\n",
        "      elif (injury == 'groin strain' or injury == 'Groin Strain' or injury == 'Groin Injury' or injury == 'Groin Surgery' or injury == 'Inguinal Hernia' or injury == 'Pubalgia' or injury == 'Testicular disruption'):\n",
        "        xMarket5year.at[i, 'injurytype_groin'] += 1\n",
        "      elif (injury == 'Hamstring Injury' or injury == 'Pulled hamstring at the adductors' or injury == 'Hamstring contusion'):\n",
        "        xMarket5year.at[i, 'injurytype_hamstring'] += 1\n",
        "      elif (injury == 'Hand Injury' or injury == 'Fractured Hand' or injury == 'Broken wrist' or injury == 'Wirst Injury' or injury == 'scaphoid operation' or injury == 'Hand fracture' or injury == 'Fractured Finger' or injury == 'Thumb Injury'):\n",
        "        xMarket5year.at[i, 'injurytype_hand'] += 1\n",
        "      elif (injury == 'Head Injury' or injury == 'Neck Injury' or injury == 'Neck bruise'):\n",
        "        xMarket5year.at[i, 'injurytype_head'] += 1\n",
        "      elif (injury == 'Heart Condition'):\n",
        "        xMarket5year.at[i, 'injurytype_heart'] += 1\n",
        "      elif (injury == 'Hip problems' or injury == 'Hip Injury' or injury == 'Problems with the hip flexor' or injury == 'Bruised Hip' or injury == 'Pubis bone contusion' or injury == 'Problems with the right hip flexor'):\n",
        "        xMarket5year.at[i, 'injurytype_hip'] += 1\n",
        "      elif (injury == 'Cold' or injury == 'Influenza' or injury == 'Flu' or injury == 'Abdominal Influenza' or injury == 'Ill' or injury == 'Corona virus' or injury == 'Infection' or injury == 'Virus Infection' or injury == 'Quarantine' or injury == 'Fever' or injury == 'Tonsillitis' or injury == 'Testicular Cancer' or injury == 'Pneumonia' or injury == 'Gastric problems' or injury == 'Mononucleosis' or injury == 'Chickenpox' or injury == 'Bronchitis' or injury == 'Stomach complaints' or injury == 'Food Poisoning' or injury == 'intestial virus' or injury == 'Infected wound' or injury == 'Malaria' or injury == 'cancer' or injury == 'Lymphoma' or injury == 'Depression' or injury == 'Cals Sclerosis' or injury == 'Kidney problems'):\n",
        "        xMarket5year.at[i, 'injurytype_ill'] += 1\n",
        "      elif (injury == 'Inflammation'):\n",
        "        xMarket5year.at[i, 'injurytype_inflammation'] += 1\n",
        "      elif (injury == 'Knee Injury' or injury == 'Knee Problems' or injury == 'Knee inflammation' or injury == 'Bruised Knee' or injury == 'Ruptured intraarticular ligament initiation in knee' or injury == 'Knee Surgery' or injury == 'Medial Collateral Ligament Tear' or injury == 'Medial Collateral Ligament Injury' or injury == 'Meniscal Injury' or injury == 'Sideband strain in the knee' or injury == 'Patella tendon irritation' or injury == 'Mensical Laceration' or injury == 'Twisted knee' or injury == 'Torn Knee Ligament' or injury == 'Medial Collateral Ligament Knee Injury' or injury == 'Patella problems' or injury == 'Ruptured lateral collateral ligament' or injury == 'Edema in the knee' or injury == 'Fractured Kneecap' or injury == 'Torn lateral collateral ligament' or injury == 'Torn Meniscus' or injury == 'Torn Collateral Ligament' or injury == 'Patella rupture' or injury == 'Torn knee ligament' or injury == 'Patella tendon luxation' or injury == 'Ruptured knee ligament' or injury == 'Rupture of Outer Meniscus' or injury == 'Double Torn Ligament' or injury == 'Meniscus Damage' or injury == 'Medial Collateral Ligament avulsion' or injury == 'Meniscus irritation' or injury == 'Inflamed ligaments of the knee' or injury == 'Rupture of the pattella'):\n",
        "        xMarket5year.at[i, 'injurytype_knee'] += 1\n",
        "      elif (injury == 'Knock' or injury == 'Minor Knock' or injury == 'Dead Leg' or injury == 'Stiffness'):\n",
        "        xMarket5year.at[i, 'injurytype_knock'] += 1\n",
        "      elif (injury == 'Leg Injury' or injury == 'Strain in the thigh and gluteal muscles' or injury == 'Shinbone injury' or injury == 'Shin bone bruise' or injury == 'Biceps femoris muscle injury' or injury == 'Fibula Fracture' or injury == 'Fractured Leg' or injury == 'Fissure of the fibula' or injury == 'Sciatic Problem' or injury == 'Tibia and Fibula Fracture' or injury == 'Fracture of the lower leg' or injury == 'Tibia Fracture' or injury == 'Inflamed head of fibula'):\n",
        "        xMarket5year.at[i, 'injurytype_leg'] += 1\n",
        "      elif (injury == 'Muscular problems' or injury == 'Muscle Injury' or injury == 'Torn Muscle Fibre' or injury == 'Muscle Fatigue' or injury == 'Torn muscle bundle' or injury == 'Torn Muscle' or injury == 'Muscle fiber tear'):\n",
        "        xMarket5year.at[i, 'injurytype_muscular'] += 1\n",
        "      elif (injury == 'Pubitis' or injury == 'Bruised pelvis' or injury == 'Pelvis Injury' or injury == 'Pubis bone irritation' or injury == 'bruised pelvis' or injury == 'bruised pelvis' or injury == 'Pelvic obliquity'):\n",
        "        xMarket5year.at[i, 'injurytype_pelvis'] += 1\n",
        "      elif (injury == 'Rest'):\n",
        "        xMarket5year.at[i, 'injurytype_rest'] += 1\n",
        "      elif (injury == 'Fractured Rib'):\n",
        "        xMarket5year.at[i, 'injurytype_rib'] += 1\n",
        "      elif (injury == 'Lumbar Vertebra Fracture' or injury == 'Lumbar vertebrae problems' or injury == 'Blockade in the spinal' or injury == 'Cervical spine injury' or injury == 'Lumbar Vertebra Fracture' or injury == 'Lumbar Vertebra Fracture' or injury == 'Vertebra injury'):\n",
        "        xMarket5year.at[i, 'injurytype_spine'] += 1\n",
        "      elif (injury == 'Thigh Muscle Strain' or injury == 'Thigh Problems' or injury == 'Thigh muscle rupture'):\n",
        "        xMarket5year.at[i, 'injurytype_thigh'] += 1\n",
        "      elif (injury == 'Toe Injury' or injury == 'Fractured Toe'):\n",
        "        xMarket5year.at[i, 'injurytype_toe'] += 1\n",
        "      elif (injury == 'Unknown Injury'):\n",
        "        xMarket5year.at[i, 'injurytype_unknown'] += 1\n",
        "      elif (injury == 'Surgery' or injury == 'Contracture' or injury == 'Sprain' or injury == 'Laceration' or injury == 'Fracture' or injury == 'Ligament Injury' or injury == 'Stress response of the bone' or injury == 'Strain' or injury == 'Contused laceration' or injury == 'Muscle partial avulsion' or injury == 'torn tendon' or injury == 'Tear in a joint capsule' or injury == 'tendon irritation' or injury == 'Ligament Problems' or injury == 'Sideband injury' or injury == 'Bone buckling' or injury == 'Stretched Ligament' or injury == 'Pinched nerve' or injury == 'Overstretching' or injury == 'Tendonitis' or injury == 'laceration' or injury == 'Arthroscopie' or injury == 'Herniated Disc' or injury == 'Fatigue fracture' or injury == 'Torn Ligament' or injury == 'Cartilage Damage' or injury == 'Bursitis' or injury == 'Circulation Problems' or injury == 'Tendon crack' or injury == 'Cut' or injury == 'sprain' or injury == 'Burns' or injury == 'open wound' or injury == 'Sideband tear' or injury == 'Marrow bulge' or injury == 'Compartment syndrome' or injury == 'Vestibular disorder' or injury == 'Intraarticular ligament fissure' or injury == 'Ruptured ligaments' or injury == 'Muscular hairline crack' or injury == 'capsular tear' or injury == 'Traffic Accident' or injury == 'Flesh Wound'):\n",
        "        xMarket5year.at[i, 'injurytype_other'] += 1\n",
        "      else:\n",
        "        print(injury)"
      ]
    },
    {
      "cell_type": "code",
      "source": [
        "xMarket5year.insert(5, \"GK\", 0)\n",
        "xMarket5year.insert(6, \"DF\", 0)\n",
        "xMarket5year.insert(7, \"MF\", 0)\n",
        "xMarket5year.insert(8, \"FW\", 0)"
      ],
      "metadata": {
        "id": "_5nAtV1gG3EH"
      },
      "execution_count": null,
      "outputs": []
    },
    {
      "cell_type": "code",
      "source": [
        "for i, row in xMarket5year.iterrows(): #len(xMarket5year)\n",
        "  s = row['Pos']\n",
        "  if type(s) == str:\n",
        "    pos_list = s.split(\",\")\n",
        "    for pos in pos_list:\n",
        "      pos = pos.strip()\n",
        "      if (pos == 'GK'):\n",
        "        xMarket5year.at[i, 'GK'] += 1\n",
        "      elif (pos == 'DF'):\n",
        "        xMarket5year.at[i, 'DF'] += 1\n",
        "      elif (pos == 'MF'):\n",
        "        xMarket5year.at[i, 'MF'] += 1\n",
        "      elif (pos == 'FW'):\n",
        "        xMarket5year.at[i, 'FW'] += 1"
      ],
      "metadata": {
        "id": "Ipv-jrt7G3EH"
      },
      "execution_count": null,
      "outputs": []
    },
    {
      "cell_type": "code",
      "source": [
        "transferValue = xMarket5year.pop(\"player_market_value_euro\")\n",
        "xMarket5year[\"player_market_value_euro\"] = transferValue"
      ],
      "metadata": {
        "id": "ShxAj6C4G3EH"
      },
      "execution_count": null,
      "outputs": []
    },
    {
      "cell_type": "markdown",
      "source": [
        "### Clean Columns and Upload"
      ],
      "metadata": {
        "id": "P8jvJ6oy94vr"
      }
    },
    {
      "cell_type": "code",
      "source": [
        "xMarket1year.rename(columns = {\"Player_x\": \"Player\"}, inplace = True)\n",
        "xMarket2year.rename(columns = {\"Player_x\": \"Player\"}, inplace = True)\n",
        "xMarket3year.rename(columns = {\"Player_x\": \"Player\"}, inplace = True)\n",
        "xMarket4year.rename(columns = {\"Player_x\": \"Player\"}, inplace = True)\n",
        "xMarket5year.rename(columns = {\"Player_x\": \"Player\"}, inplace = True)\n",
        "xMarket1year.drop(columns = [\"injuryType\", \"player_age\", \"Url\"], inplace = True)\n",
        "xMarket2year.drop(columns = [\"injuryType\", \"player_age\", \"Url\"], inplace = True)\n",
        "xMarket3year.drop(columns = [\"injuryType\", \"player_age\", \"Url\"], inplace = True)\n",
        "xMarket4year.drop(columns = [\"injuryType\", \"player_age\", \"Url\"], inplace = True)\n",
        "xMarket5year.drop(columns = [\"injuryType\", \"player_age\", \"Url\"], inplace = True)"
      ],
      "metadata": {
        "id": "sS3kDZSvAJ3k"
      },
      "execution_count": null,
      "outputs": []
    },
    {
      "cell_type": "code",
      "source": [
        "xMarket1year.drop(columns = [\"Pos\"], inplace = True)\n",
        "xMarket2year.drop(columns = [\"Pos\"], inplace = True)\n",
        "xMarket3year.drop(columns = [\"Pos\"], inplace = True)\n",
        "xMarket4year.drop(columns = [\"Pos\"], inplace = True)\n",
        "xMarket5year.drop(columns = [\"Pos\"], inplace = True)"
      ],
      "metadata": {
        "id": "hyjVSRq5GmrT"
      },
      "execution_count": null,
      "outputs": []
    },
    {
      "cell_type": "code",
      "source": [
        "xMarket1year.to_csv('/content/drive/MyDrive/PlayerValue/Market1year.csv')\n",
        "xMarket2year.to_csv('/content/drive/MyDrive/PlayerValue/Market2year.csv')\n",
        "xMarket3year.to_csv('/content/drive/MyDrive/PlayerValue/Market3year.csv')\n",
        "xMarket4year.to_csv('/content/drive/MyDrive/PlayerValue/Market4year.csv')\n",
        "xMarket5year.to_csv('/content/drive/MyDrive/PlayerValue/Market5year.csv')"
      ],
      "metadata": {
        "id": "_KTWreSVIqGu"
      },
      "execution_count": null,
      "outputs": []
    },
    {
      "cell_type": "markdown",
      "source": [
        "## One Hot Encode"
      ],
      "metadata": {
        "id": "dQfPSZJbJVwj"
      }
    },
    {
      "cell_type": "markdown",
      "source": [
        "### Year 1"
      ],
      "metadata": {
        "id": "_2mH46z3B1XH"
      }
    },
    {
      "cell_type": "code",
      "execution_count": 153,
      "metadata": {
        "id": "dOhfy1SjCHLl"
      },
      "outputs": [],
      "source": [
        "#One year model\n",
        "xMarket1year.drop(columns = [\"Player\"], inplace = True)\n",
        "xMarket1yearEncoding = pd.DataFrame()\n",
        "xMarket1year[\"Squad\"] = xMarket1year[\"Squad\"].astype(\"category\")\n",
        "extractedMarket1year = xMarket1year[\"Squad\"]\n",
        "xMarket1year.drop(\"Squad\", axis = 1)\n",
        "xMarket1yearEncoding = pd.concat([xMarket1yearEncoding, extractedMarket1year], axis=1)\n",
        "xMarket1year[\"Comp\"] = xMarket1year[\"Comp\"].astype(\"category\")\n",
        "extractedMarket1year = xMarket1year[\"Comp\"]\n",
        "xMarket1year.drop(\"Comp\", axis = 1)\n",
        "xMarket1yearEncoding = pd.concat([xMarket1yearEncoding, extractedMarket1year], axis=1)\n",
        "xMarket1year[\"Nation\"] = xMarket1year[\"Nation\"].astype(\"category\")\n",
        "extractedMarket1year = xMarket1year[\"Nation\"]\n",
        "xMarket1year.drop(\"Nation\", axis = 1)\n",
        "xMarket1yearEncoding = pd.concat([xMarket1yearEncoding, extractedMarket1year], axis=1)\n",
        "xMarket1year[\"player_foot\"] = xMarket1year[\"player_foot\"].astype(\"category\")\n",
        "extractedMarket1year = xMarket1year[\"player_foot\"]\n",
        "xMarket1year.drop(\"player_foot\", axis = 1)\n",
        "xMarket1yearEncoding = pd.concat([xMarket1yearEncoding, extractedMarket1year], axis=1)\n",
        "xMarket1year[\"country\"] = xMarket1year[\"country\"].astype(\"category\")\n",
        "extractedMarket1year = xMarket1year[\"country\"]\n",
        "xMarket1year.drop(\"country\", axis = 1)\n",
        "'''xMarket1year[\"Player\"] = xMarket1year[\"Player\"].astype(\"category\")\n",
        "extractedMarket1year = xMarket1year[\"Player\"]\n",
        "xMarket1year.drop(\"Player\", axis = 1)'''\n",
        "xMarket1yearEncoding = pd.concat([xMarket1yearEncoding, extractedMarket1year], axis=1)"
      ]
    },
    {
      "cell_type": "code",
      "execution_count": 154,
      "metadata": {
        "id": "lYVdOyrSCHL5"
      },
      "outputs": [],
      "source": [
        "#One hot encoder also converting floats+duration to booleans\n",
        "\n",
        "#check all hot encoded columns/features\n",
        "\n",
        "# Check how one hot encoding is changing column names and values\n",
        "\n",
        "# Manually clean injury types\n",
        "\n",
        "#delete spaces/commas in column names\n",
        "\n",
        "#born vs age\n",
        "\n",
        "encMarket1year = OneHotEncoder()\n",
        "encMarket1year.fit(xMarket1yearEncoding)\n",
        "\n",
        "#transform categorical features\n",
        "XMarket1year_encoded = encMarket1year.transform(xMarket1yearEncoding).toarray()\n",
        "feature_namesMarket1year = xMarket1yearEncoding.columns\n",
        "new_feature_namesMarket1year = encMarket1year.get_feature_names_out(feature_namesMarket1year)\n",
        "XMarket1encoded = pd.DataFrame(XMarket1year_encoded, columns= new_feature_namesMarket1year)\n",
        "xMarket1yearFinal = xMarket1year.join(XMarket1encoded)"
      ]
    },
    {
      "cell_type": "code",
      "source": [
        "xMarket1yearFinal.head()"
      ],
      "metadata": {
        "colab": {
          "base_uri": "https://localhost:8080/",
          "height": 342
        },
        "id": "11P6jooPY8Kb",
        "outputId": "6a098a77-a67a-485a-8c3d-7ad374b34446"
      },
      "execution_count": 155,
      "outputs": [
        {
          "output_type": "execute_result",
          "data": {
            "text/plain": [
              "    Squad     Comp Nation  GK  DF  MF  FW   Age    Born  Mins_Per_90  ...  \\\n",
              "0  Alavés  La Liga    ESP   0   1   0   0  21.0  1996.0         20.3  ...   \n",
              "1  Alavés  La Liga    ESP   0   0   1   1  23.0  1993.0         11.5  ...   \n",
              "2  Alavés  La Liga    ESP   0   1   0   0  21.0  1996.0          4.8  ...   \n",
              "3  Alavés  La Liga    ESP   0   1   0   0  21.0  1996.0          4.8  ...   \n",
              "4  Alavés  La Liga    ESP   0   1   0   0  21.0  1995.0         23.8  ...   \n",
              "\n",
              "   player_foot_both  player_foot_left  player_foot_right  player_foot_   \\\n",
              "0               0.0               0.0                1.0            0.0   \n",
              "1               0.0               0.0                1.0            0.0   \n",
              "2               0.0               1.0                0.0            0.0   \n",
              "3               0.0               1.0                0.0            0.0   \n",
              "4               0.0               1.0                0.0            0.0   \n",
              "\n",
              "   player_foot_nan  country_England  country_France  country_Germany  \\\n",
              "0              0.0              0.0             0.0              0.0   \n",
              "1              0.0              0.0             0.0              0.0   \n",
              "2              0.0              0.0             0.0              0.0   \n",
              "3              0.0              0.0             0.0              0.0   \n",
              "4              0.0              0.0             0.0              0.0   \n",
              "\n",
              "   country_Italy  country_Spain  \n",
              "0            0.0            1.0  \n",
              "1            0.0            1.0  \n",
              "2            0.0            1.0  \n",
              "3            0.0            1.0  \n",
              "4            0.0            1.0  \n",
              "\n",
              "[5 rows x 536 columns]"
            ],
            "text/html": [
              "\n",
              "  <div id=\"df-9c1a1272-a8b2-42bd-80c7-897840756db6\" class=\"colab-df-container\">\n",
              "    <div>\n",
              "<style scoped>\n",
              "    .dataframe tbody tr th:only-of-type {\n",
              "        vertical-align: middle;\n",
              "    }\n",
              "\n",
              "    .dataframe tbody tr th {\n",
              "        vertical-align: top;\n",
              "    }\n",
              "\n",
              "    .dataframe thead th {\n",
              "        text-align: right;\n",
              "    }\n",
              "</style>\n",
              "<table border=\"1\" class=\"dataframe\">\n",
              "  <thead>\n",
              "    <tr style=\"text-align: right;\">\n",
              "      <th></th>\n",
              "      <th>Squad</th>\n",
              "      <th>Comp</th>\n",
              "      <th>Nation</th>\n",
              "      <th>GK</th>\n",
              "      <th>DF</th>\n",
              "      <th>MF</th>\n",
              "      <th>FW</th>\n",
              "      <th>Age</th>\n",
              "      <th>Born</th>\n",
              "      <th>Mins_Per_90</th>\n",
              "      <th>...</th>\n",
              "      <th>player_foot_both</th>\n",
              "      <th>player_foot_left</th>\n",
              "      <th>player_foot_right</th>\n",
              "      <th>player_foot_</th>\n",
              "      <th>player_foot_nan</th>\n",
              "      <th>country_England</th>\n",
              "      <th>country_France</th>\n",
              "      <th>country_Germany</th>\n",
              "      <th>country_Italy</th>\n",
              "      <th>country_Spain</th>\n",
              "    </tr>\n",
              "  </thead>\n",
              "  <tbody>\n",
              "    <tr>\n",
              "      <th>0</th>\n",
              "      <td>Alavés</td>\n",
              "      <td>La Liga</td>\n",
              "      <td>ESP</td>\n",
              "      <td>0</td>\n",
              "      <td>1</td>\n",
              "      <td>0</td>\n",
              "      <td>0</td>\n",
              "      <td>21.0</td>\n",
              "      <td>1996.0</td>\n",
              "      <td>20.3</td>\n",
              "      <td>...</td>\n",
              "      <td>0.0</td>\n",
              "      <td>0.0</td>\n",
              "      <td>1.0</td>\n",
              "      <td>0.0</td>\n",
              "      <td>0.0</td>\n",
              "      <td>0.0</td>\n",
              "      <td>0.0</td>\n",
              "      <td>0.0</td>\n",
              "      <td>0.0</td>\n",
              "      <td>1.0</td>\n",
              "    </tr>\n",
              "    <tr>\n",
              "      <th>1</th>\n",
              "      <td>Alavés</td>\n",
              "      <td>La Liga</td>\n",
              "      <td>ESP</td>\n",
              "      <td>0</td>\n",
              "      <td>0</td>\n",
              "      <td>1</td>\n",
              "      <td>1</td>\n",
              "      <td>23.0</td>\n",
              "      <td>1993.0</td>\n",
              "      <td>11.5</td>\n",
              "      <td>...</td>\n",
              "      <td>0.0</td>\n",
              "      <td>0.0</td>\n",
              "      <td>1.0</td>\n",
              "      <td>0.0</td>\n",
              "      <td>0.0</td>\n",
              "      <td>0.0</td>\n",
              "      <td>0.0</td>\n",
              "      <td>0.0</td>\n",
              "      <td>0.0</td>\n",
              "      <td>1.0</td>\n",
              "    </tr>\n",
              "    <tr>\n",
              "      <th>2</th>\n",
              "      <td>Alavés</td>\n",
              "      <td>La Liga</td>\n",
              "      <td>ESP</td>\n",
              "      <td>0</td>\n",
              "      <td>1</td>\n",
              "      <td>0</td>\n",
              "      <td>0</td>\n",
              "      <td>21.0</td>\n",
              "      <td>1996.0</td>\n",
              "      <td>4.8</td>\n",
              "      <td>...</td>\n",
              "      <td>0.0</td>\n",
              "      <td>1.0</td>\n",
              "      <td>0.0</td>\n",
              "      <td>0.0</td>\n",
              "      <td>0.0</td>\n",
              "      <td>0.0</td>\n",
              "      <td>0.0</td>\n",
              "      <td>0.0</td>\n",
              "      <td>0.0</td>\n",
              "      <td>1.0</td>\n",
              "    </tr>\n",
              "    <tr>\n",
              "      <th>3</th>\n",
              "      <td>Alavés</td>\n",
              "      <td>La Liga</td>\n",
              "      <td>ESP</td>\n",
              "      <td>0</td>\n",
              "      <td>1</td>\n",
              "      <td>0</td>\n",
              "      <td>0</td>\n",
              "      <td>21.0</td>\n",
              "      <td>1996.0</td>\n",
              "      <td>4.8</td>\n",
              "      <td>...</td>\n",
              "      <td>0.0</td>\n",
              "      <td>1.0</td>\n",
              "      <td>0.0</td>\n",
              "      <td>0.0</td>\n",
              "      <td>0.0</td>\n",
              "      <td>0.0</td>\n",
              "      <td>0.0</td>\n",
              "      <td>0.0</td>\n",
              "      <td>0.0</td>\n",
              "      <td>1.0</td>\n",
              "    </tr>\n",
              "    <tr>\n",
              "      <th>4</th>\n",
              "      <td>Alavés</td>\n",
              "      <td>La Liga</td>\n",
              "      <td>ESP</td>\n",
              "      <td>0</td>\n",
              "      <td>1</td>\n",
              "      <td>0</td>\n",
              "      <td>0</td>\n",
              "      <td>21.0</td>\n",
              "      <td>1995.0</td>\n",
              "      <td>23.8</td>\n",
              "      <td>...</td>\n",
              "      <td>0.0</td>\n",
              "      <td>1.0</td>\n",
              "      <td>0.0</td>\n",
              "      <td>0.0</td>\n",
              "      <td>0.0</td>\n",
              "      <td>0.0</td>\n",
              "      <td>0.0</td>\n",
              "      <td>0.0</td>\n",
              "      <td>0.0</td>\n",
              "      <td>1.0</td>\n",
              "    </tr>\n",
              "  </tbody>\n",
              "</table>\n",
              "<p>5 rows × 536 columns</p>\n",
              "</div>\n",
              "    <div class=\"colab-df-buttons\">\n",
              "\n",
              "  <div class=\"colab-df-container\">\n",
              "    <button class=\"colab-df-convert\" onclick=\"convertToInteractive('df-9c1a1272-a8b2-42bd-80c7-897840756db6')\"\n",
              "            title=\"Convert this dataframe to an interactive table.\"\n",
              "            style=\"display:none;\">\n",
              "\n",
              "  <svg xmlns=\"http://www.w3.org/2000/svg\" height=\"24px\" viewBox=\"0 -960 960 960\">\n",
              "    <path d=\"M120-120v-720h720v720H120Zm60-500h600v-160H180v160Zm220 220h160v-160H400v160Zm0 220h160v-160H400v160ZM180-400h160v-160H180v160Zm440 0h160v-160H620v160ZM180-180h160v-160H180v160Zm440 0h160v-160H620v160Z\"/>\n",
              "  </svg>\n",
              "    </button>\n",
              "\n",
              "  <style>\n",
              "    .colab-df-container {\n",
              "      display:flex;\n",
              "      gap: 12px;\n",
              "    }\n",
              "\n",
              "    .colab-df-convert {\n",
              "      background-color: #E8F0FE;\n",
              "      border: none;\n",
              "      border-radius: 50%;\n",
              "      cursor: pointer;\n",
              "      display: none;\n",
              "      fill: #1967D2;\n",
              "      height: 32px;\n",
              "      padding: 0 0 0 0;\n",
              "      width: 32px;\n",
              "    }\n",
              "\n",
              "    .colab-df-convert:hover {\n",
              "      background-color: #E2EBFA;\n",
              "      box-shadow: 0px 1px 2px rgba(60, 64, 67, 0.3), 0px 1px 3px 1px rgba(60, 64, 67, 0.15);\n",
              "      fill: #174EA6;\n",
              "    }\n",
              "\n",
              "    .colab-df-buttons div {\n",
              "      margin-bottom: 4px;\n",
              "    }\n",
              "\n",
              "    [theme=dark] .colab-df-convert {\n",
              "      background-color: #3B4455;\n",
              "      fill: #D2E3FC;\n",
              "    }\n",
              "\n",
              "    [theme=dark] .colab-df-convert:hover {\n",
              "      background-color: #434B5C;\n",
              "      box-shadow: 0px 1px 3px 1px rgba(0, 0, 0, 0.15);\n",
              "      filter: drop-shadow(0px 1px 2px rgba(0, 0, 0, 0.3));\n",
              "      fill: #FFFFFF;\n",
              "    }\n",
              "  </style>\n",
              "\n",
              "    <script>\n",
              "      const buttonEl =\n",
              "        document.querySelector('#df-9c1a1272-a8b2-42bd-80c7-897840756db6 button.colab-df-convert');\n",
              "      buttonEl.style.display =\n",
              "        google.colab.kernel.accessAllowed ? 'block' : 'none';\n",
              "\n",
              "      async function convertToInteractive(key) {\n",
              "        const element = document.querySelector('#df-9c1a1272-a8b2-42bd-80c7-897840756db6');\n",
              "        const dataTable =\n",
              "          await google.colab.kernel.invokeFunction('convertToInteractive',\n",
              "                                                    [key], {});\n",
              "        if (!dataTable) return;\n",
              "\n",
              "        const docLinkHtml = 'Like what you see? Visit the ' +\n",
              "          '<a target=\"_blank\" href=https://colab.research.google.com/notebooks/data_table.ipynb>data table notebook</a>'\n",
              "          + ' to learn more about interactive tables.';\n",
              "        element.innerHTML = '';\n",
              "        dataTable['output_type'] = 'display_data';\n",
              "        await google.colab.output.renderOutput(dataTable, element);\n",
              "        const docLink = document.createElement('div');\n",
              "        docLink.innerHTML = docLinkHtml;\n",
              "        element.appendChild(docLink);\n",
              "      }\n",
              "    </script>\n",
              "  </div>\n",
              "\n",
              "\n",
              "<div id=\"df-1fea9b02-e494-4daa-95f8-a189f80597d0\">\n",
              "  <button class=\"colab-df-quickchart\" onclick=\"quickchart('df-1fea9b02-e494-4daa-95f8-a189f80597d0')\"\n",
              "            title=\"Suggest charts\"\n",
              "            style=\"display:none;\">\n",
              "\n",
              "<svg xmlns=\"http://www.w3.org/2000/svg\" height=\"24px\"viewBox=\"0 0 24 24\"\n",
              "     width=\"24px\">\n",
              "    <g>\n",
              "        <path d=\"M19 3H5c-1.1 0-2 .9-2 2v14c0 1.1.9 2 2 2h14c1.1 0 2-.9 2-2V5c0-1.1-.9-2-2-2zM9 17H7v-7h2v7zm4 0h-2V7h2v10zm4 0h-2v-4h2v4z\"/>\n",
              "    </g>\n",
              "</svg>\n",
              "  </button>\n",
              "\n",
              "<style>\n",
              "  .colab-df-quickchart {\n",
              "      --bg-color: #E8F0FE;\n",
              "      --fill-color: #1967D2;\n",
              "      --hover-bg-color: #E2EBFA;\n",
              "      --hover-fill-color: #174EA6;\n",
              "      --disabled-fill-color: #AAA;\n",
              "      --disabled-bg-color: #DDD;\n",
              "  }\n",
              "\n",
              "  [theme=dark] .colab-df-quickchart {\n",
              "      --bg-color: #3B4455;\n",
              "      --fill-color: #D2E3FC;\n",
              "      --hover-bg-color: #434B5C;\n",
              "      --hover-fill-color: #FFFFFF;\n",
              "      --disabled-bg-color: #3B4455;\n",
              "      --disabled-fill-color: #666;\n",
              "  }\n",
              "\n",
              "  .colab-df-quickchart {\n",
              "    background-color: var(--bg-color);\n",
              "    border: none;\n",
              "    border-radius: 50%;\n",
              "    cursor: pointer;\n",
              "    display: none;\n",
              "    fill: var(--fill-color);\n",
              "    height: 32px;\n",
              "    padding: 0;\n",
              "    width: 32px;\n",
              "  }\n",
              "\n",
              "  .colab-df-quickchart:hover {\n",
              "    background-color: var(--hover-bg-color);\n",
              "    box-shadow: 0 1px 2px rgba(60, 64, 67, 0.3), 0 1px 3px 1px rgba(60, 64, 67, 0.15);\n",
              "    fill: var(--button-hover-fill-color);\n",
              "  }\n",
              "\n",
              "  .colab-df-quickchart-complete:disabled,\n",
              "  .colab-df-quickchart-complete:disabled:hover {\n",
              "    background-color: var(--disabled-bg-color);\n",
              "    fill: var(--disabled-fill-color);\n",
              "    box-shadow: none;\n",
              "  }\n",
              "\n",
              "  .colab-df-spinner {\n",
              "    border: 2px solid var(--fill-color);\n",
              "    border-color: transparent;\n",
              "    border-bottom-color: var(--fill-color);\n",
              "    animation:\n",
              "      spin 1s steps(1) infinite;\n",
              "  }\n",
              "\n",
              "  @keyframes spin {\n",
              "    0% {\n",
              "      border-color: transparent;\n",
              "      border-bottom-color: var(--fill-color);\n",
              "      border-left-color: var(--fill-color);\n",
              "    }\n",
              "    20% {\n",
              "      border-color: transparent;\n",
              "      border-left-color: var(--fill-color);\n",
              "      border-top-color: var(--fill-color);\n",
              "    }\n",
              "    30% {\n",
              "      border-color: transparent;\n",
              "      border-left-color: var(--fill-color);\n",
              "      border-top-color: var(--fill-color);\n",
              "      border-right-color: var(--fill-color);\n",
              "    }\n",
              "    40% {\n",
              "      border-color: transparent;\n",
              "      border-right-color: var(--fill-color);\n",
              "      border-top-color: var(--fill-color);\n",
              "    }\n",
              "    60% {\n",
              "      border-color: transparent;\n",
              "      border-right-color: var(--fill-color);\n",
              "    }\n",
              "    80% {\n",
              "      border-color: transparent;\n",
              "      border-right-color: var(--fill-color);\n",
              "      border-bottom-color: var(--fill-color);\n",
              "    }\n",
              "    90% {\n",
              "      border-color: transparent;\n",
              "      border-bottom-color: var(--fill-color);\n",
              "    }\n",
              "  }\n",
              "</style>\n",
              "\n",
              "  <script>\n",
              "    async function quickchart(key) {\n",
              "      const quickchartButtonEl =\n",
              "        document.querySelector('#' + key + ' button');\n",
              "      quickchartButtonEl.disabled = true;  // To prevent multiple clicks.\n",
              "      quickchartButtonEl.classList.add('colab-df-spinner');\n",
              "      try {\n",
              "        const charts = await google.colab.kernel.invokeFunction(\n",
              "            'suggestCharts', [key], {});\n",
              "      } catch (error) {\n",
              "        console.error('Error during call to suggestCharts:', error);\n",
              "      }\n",
              "      quickchartButtonEl.classList.remove('colab-df-spinner');\n",
              "      quickchartButtonEl.classList.add('colab-df-quickchart-complete');\n",
              "    }\n",
              "    (() => {\n",
              "      let quickchartButtonEl =\n",
              "        document.querySelector('#df-1fea9b02-e494-4daa-95f8-a189f80597d0 button');\n",
              "      quickchartButtonEl.style.display =\n",
              "        google.colab.kernel.accessAllowed ? 'block' : 'none';\n",
              "    })();\n",
              "  </script>\n",
              "</div>\n",
              "\n",
              "    </div>\n",
              "  </div>\n"
            ],
            "application/vnd.google.colaboratory.intrinsic+json": {
              "type": "dataframe",
              "variable_name": "xMarket1yearFinal"
            }
          },
          "metadata": {},
          "execution_count": 155
        }
      ]
    },
    {
      "cell_type": "code",
      "execution_count": 156,
      "metadata": {
        "colab": {
          "base_uri": "https://localhost:8080/"
        },
        "id": "Qt_TqrGICHL5",
        "outputId": "61ded908-9a4f-467f-fa61-b92caabcbf0e"
      },
      "outputs": [
        {
          "output_type": "stream",
          "name": "stdout",
          "text": [
            "[0]\tvalidation_0-rmse:14497814.41814\n",
            "[1]\tvalidation_0-rmse:12555690.27912\n",
            "[2]\tvalidation_0-rmse:11380197.11453\n",
            "[3]\tvalidation_0-rmse:10551174.30806\n",
            "[4]\tvalidation_0-rmse:10074687.45269\n",
            "[5]\tvalidation_0-rmse:9774051.59164\n",
            "[6]\tvalidation_0-rmse:9547709.15262\n",
            "[7]\tvalidation_0-rmse:9388954.86458\n",
            "[8]\tvalidation_0-rmse:9244913.59893\n",
            "[9]\tvalidation_0-rmse:9130107.41160\n",
            "[10]\tvalidation_0-rmse:9062748.24788\n",
            "[11]\tvalidation_0-rmse:9032865.78070\n",
            "[12]\tvalidation_0-rmse:8996052.11278\n",
            "[13]\tvalidation_0-rmse:8934724.47267\n",
            "[14]\tvalidation_0-rmse:8897251.94078\n",
            "[15]\tvalidation_0-rmse:8879475.97669\n",
            "[16]\tvalidation_0-rmse:8846326.77021\n",
            "[17]\tvalidation_0-rmse:8827250.62821\n",
            "[18]\tvalidation_0-rmse:8813834.98410\n",
            "[19]\tvalidation_0-rmse:8791478.90053\n",
            "[20]\tvalidation_0-rmse:8784945.82983\n",
            "[21]\tvalidation_0-rmse:8776328.33695\n",
            "[22]\tvalidation_0-rmse:8744847.05380\n",
            "[23]\tvalidation_0-rmse:8740308.31270\n",
            "[24]\tvalidation_0-rmse:8742438.82205\n",
            "[25]\tvalidation_0-rmse:8737846.82795\n",
            "[26]\tvalidation_0-rmse:8730563.38104\n",
            "[27]\tvalidation_0-rmse:8721409.77796\n",
            "[28]\tvalidation_0-rmse:8712630.19965\n",
            "[29]\tvalidation_0-rmse:8716292.74065\n",
            "[30]\tvalidation_0-rmse:8708949.80801\n",
            "[31]\tvalidation_0-rmse:8710533.88286\n",
            "[32]\tvalidation_0-rmse:8708731.11846\n",
            "[33]\tvalidation_0-rmse:8717155.49721\n",
            "[34]\tvalidation_0-rmse:8720002.21461\n",
            "[35]\tvalidation_0-rmse:8722175.52770\n",
            "[36]\tvalidation_0-rmse:8715188.61512\n",
            "[37]\tvalidation_0-rmse:8709379.96815\n",
            "[38]\tvalidation_0-rmse:8704057.02739\n",
            "[39]\tvalidation_0-rmse:8704006.33720\n",
            "[40]\tvalidation_0-rmse:8689428.64805\n",
            "[41]\tvalidation_0-rmse:8678504.62922\n",
            "[42]\tvalidation_0-rmse:8661812.37072\n",
            "[43]\tvalidation_0-rmse:8665585.01781\n",
            "[44]\tvalidation_0-rmse:8662286.72943\n",
            "[45]\tvalidation_0-rmse:8661944.20677\n",
            "[46]\tvalidation_0-rmse:8656858.02915\n",
            "[47]\tvalidation_0-rmse:8652043.74961\n",
            "[48]\tvalidation_0-rmse:8645480.23142\n",
            "[49]\tvalidation_0-rmse:8643350.75523\n",
            "[50]\tvalidation_0-rmse:8637649.05055\n",
            "[51]\tvalidation_0-rmse:8641860.17894\n",
            "[52]\tvalidation_0-rmse:8642013.42848\n",
            "[53]\tvalidation_0-rmse:8642034.83617\n",
            "[54]\tvalidation_0-rmse:8643724.34387\n",
            "[55]\tvalidation_0-rmse:8650154.65892\n",
            "[56]\tvalidation_0-rmse:8649853.85719\n",
            "[57]\tvalidation_0-rmse:8645559.24560\n",
            "[58]\tvalidation_0-rmse:8644525.16091\n",
            "[59]\tvalidation_0-rmse:8642235.61674\n",
            "[60]\tvalidation_0-rmse:8645178.11823\n",
            "[61]\tvalidation_0-rmse:8647320.65319\n",
            "[62]\tvalidation_0-rmse:8645361.50511\n",
            "[63]\tvalidation_0-rmse:8644313.55664\n",
            "[64]\tvalidation_0-rmse:8643259.14784\n",
            "[65]\tvalidation_0-rmse:8630592.50889\n",
            "[66]\tvalidation_0-rmse:8620106.96793\n",
            "[67]\tvalidation_0-rmse:8625535.07027\n",
            "[68]\tvalidation_0-rmse:8616561.22864\n",
            "[69]\tvalidation_0-rmse:8611518.60172\n",
            "[70]\tvalidation_0-rmse:8613553.47693\n",
            "[71]\tvalidation_0-rmse:8607100.05113\n",
            "[72]\tvalidation_0-rmse:8609381.23942\n",
            "[73]\tvalidation_0-rmse:8608522.15305\n",
            "[74]\tvalidation_0-rmse:8611569.46782\n",
            "[75]\tvalidation_0-rmse:8609043.30904\n",
            "[76]\tvalidation_0-rmse:8614725.44758\n",
            "[77]\tvalidation_0-rmse:8613457.81409\n",
            "[78]\tvalidation_0-rmse:8608569.80875\n",
            "[79]\tvalidation_0-rmse:8608985.30685\n",
            "[80]\tvalidation_0-rmse:8607220.36609\n",
            "[81]\tvalidation_0-rmse:8599445.48943\n",
            "[82]\tvalidation_0-rmse:8600749.58591\n",
            "[83]\tvalidation_0-rmse:8601886.10264\n",
            "[84]\tvalidation_0-rmse:8594984.71871\n",
            "[85]\tvalidation_0-rmse:8595914.92043\n",
            "[86]\tvalidation_0-rmse:8596878.97178\n",
            "[87]\tvalidation_0-rmse:8596977.09680\n",
            "[88]\tvalidation_0-rmse:8598128.05921\n",
            "[89]\tvalidation_0-rmse:8595625.83824\n",
            "[90]\tvalidation_0-rmse:8594709.95027\n",
            "[91]\tvalidation_0-rmse:8595506.67748\n",
            "[92]\tvalidation_0-rmse:8595072.99273\n",
            "[93]\tvalidation_0-rmse:8593081.51098\n",
            "[94]\tvalidation_0-rmse:8593607.00460\n",
            "[95]\tvalidation_0-rmse:8593318.54785\n",
            "[96]\tvalidation_0-rmse:8592016.95826\n",
            "[97]\tvalidation_0-rmse:8593481.20276\n",
            "[98]\tvalidation_0-rmse:8593025.31183\n",
            "[99]\tvalidation_0-rmse:8593365.29234\n"
          ]
        }
      ],
      "source": [
        "# Derek addition. Prints feature importances\n",
        "xMarket1year_train, xMarket1year_test, yMarket1year_train, yMarket1year_test = train_test_split(xMarket1yearFinal, yMarket1year, random_state=1, train_size=0.8)\n",
        "MarketModelXGB1year = xgb.XGBRegressor(tree_method=\"approx\", seed = 1, enable_categorical=True)\n",
        "MarketModelXGB1year.fit(xMarket1year_train, yMarket1year_train, verbose = True, eval_set = [(xMarket1year_test, yMarket1year_test)])\n",
        "# print(\"feature importances:\", InjuryModelXGB1year.feature_importances_)\n",
        "\n",
        "feat_imp_list = list(zip ( list(MarketModelXGB1year.feature_importances_) , xMarket1year_train.columns.to_list()) )\n",
        "feature_imp_df = pd.DataFrame(sorted(feat_imp_list, key=lambda x: x[0], reverse=True) , columns = ['feature_value','feature_name'])\n",
        "#feature_imp_df = pd.DataFrame(sorted(feat_imp_list, key=lambda x: x[1], reverse=True) , columns = ['feature_value','feature_name'])\n",
        "#print(feature_imp_df.loc[1, \"Pos_DF\"])\n",
        "#print(feature_imp_df[feature_imp_df['feature_name'] == \"injuryType_nan\"]['feature_value'])"
      ]
    },
    {
      "cell_type": "code",
      "execution_count": 158,
      "metadata": {
        "id": "JYew511WCHL6",
        "colab": {
          "base_uri": "https://localhost:8080/"
        },
        "outputId": "96e2e6be-37ef-44da-f479-11d6f6e2b160"
      },
      "outputs": [
        {
          "output_type": "stream",
          "name": "stdout",
          "text": [
            "    feature_value                           feature_name\n",
            "0        0.160787          plus_per__minus__Team.Success\n",
            "1        0.097522                                GCA_GCA\n",
            "2        0.069910    xGplus_per__minus__Team.Success..xG\n",
            "3        0.058185                                    G+A\n",
            "4        0.051003                               Att_Take\n",
            "5        0.042642                        Att Pen_Touches\n",
            "6        0.042066                            Sh_Standard\n",
            "7        0.031981                           PassLive_GCA\n",
            "8        0.031599                      npxG+xAG_Expected\n",
            "9        0.024075                 onxG_Team.Success..xG.\n",
            "10       0.019975                       onG_Team.Success\n",
            "11       0.017270                                    Age\n",
            "12       0.014104                                G+A_Per\n",
            "13       0.012909                             unSub_Subs\n",
            "14       0.011770                                   Born\n",
            "15       0.011405                            FK_Standard\n",
            "16       0.010749                           PassLive_SCA\n",
            "17       0.010746                           SoT_Standard\n",
            "18       0.010736                                SCA_SCA\n",
            "19       0.010182                           npxG+xAG_Per\n",
            "20       0.010047                        PrgDist_Carries\n",
            "21       0.009216                                 TO_SCA\n",
            "22       0.007913                             Str_Corner\n",
            "23       0.007583                               Cmp_Long\n",
            "24       0.007117                        TotDist_Carries\n",
            "25       0.007097                            Dis_Carries\n",
            "26       0.006945                                country\n",
            "27       0.005752                                Fld_SCA\n",
            "28       0.005586                                TB_Pass\n",
            "29       0.005545                           Compl_Starts\n",
            "30       0.005204                                    Fld\n",
            "31       0.004304                                  Squad\n",
            "32       0.003913                            CPA_Carries\n",
            "33       0.003848                          npxG_Expected\n",
            "34       0.003828                 Mn_per_MP_Playing.Time\n",
            "35       0.003705                              Succ_Take\n",
            "36       0.003162                                Gls_Per\n",
            "37       0.003034                                FK_Pass\n",
            "38       0.003032                                 TO_GCA\n",
            "39       0.002948                                  Recov\n",
            "40       0.002942                          Rec_Receiving\n",
            "41       0.002794                 np:G_minus_xG_Expected\n",
            "42       0.002783                      onGA_Team.Success\n",
            "43       0.002602                                Sw_Pass\n",
            "44       0.002571                        Def 3rd_Tackles\n",
            "45       0.002558                              Live_Pass\n",
            "46       0.002490                        Mid 3rd_Touches\n",
            "47       0.002487                        Def Pen_Touches\n",
            "48       0.002402                                Ast_Per\n",
            "49       0.002377                            Final_Third\n",
            "50       0.002344                                TI_Pass\n",
            "51       0.002310                                 Nation\n",
            "52       0.002271                        injurytype_face\n",
            "53       0.002246                   injurytype_hamstring\n",
            "54       0.002212                      Tkld_percent_Take\n",
            "55       0.002093  xGplus_per__minus_90_Team.Success..xG\n",
            "56       0.002085                              Att_Short\n",
            "57       0.002028                                   GA90\n",
            "58       0.001987                                 xG_Per\n",
            "59       0.001977                       injurytype_knock\n",
            "60       0.001937                        Blocks_Outcomes\n",
            "61       0.001921                       Cmp_percent_Long\n",
            "62       0.001903                                Tkl+Int\n",
            "63       0.001738                              In_Corner\n",
            "64       0.001733               Min_percent_Playing.Time\n",
            "65       0.001724                               Att_Long\n",
            "66       0.001706                        Mid 3rd_Tackles\n",
            "67       0.001669                       PrgC_Progression\n",
            "68       0.001648                              SCA90_SCA\n",
            "69       0.001585                     Sh_per_90_Standard\n",
            "70       0.001565                    injurytype_abductor\n",
            "71       0.001562                       injurytype_ankle\n",
            "72       0.001545                              Cmp_Total\n",
            "73       0.001514                              Sh_Blocks\n",
            "74       0.001486                            Pass_Blocks\n",
            "75       0.001438                            Mins_Per_90\n",
            "76       0.001376                           Att_Launched\n",
            "77       0.001345                    SoT_per_90_Standard\n",
            "78       0.001340                                  2CrdY\n",
            "79       0.001318                          PKatt_Penalty\n",
            "80       0.001308                            xG_Expected\n",
            "81       0.001300                                     FW\n",
            "82       0.001263             PSxG+_per__minus__Expected\n",
            "83       0.001248                                     xA\n",
            "84       0.001222                     G_per_SoT_Standard\n",
            "85       0.001121                     player_height_mtrs\n",
            "86       0.001041                      Cmp_percent_Short\n",
            "87       0.001036                       injurytype_other\n",
            "88       0.001034                            A_minus_xAG\n",
            "89       0.001032                      G_per_Sh_Standard\n",
            "90       0.001029                                    Crs\n",
            "91       0.001023                              Dead_Pass\n",
            "92       0.001014                           Off_Outcomes\n",
            "93       0.000951                        Att 3rd_Touches\n",
            "94       0.000937                    Mn_per_Start_Starts\n",
            "95       0.000918                   npxG_per_Sh_Expected\n",
            "96       0.000906                              Cmp_Short\n",
            "97       0.000891                        Def 3rd_Touches\n",
            "98       0.000880                         injurytype_ill\n",
            "99       0.000880                                Fld_GCA\n"
          ]
        }
      ],
      "source": [
        "pd.set_option('display.max_rows', 500)\n",
        "print(feature_imp_df.head(100))"
      ]
    },
    {
      "cell_type": "code",
      "execution_count": 160,
      "metadata": {
        "id": "4m7LOKptCHL6",
        "colab": {
          "base_uri": "https://localhost:8080/"
        },
        "outputId": "85ddbd2c-42f5-4e8f-c1b8-9fac2148aac6"
      },
      "outputs": [
        {
          "output_type": "stream",
          "name": "stdout",
          "text": [
            "0.7562051824351126\n",
            "4638273.087444472\n",
            "73845926338077.27\n"
          ]
        }
      ],
      "source": [
        "yMarket1year_pred = MarketModelXGB1year.predict(xMarket1year_test)\n",
        "print(r2_score(yMarket1year_test, yMarket1year_pred))\n",
        "print(mean_absolute_error(yMarket1year_test, yMarket1year_pred))\n",
        "print(mean_squared_error(yMarket1year_test, yMarket1year_pred))"
      ]
    },
    {
      "cell_type": "markdown",
      "source": [
        "### Year 2\n"
      ],
      "metadata": {
        "id": "XM0RmFCXCJdX"
      }
    },
    {
      "cell_type": "code",
      "execution_count": null,
      "metadata": {
        "id": "4-eDt18lB51n"
      },
      "outputs": [],
      "source": [
        "#2 year model\n",
        "x2yearEncoding = pd.DataFrame()\n",
        "x2year[\"Squad\"] = x2year[\"Squad\"].astype(\"category\")\n",
        "extractedMarket1year = x2year[\"Squad\"]\n",
        "x2year.drop(\"Squad\", axis = 1)\n",
        "x2yearEncoding = pd.concat([x2yearEncoding, extracted2year], axis=1)\n",
        "x2year[\"Comp\"] = x2year[\"Comp\"].astype(\"category\")\n",
        "extracted2year = x2year[\"Comp\"]\n",
        "x2year.drop(\"Comp\", axis = 1)\n",
        "x2yearEncoding = pd.concat([x2yearEncoding, extracted2year], axis=1)\n",
        "x2year[\"Nation\"] = x2year[\"Nation\"].astype(\"category\")\n",
        "extracted2year = x2year[\"Nation\"]\n",
        "x2year.drop(\"Nation\", axis = 1)\n",
        "x2yearEncoding = pd.concat([x2yearEncoding, extracted2year], axis=1)\n",
        "x2year[\"player_foot\"] = x2year[\"player_foot\"].astype(\"category\")\n",
        "extracted2year = x2year[\"player_foot\"]\n",
        "x2year.drop(\"player_foot\", axis = 1)\n",
        "x2yearEncoding = pd.concat([x2yearEncoding, extracted2year], axis=1)\n",
        "x2year[\"country\"] = x2year[\"country\"].astype(\"category\")\n",
        "extracted2year = x2year[\"country\"]\n",
        "x2year.drop(\"country\", axis = 1)\n",
        "x2yearEncoding = pd.concat([x2yearEncoding, extracted2year], axis=1)\n",
        "x2year[\"Squadyear2\"] = x2year[\"Squadyear2\"].astype(\"category\")\n",
        "extracted2year = x2year[\"Squadyear2\"]\n",
        "x2year.drop(\"Squadyear2\", axis = 1)\n",
        "x2yearEncoding = pd.concat([x2yearEncoding, extracted2year], axis=1)\n",
        "x2year[\"Compyear2\"] = x2year[\"Compyear2\"].astype(\"category\")\n",
        "extracted2year = x2year[\"Compyear2\"]\n",
        "x2year.drop(\"Compyear2\", axis = 1)\n",
        "x2yearEncoding = pd.concat([x2yearEncoding, extracted2year], axis=1)\n",
        "x2year[\"Posyear2\"] = x2year[\"Posyear2\"].astype(\"category\")\n",
        "extracted2year = x2year[\"Posyear2\"]\n",
        "x2year.drop(\"Posyear2\", axis = 1)\n",
        "x2yearEncoding = pd.concat([x2yearEncoding, extracted2year], axis=1)\n",
        "x2year[\"Nationyear2\"] = x2year[\"Nationyear2\"].astype(\"category\")\n",
        "extracted2year = x2year[\"Nationyear2\"]\n",
        "x2year.drop(\"Nationyear2\", axis = 1)\n",
        "x2yearEncoding = pd.concat([x2yearEncoding, extracted2year], axis=1)\n",
        "x2year[\"player_footyear2\"] = x2year[\"player_footyear2\"].astype(\"category\")\n",
        "extracted2year = x2year[\"player_footyear2\"]\n",
        "x2year.drop(\"player_footyear2\", axis = 1)\n",
        "x2yearEncoding = pd.concat([x2yearEncoding, extracted2year], axis=1)\n",
        "x2year[\"countryyear2\"] = x2year[\"countryyear2\"].astype(\"category\")\n",
        "extracted2year = x2year[\"countryyear2\"]\n",
        "x2year.drop(\"countryyear2\", axis = 1)\n",
        "x2yearEncoding = pd.concat([x2yearEncoding, extracted2year], axis=1)\n",
        "x2year.drop(['duration_truth'], axis = 1, inplace = True)"
      ]
    },
    {
      "cell_type": "code",
      "execution_count": null,
      "metadata": {
        "id": "dlIUD0ovB51o"
      },
      "outputs": [],
      "source": [
        "#One hot encoder also converting floats+duration to booleans\n",
        "\n",
        "#check all hot encoded columns/features\n",
        "\n",
        "# Check how one hot encoding is changing column names and values\n",
        "\n",
        "# Manually clean injury types\n",
        "\n",
        "#delete spaces/commas in column names\n",
        "\n",
        "#born vs age\n",
        "\n",
        "enc2year = OneHotEncoder()\n",
        "enc2year.fit(x2yearEncoding)\n",
        "\n",
        "#transform categorical features\n",
        "X2year_encoded = enc2year.transform(x2yearEncoding).toarray()\n",
        "feature_names2year = x2yearEncoding.columns\n",
        "new_feature_names2year = enc2year.get_feature_names_out(feature_names2year)\n",
        "X2encoded = pd.DataFrame(X2year_encoded, columns= new_feature_names2year)\n",
        "x2yearFinal = x2year.join(X2encoded)"
      ]
    },
    {
      "cell_type": "code",
      "execution_count": null,
      "metadata": {
        "id": "kPzdIuBIB51o"
      },
      "outputs": [],
      "source": [
        "# Derek addition. Prints feature importances\n",
        "x2year_train, x2year_test, y2year_train, y2year_test = train_test_split(x2yearFinal, y2year, random_state=1, train_size=0.8)\n",
        "InjuryModelXGB2year = xgb.XGBRegressor(tree_method=\"approx\", seed = 1, enable_categorical=True)\n",
        "InjuryModelXGB2year.fit(x2year_train, y2year_train, verbose = True, eval_set = [(x2year_test, y2year_test)])\n",
        "# print(\"feature importances:\", InjuryModelXGB1year.feature_importances_)\n",
        "\n",
        "feat_imp_list = list(zip ( list(InjuryModelXGB2year.feature_importances_) , x2year_train.columns.to_list()) )\n",
        "feature_imp_df = pd.DataFrame(sorted(feat_imp_list, key=lambda x: x[0], reverse=True) , columns = ['feature_value','feature_name'])\n",
        "#feature_imp_df = pd.DataFrame(sorted(feat_imp_list, key=lambda x: x[1], reverse=True) , columns = ['feature_value','feature_name'])\n",
        "#print(feature_imp_df.loc[1, \"Pos_DF\"])\n",
        "#print(feature_imp_df[feature_imp_df['feature_name'] == \"injuryType_nan\"]['feature_value'])"
      ]
    },
    {
      "cell_type": "code",
      "execution_count": null,
      "metadata": {
        "id": "YAeDTx-qB51p"
      },
      "outputs": [],
      "source": [
        "#unSub_Subs, err - search up\n",
        "pd.set_option('display.max_rows', 500)\n",
        "print(feature_imp_df.head(100))"
      ]
    },
    {
      "cell_type": "code",
      "execution_count": null,
      "metadata": {
        "id": "mP7rx612B51p"
      },
      "outputs": [],
      "source": [
        "y2year_pred = InjuryModelXGB2year.predict(x2year_test)\n",
        "print(r2_score(y2year_test, y2year_pred))\n",
        "print(mean_absolute_error(y2year_test, y2year_pred))\n",
        "print(mean_squared_error(y2year_test, y2year_pred))"
      ]
    },
    {
      "cell_type": "markdown",
      "source": [
        "### Year 3"
      ],
      "metadata": {
        "id": "n9WQ7On7CaQ_"
      }
    },
    {
      "cell_type": "code",
      "execution_count": null,
      "metadata": {
        "id": "Oz8ZQCI4Cd5Z"
      },
      "outputs": [],
      "source": [
        "#3 year model\n",
        "x3yearEncoding = pd.DataFrame()\n",
        "x3year[\"Squad\"] = x3year[\"Squad\"].astype(\"category\")\n",
        "extracted3year = x3year[\"Squad\"]\n",
        "x3year.drop(\"Squad\", axis = 1)\n",
        "x3yearEncoding = pd.concat([x3yearEncoding, extracted3year], axis=1)\n",
        "x3year[\"Comp\"] = x3year[\"Comp\"].astype(\"category\")\n",
        "extracted3year = x3year[\"Comp\"]\n",
        "x3year.drop(\"Comp\", axis = 1)\n",
        "x3yearEncoding = pd.concat([x3yearEncoding, extracted3year], axis=1)\n",
        "x3year[\"Pos\"] = x3year[\"Pos\"].astype(\"category\")\n",
        "extracted3year = x3year[\"Pos\"]\n",
        "x3year.drop(\"Pos\", axis = 1)\n",
        "x3yearEncoding = pd.concat([x3yearEncoding, extracted3year], axis=1)\n",
        "x3year[\"Nation\"] = x3year[\"Nation\"].astype(\"category\")\n",
        "extracted3year = x3year[\"Nation\"]\n",
        "x3year.drop(\"Nation\", axis = 1)\n",
        "x3yearEncoding = pd.concat([x3yearEncoding, extracted3year], axis=1)\n",
        "x3year[\"player_foot\"] = x3year[\"player_foot\"].astype(\"category\")\n",
        "extracted3year = x3year[\"player_foot\"]\n",
        "x3year.drop(\"player_foot\", axis = 1)\n",
        "x3yearEncoding = pd.concat([x3yearEncoding, extracted3year], axis=1)\n",
        "x3year[\"country\"] = x3year[\"country\"].astype(\"category\")\n",
        "extracted3year = x3year[\"country\"]\n",
        "x3year.drop(\"country\", axis = 1)\n",
        "x3yearEncoding = pd.concat([x3yearEncoding, extracted3year], axis=1)\n",
        "\n",
        "x3year[\"Squadyear2\"] = x3year[\"Squadyear2\"].astype(\"category\")\n",
        "extracted3year = x3year[\"Squadyear2\"]\n",
        "x3year.drop(\"Squadyear2\", axis = 1)\n",
        "x3yearEncoding = pd.concat([x3yearEncoding, extracted3year], axis=1)\n",
        "x3year[\"Compyear2\"] = x3year[\"Compyear2\"].astype(\"category\")\n",
        "extracted3year = x3year[\"Compyear2\"]\n",
        "x3year.drop(\"Compyear2\", axis = 1)\n",
        "x3yearEncoding = pd.concat([x3yearEncoding, extracted3year], axis=1)\n",
        "x3year[\"Posyear2\"] = x3year[\"Posyear2\"].astype(\"category\")\n",
        "extracted3year = x3year[\"Posyear2\"]\n",
        "x3year.drop(\"Posyear2\", axis = 1)\n",
        "x3yearEncoding = pd.concat([x3yearEncoding, extracted3year], axis=1)\n",
        "x3year[\"Nationyear2\"] = x3year[\"Nationyear2\"].astype(\"category\")\n",
        "extracted3year = x3year[\"Nationyear2\"]\n",
        "x3year.drop(\"Nationyear2\", axis = 1)\n",
        "x3yearEncoding = pd.concat([x3yearEncoding, extracted3year], axis=1)\n",
        "x3year[\"player_footyear2\"] = x3year[\"player_footyear2\"].astype(\"category\")\n",
        "extracted3year = x3year[\"player_footyear2\"]\n",
        "x3year.drop(\"player_footyear2\", axis = 1)\n",
        "x3yearEncoding = pd.concat([x3yearEncoding, extracted3year], axis=1)\n",
        "x3year[\"countryyear2\"] = x3year[\"countryyear2\"].astype(\"category\")\n",
        "extracted3year = x3year[\"countryyear2\"]\n",
        "x3year.drop(\"countryyear2\", axis = 1)\n",
        "x3yearEncoding = pd.concat([x3yearEncoding, extracted3year], axis=1)\n",
        "\n",
        "x3year[\"Squadyear3\"] = x3year[\"Squadyear3\"].astype(\"category\")\n",
        "extracted3year = x3year[\"Squadyear3\"]\n",
        "x3year.drop(\"Squadyear3\", axis = 1)\n",
        "x3yearEncoding = pd.concat([x3yearEncoding, extracted3year], axis=1)\n",
        "x3year[\"Compyear3\"] = x3year[\"Compyear3\"].astype(\"category\")\n",
        "extracted3year = x3year[\"Compyear3\"]\n",
        "x3year.drop(\"Compyear3\", axis = 1)\n",
        "x3yearEncoding = pd.concat([x3yearEncoding, extracted3year], axis=1)\n",
        "x3year[\"Posyear3\"] = x3year[\"Posyear3\"].astype(\"category\")\n",
        "extracted3year = x3year[\"Posyear3\"]\n",
        "x3year.drop(\"Posyear3\", axis = 1)\n",
        "x3yearEncoding = pd.concat([x3yearEncoding, extracted3year], axis=1)\n",
        "x3year[\"Nationyear3\"] = x3year[\"Nationyear3\"].astype(\"category\")\n",
        "extracted3year = x3year[\"Nationyear3\"]\n",
        "x3year.drop(\"Nationyear3\", axis = 1)\n",
        "x3yearEncoding = pd.concat([x3yearEncoding, extracted3year], axis=1)\n",
        "x3year[\"player_footyear3\"] = x3year[\"player_footyear3\"].astype(\"category\")\n",
        "extracted3year = x3year[\"player_footyear3\"]\n",
        "x3year.drop(\"player_footyear3\", axis = 1)\n",
        "x3yearEncoding = pd.concat([x3yearEncoding, extracted3year], axis=1)\n",
        "x3year[\"countryyear3\"] = x3year[\"countryyear3\"].astype(\"category\")\n",
        "extracted3year = x3year[\"countryyear3\"]\n",
        "x3year.drop(\"countryyear3\", axis = 1)\n",
        "x3yearEncoding = pd.concat([x3yearEncoding, extracted3year], axis=1)\n",
        "x3year.drop(['duration_truth'], axis = 1, inplace = True)"
      ]
    },
    {
      "cell_type": "code",
      "execution_count": null,
      "metadata": {
        "id": "CyfzhfAXCd5a"
      },
      "outputs": [],
      "source": [
        "#One hot encoder also converting floats+duration to booleans\n",
        "\n",
        "#check all hot encoded columns/features\n",
        "\n",
        "# Check how one hot encoding is changing column names and values\n",
        "\n",
        "# Manually clean injury types\n",
        "\n",
        "#delete spaces/commas in column names\n",
        "\n",
        "#born vs age\n",
        "\n",
        "enc3year = OneHotEncoder()\n",
        "enc3year.fit(x3yearEncoding)\n",
        "\n",
        "#transform categorical features\n",
        "X3year_encoded = enc3year.transform(x3yearEncoding).toarray()\n",
        "feature_names3year = x3yearEncoding.columns\n",
        "new_feature_names3year = enc3year.get_feature_names_out(feature_names3year)\n",
        "X3encoded = pd.DataFrame(X3year_encoded, columns= new_feature_names3year)\n",
        "x3yearFinal = x3year.join(X3encoded)"
      ]
    },
    {
      "cell_type": "code",
      "execution_count": null,
      "metadata": {
        "id": "DXFn8GOkCd5a"
      },
      "outputs": [],
      "source": [
        "# Derek addition. Prints feature importances\n",
        "x3year_train, x3year_test, y3year_train, y3year_test = train_test_split(x3yearFinal, y3year, random_state=1, train_size=0.8)\n",
        "InjuryModelXGB3year = xgb.XGBRegressor(tree_method=\"approx\", seed = 1, enable_categorical=True)\n",
        "InjuryModelXGB3year.fit(x3year_train, y3year_train, verbose = True, eval_set = [(x3year_test, y3year_test)])\n",
        "# print(\"feature importances:\", InjuryModelXGB1year.feature_importances_)\n",
        "\n",
        "feat_imp_list = list(zip ( list(InjuryModelXGB1year.feature_importances_) , x3year_train.columns.to_list()) )\n",
        "feature_imp_df = pd.DataFrame(sorted(feat_imp_list, key=lambda x: x[0], reverse=True) , columns = ['feature_value','feature_name'])\n",
        "#feature_imp_df = pd.DataFrame(sorted(feat_imp_list, key=lambda x: x[1], reverse=True) , columns = ['feature_value','feature_name'])\n",
        "#print(feature_imp_df.loc[1, \"Pos_DF\"])\n",
        "#print(feature_imp_df[feature_imp_df['feature_name'] == \"injuryType_nan\"]['feature_value'])"
      ]
    },
    {
      "cell_type": "code",
      "execution_count": null,
      "metadata": {
        "id": "jPpj9ZFlCd5a"
      },
      "outputs": [],
      "source": [
        "#unSub_Subs, err - search up\n",
        "pd.set_option('display.max_rows', 500)\n",
        "print(feature_imp_df.head(100))"
      ]
    },
    {
      "cell_type": "code",
      "execution_count": null,
      "metadata": {
        "id": "ICAGhl73Cd5b"
      },
      "outputs": [],
      "source": [
        "y3year_pred = InjuryModelXGB3year.predict(x3year_test)\n",
        "print(r2_score(y3year_test, y3year_pred))\n",
        "print(mean_absolute_error(y3year_test, y3year_pred))\n",
        "print(mean_squared_error(y3year_test, y3year_pred))"
      ]
    },
    {
      "cell_type": "markdown",
      "metadata": {
        "id": "yykBhAPoCd5b"
      },
      "source": [
        "### Year 4"
      ]
    },
    {
      "cell_type": "code",
      "execution_count": null,
      "metadata": {
        "id": "7qW1SqbHCd5b"
      },
      "outputs": [],
      "source": [
        "#4 year model\n",
        "x4yearEncoding = pd.DataFrame()\n",
        "x4year[\"Squad\"] = x4year[\"Squad\"].astype(\"category\")\n",
        "extracted4year = x4year[\"Squad\"]\n",
        "x4year.drop(\"Squad\", axis = 1)\n",
        "x4yearEncoding = pd.concat([x4yearEncoding, extracted4year], axis=1)\n",
        "x4year[\"Comp\"] = x4year[\"Comp\"].astype(\"category\")\n",
        "extracted4year = x4year[\"Comp\"]\n",
        "x4year.drop(\"Comp\", axis = 1)\n",
        "x4yearEncoding = pd.concat([x4yearEncoding, extracted4year], axis=1)\n",
        "x4year[\"Pos\"] = x4year[\"Pos\"].astype(\"category\")\n",
        "extracted4year = x4year[\"Pos\"]\n",
        "x4year.drop(\"Pos\", axis = 1)\n",
        "x4yearEncoding = pd.concat([x4yearEncoding, extracted4year], axis=1)\n",
        "x4year[\"Nation\"] = x4year[\"Nation\"].astype(\"category\")\n",
        "extracted4year = x4year[\"Nation\"]\n",
        "x4year.drop(\"Nation\", axis = 1)\n",
        "x4yearEncoding = pd.concat([x4yearEncoding, extracted4year], axis=1)\n",
        "x4year[\"player_foot\"] = x4year[\"player_foot\"].astype(\"category\")\n",
        "extracted4year = x4year[\"player_foot\"]\n",
        "x4year.drop(\"player_foot\", axis = 1)\n",
        "x4yearEncoding = pd.concat([x4yearEncoding, extracted4year], axis=1)\n",
        "x4year[\"country\"] = x4year[\"country\"].astype(\"category\")\n",
        "extracted4year = x4year[\"country\"]\n",
        "x4year.drop(\"country\", axis = 1)\n",
        "x4yearEncoding = pd.concat([x4yearEncoding, extracted4year], axis=1)\n",
        "\n",
        "x4year[\"Squadyear2\"] = x4year[\"Squadyear2\"].astype(\"category\")\n",
        "extracted4year = x4year[\"Squadyear2\"]\n",
        "x4year.drop(\"Squadyear2\", axis = 1)\n",
        "x4yearEncoding = pd.concat([x4yearEncoding, extracted4year], axis=1)\n",
        "x4year[\"Compyear2\"] = x4year[\"Compyear2\"].astype(\"category\")\n",
        "extracted4year = x4year[\"Compyear2\"]\n",
        "x4year.drop(\"Compyear2\", axis = 1)\n",
        "x4yearEncoding = pd.concat([x4yearEncoding, extracted4year], axis=1)\n",
        "x4year[\"Posyear2\"] = x4year[\"Posyear2\"].astype(\"category\")\n",
        "extracted4year = x4year[\"Posyear2\"]\n",
        "x4year.drop(\"Posyear2\", axis = 1)\n",
        "x4yearEncoding = pd.concat([x4yearEncoding, extracted4year], axis=1)\n",
        "x4year[\"Nationyear2\"] = x4year[\"Nationyear2\"].astype(\"category\")\n",
        "extracted4year = x4year[\"Nationyear2\"]\n",
        "x4year.drop(\"Nationyear2\", axis = 1)\n",
        "x4yearEncoding = pd.concat([x4yearEncoding, extracted4year], axis=1)\n",
        "x4year[\"player_footyear2\"] = x4year[\"player_footyear2\"].astype(\"category\")\n",
        "extracted4year = x4year[\"player_footyear2\"]\n",
        "x4year.drop(\"player_footyear2\", axis = 1)\n",
        "x4yearEncoding = pd.concat([x4yearEncoding, extracted4year], axis=1)\n",
        "x4year[\"countryyear2\"] = x4year[\"countryyear2\"].astype(\"category\")\n",
        "extracted4year = x4year[\"countryyear2\"]\n",
        "x4year.drop(\"countryyear2\", axis = 1)\n",
        "x4yearEncoding = pd.concat([x4yearEncoding, extracted4year], axis=1)\n",
        "\n",
        "x4year[\"Squadyear3\"] = x4year[\"Squadyear3\"].astype(\"category\")\n",
        "extracted4year = x3year[\"Squadyear3\"]\n",
        "x4year.drop(\"Squadyear3\", axis = 1)\n",
        "x4yearEncoding = pd.concat([x4yearEncoding, extracted4year], axis=1)\n",
        "x4year[\"Compyear3\"] = x4year[\"Compyear3\"].astype(\"category\")\n",
        "extracted4year = x4year[\"Compyear3\"]\n",
        "x4year.drop(\"Compyear3\", axis = 1)\n",
        "x4yearEncoding = pd.concat([x4yearEncoding, extracted4year], axis=1)\n",
        "x4year[\"Posyear3\"] = x4year[\"Posyear3\"].astype(\"category\")\n",
        "extracted4year = x4year[\"Posyear3\"]\n",
        "x4year.drop(\"Posyear3\", axis = 1)\n",
        "x4yearEncoding = pd.concat([x4yearEncoding, extracted4year], axis=1)\n",
        "x4year[\"Nationyear3\"] = x4year[\"Nationyear3\"].astype(\"category\")\n",
        "extracted4year = x4year[\"Nationyear3\"]\n",
        "x4year.drop(\"Nationyear3\", axis = 1)\n",
        "x4yearEncoding = pd.concat([x4yearEncoding, extracted4year], axis=1)\n",
        "x4year[\"player_footyear3\"] = x4year[\"player_footyear3\"].astype(\"category\")\n",
        "extracted4year = x4year[\"player_footyear3\"]\n",
        "x4year.drop(\"player_footyear3\", axis = 1)\n",
        "x4yearEncoding = pd.concat([x4yearEncoding, extracted4year], axis=1)\n",
        "x4year[\"countryyear3\"] = x4year[\"countryyear3\"].astype(\"category\")\n",
        "extracted4year = x4year[\"countryyear3\"]\n",
        "x4year.drop(\"countryyear3\", axis = 1)\n",
        "x4yearEncoding = pd.concat([x4yearEncoding, extracted4year], axis=1)\n",
        "\n",
        "x4year[\"Squadyear4\"] = x4year[\"Squadyear4\"].astype(\"category\")\n",
        "extracted4year = x4year[\"Squadyear4\"]\n",
        "x4year.drop(\"Squadyear4\", axis = 1)\n",
        "x4yearEncoding = pd.concat([x4yearEncoding, extracted4year], axis=1)\n",
        "x4year[\"Compyear4\"] = x4year[\"Compyear4\"].astype(\"category\")\n",
        "extracted4year = x4year[\"Compyear4\"]\n",
        "x4year.drop(\"Compyear4\", axis = 1)\n",
        "x4yearEncoding = pd.concat([x4yearEncoding, extracted4year], axis=1)\n",
        "x4year[\"Posyear4\"] = x4year[\"Posyear4\"].astype(\"category\")\n",
        "extracted4year = x4year[\"Posyear4\"]\n",
        "x4year.drop(\"Posyear4\", axis = 1)\n",
        "x4yearEncoding = pd.concat([x4yearEncoding, extracted4year], axis=1)\n",
        "x4year[\"Nationyear4\"] = x4year[\"Nationyear4\"].astype(\"category\")\n",
        "extracted4year = x4year[\"Nationyear4\"]\n",
        "x4year.drop(\"Nationyear4\", axis = 1)\n",
        "x4yearEncoding = pd.concat([x4yearEncoding, extracted4year], axis=1)\n",
        "x4year[\"player_footyear4\"] = x4year[\"player_footyear4\"].astype(\"category\")\n",
        "extracted4year = x4year[\"player_footyear4\"]\n",
        "x4year.drop(\"player_footyear4\", axis = 1)\n",
        "x4yearEncoding = pd.concat([x4yearEncoding, extracted4year], axis=1)\n",
        "x4year[\"countryyear4\"] = x4year[\"countryyear4\"].astype(\"category\")\n",
        "extracted4year = x4year[\"countryyear4\"]\n",
        "x4year.drop(\"countryyear4\", axis = 1)\n",
        "x4yearEncoding = pd.concat([x4yearEncoding, extracted4year], axis=1)\n",
        "x4year.drop(['duration_truth'], axis = 1, inplace = True)"
      ]
    },
    {
      "cell_type": "code",
      "execution_count": null,
      "metadata": {
        "id": "5-lBB1nrCd5c"
      },
      "outputs": [],
      "source": [
        "#One hot encoder also converting floats+duration to booleans\n",
        "\n",
        "#check all hot encoded columns/features\n",
        "\n",
        "# Check how one hot encoding is changing column names and values\n",
        "\n",
        "# Manually clean injury types\n",
        "\n",
        "#delete spaces/commas in column names\n",
        "\n",
        "#born vs age\n",
        "\n",
        "enc4year = OneHotEncoder()\n",
        "enc4year.fit(x4yearEncoding)\n",
        "\n",
        "#transform categorical features\n",
        "X4year_encoded = enc4year.transform(x4yearEncoding).toarray()\n",
        "feature_names4year = x4yearEncoding.columns\n",
        "new_feature_names4year = enc4year.get_feature_names_out(feature_names4year)\n",
        "X4encoded = pd.DataFrame(X4year_encoded, columns= new_feature_names4year)\n",
        "x4yearFinal = x4year.join(X4encoded)"
      ]
    },
    {
      "cell_type": "code",
      "execution_count": null,
      "metadata": {
        "id": "cxlBm0CJCd5c"
      },
      "outputs": [],
      "source": [
        "# Derek addition. Prints feature importances\n",
        "x4year_train, x4year_test, y4year_train, y4year_test = train_test_split(x4yearFinal, y4year, random_state=1, train_size=0.8)\n",
        "InjuryModelXGB4year = xgb.XGBRegressor(tree_method=\"approx\", seed = 1, enable_categorical=True)\n",
        "InjuryModelXGB4year.fit(x4year_train, y4year_train, verbose = True, eval_set = [(x4year_test, y4year_test)])\n",
        "# print(\"feature importances:\", InjuryModelXGB1year.feature_importances_)\n",
        "\n",
        "feat_imp_list = list(zip ( list(InjuryModelXGB4year.feature_importances_) , x4year_train.columns.to_list()) )\n",
        "feature_imp_df = pd.DataFrame(sorted(feat_imp_list, key=lambda x: x[0], reverse=True) , columns = ['feature_value','feature_name'])\n",
        "#feature_imp_df = pd.DataFrame(sorted(feat_imp_list, key=lambda x: x[1], reverse=True) , columns = ['feature_value','feature_name'])\n",
        "#print(feature_imp_df.loc[1, \"Pos_DF\"])\n",
        "#print(feature_imp_df[feature_imp_df['feature_name'] == \"injuryType_nan\"]['feature_value'])"
      ]
    },
    {
      "cell_type": "code",
      "execution_count": null,
      "metadata": {
        "id": "lyXOhn4oCd5c"
      },
      "outputs": [],
      "source": [
        "#unSub_Subs, err - search up\n",
        "pd.set_option('display.max_rows', 500)\n",
        "print(feature_imp_df.head(100))"
      ]
    },
    {
      "cell_type": "code",
      "execution_count": null,
      "metadata": {
        "id": "0SvKpT9VCd5c"
      },
      "outputs": [],
      "source": [
        "y4year_pred = InjuryModelXGB4year.predict(x4year_test)\n",
        "print(r2_score(y4year_test, y4year_pred))\n",
        "print(mean_absolute_error(y4year_test, y4year_pred))\n",
        "print(mean_squared_error(y4year_test, y4year_pred))"
      ]
    },
    {
      "cell_type": "markdown",
      "metadata": {
        "id": "Oi-1Z8kQCd5c"
      },
      "source": [
        "### Year 5"
      ]
    },
    {
      "cell_type": "code",
      "execution_count": null,
      "metadata": {
        "id": "nDc7gCzXCd5c"
      },
      "outputs": [],
      "source": [
        "#5 year model\n",
        "x5yearEncoding = pd.DataFrame()\n",
        "x5year[\"Squad\"] = x5year[\"Squad\"].astype(\"category\")\n",
        "extracted5year = x5year[\"Squad\"]\n",
        "x5year.drop(\"Squad\", axis = 1)\n",
        "x5yearEncoding = pd.concat([x5yearEncoding, extracted5year], axis=1)\n",
        "x5year[\"Comp\"] = x5year[\"Comp\"].astype(\"category\")\n",
        "extracted5year = x5year[\"Comp\"]\n",
        "x5year.drop(\"Comp\", axis = 1)\n",
        "x5yearEncoding = pd.concat([x5yearEncoding, extracted5year], axis=1)\n",
        "x5year[\"Pos\"] = x5year[\"Pos\"].astype(\"category\")\n",
        "extracted5year = x5year[\"Pos\"]\n",
        "x5year.drop(\"Pos\", axis = 1)\n",
        "x5yearEncoding = pd.concat([x5yearEncoding, extracted5year], axis=1)\n",
        "x5year[\"Nation\"] = x5year[\"Nation\"].astype(\"category\")\n",
        "extracted5year = x5year[\"Nation\"]\n",
        "x5year.drop(\"Nation\", axis = 1)\n",
        "x5yearEncoding = pd.concat([x5yearEncoding, extracted5year], axis=1)\n",
        "x5year[\"player_foot\"] = x5year[\"player_foot\"].astype(\"category\")\n",
        "extracted5year = x5year[\"player_foot\"]\n",
        "x5year.drop(\"player_foot\", axis = 1)\n",
        "x5yearEncoding = pd.concat([x5yearEncoding, extracted5year], axis=1)\n",
        "x5year[\"country\"] = x5year[\"country\"].astype(\"category\")\n",
        "extracted5year = x5year[\"country\"]\n",
        "x5year.drop(\"country\", axis = 1)\n",
        "x5yearEncoding = pd.concat([x5yearEncoding, extracted5year], axis=1)\n",
        "\n",
        "x5year[\"Squadyear2\"] = x5year[\"Squadyear2\"].astype(\"category\")\n",
        "extracted5year = x5year[\"Squadyear2\"]\n",
        "x5year.drop(\"Squadyear2\", axis = 1)\n",
        "x5yearEncoding = pd.concat([x5yearEncoding, extracted5year], axis=1)\n",
        "x5year[\"Compyear2\"] = x5year[\"Compyear2\"].astype(\"category\")\n",
        "extracted5year = x5year[\"Compyear2\"]\n",
        "x5year.drop(\"Compyear2\", axis = 1)\n",
        "x5yearEncoding = pd.concat([x5yearEncoding, extracted5year], axis=1)\n",
        "x5year[\"Posyear2\"] = x5year[\"Posyear2\"].astype(\"category\")\n",
        "extracted5year = x5year[\"Posyear2\"]\n",
        "x5year.drop(\"Posyear2\", axis = 1)\n",
        "x5yearEncoding = pd.concat([x5yearEncoding, extracted5year], axis=1)\n",
        "x5year[\"Nationyear2\"] = x5year[\"Nationyear2\"].astype(\"category\")\n",
        "extracted5year = x5year[\"Nationyear2\"]\n",
        "x5year.drop(\"Nationyear2\", axis = 1)\n",
        "x5yearEncoding = pd.concat([x5yearEncoding, extracted5year], axis=1)\n",
        "x5year[\"player_footyear2\"] = x5year[\"player_footyear2\"].astype(\"category\")\n",
        "extracted5year = x5year[\"player_footyear2\"]\n",
        "x5year.drop(\"player_footyear2\", axis = 1)\n",
        "x5yearEncoding = pd.concat([x5yearEncoding, extracted5year], axis=1)\n",
        "x5year[\"countryyear2\"] = x5year[\"countryyear2\"].astype(\"category\")\n",
        "extracted5year = x5year[\"countryyear2\"]\n",
        "x5year.drop(\"countryyear2\", axis = 1)\n",
        "x5yearEncoding = pd.concat([x5yearEncoding, extracted5year], axis=1)\n",
        "\n",
        "x5year[\"Squadyear3\"] = x5year[\"Squadyear3\"].astype(\"category\")\n",
        "extracted5year = x3year[\"Squadyear3\"]\n",
        "x5year.drop(\"Squadyear3\", axis = 1)\n",
        "x5yearEncoding = pd.concat([x5yearEncoding, extracted5year], axis=1)\n",
        "x5year[\"Compyear3\"] = x5year[\"Compyear3\"].astype(\"category\")\n",
        "extracted5year = x5year[\"Compyear3\"]\n",
        "x5year.drop(\"Compyear3\", axis = 1)\n",
        "x5yearEncoding = pd.concat([x5yearEncoding, extracted5year], axis=1)\n",
        "x5year[\"Posyear3\"] = x5year[\"Posyear3\"].astype(\"category\")\n",
        "extracted5year = x5year[\"Posyear3\"]\n",
        "x5year.drop(\"Posyear3\", axis = 1)\n",
        "x5yearEncoding = pd.concat([x5yearEncoding, extracted5year], axis=1)\n",
        "x5year[\"Nationyear3\"] = x5year[\"Nationyear3\"].astype(\"category\")\n",
        "extracted5year = x5year[\"Nationyear3\"]\n",
        "x5year.drop(\"Nationyear3\", axis = 1)\n",
        "x5yearEncoding = pd.concat([x5yearEncoding, extracted5year], axis=1)\n",
        "x5year[\"player_footyear3\"] = x5year[\"player_footyear3\"].astype(\"category\")\n",
        "extracted5year = x5year[\"player_footyear3\"]\n",
        "x5year.drop(\"player_footyear3\", axis = 1)\n",
        "x5yearEncoding = pd.concat([x5yearEncoding, extracted5year], axis=1)\n",
        "x5year[\"countryyear3\"] = x5year[\"countryyear3\"].astype(\"category\")\n",
        "extracted5year = x5year[\"countryyear3\"]\n",
        "x5year.drop(\"countryyear3\", axis = 1)\n",
        "x5yearEncoding = pd.concat([x5yearEncoding, extracted5year], axis=1)\n",
        "\n",
        "x5year[\"Squadyear4\"] = x5year[\"Squadyear4\"].astype(\"category\")\n",
        "extracted5year = x5year[\"Squadyear4\"]\n",
        "x5year.drop(\"Squadyear4\", axis = 1)\n",
        "x5yearEncoding = pd.concat([x5yearEncoding, extracted5year], axis=1)\n",
        "x5year[\"Compyear4\"] = x5year[\"Compyear4\"].astype(\"category\")\n",
        "extracted5year = x5year[\"Compyear4\"]\n",
        "x5year.drop(\"Compyear4\", axis = 1)\n",
        "x5yearEncoding = pd.concat([x5yearEncoding, extracted5year], axis=1)\n",
        "x5year[\"Posyear4\"] = x5year[\"Posyear4\"].astype(\"category\")\n",
        "extracted5year = x5year[\"Posyear4\"]\n",
        "x5year.drop(\"Posyear4\", axis = 1)\n",
        "x5yearEncoding = pd.concat([x5yearEncoding, extracted5year], axis=1)\n",
        "x5year[\"Nationyear4\"] = x5year[\"Nationyear4\"].astype(\"category\")\n",
        "extracted5year = x5year[\"Nationyear4\"]\n",
        "x5year.drop(\"Nationyear4\", axis = 1)\n",
        "x5yearEncoding = pd.concat([x5yearEncoding, extracted5year], axis=1)\n",
        "x5year[\"player_footyear4\"] = x5year[\"player_footyear4\"].astype(\"category\")\n",
        "extracted5year = x5year[\"player_footyear4\"]\n",
        "x5year.drop(\"player_footyear4\", axis = 1)\n",
        "x5yearEncoding = pd.concat([x5yearEncoding, extracted5year], axis=1)\n",
        "x5year[\"countryyear4\"] = x5year[\"countryyear4\"].astype(\"category\")\n",
        "extracted5year = x5year[\"countryyear4\"]\n",
        "x5year.drop(\"countryyear4\", axis = 1)\n",
        "x5yearEncoding = pd.concat([x5yearEncoding, extracted5year], axis=1)\n",
        "\n",
        "x5year[\"Squadyear5\"] = x5year[\"Squadyear5\"].astype(\"category\")\n",
        "extracted5year = x5year[\"Squadyear5\"]\n",
        "x5year.drop(\"Squadyear5\", axis = 1)\n",
        "x5yearEncoding = pd.concat([x5yearEncoding, extracted5year], axis=1)\n",
        "x5year[\"Compyear5\"] = x5year[\"Compyear5\"].astype(\"category\")\n",
        "extracted5year = x5year[\"Compyear5\"]\n",
        "x5year.drop(\"Compyear5\", axis = 1)\n",
        "x5yearEncoding = pd.concat([x5yearEncoding, extracted5year], axis=1)\n",
        "x5year[\"Posyear5\"] = x5year[\"Posyear5\"].astype(\"category\")\n",
        "extracted5year = x5year[\"Posyear5\"]\n",
        "x5year.drop(\"Posyear5\", axis = 1)\n",
        "x5yearEncoding = pd.concat([x5yearEncoding, extracted5year], axis=1)\n",
        "x5year[\"Nationyear5\"] = x5year[\"Nationyear5\"].astype(\"category\")\n",
        "extracted5year = x5year[\"Nationyear5\"]\n",
        "x5year.drop(\"Nationyear5\", axis = 1)\n",
        "x5yearEncoding = pd.concat([x5yearEncoding, extracted5year], axis=1)\n",
        "x5year[\"player_footyear5\"] = x5year[\"player_footyear5\"].astype(\"category\")\n",
        "extracted5year = x5year[\"player_footyear5\"]\n",
        "x5year.drop(\"player_footyear5\", axis = 1)\n",
        "x5yearEncoding = pd.concat([x5yearEncoding, extracted5year], axis=1)\n",
        "x5year[\"countryyear5\"] = x5year[\"countryyear5\"].astype(\"category\")\n",
        "extracted5year = x5year[\"countryyear5\"]\n",
        "x5year.drop(\"countryyear5\", axis = 1)\n",
        "x5yearEncoding = pd.concat([x5yearEncoding, extracted5year], axis=1)\n",
        "x5year.drop(['duration_truth'], axis = 1, inplace = True)"
      ]
    },
    {
      "cell_type": "code",
      "execution_count": null,
      "metadata": {
        "id": "r6tB9wXVCd5c"
      },
      "outputs": [],
      "source": [
        "#One hot encoder also converting floats+duration to booleans\n",
        "\n",
        "#check all hot encoded columns/features\n",
        "\n",
        "# Check how one hot encoding is changing column names and values\n",
        "\n",
        "# Manually clean injury types\n",
        "\n",
        "#delete spaces/commas in column names\n",
        "\n",
        "#born vs age\n",
        "\n",
        "enc5year = OneHotEncoder()\n",
        "enc5year.fit(x5yearEncoding)\n",
        "\n",
        "#transform categorical features\n",
        "X5year_encoded = enc5year.transform(x5yearEncoding).toarray()\n",
        "feature_names5year = x5yearEncoding.columns\n",
        "new_feature_names5year = enc5year.get_feature_names_out(feature_names5year)\n",
        "X5encoded = pd.DataFrame(X5year_encoded, columns= new_feature_names5year)\n",
        "x5yearFinal = x5year.join(X5encoded)"
      ]
    },
    {
      "cell_type": "code",
      "execution_count": null,
      "metadata": {
        "id": "gEdy6nVTCd5d"
      },
      "outputs": [],
      "source": [
        "# Derek addition. Prints feature importances\n",
        "x5year_train, x5year_test, y5year_train, y5year_test = train_test_split(x5yearFinal, y5year, random_state=1, train_size=0.8)\n",
        "InjuryModelXGB5year = xgb.XGBRegressor(tree_method=\"approx\", max_depth = 3, n_estimators = 200, seed = 1, enable_categorical=True)\n",
        "InjuryModelXGB5year.fit(x5year_train, y5year_train, verbose = True, eval_set = [(x5year_train, y5year_train), (x5year_test, y5year_test)])\n",
        "# print(\"feature importances:\", InjuryModelXGB1year.feature_importances_)\n",
        "\n",
        "feat_imp_list = list(zip(list(InjuryModelXGB5year.feature_importances_) , x5year_train.columns.to_list()) )\n",
        "feature_imp_df = pd.DataFrame(sorted(feat_imp_list, key=lambda x: x[0], reverse=True) , columns = ['feature_value','feature_name'])\n",
        "#feature_imp_df = pd.DataFrame(sorted(feat_imp_list, key=lambda x: x[1], reverse=True) , columns = ['feature_value','feature_name'])\n",
        "#print(feature_imp_df.loc[1, \"Pos_DF\"])\n",
        "#print(feature_imp_df[feature_imp_df['feature_name'] == \"injuryType_nan\"]['feature_value'])"
      ]
    },
    {
      "cell_type": "code",
      "execution_count": null,
      "metadata": {
        "id": "nEOavX3ACd5d"
      },
      "outputs": [],
      "source": [
        "#unSub_Subs, err - search up\n",
        "pd.set_option('display.max_rows', 500)\n",
        "print(feature_imp_df.head(100))"
      ]
    },
    {
      "cell_type": "code",
      "execution_count": null,
      "metadata": {
        "id": "tpo7ydPBCd5d"
      },
      "outputs": [],
      "source": [
        "y5year_pred = InjuryModelXGB5year.predict(x5year_test)\n",
        "print(r2_score(y5year_test, y5year_pred))\n",
        "print(mean_absolute_error(y5year_test, y5year_pred))\n",
        "print(mean_squared_error(y5year_test, y5year_pred))"
      ]
    }
  ],
  "metadata": {
    "accelerator": "GPU",
    "colab": {
      "collapsed_sections": [
        "fQNefTLMhsSl",
        "EzqQ0Rk3hZ-U",
        "JkNj3jMEWCdS",
        "-_QGpx5eiSep",
        "vDdQiyGQj7xe",
        "MLqZrP1BiKHh",
        "7VtkaMRQl8Zr",
        "nTPW8EBiUNoK",
        "6JeJetYUT7Or",
        "zZZ5bj9TT_zH",
        "gxH9DbyrZqSV",
        "5pXkj59lWm5z",
        "x0VAYrJT9L4X",
        "a-J_m9Jc9bCk",
        "yykBhAPoCd5b",
        "Oi-1Z8kQCd5c"
      ],
      "gpuType": "T4",
      "machine_shape": "hm",
      "provenance": [],
      "include_colab_link": true
    },
    "kernelspec": {
      "display_name": "Python 3",
      "name": "python3"
    },
    "language_info": {
      "name": "python"
    }
  },
  "nbformat": 4,
  "nbformat_minor": 0
}